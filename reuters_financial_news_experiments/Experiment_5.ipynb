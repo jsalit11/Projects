{
  "nbformat": 4,
  "nbformat_minor": 0,
  "metadata": {
    "colab": {
      "name": "Experiment_5.ipynb",
      "provenance": [],
      "collapsed_sections": [],
      "machine_shape": "hm"
    },
    "kernelspec": {
      "name": "python3",
      "display_name": "Python 3"
    },
    "accelerator": "TPU"
  },
  "cells": [
    {
      "cell_type": "code",
      "metadata": {
        "id": "gb5WVYvcHrum",
        "colab_type": "code",
        "colab": {}
      },
      "source": [
        "#Do some additional work on look at the input data and understanding the layers / embeddings / vectorizing, ect...\n",
        "#Dig more into the weights and neurons and try to see vanishing and exploding gradients\n",
        "#Any other regularizaionts that can be applied\n",
        "#using windowxs in RNN to shorten length of layers\n",
        "#Stateful RNNs\n",
        "#Combining RNNs and Conv1d\n",
        "#Do some more exploration with the raw data"
      ],
      "execution_count": 0,
      "outputs": []
    },
    {
      "cell_type": "code",
      "metadata": {
        "id": "DoYQt6gpyyCU",
        "colab_type": "code",
        "outputId": "37284ab7-04cd-4f5e-b62f-800dd4cf4b4a",
        "colab": {
          "base_uri": "https://localhost:8080/",
          "height": 101
        }
      },
      "source": [
        "import numpy as np\n",
        "import pandas as pd\n",
        "import matplotlib.pyplot as plt\n",
        "%matplotlib inline\n",
        "import seaborn as sns\n",
        "import h5py\n",
        "import os\n",
        "import time\n",
        "from random import sample\n",
        "import datetime\n",
        "from collections import Counter\n",
        "import sys\n",
        "from tqdm import tqdm, notebook\n",
        "from tensorflow.keras.datasets import reuters\n",
        "pd.options.display.max_colwidth = 100\n",
        "\n",
        "import tensorflow as tf\n",
        "from tensorflow import keras\n",
        "from tensorflow.keras import layers\n",
        "from tensorflow.keras.models import Sequential\n",
        "from tensorflow.keras.layers import BatchNormalization\n",
        "from tensorflow.keras.layers import Conv2D\n",
        "from tensorflow.keras.layers import MaxPooling2D\n",
        "from tensorflow.keras.layers import Activation\n",
        "from tensorflow.keras.layers import Flatten, Embedding\n",
        "from tensorflow.keras.layers import Dropout\n",
        "from tensorflow.keras.layers import Dense\n",
        "from tensorflow.keras.losses import sparse_categorical_crossentropy\n",
        "from keras.utils import plot_model\n",
        "from keras.callbacks import ModelCheckpoint\n",
        "from tensorflow.keras.preprocessing.image import ImageDataGenerator\n",
        "from tensorflow.keras.preprocessing import image\n",
        "from tensorflow.keras.utils import to_categorical\n",
        "from tensorflow.keras import preprocessing\n",
        "from tensorflow.keras.layers import Embedding, SimpleRNN, LSTM, GRU, Conv1D, MaxPooling1D\n",
        "from keras.preprocessing.text import Tokenizer\n",
        "\n",
        "from sklearn.metrics import confusion_matrix\n",
        "from sklearn.model_selection import train_test_split\n",
        "from keras.wrappers.scikit_learn import KerasClassifier\n",
        "from sklearn.model_selection import ParameterGrid\n",
        "\n",
        "word_index = reuters.get_word_index()"
      ],
      "execution_count": 0,
      "outputs": [
        {
          "output_type": "stream",
          "text": [
            "/usr/local/lib/python3.6/dist-packages/statsmodels/tools/_testing.py:19: FutureWarning: pandas.util.testing is deprecated. Use the functions in the public API at pandas.testing instead.\n",
            "  import pandas.util.testing as tm\n",
            "Using TensorFlow backend.\n"
          ],
          "name": "stderr"
        },
        {
          "output_type": "stream",
          "text": [
            "Downloading data from https://storage.googleapis.com/tensorflow/tf-keras-datasets/reuters_word_index.json\n",
            "557056/550378 [==============================] - 0s 0us/step\n"
          ],
          "name": "stdout"
        }
      ]
    },
    {
      "cell_type": "code",
      "metadata": {
        "id": "tXzHNOHHyyFc",
        "colab_type": "code",
        "outputId": "2d85dccb-1ffe-4dc9-950a-385cb96c93e9",
        "colab": {
          "base_uri": "https://localhost:8080/",
          "height": 121
        }
      },
      "source": [
        "from google.colab import drive\n",
        "drive.mount('/content/gdrive', force_remount = True)\n",
        "root_dir = '/content/gdrive/My Drive/'\n",
        "base_dir = root_dir + 'Northwestern/Artificial Intelligence and Deep Learning/Assignment 3/'"
      ],
      "execution_count": 0,
      "outputs": [
        {
          "output_type": "stream",
          "text": [
            "Go to this URL in a browser: https://accounts.google.com/o/oauth2/auth?client_id=947318989803-6bn6qk8qdgf4n4g3pfee6491hc0brc4i.apps.googleusercontent.com&redirect_uri=urn%3aietf%3awg%3aoauth%3a2.0%3aoob&response_type=code&scope=email%20https%3a%2f%2fwww.googleapis.com%2fauth%2fdocs.test%20https%3a%2f%2fwww.googleapis.com%2fauth%2fdrive%20https%3a%2f%2fwww.googleapis.com%2fauth%2fdrive.photos.readonly%20https%3a%2f%2fwww.googleapis.com%2fauth%2fpeopleapi.readonly\n",
            "\n",
            "Enter your authorization code:\n",
            "··········\n",
            "Mounted at /content/gdrive\n"
          ],
          "name": "stdout"
        }
      ]
    },
    {
      "cell_type": "code",
      "metadata": {
        "id": "HFCBf5CeyyIu",
        "colab_type": "code",
        "outputId": "5b6b4723-6f85-4041-c996-4e7904d5e120",
        "colab": {
          "base_uri": "https://localhost:8080/",
          "height": 34
        }
      },
      "source": [
        "\n",
        "\n",
        "voc_size = 10000\n",
        "\n",
        "(train_data_raw, train_labels_raw), (test_data_raw, test_labels_raw) = reuters.load_data(num_words=voc_size)\n",
        "word_index = reuters.get_word_index()\n",
        "train_data_raw.shape, test_data_raw.shape"
      ],
      "execution_count": 0,
      "outputs": [
        {
          "output_type": "execute_result",
          "data": {
            "text/plain": [
              "((8982,), (2246,))"
            ]
          },
          "metadata": {
            "tags": []
          },
          "execution_count": 60
        }
      ]
    },
    {
      "cell_type": "code",
      "metadata": {
        "id": "BcVPsJ-L5AwS",
        "colab_type": "code",
        "colab": {}
      },
      "source": [
        "def import_data(voc_size):\n",
        "\n",
        "    (train_data_raw, train_labels_raw), (test_data_raw, test_labels_raw) = reuters.load_data(num_words=voc_size)\n",
        "    # word_index = reuters.get_word_index()\n",
        "\n",
        "    return train_data_raw, train_labels_raw, test_data_raw, test_labels_raw"
      ],
      "execution_count": 0,
      "outputs": []
    },
    {
      "cell_type": "code",
      "metadata": {
        "id": "8Jw_JMXsyyL_",
        "colab_type": "code",
        "colab": {}
      },
      "source": [
        "def top_label_data(X, y):\n",
        "\n",
        "    topics_tpl, topics_freq = zip(*Counter(y).most_common(9))\n",
        "    X_top, y_top = zip(*((x_samp, y_samp) for x_samp, y_samp in zip(X, y) if y_samp in topics_tpl))\n",
        "    X_top, y_top = np.array(X_top), np.array(y_top)\n",
        "\n",
        "    keys = Counter(y_top).keys()\n",
        "    conv = dict(zip(sorted(keys), range(0,9)))\n",
        "    y_top = [conv[l] for l in y_top]\n",
        "\n",
        "    return X_top, y_top"
      ],
      "execution_count": 0,
      "outputs": []
    },
    {
      "cell_type": "code",
      "metadata": {
        "id": "wzRiaip2yySO",
        "colab_type": "code",
        "colab": {}
      },
      "source": [
        "def max_len(train_data, train_labels, percentile, top):\n",
        "\n",
        "    if top == False:\n",
        "        pass\n",
        "\n",
        "    elif top == True:\n",
        "        train_data, train_labels = top_label_data(train_data, train_labels)\n",
        "\n",
        "    train_data_len = [len(w) for w in train_data]\n",
        "    maxlen = int(np.percentile(train_data_len, percentile))\n",
        "\n",
        "    return maxlen"
      ],
      "execution_count": 0,
      "outputs": []
    },
    {
      "cell_type": "code",
      "metadata": {
        "id": "d-12tt9nWqBU",
        "colab_type": "code",
        "colab": {}
      },
      "source": [
        "def return_max_lens(train_data, train_labels, top):\n",
        "\n",
        "    max_lengths = []\n",
        "    for percentile in np.arange(20, 120, 20):\n",
        "        ml = max_len(train_data, train_labels, percentile, top = top)\n",
        "        max_lengths.append(ml)\n",
        "\n",
        "    return max_lengths"
      ],
      "execution_count": 0,
      "outputs": []
    },
    {
      "cell_type": "code",
      "metadata": {
        "id": "r-z7qM9hyyVv",
        "colab_type": "code",
        "colab": {}
      },
      "source": [
        "def prepare_data(train_data, train_labels, test_data, test_labels, max_len,\n",
        "                 top, embedding = False):\n",
        "\n",
        "    if top == False:\n",
        "        pass\n",
        "\n",
        "    elif top == True:\n",
        "        train_data, train_labels = top_label_data(train_data, train_labels)\n",
        "        test_data, test_labels = top_label_data(test_data, test_labels)\n",
        "\n",
        "    if embedding == False:\n",
        "        train_data = vectorize_sequences(train_data)\n",
        "        test_data = vectorize_sequences(test_data)\n",
        "        # maxlen = None\n",
        "        \n",
        "    elif embedding == True:\n",
        "        # maxlen = max_len(train_data, train_labels, top)\n",
        "        train_data = preprocessing.sequence.pad_sequences(train_data, maxlen=max_len)\n",
        "        test_data = preprocessing.sequence.pad_sequences(test_data, maxlen=max_len)\n",
        "\n",
        "    train_data, val_data, train_labels, val_labels = train_test_split(\n",
        "        train_data, train_labels, test_size = 0.15)\n",
        "    train_labels = to_categorical(train_labels)\n",
        "    val_labels = to_categorical(val_labels)\n",
        "    test_labels = to_categorical(test_labels)\n",
        "\n",
        "    return train_data, train_labels, val_data, val_labels, test_data, test_labels"
      ],
      "execution_count": 0,
      "outputs": []
    },
    {
      "cell_type": "code",
      "metadata": {
        "id": "rWNGhZ0HyyY2",
        "colab_type": "code",
        "colab": {}
      },
      "source": [
        "def tensor_slices(train_data, train_labels, val_data, val_labels, test_data, test_labels):\n",
        "\n",
        "    train_ds = tf.data.Dataset.from_tensor_slices((train_data, train_labels)).shuffle(100).batch(100)\n",
        "    val_ds = tf.data.Dataset.from_tensor_slices((val_data, val_labels)).batch(100)\n",
        "    test_ds = tf.data.Dataset.from_tensor_slices((test_data, test_labels))\n",
        "\n",
        "    return train_ds, val_ds, test_ds"
      ],
      "execution_count": 0,
      "outputs": []
    },
    {
      "cell_type": "code",
      "metadata": {
        "id": "YB2F-pTt48Mr",
        "colab_type": "code",
        "colab": {}
      },
      "source": [
        "def embedding_matrix(embedding_file, voc_size):\n",
        "\n",
        "    embeddings_index = {}\n",
        "    f = open(os.path.join(base_dir, embedding_file))\n",
        "    for line in f:\n",
        "        values = line.split()\n",
        "        word = values[0]\n",
        "        coefs = np.asarray(values[1:], dtype = 'float32')\n",
        "        embeddings_index[word] = coefs\n",
        "    f.close()\n",
        "\n",
        "    embedding_dim = int(embedding_file.split('.')[-2].replace('d', ''))\n",
        "\n",
        "    embedding_matrix = np.zeros((voc_size, embedding_dim))\n",
        "    for word, i in word_index.items():\n",
        "        if i < voc_size:\n",
        "            embedding_vector = embeddings_index.get(word)\n",
        "            if embedding_vector is not None:\n",
        "                embedding_matrix[i] = embedding_vector\n",
        "\n",
        "    return embedding_matrix, embedding_dim"
      ],
      "execution_count": 0,
      "outputs": []
    },
    {
      "cell_type": "code",
      "metadata": {
        "id": "9fVwUz6AyycA",
        "colab_type": "code",
        "colab": {}
      },
      "source": [
        "def build_embed_model(output_dim, max_len, voc_size, top):\n",
        "\n",
        "    if top == False:\n",
        "        topics = 46\n",
        "    \n",
        "    elif top == True:\n",
        "        topics = 9\n",
        "\n",
        "    model = Sequential()\n",
        "    model.add(Embedding(input_dim=voc_size, output_dim = output_dim, input_length = max_len))\n",
        "    model.add(Flatten())\n",
        "    model.add(Dense(units = topics, activation = 'softmax'))\n",
        "\n",
        "    model.compile(\n",
        "                    optimizer = 'rmsprop',\n",
        "                    loss = 'categorical_crossentropy',\n",
        "                    metrics = ['accuracy'])\n",
        "\n",
        "    return model"
      ],
      "execution_count": 0,
      "outputs": []
    },
    {
      "cell_type": "code",
      "metadata": {
        "id": "I4ysXg7d1XTL",
        "colab_type": "code",
        "colab": {}
      },
      "source": [
        "def build_rnn_1(top, max_len, voc_size, output_dim, l1_units, \n",
        "                pretrained_embed = False):\n",
        "\n",
        "    if top == False:\n",
        "        topics = 46\n",
        "    \n",
        "    elif top == True:\n",
        "        topics = 9\n",
        "\n",
        "    model = Sequential()\n",
        "\n",
        "    if pretrained_embed == True:\n",
        "        embedding_file = 'glove.6B.100d.txt'\n",
        "        embed_matrix, embed_dim = embedding_matrix(embedding_file, voc_size)\n",
        "        output_dim = None\n",
        "        output_dim = embed_dim\n",
        "        model.add(Embedding(input_dim = voc_size, output_dim = output_dim, input_length = max_len))\n",
        "        model.layers[0].set_weights([embed_matrix])\n",
        "        model.layers[0].trainable = False\n",
        "        output_dim = None\n",
        "        output_dim = embed_dim\n",
        "    elif pretrained_embed == False:\n",
        "        output_dim = output_dim\n",
        "        model.add(Embedding(input_dim = voc_size, output_dim = output_dim, input_length = max_len))\n",
        "\n",
        "    model.add(SimpleRNN(units = l1_units, activation = 'tanh'))\n",
        "    model.add(Dense(units = topics, activation = 'softmax'))\n",
        "\n",
        "    model.compile(\n",
        "                    optimizer = 'rmsprop',\n",
        "                    loss = 'categorical_crossentropy',\n",
        "                    metrics = ['accuracy'])\n",
        "\n",
        "    return model"
      ],
      "execution_count": 0,
      "outputs": []
    },
    {
      "cell_type": "code",
      "metadata": {
        "id": "H4CGLOtA2SGL",
        "colab_type": "code",
        "colab": {}
      },
      "source": [
        "def build_rnn_2(top, max_len, voc_size, output_dim, l1_units, l2_units,\n",
        "                pretrained_embed = False):\n",
        "\n",
        "    if top == False:\n",
        "        topics = 46\n",
        "    \n",
        "    elif top == True:\n",
        "        topics = 9\n",
        "\n",
        "    model = Sequential()\n",
        "\n",
        "    if pretrained_embed == True:\n",
        "        embedding_file = 'glove.6B.100d.txt'\n",
        "        embed_matrix, embed_dim = embedding_matrix(embedding_file, voc_size)\n",
        "        output_dim = None\n",
        "        output_dim = embed_dim\n",
        "        model.add(Embedding(input_dim = voc_size, output_dim = output_dim, input_length = max_len))\n",
        "        model.layers[0].set_weights([embed_matrix])\n",
        "        model.layers[0].trainable = False\n",
        "        output_dim = None\n",
        "        output_dim = embed_dim\n",
        "    elif pretrained_embed == False:\n",
        "        output_dim = output_dim\n",
        "        model.add(Embedding(input_dim = voc_size, output_dim = output_dim, input_length = max_len))\n",
        "\n",
        "    model.add(SimpleRNN(units = l1_units, activation = 'tanh', return_sequences = True))\n",
        "    model.add(SimpleRNN(units = l2_units, activation = 'tanh'))\n",
        "    model.add(Dense(units = topics, activation = 'softmax'))\n",
        "\n",
        "    model.compile(\n",
        "                    optimizer = 'rmsprop',\n",
        "                    loss = 'categorical_crossentropy',\n",
        "                    metrics = ['accuracy'])\n",
        "\n",
        "    return model"
      ],
      "execution_count": 0,
      "outputs": []
    },
    {
      "cell_type": "code",
      "metadata": {
        "id": "GZS1G-1-yjl9",
        "colab_type": "code",
        "colab": {}
      },
      "source": [
        "def build_gru_1(top, max_len, voc_size, output_dim, l1_units, dropout,\n",
        "                pretrained_embed = False):\n",
        "\n",
        "    if top == False:\n",
        "        topics = 46\n",
        "    \n",
        "    elif top == True:\n",
        "        topics = 9\n",
        "\n",
        "    model = Sequential()\n",
        "\n",
        "    if pretrained_embed == True:\n",
        "        embedding_file = 'glove.6B.100d.txt'\n",
        "        embed_matrix, embed_dim = embedding_matrix(embedding_file, voc_size)\n",
        "        output_dim = None\n",
        "        output_dim = embed_dim\n",
        "        model.add(Embedding(input_dim = voc_size, output_dim = output_dim, input_length = max_len))\n",
        "        model.layers[0].set_weights([embed_matrix])\n",
        "        model.layers[0].trainable = False\n",
        "        output_dim = None\n",
        "        output_dim = embed_dim\n",
        "    elif pretrained_embed == False:\n",
        "        output_dim = output_dim\n",
        "        model.add(Embedding(input_dim = voc_size, output_dim = output_dim, input_length = max_len))\n",
        "\n",
        "    model.add(GRU(units = l1_units, activation = 'tanh'))\n",
        "    model.add(Dropout(dropout))\n",
        "    model.add(Dense(units = topics, activation = 'softmax'))\n",
        "\n",
        "    model.compile(\n",
        "                    optimizer = 'rmsprop',\n",
        "                    loss = 'categorical_crossentropy',\n",
        "                    metrics = ['accuracy'])\n",
        "\n",
        "    return model"
      ],
      "execution_count": 0,
      "outputs": []
    },
    {
      "cell_type": "code",
      "metadata": {
        "id": "Rlr4cXiouUHG",
        "colab_type": "code",
        "colab": {}
      },
      "source": [
        "def build_gru_2(top, max_len, voc_size, output_dim, l1_units, l2_units, dropout,\n",
        "                pretrained_embed = False):\n",
        "\n",
        "    if top == False:\n",
        "        topics = 46\n",
        "    \n",
        "    elif top == True:\n",
        "        topics = 9\n",
        "\n",
        "    model = Sequential()\n",
        "\n",
        "    if pretrained_embed == True:\n",
        "        embedding_file = 'glove.6B.100d.txt'\n",
        "        embed_matrix, embed_dim = embedding_matrix(embedding_file, voc_size)\n",
        "        output_dim = None\n",
        "        output_dim = embed_dim\n",
        "        model.add(Embedding(input_dim = voc_size, output_dim = output_dim, input_length = max_len))\n",
        "        model.layers[0].set_weights([embed_matrix])\n",
        "        model.layers[0].trainable = False\n",
        "        output_dim = None\n",
        "        output_dim = embed_dim\n",
        "    elif pretrained_embed == False:\n",
        "        output_dim = output_dim\n",
        "        model.add(Embedding(input_dim = voc_size, output_dim = output_dim, input_length = max_len))\n",
        "\n",
        "\n",
        "    model.add(GRU(units = l1_units, activation = 'tanh', return_sequences=True))\n",
        "    model.add(Dropout(dropout))\n",
        "    model.add(GRU(units = l2_units, activation = 'tanh'))\n",
        "    model.add(Dropout(dropout))\n",
        "    model.add(Dense(units = topics, activation = 'softmax'))\n",
        "\n",
        "    model.compile(\n",
        "                    optimizer = 'rmsprop',\n",
        "                    loss = 'categorical_crossentropy',\n",
        "                    metrics = ['accuracy'])\n",
        "\n",
        "    return model"
      ],
      "execution_count": 0,
      "outputs": []
    },
    {
      "cell_type": "code",
      "metadata": {
        "id": "uirbMYeCugHy",
        "colab_type": "code",
        "colab": {}
      },
      "source": [
        "def build_lstm_1(top, max_len, voc_size, output_dim, l1_units, dropout,\n",
        "                pretrained_embed = False):\n",
        "\n",
        "    if top == False:\n",
        "        topics = 46\n",
        "    \n",
        "    elif top == True:\n",
        "        topics = 9\n",
        "\n",
        "    model = Sequential()\n",
        "\n",
        "    if pretrained_embed == True:\n",
        "        embedding_file = 'glove.6B.100d.txt'\n",
        "        embed_matrix, embed_dim = embedding_matrix(embedding_file, voc_size)\n",
        "        output_dim = None\n",
        "        output_dim = embed_dim\n",
        "        model.add(Embedding(input_dim = voc_size, output_dim = output_dim, input_length = max_len))\n",
        "        model.layers[0].set_weights([embed_matrix])\n",
        "        model.layers[0].trainable = False\n",
        "        output_dim = None\n",
        "        output_dim = embed_dim\n",
        "    elif pretrained_embed == False:\n",
        "        output_dim = output_dim\n",
        "        model.add(Embedding(input_dim = voc_size, output_dim = output_dim, input_length = max_len))\n",
        "\n",
        "    model.add(LSTM(units = l1_units, activation = 'tanh'))\n",
        "    model.add(Dropout(dropout))\n",
        "    model.add(Dense(units = topics, activation = 'softmax'))\n",
        "\n",
        "    model.compile(\n",
        "                    optimizer = 'rmsprop',\n",
        "                    loss = 'categorical_crossentropy',\n",
        "                    metrics = ['accuracy'])\n",
        "\n",
        "    return model"
      ],
      "execution_count": 0,
      "outputs": []
    },
    {
      "cell_type": "code",
      "metadata": {
        "id": "-oo7wGamzDAt",
        "colab_type": "code",
        "colab": {}
      },
      "source": [
        "def build_lstm_2(top, max_len, voc_size, output_dim, l1_units, l2_units, dropout,\n",
        "                pretrained_embed = False):\n",
        "\n",
        "    if top == False:\n",
        "        topics = 46\n",
        "    \n",
        "    elif top == True:\n",
        "        topics = 9\n",
        "\n",
        "    model = Sequential()\n",
        "\n",
        "    if pretrained_embed == True:\n",
        "        embedding_file = 'glove.6B.100d.txt'\n",
        "        embed_matrix, embed_dim = embedding_matrix(embedding_file, voc_size)\n",
        "        output_dim = None\n",
        "        output_dim = embed_dim\n",
        "        model.add(Embedding(input_dim = voc_size, output_dim = output_dim, input_length = max_len))\n",
        "        model.layers[0].set_weights([embed_matrix])\n",
        "        model.layers[0].trainable = False\n",
        "        output_dim = None\n",
        "        output_dim = embed_dim\n",
        "    elif pretrained_embed == False:\n",
        "        output_dim = output_dim\n",
        "        model.add(Embedding(input_dim = voc_size, output_dim = output_dim, input_length = max_len))\n",
        "\n",
        "\n",
        "    model.add(LSTM(units = l1_units, activation = 'tanh', return_sequences=True))\n",
        "    model.add(Dropout(dropout))\n",
        "    model.add(LSTM(units = l2_units, activation = 'tanh'))\n",
        "    model.add(Dropout(dropout))\n",
        "    model.add(Dense(units = topics, activation = 'softmax'))\n",
        "\n",
        "    model.compile(\n",
        "                    optimizer = 'rmsprop',\n",
        "                    loss = 'categorical_crossentropy',\n",
        "                    metrics = ['accuracy'])\n",
        "\n",
        "    return model"
      ],
      "execution_count": 0,
      "outputs": []
    },
    {
      "cell_type": "code",
      "metadata": {
        "id": "oIdmGvfD4GTI",
        "colab_type": "code",
        "colab": {}
      },
      "source": [
        "def build_dnn_1(top, max_len, voc_size, output_dim, l1_units, l2_units, dropout,\n",
        "                pretrained_embed = False):\n",
        "\n",
        "    if top == False:\n",
        "        topics = 46\n",
        "    \n",
        "    elif top == True:\n",
        "        topics = 9\n",
        "\n",
        "    model = Sequential()\n",
        "\n",
        "    if pretrained_embed == True:\n",
        "        embedding_file = 'glove.6B.100d.txt'\n",
        "        embed_matrix, embed_dim = embedding_matrix(embedding_file, voc_size)\n",
        "        output_dim = None\n",
        "        output_dim = embed_dim\n",
        "        model.add(Embedding(input_dim = voc_size, output_dim = output_dim, input_length = max_len))\n",
        "        model.layers[0].set_weights([embed_matrix])\n",
        "        model.layers[0].trainable = False\n",
        "        output_dim = None\n",
        "        output_dim = embed_dim\n",
        "    elif pretrained_embed == False:\n",
        "        output_dim = output_dim\n",
        "        model.add(Embedding(input_dim = voc_size, output_dim = output_dim, input_length = max_len))\n",
        "\n",
        "    model.add(Flatten())\n",
        "    model.add(Dense(units = l1_units, activation = 'relu', input_shape = (voc_size,)))\n",
        "    model.add(Dropout(dropout))\n",
        "    model.add(Dense(units = l2_units, activation = 'relu'))\n",
        "    model.add(Dropout(dropout))\n",
        "    model.add(Dense(units = topics, activation = 'softmax'))\n",
        "\n",
        "\n",
        "    model.compile(\n",
        "                    optimizer = 'rmsprop',\n",
        "                    loss = 'categorical_crossentropy',\n",
        "                    metrics = ['accuracy'])\n",
        "\n",
        "    return model"
      ],
      "execution_count": 0,
      "outputs": []
    },
    {
      "cell_type": "code",
      "metadata": {
        "id": "Hbf10JsK4GMh",
        "colab_type": "code",
        "colab": {}
      },
      "source": [
        "def build_dnn_2(top, max_len, voc_size, output_dim, l1_units, l2_units, l3_units, \n",
        "                dropout, pretrained_embed = False):\n",
        "\n",
        "    if top == False:\n",
        "        topics = 46\n",
        "    \n",
        "    elif top == True:\n",
        "        topics = 9\n",
        "\n",
        "    model = Sequential()\n",
        "\n",
        "    if pretrained_embed == True:\n",
        "        embedding_file = 'glove.6B.100d.txt'\n",
        "        embed_matrix, embed_dim = embedding_matrix(embedding_file, voc_size)\n",
        "        output_dim = None\n",
        "        output_dim = embed_dim\n",
        "        model.add(Embedding(input_dim = voc_size, output_dim = output_dim, input_length = max_len))\n",
        "        model.layers[0].set_weights([embed_matrix])\n",
        "        model.layers[0].trainable = False\n",
        "        output_dim = None\n",
        "        output_dim = embed_dim\n",
        "    elif pretrained_embed == False:\n",
        "        output_dim = output_dim\n",
        "        model.add(Embedding(input_dim = voc_size, output_dim = output_dim, input_length = max_len))\n",
        "\n",
        "    model.add(Flatten())\n",
        "    model.add(Dense(units = l1_units, activation = 'relu', input_shape = (voc_size,)))\n",
        "    model.add(Dense(units = l2_units, activation = 'relu'))\n",
        "    model.add(Dropout(dropout))\n",
        "    model.add(Dense(units = l3_units, activation = 'relu'))\n",
        "    model.add(Dropout(dropout))\n",
        "    model.add(Dense(units = topics, activation = 'softmax'))\n",
        "\n",
        "\n",
        "    model.compile(\n",
        "                    optimizer = 'rmsprop',\n",
        "                    loss = 'categorical_crossentropy',\n",
        "                    metrics = ['accuracy'])\n",
        "\n",
        "    return model"
      ],
      "execution_count": 0,
      "outputs": []
    },
    {
      "cell_type": "code",
      "metadata": {
        "id": "YZ6Q83pm9tmx",
        "colab_type": "code",
        "colab": {}
      },
      "source": [
        "def build_cnn_1(top, max_len, voc_size, output_dim, l1_filters, \n",
        "                dropout, pretrained_embed = False):\n",
        "\n",
        "    if top == False:\n",
        "        topics = 46\n",
        "    \n",
        "    elif top == True:\n",
        "        topics = 9\n",
        "\n",
        "    model = Sequential()\n",
        "\n",
        "    if pretrained_embed == True:\n",
        "        embedding_file = 'glove.6B.100d.txt'\n",
        "        embed_matrix, embed_dim = embedding_matrix(embedding_file, voc_size)\n",
        "        output_dim = None\n",
        "        output_dim = embed_dim\n",
        "        model.add(Embedding(input_dim = voc_size, output_dim = output_dim, input_length = max_len))\n",
        "        model.layers[0].set_weights([embed_matrix])\n",
        "        model.layers[0].trainable = False\n",
        "        output_dim = None\n",
        "        output_dim = embed_dim\n",
        "    elif pretrained_embed == False:\n",
        "        output_dim = output_dim\n",
        "        model.add(Embedding(input_dim = voc_size, output_dim = output_dim, input_length = max_len))\n",
        "\n",
        "    model.add(Conv1D(filters = l1_filters, kernel_size = 3, activation = 'relu'))\n",
        "    model.add(Flatten())\n",
        "    model.add(Dropout(dropout))\n",
        "    model.add(Dense(units = topics, activation = 'softmax'))\n",
        "\n",
        "\n",
        "    model.compile(\n",
        "                    optimizer = 'rmsprop',\n",
        "                    loss = 'categorical_crossentropy',\n",
        "                    metrics = ['accuracy'])\n",
        "\n",
        "    return model"
      ],
      "execution_count": 0,
      "outputs": []
    },
    {
      "cell_type": "code",
      "metadata": {
        "id": "wpYZvido9tc9",
        "colab_type": "code",
        "colab": {}
      },
      "source": [
        "def build_cnn_2(top, max_len, voc_size, output_dim, l1_filters, l2_filters, \n",
        "                dropout, pretrained_embed = False):\n",
        "\n",
        "    if top == False:\n",
        "        topics = 46\n",
        "    \n",
        "    elif top == True:\n",
        "        topics = 9\n",
        "\n",
        "    model = Sequential()\n",
        "\n",
        "    if pretrained_embed == True:\n",
        "        embedding_file = 'glove.6B.100d.txt'\n",
        "        embed_matrix, embed_dim = embedding_matrix(embedding_file, voc_size)\n",
        "        output_dim = None\n",
        "        output_dim = embed_dim\n",
        "        model.add(Embedding(input_dim = voc_size, output_dim = output_dim, input_length = max_len))\n",
        "        model.layers[0].set_weights([embed_matrix])\n",
        "        model.layers[0].trainable = False\n",
        "        output_dim = None\n",
        "        output_dim = embed_dim\n",
        "    elif pretrained_embed == False:\n",
        "        output_dim = output_dim\n",
        "        model.add(Embedding(input_dim = voc_size, output_dim = output_dim, input_length = max_len))\n",
        "\n",
        "    model.add(Conv1D(filters = l1_filters, kernel_size = 5, activation = 'relu'))\n",
        "    model.add(MaxPooling1D(5))\n",
        "    model.add(Conv1D(filters = l2_filters, kernel_size = 3, activation = 'relu'))    \n",
        "    model.add(Dropout(dropout))\n",
        "    model.add(Flatten())\n",
        "    model.add(Dense(units = topics, activation = 'softmax'))\n",
        "\n",
        "\n",
        "    model.compile(\n",
        "                    optimizer = 'rmsprop',\n",
        "                    loss = 'categorical_crossentropy',\n",
        "                    metrics = ['accuracy'])\n",
        "\n",
        "    return model"
      ],
      "execution_count": 0,
      "outputs": []
    },
    {
      "cell_type": "code",
      "metadata": {
        "id": "NzA67xo7yyfH",
        "colab_type": "code",
        "colab": {}
      },
      "source": [
        "def run_param_grid(models, parameters, embedding):\n",
        "\n",
        "\n",
        "\n",
        "    model_name = []\n",
        "    num_parameters = []\n",
        "    structure = []\n",
        "    conv_net = []\n",
        "    accuracy = []\n",
        "    val_accuracy = []\n",
        "    loss = []\n",
        "    test_accuracy = []\n",
        "    test_loss = []\n",
        "    val_loss = []\n",
        "    elapsed_time = []\n",
        "\n",
        "    for idx, model in enumerate(models):\n",
        "\n",
        "        \n",
        "        grid = ParameterGrid(parameters[idx])\n",
        "        for params in tqdm(grid):\n",
        "\n",
        "            train_data_raw, train_labels_raw, test_data_raw, test_labels_raw = import_data(params['voc_size'])\n",
        "\n",
        "            train_data, train_labels, val_data, val_labels, test_data, test_labels = prepare_data(train_data_raw, train_labels_raw, \n",
        "                test_data_raw, test_labels_raw, params['max_len'],\n",
        "                top = params['top'], embedding = embedding)\n",
        "            \n",
        "            keras.backend.clear_session()\n",
        "        \n",
        "            start = time.time()\n",
        "            \n",
        "            clf = KerasClassifier(build_fn=model,  **params)\n",
        "            history = clf.fit(train_data,\n",
        "                                train_labels,\n",
        "                                epochs = 10,\n",
        "                                batch_size = 128,\n",
        "                                validation_data = (val_data, val_labels))\n",
        "            \n",
        "            end = time.time()\n",
        "            t_loss, t_acc = history.model.evaluate(test_data, test_labels)\n",
        "\n",
        "            model_name.append(f'model_{idx + 1}')\n",
        "            structure.append(params)\n",
        "            num_parameters.append(history.model.count_params())\n",
        "            accuracy.append(history.history['accuracy'][-1])\n",
        "            val_accuracy.append(history.history['val_accuracy'][-1])\n",
        "            test_accuracy.append(t_acc)\n",
        "            loss.append(history.history['loss'][-1])\n",
        "            val_loss.append(history.history['val_loss'][-1])\n",
        "            test_loss.append(t_loss)            \n",
        "            elapsed_time.append(end - start)\n",
        "\n",
        "    model_outputs = {'model':model_name, \n",
        "                    #  'conv_net':conv_net, \n",
        "                     'structure':structure, \n",
        "                     'num_parameters':num_parameters, \n",
        "                     'accuracy':accuracy, \n",
        "                     'val_accuracy':val_accuracy,\n",
        "                     'test_accuracy':test_accuracy, \n",
        "                     'loss':loss, \n",
        "                     'val_loss':val_loss, \n",
        "                     'test_loss':test_loss,\n",
        "                     'elapsed_time':elapsed_time}\n",
        "\n",
        "    return model_outputs"
      ],
      "execution_count": 0,
      "outputs": []
    },
    {
      "cell_type": "code",
      "metadata": {
        "id": "lJKbf_Inhre6",
        "colab_type": "code",
        "colab": {}
      },
      "source": [
        "#Have a larger list to test embeddings specifically and use a narrowed list when testing other things\n",
        "\n",
        "# models = [build_model_1_grid_search, build_model_2_grid_search,\n",
        "#           build_model_3_grid_search, build_model_4_grid_search]\n",
        "\n",
        "models = [build_cnn_2]\n",
        "\n",
        "parameters = [\n",
        "    # {'voc_size': [1000, 10000, 50000],\n",
        "    # 'top': [True, False],\n",
        "    # 'output_dim':np.array([8, 64, 128, 256, 512]), \n",
        "    # 'max_len':np.array([20, 100, 280, 2376])}, \n",
        "    # {'voc_size': [10000],\n",
        "    # 'top': [True, False],\n",
        "    # 'output_dim':np.array([8, 128, 512]), \n",
        "    # 'max_len':np.array([100, 280]),\n",
        "    # 'l1_units':np.array([16, 32, 64, 128, 256]),\n",
        "    # 'pretrained_embed':[True, False]},\n",
        "    # {'voc_size': [10000],\n",
        "    # 'top': [True, False],\n",
        "    # 'output_dim':np.array([8, 128, 512]), \n",
        "    # 'max_len':np.array([100, 280]),\n",
        "    # 'l1_units':np.array([16, 64, 256]),\n",
        "    # 'l2_units':np.array([16, 32, 256]),\n",
        "    # 'pretrained_embed':[True, False]},\n",
        "    # {'voc_size': [10000],\n",
        "    # 'top': [True, False],\n",
        "    # 'output_dim':np.array([8, 128, 512]), \n",
        "    # 'max_len':np.array([100, 280]),\n",
        "    # 'l1_units':np.array([16, 32, 100, 256]),\n",
        "    # 'dropout':np.array([0, 0.25]),\n",
        "    # 'pretrained_embed':[True, False]},\n",
        "    # {'voc_size': [10000],\n",
        "    # 'top': [True, False],\n",
        "    # 'output_dim':np.array([128, 512]), \n",
        "    # 'max_len':np.array([100, 280]),\n",
        "    # 'l1_units':np.array([16, 100, 256]),\n",
        "    # 'l2_units':np.array([32, 100]),\n",
        "    # 'dropout':np.array([0, 0.25]),\n",
        "    # 'pretrained_embed':[True, False]},\n",
        "    # {'voc_size': [10000],\n",
        "    # 'top': [True, False],\n",
        "    # 'output_dim':np.array([8, 128, 512]), \n",
        "    # 'max_len':np.array([100, 280]),\n",
        "    # 'l1_filters':np.array([16, 32, 100, 256]),\n",
        "    # 'dropout':np.array([0.50, 0.75]),\n",
        "    # 'pretrained_embed':[True, False]},\n",
        "    {'voc_size': [10000],\n",
        "    'top': [True, False],\n",
        "    'output_dim':np.array([128, 512]), \n",
        "    'max_len':np.array([100, 280]),\n",
        "    'l1_filters':np.array([16, 32, 100]),\n",
        "    'l2_filters':np.array([16, 32]),\n",
        "    'dropout':np.array([0.50, 0.75]),\n",
        "    'pretrained_embed':[True, False]},\n",
        "    ]"
      ],
      "execution_count": 0,
      "outputs": []
    },
    {
      "cell_type": "code",
      "metadata": {
        "id": "yFxz3oSgaBlL",
        "colab_type": "code",
        "outputId": "5fa5ed3f-1add-464d-989d-155db322b143",
        "colab": {
          "base_uri": "https://localhost:8080/",
          "height": 1000
        }
      },
      "source": [
        "model_outputs = run_param_grid(models, parameters, True)"
      ],
      "execution_count": 0,
      "outputs": [
        {
          "output_type": "stream",
          "text": [
            "\r  0%|          | 0/192 [00:00<?, ?it/s]"
          ],
          "name": "stderr"
        },
        {
          "output_type": "stream",
          "text": [
            "Epoch 1/10\n",
            "50/50 [==============================] - 1s 11ms/step - loss: 1.6999 - accuracy: 0.4141 - val_loss: 1.3861 - val_accuracy: 0.5266\n",
            "Epoch 2/10\n",
            "50/50 [==============================] - 0s 9ms/step - loss: 1.4067 - accuracy: 0.5143 - val_loss: 1.3058 - val_accuracy: 0.5675\n",
            "Epoch 3/10\n",
            "50/50 [==============================] - 0s 9ms/step - loss: 1.3224 - accuracy: 0.5452 - val_loss: 1.2632 - val_accuracy: 0.5808\n",
            "Epoch 4/10\n",
            "50/50 [==============================] - 0s 9ms/step - loss: 1.2656 - accuracy: 0.5634 - val_loss: 1.2234 - val_accuracy: 0.5995\n",
            "Epoch 5/10\n",
            "50/50 [==============================] - 0s 9ms/step - loss: 1.2110 - accuracy: 0.5844 - val_loss: 1.1723 - val_accuracy: 0.6048\n",
            "Epoch 6/10\n",
            "50/50 [==============================] - 0s 9ms/step - loss: 1.1653 - accuracy: 0.5956 - val_loss: 1.1428 - val_accuracy: 0.6297\n",
            "Epoch 7/10\n",
            "50/50 [==============================] - 0s 9ms/step - loss: 1.1318 - accuracy: 0.6086 - val_loss: 1.1308 - val_accuracy: 0.6368\n",
            "Epoch 8/10\n",
            "50/50 [==============================] - 0s 9ms/step - loss: 1.1134 - accuracy: 0.6210 - val_loss: 1.1005 - val_accuracy: 0.6456\n",
            "Epoch 9/10\n",
            "50/50 [==============================] - 0s 9ms/step - loss: 1.0944 - accuracy: 0.6288 - val_loss: 1.1573 - val_accuracy: 0.6279\n",
            "Epoch 10/10\n",
            "50/50 [==============================] - 0s 9ms/step - loss: 1.0605 - accuracy: 0.6343 - val_loss: 1.0880 - val_accuracy: 0.6501\n",
            "58/58 [==============================] - 0s 2ms/step - loss: 1.0906 - accuracy: 0.6361\n"
          ],
          "name": "stdout"
        },
        {
          "output_type": "stream",
          "text": [
            "\r  1%|          | 1/192 [00:17<54:14, 17.04s/it]"
          ],
          "name": "stderr"
        },
        {
          "output_type": "stream",
          "text": [
            "Epoch 1/10\n",
            "60/60 [==============================] - 1s 13ms/step - loss: 2.6499 - accuracy: 0.3397 - val_loss: 2.1489 - val_accuracy: 0.4214\n",
            "Epoch 2/10\n",
            "60/60 [==============================] - 1s 9ms/step - loss: 2.1599 - accuracy: 0.4458 - val_loss: 2.1396 - val_accuracy: 0.4050\n",
            "Epoch 3/10\n",
            "60/60 [==============================] - 1s 9ms/step - loss: 2.0523 - accuracy: 0.4661 - val_loss: 1.9967 - val_accuracy: 0.4815\n",
            "Epoch 4/10\n",
            "60/60 [==============================] - 1s 9ms/step - loss: 1.9773 - accuracy: 0.4766 - val_loss: 1.9827 - val_accuracy: 0.4911\n",
            "Epoch 5/10\n",
            "60/60 [==============================] - 1s 9ms/step - loss: 1.9236 - accuracy: 0.4916 - val_loss: 1.9517 - val_accuracy: 0.4889\n",
            "Epoch 6/10\n",
            "60/60 [==============================] - 1s 9ms/step - loss: 1.8831 - accuracy: 0.5054 - val_loss: 1.8988 - val_accuracy: 0.5082\n",
            "Epoch 7/10\n",
            "60/60 [==============================] - 1s 9ms/step - loss: 1.8422 - accuracy: 0.5101 - val_loss: 1.9256 - val_accuracy: 0.4918\n",
            "Epoch 8/10\n",
            "60/60 [==============================] - 1s 9ms/step - loss: 1.8031 - accuracy: 0.5183 - val_loss: 1.8930 - val_accuracy: 0.5156\n",
            "Epoch 9/10\n",
            "60/60 [==============================] - 1s 9ms/step - loss: 1.7666 - accuracy: 0.5221 - val_loss: 1.8428 - val_accuracy: 0.5230\n",
            "Epoch 10/10\n",
            "60/60 [==============================] - 1s 9ms/step - loss: 1.7490 - accuracy: 0.5307 - val_loss: 1.8540 - val_accuracy: 0.5200\n",
            "71/71 [==============================] - 0s 2ms/step - loss: 1.8288 - accuracy: 0.5405\n"
          ],
          "name": "stdout"
        },
        {
          "output_type": "stream",
          "text": [
            "\r  1%|          | 2/192 [00:35<54:53, 17.33s/it]"
          ],
          "name": "stderr"
        },
        {
          "output_type": "stream",
          "text": [
            "Epoch 1/10\n",
            "50/50 [==============================] - 1s 18ms/step - loss: 1.4814 - accuracy: 0.4976 - val_loss: 1.1640 - val_accuracy: 0.6021\n",
            "Epoch 2/10\n",
            "50/50 [==============================] - 1s 16ms/step - loss: 1.0810 - accuracy: 0.6130 - val_loss: 0.9975 - val_accuracy: 0.6563\n",
            "Epoch 3/10\n",
            "50/50 [==============================] - 1s 16ms/step - loss: 0.9191 - accuracy: 0.6944 - val_loss: 0.9394 - val_accuracy: 0.7078\n",
            "Epoch 4/10\n",
            "50/50 [==============================] - 1s 16ms/step - loss: 0.7940 - accuracy: 0.7554 - val_loss: 0.8845 - val_accuracy: 0.7353\n",
            "Epoch 5/10\n",
            "50/50 [==============================] - 1s 16ms/step - loss: 0.6657 - accuracy: 0.8049 - val_loss: 0.8240 - val_accuracy: 0.7638\n",
            "Epoch 6/10\n",
            "50/50 [==============================] - 1s 16ms/step - loss: 0.5457 - accuracy: 0.8424 - val_loss: 0.7897 - val_accuracy: 0.7824\n",
            "Epoch 7/10\n",
            "50/50 [==============================] - 1s 16ms/step - loss: 0.4447 - accuracy: 0.8711 - val_loss: 0.7813 - val_accuracy: 0.7895\n",
            "Epoch 8/10\n",
            "50/50 [==============================] - 1s 16ms/step - loss: 0.3580 - accuracy: 0.9003 - val_loss: 0.7776 - val_accuracy: 0.8020\n",
            "Epoch 9/10\n",
            "50/50 [==============================] - 1s 15ms/step - loss: 0.2957 - accuracy: 0.9181 - val_loss: 0.7942 - val_accuracy: 0.8099\n",
            "Epoch 10/10\n",
            "50/50 [==============================] - 1s 16ms/step - loss: 0.2495 - accuracy: 0.9323 - val_loss: 0.8700 - val_accuracy: 0.7931\n",
            "58/58 [==============================] - 0s 2ms/step - loss: 0.8423 - accuracy: 0.7910\n"
          ],
          "name": "stdout"
        },
        {
          "output_type": "stream",
          "text": [
            "\r  2%|▏         | 3/192 [00:44<47:28, 15.07s/it]"
          ],
          "name": "stderr"
        },
        {
          "output_type": "stream",
          "text": [
            "Epoch 1/10\n",
            "60/60 [==============================] - 1s 19ms/step - loss: 2.4438 - accuracy: 0.3538 - val_loss: 2.0117 - val_accuracy: 0.4325\n",
            "Epoch 2/10\n",
            "60/60 [==============================] - 1s 17ms/step - loss: 1.8794 - accuracy: 0.4731 - val_loss: 1.7786 - val_accuracy: 0.5067\n",
            "Epoch 3/10\n",
            "60/60 [==============================] - 1s 16ms/step - loss: 1.6804 - accuracy: 0.5359 - val_loss: 1.6678 - val_accuracy: 0.5571\n",
            "Epoch 4/10\n",
            "60/60 [==============================] - 1s 17ms/step - loss: 1.5150 - accuracy: 0.5926 - val_loss: 1.5598 - val_accuracy: 0.5905\n",
            "Epoch 5/10\n",
            "60/60 [==============================] - 1s 17ms/step - loss: 1.3646 - accuracy: 0.6361 - val_loss: 1.4923 - val_accuracy: 0.6098\n",
            "Epoch 6/10\n",
            "60/60 [==============================] - 1s 17ms/step - loss: 1.2295 - accuracy: 0.6753 - val_loss: 1.4363 - val_accuracy: 0.6409\n",
            "Epoch 7/10\n",
            "60/60 [==============================] - 1s 17ms/step - loss: 1.1003 - accuracy: 0.7096 - val_loss: 1.4182 - val_accuracy: 0.6417\n",
            "Epoch 8/10\n",
            "60/60 [==============================] - 1s 17ms/step - loss: 0.9879 - accuracy: 0.7427 - val_loss: 1.4083 - val_accuracy: 0.6476\n",
            "Epoch 9/10\n",
            "60/60 [==============================] - 1s 16ms/step - loss: 0.8711 - accuracy: 0.7773 - val_loss: 1.4124 - val_accuracy: 0.6550\n",
            "Epoch 10/10\n",
            "60/60 [==============================] - 1s 16ms/step - loss: 0.7620 - accuracy: 0.8031 - val_loss: 1.5111 - val_accuracy: 0.6528\n",
            "71/71 [==============================] - 0s 2ms/step - loss: 1.5671 - accuracy: 0.6385\n"
          ],
          "name": "stdout"
        },
        {
          "output_type": "stream",
          "text": [
            "\r  2%|▏         | 4/192 [00:56<44:27, 14.19s/it]"
          ],
          "name": "stderr"
        },
        {
          "output_type": "stream",
          "text": [
            "Epoch 1/10\n",
            "50/50 [==============================] - 1s 12ms/step - loss: 1.7054 - accuracy: 0.4378 - val_loss: 1.3881 - val_accuracy: 0.5311\n",
            "Epoch 2/10\n",
            "50/50 [==============================] - 0s 9ms/step - loss: 1.3975 - accuracy: 0.5415 - val_loss: 1.3011 - val_accuracy: 0.5560\n",
            "Epoch 3/10\n",
            "50/50 [==============================] - 0s 9ms/step - loss: 1.2953 - accuracy: 0.5620 - val_loss: 1.2300 - val_accuracy: 0.5799\n",
            "Epoch 4/10\n",
            "50/50 [==============================] - 0s 9ms/step - loss: 1.2399 - accuracy: 0.5822 - val_loss: 1.1898 - val_accuracy: 0.6004\n",
            "Epoch 5/10\n",
            "50/50 [==============================] - 0s 9ms/step - loss: 1.1931 - accuracy: 0.5898 - val_loss: 1.1812 - val_accuracy: 0.6261\n",
            "Epoch 6/10\n",
            "50/50 [==============================] - 0s 9ms/step - loss: 1.1496 - accuracy: 0.6081 - val_loss: 1.1682 - val_accuracy: 0.6163\n",
            "Epoch 7/10\n",
            "50/50 [==============================] - 0s 9ms/step - loss: 1.1314 - accuracy: 0.6067 - val_loss: 1.1579 - val_accuracy: 0.6190\n",
            "Epoch 8/10\n",
            "50/50 [==============================] - 0s 9ms/step - loss: 1.1050 - accuracy: 0.6213 - val_loss: 1.1192 - val_accuracy: 0.6350\n",
            "Epoch 9/10\n",
            "50/50 [==============================] - 0s 9ms/step - loss: 1.0725 - accuracy: 0.6299 - val_loss: 1.0949 - val_accuracy: 0.6448\n",
            "Epoch 10/10\n",
            "50/50 [==============================] - 0s 9ms/step - loss: 1.0458 - accuracy: 0.6436 - val_loss: 1.1541 - val_accuracy: 0.6323\n",
            "58/58 [==============================] - 0s 2ms/step - loss: 1.1305 - accuracy: 0.6323\n"
          ],
          "name": "stdout"
        },
        {
          "output_type": "stream",
          "text": [
            "\r  3%|▎         | 5/192 [01:14<47:05, 15.11s/it]"
          ],
          "name": "stderr"
        },
        {
          "output_type": "stream",
          "text": [
            "Epoch 1/10\n",
            "60/60 [==============================] - 1s 11ms/step - loss: 2.6526 - accuracy: 0.3509 - val_loss: 2.1874 - val_accuracy: 0.4599\n",
            "Epoch 2/10\n",
            "60/60 [==============================] - 1s 10ms/step - loss: 2.1755 - accuracy: 0.4373 - val_loss: 2.0725 - val_accuracy: 0.4585\n",
            "Epoch 3/10\n",
            "60/60 [==============================] - 1s 9ms/step - loss: 2.0599 - accuracy: 0.4633 - val_loss: 2.0170 - val_accuracy: 0.4703\n",
            "Epoch 4/10\n",
            "60/60 [==============================] - 1s 9ms/step - loss: 1.9701 - accuracy: 0.4796 - val_loss: 1.9553 - val_accuracy: 0.4963\n",
            "Epoch 5/10\n",
            "60/60 [==============================] - 1s 10ms/step - loss: 1.9028 - accuracy: 0.4937 - val_loss: 1.9405 - val_accuracy: 0.5007\n",
            "Epoch 6/10\n",
            "60/60 [==============================] - 1s 9ms/step - loss: 1.8480 - accuracy: 0.5075 - val_loss: 1.8928 - val_accuracy: 0.4985\n",
            "Epoch 7/10\n",
            "60/60 [==============================] - 1s 9ms/step - loss: 1.8063 - accuracy: 0.5178 - val_loss: 1.9126 - val_accuracy: 0.4896\n",
            "Epoch 8/10\n",
            "60/60 [==============================] - 1s 9ms/step - loss: 1.7663 - accuracy: 0.5227 - val_loss: 1.8336 - val_accuracy: 0.5156\n",
            "Epoch 9/10\n",
            "60/60 [==============================] - 1s 9ms/step - loss: 1.7411 - accuracy: 0.5299 - val_loss: 1.8928 - val_accuracy: 0.5037\n",
            "Epoch 10/10\n",
            "60/60 [==============================] - 1s 9ms/step - loss: 1.7059 - accuracy: 0.5398 - val_loss: 1.7982 - val_accuracy: 0.5215\n",
            "71/71 [==============================] - 0s 2ms/step - loss: 1.8259 - accuracy: 0.5267\n"
          ],
          "name": "stdout"
        },
        {
          "output_type": "stream",
          "text": [
            "\r  3%|▎         | 6/192 [01:33<50:30, 16.29s/it]"
          ],
          "name": "stderr"
        },
        {
          "output_type": "stream",
          "text": [
            "Epoch 1/10\n",
            "50/50 [==============================] - 2s 44ms/step - loss: 1.3850 - accuracy: 0.5046 - val_loss: 1.0905 - val_accuracy: 0.6323\n",
            "Epoch 2/10\n",
            "50/50 [==============================] - 2s 41ms/step - loss: 1.0029 - accuracy: 0.6538 - val_loss: 0.9380 - val_accuracy: 0.6972\n",
            "Epoch 3/10\n",
            "50/50 [==============================] - 2s 43ms/step - loss: 0.7989 - accuracy: 0.7504 - val_loss: 0.8452 - val_accuracy: 0.7478\n",
            "Epoch 4/10\n",
            "50/50 [==============================] - 2s 43ms/step - loss: 0.6299 - accuracy: 0.8115 - val_loss: 0.8012 - val_accuracy: 0.7700\n",
            "Epoch 5/10\n",
            "50/50 [==============================] - 2s 43ms/step - loss: 0.4685 - accuracy: 0.8681 - val_loss: 0.7761 - val_accuracy: 0.7771\n",
            "Epoch 6/10\n",
            "50/50 [==============================] - 2s 43ms/step - loss: 0.3563 - accuracy: 0.9048 - val_loss: 0.7509 - val_accuracy: 0.8055\n",
            "Epoch 7/10\n",
            "50/50 [==============================] - 2s 44ms/step - loss: 0.2743 - accuracy: 0.9313 - val_loss: 0.7784 - val_accuracy: 0.8020\n",
            "Epoch 8/10\n",
            "50/50 [==============================] - 2s 43ms/step - loss: 0.2209 - accuracy: 0.9434 - val_loss: 0.8041 - val_accuracy: 0.8055\n",
            "Epoch 9/10\n",
            "50/50 [==============================] - 2s 42ms/step - loss: 0.1828 - accuracy: 0.9534 - val_loss: 0.8298 - val_accuracy: 0.8046\n",
            "Epoch 10/10\n",
            "50/50 [==============================] - 2s 43ms/step - loss: 0.1551 - accuracy: 0.9606 - val_loss: 0.8492 - val_accuracy: 0.8108\n",
            "58/58 [==============================] - 0s 3ms/step - loss: 0.8692 - accuracy: 0.8040\n"
          ],
          "name": "stdout"
        },
        {
          "output_type": "stream",
          "text": [
            "\r  4%|▎         | 7/192 [01:57<57:09, 18.54s/it]"
          ],
          "name": "stderr"
        },
        {
          "output_type": "stream",
          "text": [
            "Epoch 1/10\n",
            "60/60 [==============================] - 3s 44ms/step - loss: 2.3171 - accuracy: 0.4066 - val_loss: 1.8666 - val_accuracy: 0.5052\n",
            "Epoch 2/10\n",
            "60/60 [==============================] - 3s 42ms/step - loss: 1.7468 - accuracy: 0.5390 - val_loss: 1.6570 - val_accuracy: 0.5623\n",
            "Epoch 3/10\n",
            "60/60 [==============================] - 3s 42ms/step - loss: 1.5098 - accuracy: 0.6081 - val_loss: 1.5559 - val_accuracy: 0.5964\n",
            "Epoch 4/10\n",
            "60/60 [==============================] - 3s 42ms/step - loss: 1.3212 - accuracy: 0.6601 - val_loss: 1.5107 - val_accuracy: 0.6157\n",
            "Epoch 5/10\n",
            "60/60 [==============================] - 3s 42ms/step - loss: 1.1422 - accuracy: 0.7134 - val_loss: 1.4771 - val_accuracy: 0.6254\n",
            "Epoch 6/10\n",
            "60/60 [==============================] - 3s 43ms/step - loss: 0.9614 - accuracy: 0.7569 - val_loss: 1.4511 - val_accuracy: 0.6469\n",
            "Epoch 7/10\n",
            "60/60 [==============================] - 3s 42ms/step - loss: 0.7959 - accuracy: 0.8002 - val_loss: 1.4594 - val_accuracy: 0.6573\n",
            "Epoch 8/10\n",
            "60/60 [==============================] - 3s 42ms/step - loss: 0.6380 - accuracy: 0.8378 - val_loss: 1.4697 - val_accuracy: 0.6610\n",
            "Epoch 9/10\n",
            "60/60 [==============================] - 3s 42ms/step - loss: 0.5206 - accuracy: 0.8694 - val_loss: 1.5618 - val_accuracy: 0.6565\n",
            "Epoch 10/10\n",
            "60/60 [==============================] - 3s 42ms/step - loss: 0.4204 - accuracy: 0.8995 - val_loss: 1.5786 - val_accuracy: 0.6558\n",
            "71/71 [==============================] - 0s 3ms/step - loss: 1.5717 - accuracy: 0.6603\n"
          ],
          "name": "stdout"
        },
        {
          "output_type": "stream",
          "text": [
            "\r  4%|▍         | 8/192 [02:24<1:05:12, 21.26s/it]"
          ],
          "name": "stderr"
        },
        {
          "output_type": "stream",
          "text": [
            "Epoch 1/10\n",
            "50/50 [==============================] - 1s 20ms/step - loss: 1.7606 - accuracy: 0.3945 - val_loss: 1.4079 - val_accuracy: 0.4947\n",
            "Epoch 2/10\n",
            "50/50 [==============================] - 1s 18ms/step - loss: 1.3802 - accuracy: 0.5253 - val_loss: 1.2911 - val_accuracy: 0.5755\n",
            "Epoch 3/10\n",
            "50/50 [==============================] - 1s 18ms/step - loss: 1.2801 - accuracy: 0.5631 - val_loss: 1.2271 - val_accuracy: 0.5844\n",
            "Epoch 4/10\n",
            "50/50 [==============================] - 1s 18ms/step - loss: 1.2002 - accuracy: 0.5810 - val_loss: 1.1812 - val_accuracy: 0.5968\n",
            "Epoch 5/10\n",
            "50/50 [==============================] - 1s 18ms/step - loss: 1.1436 - accuracy: 0.6047 - val_loss: 1.1784 - val_accuracy: 0.6137\n",
            "Epoch 6/10\n",
            "50/50 [==============================] - 1s 18ms/step - loss: 1.0929 - accuracy: 0.6211 - val_loss: 1.1219 - val_accuracy: 0.6190\n",
            "Epoch 7/10\n",
            "50/50 [==============================] - 1s 18ms/step - loss: 1.0517 - accuracy: 0.6431 - val_loss: 1.1221 - val_accuracy: 0.6385\n",
            "Epoch 8/10\n",
            "50/50 [==============================] - 1s 18ms/step - loss: 1.0278 - accuracy: 0.6495 - val_loss: 1.1884 - val_accuracy: 0.5986\n",
            "Epoch 9/10\n",
            "50/50 [==============================] - 1s 18ms/step - loss: 0.9948 - accuracy: 0.6696 - val_loss: 1.0643 - val_accuracy: 0.6519\n",
            "Epoch 10/10\n",
            "50/50 [==============================] - 1s 18ms/step - loss: 0.9594 - accuracy: 0.6790 - val_loss: 1.0464 - val_accuracy: 0.6705\n",
            "58/58 [==============================] - 0s 3ms/step - loss: 1.0224 - accuracy: 0.6690\n"
          ],
          "name": "stdout"
        },
        {
          "output_type": "stream",
          "text": [
            "\r  5%|▍         | 9/192 [02:46<1:05:34, 21.50s/it]"
          ],
          "name": "stderr"
        },
        {
          "output_type": "stream",
          "text": [
            "Epoch 1/10\n",
            "60/60 [==============================] - 1s 21ms/step - loss: 2.5671 - accuracy: 0.3473 - val_loss: 2.1243 - val_accuracy: 0.3887\n",
            "Epoch 2/10\n",
            "60/60 [==============================] - 1s 19ms/step - loss: 2.1035 - accuracy: 0.4352 - val_loss: 2.0389 - val_accuracy: 0.4666\n",
            "Epoch 3/10\n",
            "60/60 [==============================] - 1s 18ms/step - loss: 2.0055 - accuracy: 0.4640 - val_loss: 1.9761 - val_accuracy: 0.4688\n",
            "Epoch 4/10\n",
            "60/60 [==============================] - 1s 19ms/step - loss: 1.9270 - accuracy: 0.4903 - val_loss: 1.9472 - val_accuracy: 0.4985\n",
            "Epoch 5/10\n",
            "60/60 [==============================] - 1s 19ms/step - loss: 1.8509 - accuracy: 0.5007 - val_loss: 1.8977 - val_accuracy: 0.4859\n",
            "Epoch 6/10\n",
            "60/60 [==============================] - 1s 18ms/step - loss: 1.8051 - accuracy: 0.5136 - val_loss: 1.8559 - val_accuracy: 0.5045\n",
            "Epoch 7/10\n",
            "60/60 [==============================] - 1s 19ms/step - loss: 1.7498 - accuracy: 0.5269 - val_loss: 1.8228 - val_accuracy: 0.5119\n",
            "Epoch 8/10\n",
            "60/60 [==============================] - 1s 18ms/step - loss: 1.7068 - accuracy: 0.5376 - val_loss: 1.8739 - val_accuracy: 0.5185\n",
            "Epoch 9/10\n",
            "60/60 [==============================] - 1s 18ms/step - loss: 1.6753 - accuracy: 0.5426 - val_loss: 1.8314 - val_accuracy: 0.5111\n",
            "Epoch 10/10\n",
            "60/60 [==============================] - 1s 19ms/step - loss: 1.6275 - accuracy: 0.5578 - val_loss: 1.8071 - val_accuracy: 0.5141\n",
            "71/71 [==============================] - 0s 3ms/step - loss: 1.8139 - accuracy: 0.5267\n"
          ],
          "name": "stdout"
        },
        {
          "output_type": "stream",
          "text": [
            "\r  5%|▌         | 10/192 [03:10<1:07:41, 22.32s/it]"
          ],
          "name": "stderr"
        },
        {
          "output_type": "stream",
          "text": [
            "Epoch 1/10\n",
            "50/50 [==============================] - 1s 30ms/step - loss: 1.4434 - accuracy: 0.5154 - val_loss: 1.1865 - val_accuracy: 0.6421\n",
            "Epoch 2/10\n",
            "50/50 [==============================] - 1s 28ms/step - loss: 1.0531 - accuracy: 0.6549 - val_loss: 0.9453 - val_accuracy: 0.6883\n",
            "Epoch 3/10\n",
            "50/50 [==============================] - 1s 27ms/step - loss: 0.8364 - accuracy: 0.7380 - val_loss: 0.8472 - val_accuracy: 0.7433\n",
            "Epoch 4/10\n",
            "50/50 [==============================] - 1s 27ms/step - loss: 0.6988 - accuracy: 0.7949 - val_loss: 0.7837 - val_accuracy: 0.7806\n",
            "Epoch 5/10\n",
            "50/50 [==============================] - 1s 27ms/step - loss: 0.5744 - accuracy: 0.8335 - val_loss: 0.7582 - val_accuracy: 0.7922\n",
            "Epoch 6/10\n",
            "50/50 [==============================] - 1s 27ms/step - loss: 0.4842 - accuracy: 0.8640 - val_loss: 0.7435 - val_accuracy: 0.8011\n",
            "Epoch 7/10\n",
            "50/50 [==============================] - 1s 28ms/step - loss: 0.3991 - accuracy: 0.8934 - val_loss: 0.7733 - val_accuracy: 0.8020\n",
            "Epoch 8/10\n",
            "50/50 [==============================] - 1s 28ms/step - loss: 0.3356 - accuracy: 0.9156 - val_loss: 0.7852 - val_accuracy: 0.8046\n",
            "Epoch 9/10\n",
            "50/50 [==============================] - 1s 28ms/step - loss: 0.2788 - accuracy: 0.9286 - val_loss: 0.8048 - val_accuracy: 0.8108\n",
            "Epoch 10/10\n",
            "50/50 [==============================] - 1s 28ms/step - loss: 0.2401 - accuracy: 0.9385 - val_loss: 0.8058 - val_accuracy: 0.8135\n",
            "58/58 [==============================] - 0s 3ms/step - loss: 0.8464 - accuracy: 0.8132\n"
          ],
          "name": "stdout"
        },
        {
          "output_type": "stream",
          "text": [
            "\r  6%|▌         | 11/192 [03:26<1:01:30, 20.39s/it]"
          ],
          "name": "stderr"
        },
        {
          "output_type": "stream",
          "text": [
            "Epoch 1/10\n",
            "60/60 [==============================] - 2s 30ms/step - loss: 2.3024 - accuracy: 0.3775 - val_loss: 1.9049 - val_accuracy: 0.4837\n",
            "Epoch 2/10\n",
            "60/60 [==============================] - 2s 28ms/step - loss: 1.7658 - accuracy: 0.5325 - val_loss: 1.6539 - val_accuracy: 0.5772\n",
            "Epoch 3/10\n",
            "60/60 [==============================] - 2s 28ms/step - loss: 1.5649 - accuracy: 0.6043 - val_loss: 1.5517 - val_accuracy: 0.6128\n",
            "Epoch 4/10\n",
            "60/60 [==============================] - 2s 28ms/step - loss: 1.3942 - accuracy: 0.6496 - val_loss: 1.4736 - val_accuracy: 0.6343\n",
            "Epoch 5/10\n",
            "60/60 [==============================] - 2s 28ms/step - loss: 1.2243 - accuracy: 0.6907 - val_loss: 1.3893 - val_accuracy: 0.6714\n",
            "Epoch 6/10\n",
            "60/60 [==============================] - 2s 28ms/step - loss: 1.0707 - accuracy: 0.7271 - val_loss: 1.3397 - val_accuracy: 0.6847\n",
            "Epoch 7/10\n",
            "60/60 [==============================] - 2s 28ms/step - loss: 0.9423 - accuracy: 0.7577 - val_loss: 1.3332 - val_accuracy: 0.7033\n",
            "Epoch 8/10\n",
            "60/60 [==============================] - 2s 29ms/step - loss: 0.8240 - accuracy: 0.7852 - val_loss: 1.3419 - val_accuracy: 0.7025\n",
            "Epoch 9/10\n",
            "60/60 [==============================] - 2s 28ms/step - loss: 0.7077 - accuracy: 0.8169 - val_loss: 1.3774 - val_accuracy: 0.7025\n",
            "Epoch 10/10\n",
            "60/60 [==============================] - 2s 28ms/step - loss: 0.6190 - accuracy: 0.8395 - val_loss: 1.3832 - val_accuracy: 0.7055\n",
            "71/71 [==============================] - 0s 3ms/step - loss: 1.4784 - accuracy: 0.6839\n"
          ],
          "name": "stdout"
        },
        {
          "output_type": "stream",
          "text": [
            "\r  6%|▋         | 12/192 [03:46<1:00:05, 20.03s/it]"
          ],
          "name": "stderr"
        },
        {
          "output_type": "stream",
          "text": [
            "Epoch 1/10\n",
            "50/50 [==============================] - 1s 20ms/step - loss: 1.6941 - accuracy: 0.4199 - val_loss: 1.3889 - val_accuracy: 0.5488\n",
            "Epoch 2/10\n",
            "50/50 [==============================] - 1s 18ms/step - loss: 1.3682 - accuracy: 0.5379 - val_loss: 1.2891 - val_accuracy: 0.5861\n",
            "Epoch 3/10\n",
            "50/50 [==============================] - 1s 18ms/step - loss: 1.2790 - accuracy: 0.5711 - val_loss: 1.2366 - val_accuracy: 0.5870\n",
            "Epoch 4/10\n",
            "50/50 [==============================] - 1s 18ms/step - loss: 1.2236 - accuracy: 0.5819 - val_loss: 1.1928 - val_accuracy: 0.5924\n",
            "Epoch 5/10\n",
            "50/50 [==============================] - 1s 18ms/step - loss: 1.1669 - accuracy: 0.6012 - val_loss: 1.1526 - val_accuracy: 0.6137\n",
            "Epoch 6/10\n",
            "50/50 [==============================] - 1s 18ms/step - loss: 1.1167 - accuracy: 0.6155 - val_loss: 1.1342 - val_accuracy: 0.6252\n",
            "Epoch 7/10\n",
            "50/50 [==============================] - 1s 18ms/step - loss: 1.0800 - accuracy: 0.6299 - val_loss: 1.1762 - val_accuracy: 0.6066\n",
            "Epoch 8/10\n",
            "50/50 [==============================] - 1s 18ms/step - loss: 1.0423 - accuracy: 0.6442 - val_loss: 1.1009 - val_accuracy: 0.6439\n",
            "Epoch 9/10\n",
            "50/50 [==============================] - 1s 18ms/step - loss: 1.0073 - accuracy: 0.6622 - val_loss: 1.1077 - val_accuracy: 0.6483\n",
            "Epoch 10/10\n",
            "50/50 [==============================] - 1s 18ms/step - loss: 0.9927 - accuracy: 0.6618 - val_loss: 1.0497 - val_accuracy: 0.6581\n",
            "58/58 [==============================] - 0s 3ms/step - loss: 1.0679 - accuracy: 0.6479\n"
          ],
          "name": "stdout"
        },
        {
          "output_type": "stream",
          "text": [
            "\r  7%|▋         | 13/192 [04:07<1:01:24, 20.58s/it]"
          ],
          "name": "stderr"
        },
        {
          "output_type": "stream",
          "text": [
            "Epoch 1/10\n",
            "60/60 [==============================] - 1s 20ms/step - loss: 2.5103 - accuracy: 0.3629 - val_loss: 2.1497 - val_accuracy: 0.3909\n",
            "Epoch 2/10\n",
            "60/60 [==============================] - 1s 18ms/step - loss: 2.0957 - accuracy: 0.4405 - val_loss: 2.0512 - val_accuracy: 0.4547\n",
            "Epoch 3/10\n",
            "60/60 [==============================] - 1s 18ms/step - loss: 1.9905 - accuracy: 0.4663 - val_loss: 1.9581 - val_accuracy: 0.4844\n",
            "Epoch 4/10\n",
            "60/60 [==============================] - 1s 18ms/step - loss: 1.9078 - accuracy: 0.4830 - val_loss: 1.9321 - val_accuracy: 0.4792\n",
            "Epoch 5/10\n",
            "60/60 [==============================] - 1s 18ms/step - loss: 1.8449 - accuracy: 0.5013 - val_loss: 1.8886 - val_accuracy: 0.4970\n",
            "Epoch 6/10\n",
            "60/60 [==============================] - 1s 18ms/step - loss: 1.7904 - accuracy: 0.5176 - val_loss: 1.8702 - val_accuracy: 0.5082\n",
            "Epoch 7/10\n",
            "60/60 [==============================] - 1s 18ms/step - loss: 1.7427 - accuracy: 0.5301 - val_loss: 1.8623 - val_accuracy: 0.5126\n",
            "Epoch 8/10\n",
            "60/60 [==============================] - 1s 18ms/step - loss: 1.7024 - accuracy: 0.5364 - val_loss: 1.8509 - val_accuracy: 0.5074\n",
            "Epoch 9/10\n",
            "60/60 [==============================] - 1s 18ms/step - loss: 1.6594 - accuracy: 0.5398 - val_loss: 1.8219 - val_accuracy: 0.5245\n",
            "Epoch 10/10\n",
            "60/60 [==============================] - 1s 18ms/step - loss: 1.6185 - accuracy: 0.5531 - val_loss: 1.8569 - val_accuracy: 0.5171\n",
            "71/71 [==============================] - 0s 3ms/step - loss: 1.8526 - accuracy: 0.5227\n"
          ],
          "name": "stdout"
        },
        {
          "output_type": "stream",
          "text": [
            "\r  7%|▋         | 14/192 [04:31<1:03:41, 21.47s/it]"
          ],
          "name": "stderr"
        },
        {
          "output_type": "stream",
          "text": [
            "Epoch 1/10\n",
            "50/50 [==============================] - 4s 82ms/step - loss: 1.3935 - accuracy: 0.5134 - val_loss: 1.0148 - val_accuracy: 0.6634\n",
            "Epoch 2/10\n",
            "50/50 [==============================] - 4s 80ms/step - loss: 0.9310 - accuracy: 0.6978 - val_loss: 0.8732 - val_accuracy: 0.7389\n",
            "Epoch 3/10\n",
            "50/50 [==============================] - 4s 81ms/step - loss: 0.7565 - accuracy: 0.7703 - val_loss: 0.7789 - val_accuracy: 0.7780\n",
            "Epoch 4/10\n",
            "50/50 [==============================] - 4s 84ms/step - loss: 0.5796 - accuracy: 0.8317 - val_loss: 0.7229 - val_accuracy: 0.8011\n",
            "Epoch 5/10\n",
            "50/50 [==============================] - 4s 84ms/step - loss: 0.4458 - accuracy: 0.8769 - val_loss: 0.6952 - val_accuracy: 0.8162\n",
            "Epoch 6/10\n",
            "50/50 [==============================] - 4s 81ms/step - loss: 0.3574 - accuracy: 0.9007 - val_loss: 0.6940 - val_accuracy: 0.8348\n",
            "Epoch 7/10\n",
            "50/50 [==============================] - 4s 80ms/step - loss: 0.2842 - accuracy: 0.9255 - val_loss: 0.7280 - val_accuracy: 0.8339\n",
            "Epoch 8/10\n",
            "50/50 [==============================] - 4s 80ms/step - loss: 0.2464 - accuracy: 0.9399 - val_loss: 0.7833 - val_accuracy: 0.8295\n",
            "Epoch 9/10\n",
            "50/50 [==============================] - 4s 80ms/step - loss: 0.2086 - accuracy: 0.9472 - val_loss: 0.8290 - val_accuracy: 0.8339\n",
            "Epoch 10/10\n",
            "50/50 [==============================] - 4s 80ms/step - loss: 0.1847 - accuracy: 0.9506 - val_loss: 0.8120 - val_accuracy: 0.8304\n",
            "58/58 [==============================] - 0s 6ms/step - loss: 0.8960 - accuracy: 0.8067\n"
          ],
          "name": "stdout"
        },
        {
          "output_type": "stream",
          "text": [
            "\r  8%|▊         | 15/192 [05:14<1:22:47, 28.07s/it]"
          ],
          "name": "stderr"
        },
        {
          "output_type": "stream",
          "text": [
            "Epoch 1/10\n",
            "60/60 [==============================] - 5s 81ms/step - loss: 2.2340 - accuracy: 0.4114 - val_loss: 1.8079 - val_accuracy: 0.5215\n",
            "Epoch 2/10\n",
            "60/60 [==============================] - 5s 79ms/step - loss: 1.6630 - accuracy: 0.5719 - val_loss: 1.6014 - val_accuracy: 0.5890\n",
            "Epoch 3/10\n",
            "60/60 [==============================] - 5s 79ms/step - loss: 1.4521 - accuracy: 0.6230 - val_loss: 1.5194 - val_accuracy: 0.6024\n",
            "Epoch 4/10\n",
            "60/60 [==============================] - 5s 79ms/step - loss: 1.3014 - accuracy: 0.6567 - val_loss: 1.5075 - val_accuracy: 0.6120\n",
            "Epoch 5/10\n",
            "60/60 [==============================] - 5s 79ms/step - loss: 1.1470 - accuracy: 0.7000 - val_loss: 1.4872 - val_accuracy: 0.6484\n",
            "Epoch 6/10\n",
            "60/60 [==============================] - 5s 79ms/step - loss: 0.9866 - accuracy: 0.7443 - val_loss: 1.4722 - val_accuracy: 0.6617\n",
            "Epoch 7/10\n",
            "60/60 [==============================] - 5s 79ms/step - loss: 0.8176 - accuracy: 0.7939 - val_loss: 1.4463 - val_accuracy: 0.6647\n",
            "Epoch 8/10\n",
            "60/60 [==============================] - 5s 79ms/step - loss: 0.6615 - accuracy: 0.8291 - val_loss: 1.4718 - val_accuracy: 0.6855\n",
            "Epoch 9/10\n",
            "60/60 [==============================] - 5s 81ms/step - loss: 0.5376 - accuracy: 0.8644 - val_loss: 1.4765 - val_accuracy: 0.6877\n",
            "Epoch 10/10\n",
            "60/60 [==============================] - 5s 79ms/step - loss: 0.4456 - accuracy: 0.8888 - val_loss: 1.5415 - val_accuracy: 0.6958\n",
            "71/71 [==============================] - 0s 6ms/step - loss: 1.5973 - accuracy: 0.6741\n"
          ],
          "name": "stdout"
        },
        {
          "output_type": "stream",
          "text": [
            "\r  8%|▊         | 16/192 [06:05<1:41:51, 34.73s/it]"
          ],
          "name": "stderr"
        },
        {
          "output_type": "stream",
          "text": [
            "Epoch 1/10\n",
            "50/50 [==============================] - 1s 12ms/step - loss: 1.6161 - accuracy: 0.4706 - val_loss: 1.3573 - val_accuracy: 0.5675\n",
            "Epoch 2/10\n",
            "50/50 [==============================] - 0s 9ms/step - loss: 1.3534 - accuracy: 0.5503 - val_loss: 1.2609 - val_accuracy: 0.5879\n",
            "Epoch 3/10\n",
            "50/50 [==============================] - 0s 9ms/step - loss: 1.2521 - accuracy: 0.5749 - val_loss: 1.2180 - val_accuracy: 0.5888\n",
            "Epoch 4/10\n",
            "50/50 [==============================] - 0s 9ms/step - loss: 1.1866 - accuracy: 0.5951 - val_loss: 1.1416 - val_accuracy: 0.6261\n",
            "Epoch 5/10\n",
            "50/50 [==============================] - 0s 9ms/step - loss: 1.1345 - accuracy: 0.6070 - val_loss: 1.1140 - val_accuracy: 0.6350\n",
            "Epoch 6/10\n",
            "50/50 [==============================] - 0s 9ms/step - loss: 1.0896 - accuracy: 0.6252 - val_loss: 1.1165 - val_accuracy: 0.6394\n",
            "Epoch 7/10\n",
            "50/50 [==============================] - 0s 10ms/step - loss: 1.0669 - accuracy: 0.6351 - val_loss: 1.0892 - val_accuracy: 0.6483\n",
            "Epoch 8/10\n",
            "50/50 [==============================] - 0s 9ms/step - loss: 1.0285 - accuracy: 0.6451 - val_loss: 1.0916 - val_accuracy: 0.6394\n",
            "Epoch 9/10\n",
            "50/50 [==============================] - 0s 9ms/step - loss: 1.0083 - accuracy: 0.6547 - val_loss: 1.1074 - val_accuracy: 0.6377\n",
            "Epoch 10/10\n",
            "50/50 [==============================] - 0s 9ms/step - loss: 0.9894 - accuracy: 0.6629 - val_loss: 1.1093 - val_accuracy: 0.6403\n",
            "58/58 [==============================] - 0s 2ms/step - loss: 1.0732 - accuracy: 0.6404\n"
          ],
          "name": "stdout"
        },
        {
          "output_type": "stream",
          "text": [
            "\r  9%|▉         | 17/192 [06:22<1:26:11, 29.55s/it]"
          ],
          "name": "stderr"
        },
        {
          "output_type": "stream",
          "text": [
            "Epoch 1/10\n",
            "60/60 [==============================] - 1s 12ms/step - loss: 2.4900 - accuracy: 0.3587 - val_loss: 2.1164 - val_accuracy: 0.4488\n",
            "Epoch 2/10\n",
            "60/60 [==============================] - 1s 10ms/step - loss: 2.0992 - accuracy: 0.4466 - val_loss: 2.0459 - val_accuracy: 0.4696\n",
            "Epoch 3/10\n",
            "60/60 [==============================] - 1s 10ms/step - loss: 1.9879 - accuracy: 0.4752 - val_loss: 1.9697 - val_accuracy: 0.4785\n",
            "Epoch 4/10\n",
            "60/60 [==============================] - 1s 10ms/step - loss: 1.9011 - accuracy: 0.4969 - val_loss: 1.9298 - val_accuracy: 0.4963\n",
            "Epoch 5/10\n",
            "60/60 [==============================] - 1s 10ms/step - loss: 1.8499 - accuracy: 0.5094 - val_loss: 1.9255 - val_accuracy: 0.4829\n",
            "Epoch 6/10\n",
            "60/60 [==============================] - 1s 9ms/step - loss: 1.7992 - accuracy: 0.5162 - val_loss: 1.8650 - val_accuracy: 0.5171\n",
            "Epoch 7/10\n",
            "60/60 [==============================] - 1s 9ms/step - loss: 1.7612 - accuracy: 0.5300 - val_loss: 1.8449 - val_accuracy: 0.5193\n",
            "Epoch 8/10\n",
            "60/60 [==============================] - 1s 9ms/step - loss: 1.7226 - accuracy: 0.5312 - val_loss: 1.9360 - val_accuracy: 0.4955\n",
            "Epoch 9/10\n",
            "60/60 [==============================] - 1s 10ms/step - loss: 1.6860 - accuracy: 0.5428 - val_loss: 1.8141 - val_accuracy: 0.5282\n",
            "Epoch 10/10\n",
            "60/60 [==============================] - 1s 9ms/step - loss: 1.6626 - accuracy: 0.5440 - val_loss: 1.8798 - val_accuracy: 0.5171\n",
            "71/71 [==============================] - 0s 2ms/step - loss: 1.9064 - accuracy: 0.5214\n"
          ],
          "name": "stdout"
        },
        {
          "output_type": "stream",
          "text": [
            "\r  9%|▉         | 18/192 [06:41<1:16:03, 26.23s/it]"
          ],
          "name": "stderr"
        },
        {
          "output_type": "stream",
          "text": [
            "Epoch 1/10\n",
            "50/50 [==============================] - 1s 19ms/step - loss: 1.4331 - accuracy: 0.4893 - val_loss: 1.1234 - val_accuracy: 0.6155\n",
            "Epoch 2/10\n",
            "50/50 [==============================] - 1s 16ms/step - loss: 1.0284 - accuracy: 0.6320 - val_loss: 0.9605 - val_accuracy: 0.6972\n",
            "Epoch 3/10\n",
            "50/50 [==============================] - 1s 16ms/step - loss: 0.8608 - accuracy: 0.7160 - val_loss: 0.8928 - val_accuracy: 0.7211\n",
            "Epoch 4/10\n",
            "50/50 [==============================] - 1s 16ms/step - loss: 0.7211 - accuracy: 0.7673 - val_loss: 0.8371 - val_accuracy: 0.7496\n",
            "Epoch 5/10\n",
            "50/50 [==============================] - 1s 16ms/step - loss: 0.5835 - accuracy: 0.8217 - val_loss: 0.8079 - val_accuracy: 0.7691\n",
            "Epoch 6/10\n",
            "50/50 [==============================] - 1s 16ms/step - loss: 0.4676 - accuracy: 0.8601 - val_loss: 0.7911 - val_accuracy: 0.7815\n",
            "Epoch 7/10\n",
            "50/50 [==============================] - 1s 17ms/step - loss: 0.3758 - accuracy: 0.8942 - val_loss: 0.8201 - val_accuracy: 0.7940\n",
            "Epoch 8/10\n",
            "50/50 [==============================] - 1s 16ms/step - loss: 0.3028 - accuracy: 0.9163 - val_loss: 0.8334 - val_accuracy: 0.7913\n",
            "Epoch 9/10\n",
            "50/50 [==============================] - 1s 17ms/step - loss: 0.2471 - accuracy: 0.9368 - val_loss: 0.8799 - val_accuracy: 0.7913\n",
            "Epoch 10/10\n",
            "50/50 [==============================] - 1s 17ms/step - loss: 0.2093 - accuracy: 0.9461 - val_loss: 0.9282 - val_accuracy: 0.7957\n",
            "58/58 [==============================] - 0s 2ms/step - loss: 0.9332 - accuracy: 0.7851\n"
          ],
          "name": "stdout"
        },
        {
          "output_type": "stream",
          "text": [
            "\r 10%|▉         | 19/192 [06:51<1:01:44, 21.41s/it]"
          ],
          "name": "stderr"
        },
        {
          "output_type": "stream",
          "text": [
            "Epoch 1/10\n",
            "60/60 [==============================] - 1s 19ms/step - loss: 2.3342 - accuracy: 0.3685 - val_loss: 1.9479 - val_accuracy: 0.4733\n",
            "Epoch 2/10\n",
            "60/60 [==============================] - 1s 17ms/step - loss: 1.7908 - accuracy: 0.5029 - val_loss: 1.7075 - val_accuracy: 0.5312\n",
            "Epoch 3/10\n",
            "60/60 [==============================] - 1s 17ms/step - loss: 1.5806 - accuracy: 0.5740 - val_loss: 1.6021 - val_accuracy: 0.5764\n",
            "Epoch 4/10\n",
            "60/60 [==============================] - 1s 17ms/step - loss: 1.4038 - accuracy: 0.6354 - val_loss: 1.5172 - val_accuracy: 0.6105\n",
            "Epoch 5/10\n",
            "60/60 [==============================] - 1s 17ms/step - loss: 1.2352 - accuracy: 0.6750 - val_loss: 1.4583 - val_accuracy: 0.6343\n",
            "Epoch 6/10\n",
            "60/60 [==============================] - 1s 17ms/step - loss: 1.0848 - accuracy: 0.7130 - val_loss: 1.4018 - val_accuracy: 0.6588\n",
            "Epoch 7/10\n",
            "60/60 [==============================] - 1s 17ms/step - loss: 0.9296 - accuracy: 0.7590 - val_loss: 1.4445 - val_accuracy: 0.6788\n",
            "Epoch 8/10\n",
            "60/60 [==============================] - 1s 17ms/step - loss: 0.8080 - accuracy: 0.7894 - val_loss: 1.4405 - val_accuracy: 0.6736\n",
            "Epoch 9/10\n",
            "60/60 [==============================] - 1s 17ms/step - loss: 0.6739 - accuracy: 0.8222 - val_loss: 1.4338 - val_accuracy: 0.6766\n",
            "Epoch 10/10\n",
            "60/60 [==============================] - 1s 17ms/step - loss: 0.5761 - accuracy: 0.8500 - val_loss: 1.5242 - val_accuracy: 0.6780\n",
            "71/71 [==============================] - 0s 2ms/step - loss: 1.5720 - accuracy: 0.6674\n"
          ],
          "name": "stdout"
        },
        {
          "output_type": "stream",
          "text": [
            "\r 10%|█         | 20/192 [07:03<53:33, 18.68s/it]  "
          ],
          "name": "stderr"
        },
        {
          "output_type": "stream",
          "text": [
            "Epoch 1/10\n",
            "50/50 [==============================] - 1s 12ms/step - loss: 1.6883 - accuracy: 0.4334 - val_loss: 1.3558 - val_accuracy: 0.5346\n",
            "Epoch 2/10\n",
            "50/50 [==============================] - 0s 10ms/step - loss: 1.3594 - accuracy: 0.5354 - val_loss: 1.2482 - val_accuracy: 0.5879\n",
            "Epoch 3/10\n",
            "50/50 [==============================] - 0s 9ms/step - loss: 1.2564 - accuracy: 0.5675 - val_loss: 1.1913 - val_accuracy: 0.6066\n",
            "Epoch 4/10\n",
            "50/50 [==============================] - 0s 10ms/step - loss: 1.1903 - accuracy: 0.5928 - val_loss: 1.2007 - val_accuracy: 0.6190\n",
            "Epoch 5/10\n",
            "50/50 [==============================] - 0s 9ms/step - loss: 1.1440 - accuracy: 0.6053 - val_loss: 1.1495 - val_accuracy: 0.6181\n",
            "Epoch 6/10\n",
            "50/50 [==============================] - 0s 9ms/step - loss: 1.1023 - accuracy: 0.6241 - val_loss: 1.1469 - val_accuracy: 0.6172\n",
            "Epoch 7/10\n",
            "50/50 [==============================] - 0s 9ms/step - loss: 1.0714 - accuracy: 0.6316 - val_loss: 1.1190 - val_accuracy: 0.6314\n",
            "Epoch 8/10\n",
            "50/50 [==============================] - 0s 9ms/step - loss: 1.0420 - accuracy: 0.6434 - val_loss: 1.1312 - val_accuracy: 0.6243\n",
            "Epoch 9/10\n",
            "50/50 [==============================] - 0s 9ms/step - loss: 1.0260 - accuracy: 0.6511 - val_loss: 1.1541 - val_accuracy: 0.6181\n",
            "Epoch 10/10\n",
            "50/50 [==============================] - 0s 10ms/step - loss: 0.9949 - accuracy: 0.6674 - val_loss: 1.0761 - val_accuracy: 0.6439\n",
            "58/58 [==============================] - 0s 2ms/step - loss: 1.0852 - accuracy: 0.6469\n"
          ],
          "name": "stdout"
        },
        {
          "output_type": "stream",
          "text": [
            "\r 11%|█         | 21/192 [07:21<52:18, 18.35s/it]"
          ],
          "name": "stderr"
        },
        {
          "output_type": "stream",
          "text": [
            "Epoch 1/10\n",
            "60/60 [==============================] - 1s 11ms/step - loss: 2.5054 - accuracy: 0.3718 - val_loss: 2.1005 - val_accuracy: 0.4740\n",
            "Epoch 2/10\n",
            "60/60 [==============================] - 1s 10ms/step - loss: 2.0784 - accuracy: 0.4593 - val_loss: 2.0295 - val_accuracy: 0.4518\n",
            "Epoch 3/10\n",
            "60/60 [==============================] - 1s 9ms/step - loss: 1.9757 - accuracy: 0.4796 - val_loss: 1.9451 - val_accuracy: 0.4815\n",
            "Epoch 4/10\n",
            "60/60 [==============================] - 1s 9ms/step - loss: 1.8996 - accuracy: 0.4949 - val_loss: 1.9075 - val_accuracy: 0.5007\n",
            "Epoch 5/10\n",
            "60/60 [==============================] - 1s 9ms/step - loss: 1.8300 - accuracy: 0.5139 - val_loss: 1.9563 - val_accuracy: 0.4733\n",
            "Epoch 6/10\n",
            "60/60 [==============================] - 1s 9ms/step - loss: 1.7843 - accuracy: 0.5204 - val_loss: 1.8525 - val_accuracy: 0.5163\n",
            "Epoch 7/10\n",
            "60/60 [==============================] - 1s 9ms/step - loss: 1.7460 - accuracy: 0.5321 - val_loss: 1.9584 - val_accuracy: 0.4436\n",
            "Epoch 8/10\n",
            "60/60 [==============================] - 1s 9ms/step - loss: 1.7072 - accuracy: 0.5337 - val_loss: 1.8208 - val_accuracy: 0.5200\n",
            "Epoch 9/10\n",
            "60/60 [==============================] - 1s 10ms/step - loss: 1.6700 - accuracy: 0.5434 - val_loss: 1.8195 - val_accuracy: 0.5178\n",
            "Epoch 10/10\n",
            "60/60 [==============================] - 1s 10ms/step - loss: 1.6338 - accuracy: 0.5508 - val_loss: 1.7838 - val_accuracy: 0.5312\n",
            "71/71 [==============================] - 0s 2ms/step - loss: 1.8065 - accuracy: 0.5356\n"
          ],
          "name": "stdout"
        },
        {
          "output_type": "stream",
          "text": [
            "\r 11%|█▏        | 22/192 [07:39<51:50, 18.30s/it]"
          ],
          "name": "stderr"
        },
        {
          "output_type": "stream",
          "text": [
            "Epoch 1/10\n",
            "50/50 [==============================] - 2s 45ms/step - loss: 1.3084 - accuracy: 0.5365 - val_loss: 1.0065 - val_accuracy: 0.6901\n",
            "Epoch 2/10\n",
            "50/50 [==============================] - 2s 42ms/step - loss: 0.9005 - accuracy: 0.7063 - val_loss: 0.8795 - val_accuracy: 0.7336\n",
            "Epoch 3/10\n",
            "50/50 [==============================] - 2s 43ms/step - loss: 0.7109 - accuracy: 0.7845 - val_loss: 0.7906 - val_accuracy: 0.7718\n",
            "Epoch 4/10\n",
            "50/50 [==============================] - 2s 43ms/step - loss: 0.5241 - accuracy: 0.8498 - val_loss: 0.7548 - val_accuracy: 0.7886\n",
            "Epoch 5/10\n",
            "50/50 [==============================] - 2s 44ms/step - loss: 0.3945 - accuracy: 0.8891 - val_loss: 0.7647 - val_accuracy: 0.8046\n",
            "Epoch 6/10\n",
            "50/50 [==============================] - 2s 43ms/step - loss: 0.3076 - accuracy: 0.9178 - val_loss: 0.7678 - val_accuracy: 0.8073\n",
            "Epoch 7/10\n",
            "50/50 [==============================] - 2s 43ms/step - loss: 0.2449 - accuracy: 0.9385 - val_loss: 0.8127 - val_accuracy: 0.8135\n",
            "Epoch 8/10\n",
            "50/50 [==============================] - 2s 42ms/step - loss: 0.1991 - accuracy: 0.9514 - val_loss: 0.8475 - val_accuracy: 0.8046\n",
            "Epoch 9/10\n",
            "50/50 [==============================] - 2s 43ms/step - loss: 0.1648 - accuracy: 0.9614 - val_loss: 0.9237 - val_accuracy: 0.7993\n",
            "Epoch 10/10\n",
            "50/50 [==============================] - 2s 43ms/step - loss: 0.1458 - accuracy: 0.9605 - val_loss: 0.8882 - val_accuracy: 0.8064\n",
            "58/58 [==============================] - 0s 3ms/step - loss: 0.9305 - accuracy: 0.8051\n"
          ],
          "name": "stdout"
        },
        {
          "output_type": "stream",
          "text": [
            "\r 12%|█▏        | 23/192 [08:03<56:15, 19.97s/it]"
          ],
          "name": "stderr"
        },
        {
          "output_type": "stream",
          "text": [
            "Epoch 1/10\n",
            "60/60 [==============================] - 3s 44ms/step - loss: 2.1922 - accuracy: 0.4294 - val_loss: 1.7805 - val_accuracy: 0.5082\n",
            "Epoch 2/10\n",
            "60/60 [==============================] - 3s 42ms/step - loss: 1.6468 - accuracy: 0.5684 - val_loss: 1.5890 - val_accuracy: 0.5809\n",
            "Epoch 3/10\n",
            "60/60 [==============================] - 3s 43ms/step - loss: 1.4195 - accuracy: 0.6356 - val_loss: 1.4922 - val_accuracy: 0.6239\n",
            "Epoch 4/10\n",
            "60/60 [==============================] - 3s 43ms/step - loss: 1.1924 - accuracy: 0.6969 - val_loss: 1.3977 - val_accuracy: 0.6699\n",
            "Epoch 5/10\n",
            "60/60 [==============================] - 3s 43ms/step - loss: 0.9812 - accuracy: 0.7507 - val_loss: 1.3386 - val_accuracy: 0.6795\n",
            "Epoch 6/10\n",
            "60/60 [==============================] - 3s 43ms/step - loss: 0.7861 - accuracy: 0.7997 - val_loss: 1.3441 - val_accuracy: 0.6921\n",
            "Epoch 7/10\n",
            "60/60 [==============================] - 3s 43ms/step - loss: 0.6287 - accuracy: 0.8393 - val_loss: 1.3937 - val_accuracy: 0.6877\n",
            "Epoch 8/10\n",
            "60/60 [==============================] - 3s 43ms/step - loss: 0.4896 - accuracy: 0.8770 - val_loss: 1.4549 - val_accuracy: 0.6892\n",
            "Epoch 9/10\n",
            "60/60 [==============================] - 3s 43ms/step - loss: 0.3872 - accuracy: 0.9044 - val_loss: 1.4526 - val_accuracy: 0.6855\n",
            "Epoch 10/10\n",
            "60/60 [==============================] - 3s 43ms/step - loss: 0.3150 - accuracy: 0.9253 - val_loss: 1.5243 - val_accuracy: 0.6862\n",
            "71/71 [==============================] - 0s 3ms/step - loss: 1.5598 - accuracy: 0.6834\n"
          ],
          "name": "stdout"
        },
        {
          "output_type": "stream",
          "text": [
            "\r 12%|█▎        | 24/192 [08:31<1:02:32, 22.33s/it]"
          ],
          "name": "stderr"
        },
        {
          "output_type": "stream",
          "text": [
            "Epoch 1/10\n",
            "50/50 [==============================] - 1s 20ms/step - loss: 1.6411 - accuracy: 0.4375 - val_loss: 1.3446 - val_accuracy: 0.5560\n",
            "Epoch 2/10\n",
            "50/50 [==============================] - 1s 18ms/step - loss: 1.3271 - accuracy: 0.5543 - val_loss: 1.2543 - val_accuracy: 0.5844\n",
            "Epoch 3/10\n",
            "50/50 [==============================] - 1s 18ms/step - loss: 1.2307 - accuracy: 0.5862 - val_loss: 1.1957 - val_accuracy: 0.5915\n",
            "Epoch 4/10\n",
            "50/50 [==============================] - 1s 18ms/step - loss: 1.1462 - accuracy: 0.6098 - val_loss: 1.1121 - val_accuracy: 0.6306\n",
            "Epoch 5/10\n",
            "50/50 [==============================] - 1s 18ms/step - loss: 1.0743 - accuracy: 0.6374 - val_loss: 1.1006 - val_accuracy: 0.6306\n",
            "Epoch 6/10\n",
            "50/50 [==============================] - 1s 18ms/step - loss: 1.0310 - accuracy: 0.6552 - val_loss: 1.1386 - val_accuracy: 0.6448\n",
            "Epoch 7/10\n",
            "50/50 [==============================] - 1s 18ms/step - loss: 0.9986 - accuracy: 0.6613 - val_loss: 1.1024 - val_accuracy: 0.6519\n",
            "Epoch 8/10\n",
            "50/50 [==============================] - 1s 18ms/step - loss: 0.9435 - accuracy: 0.6848 - val_loss: 1.0373 - val_accuracy: 0.6714\n",
            "Epoch 9/10\n",
            "50/50 [==============================] - 1s 18ms/step - loss: 0.9206 - accuracy: 0.6897 - val_loss: 1.0259 - val_accuracy: 0.6714\n",
            "Epoch 10/10\n",
            "50/50 [==============================] - 1s 18ms/step - loss: 0.8794 - accuracy: 0.7093 - val_loss: 1.3557 - val_accuracy: 0.5986\n",
            "58/58 [==============================] - 0s 3ms/step - loss: 1.3959 - accuracy: 0.5918\n"
          ],
          "name": "stdout"
        },
        {
          "output_type": "stream",
          "text": [
            "\r 13%|█▎        | 25/192 [08:52<1:01:44, 22.19s/it]"
          ],
          "name": "stderr"
        },
        {
          "output_type": "stream",
          "text": [
            "Epoch 1/10\n",
            "60/60 [==============================] - 1s 21ms/step - loss: 2.4246 - accuracy: 0.3655 - val_loss: 2.0711 - val_accuracy: 0.4651\n",
            "Epoch 2/10\n",
            "60/60 [==============================] - 1s 18ms/step - loss: 2.0067 - accuracy: 0.4713 - val_loss: 1.9699 - val_accuracy: 0.4829\n",
            "Epoch 3/10\n",
            "60/60 [==============================] - 1s 18ms/step - loss: 1.8936 - accuracy: 0.4954 - val_loss: 1.8953 - val_accuracy: 0.4948\n",
            "Epoch 4/10\n",
            "60/60 [==============================] - 1s 18ms/step - loss: 1.8019 - accuracy: 0.5153 - val_loss: 1.9420 - val_accuracy: 0.4852\n",
            "Epoch 5/10\n",
            "60/60 [==============================] - 1s 19ms/step - loss: 1.7436 - accuracy: 0.5278 - val_loss: 1.8406 - val_accuracy: 0.5304\n",
            "Epoch 6/10\n",
            "60/60 [==============================] - 1s 19ms/step - loss: 1.6781 - accuracy: 0.5473 - val_loss: 1.8148 - val_accuracy: 0.5297\n",
            "Epoch 7/10\n",
            "60/60 [==============================] - 1s 19ms/step - loss: 1.6224 - accuracy: 0.5559 - val_loss: 1.8266 - val_accuracy: 0.5349\n",
            "Epoch 8/10\n",
            "60/60 [==============================] - 1s 18ms/step - loss: 1.5626 - accuracy: 0.5679 - val_loss: 1.8460 - val_accuracy: 0.5274\n",
            "Epoch 9/10\n",
            "60/60 [==============================] - 1s 19ms/step - loss: 1.5054 - accuracy: 0.5824 - val_loss: 1.8451 - val_accuracy: 0.5223\n",
            "Epoch 10/10\n",
            "60/60 [==============================] - 1s 19ms/step - loss: 1.4521 - accuracy: 0.5910 - val_loss: 1.7920 - val_accuracy: 0.5453\n",
            "71/71 [==============================] - 0s 3ms/step - loss: 1.7793 - accuracy: 0.5499\n"
          ],
          "name": "stdout"
        },
        {
          "output_type": "stream",
          "text": [
            "\r 14%|█▎        | 26/192 [09:16<1:02:48, 22.70s/it]"
          ],
          "name": "stderr"
        },
        {
          "output_type": "stream",
          "text": [
            "Epoch 1/10\n",
            "50/50 [==============================] - 2s 32ms/step - loss: 1.4121 - accuracy: 0.5109 - val_loss: 1.1340 - val_accuracy: 0.6270\n",
            "Epoch 2/10\n",
            "50/50 [==============================] - 1s 30ms/step - loss: 0.9974 - accuracy: 0.6644 - val_loss: 0.9147 - val_accuracy: 0.7229\n",
            "Epoch 3/10\n",
            "50/50 [==============================] - 1s 30ms/step - loss: 0.7885 - accuracy: 0.7467 - val_loss: 0.8197 - val_accuracy: 0.7425\n",
            "Epoch 4/10\n",
            "50/50 [==============================] - 1s 30ms/step - loss: 0.6465 - accuracy: 0.7894 - val_loss: 0.7846 - val_accuracy: 0.7629\n",
            "Epoch 5/10\n",
            "50/50 [==============================] - 1s 30ms/step - loss: 0.5364 - accuracy: 0.8333 - val_loss: 0.7812 - val_accuracy: 0.7789\n",
            "Epoch 6/10\n",
            "50/50 [==============================] - 1s 30ms/step - loss: 0.4481 - accuracy: 0.8675 - val_loss: 0.7926 - val_accuracy: 0.7913\n",
            "Epoch 7/10\n",
            "50/50 [==============================] - 1s 30ms/step - loss: 0.3799 - accuracy: 0.8907 - val_loss: 0.8310 - val_accuracy: 0.7984\n",
            "Epoch 8/10\n",
            "50/50 [==============================] - 1s 30ms/step - loss: 0.3154 - accuracy: 0.9174 - val_loss: 0.8837 - val_accuracy: 0.7931\n",
            "Epoch 9/10\n",
            "50/50 [==============================] - 1s 30ms/step - loss: 0.2710 - accuracy: 0.9316 - val_loss: 0.8835 - val_accuracy: 0.8011\n",
            "Epoch 10/10\n",
            "50/50 [==============================] - 1s 30ms/step - loss: 0.2346 - accuracy: 0.9415 - val_loss: 0.9281 - val_accuracy: 0.7948\n",
            "58/58 [==============================] - 0s 3ms/step - loss: 1.0018 - accuracy: 0.7775\n"
          ],
          "name": "stdout"
        },
        {
          "output_type": "stream",
          "text": [
            "\r 14%|█▍        | 27/192 [09:33<57:45, 21.01s/it]  "
          ],
          "name": "stderr"
        },
        {
          "output_type": "stream",
          "text": [
            "Epoch 1/10\n",
            "60/60 [==============================] - 2s 32ms/step - loss: 2.2181 - accuracy: 0.4122 - val_loss: 1.8665 - val_accuracy: 0.5245\n",
            "Epoch 2/10\n",
            "60/60 [==============================] - 2s 30ms/step - loss: 1.7011 - accuracy: 0.5641 - val_loss: 1.6091 - val_accuracy: 0.5838\n",
            "Epoch 3/10\n",
            "60/60 [==============================] - 2s 30ms/step - loss: 1.4841 - accuracy: 0.6254 - val_loss: 1.5132 - val_accuracy: 0.6180\n",
            "Epoch 4/10\n",
            "60/60 [==============================] - 2s 30ms/step - loss: 1.3076 - accuracy: 0.6640 - val_loss: 1.4907 - val_accuracy: 0.6350\n",
            "Epoch 5/10\n",
            "60/60 [==============================] - 2s 30ms/step - loss: 1.1393 - accuracy: 0.7025 - val_loss: 1.4749 - val_accuracy: 0.6550\n",
            "Epoch 6/10\n",
            "60/60 [==============================] - 2s 30ms/step - loss: 0.9724 - accuracy: 0.7511 - val_loss: 1.3641 - val_accuracy: 0.6751\n",
            "Epoch 7/10\n",
            "60/60 [==============================] - 2s 30ms/step - loss: 0.8141 - accuracy: 0.7891 - val_loss: 1.3981 - val_accuracy: 0.6847\n",
            "Epoch 8/10\n",
            "60/60 [==============================] - 2s 30ms/step - loss: 0.6801 - accuracy: 0.8211 - val_loss: 1.4485 - val_accuracy: 0.6803\n",
            "Epoch 9/10\n",
            "60/60 [==============================] - 2s 30ms/step - loss: 0.5612 - accuracy: 0.8555 - val_loss: 1.4682 - val_accuracy: 0.6907\n",
            "Epoch 10/10\n",
            "60/60 [==============================] - 2s 30ms/step - loss: 0.4701 - accuracy: 0.8787 - val_loss: 1.5279 - val_accuracy: 0.6944\n",
            "71/71 [==============================] - 0s 3ms/step - loss: 1.6007 - accuracy: 0.6772\n"
          ],
          "name": "stdout"
        },
        {
          "output_type": "stream",
          "text": [
            "\r 15%|█▍        | 28/192 [09:54<56:56, 20.83s/it]"
          ],
          "name": "stderr"
        },
        {
          "output_type": "stream",
          "text": [
            "Epoch 1/10\n",
            "50/50 [==============================] - 1s 20ms/step - loss: 1.5920 - accuracy: 0.4452 - val_loss: 1.3484 - val_accuracy: 0.5684\n",
            "Epoch 2/10\n",
            "50/50 [==============================] - 1s 18ms/step - loss: 1.3326 - accuracy: 0.5510 - val_loss: 1.2686 - val_accuracy: 0.5835\n",
            "Epoch 3/10\n",
            "50/50 [==============================] - 1s 18ms/step - loss: 1.2516 - accuracy: 0.5722 - val_loss: 1.2208 - val_accuracy: 0.5915\n",
            "Epoch 4/10\n",
            "50/50 [==============================] - 1s 18ms/step - loss: 1.1613 - accuracy: 0.5970 - val_loss: 1.1662 - val_accuracy: 0.6146\n",
            "Epoch 5/10\n",
            "50/50 [==============================] - 1s 18ms/step - loss: 1.0901 - accuracy: 0.6269 - val_loss: 1.1265 - val_accuracy: 0.6128\n",
            "Epoch 6/10\n",
            "50/50 [==============================] - 1s 18ms/step - loss: 1.0371 - accuracy: 0.6509 - val_loss: 1.0801 - val_accuracy: 0.6465\n",
            "Epoch 7/10\n",
            "50/50 [==============================] - 1s 18ms/step - loss: 0.9995 - accuracy: 0.6575 - val_loss: 1.0714 - val_accuracy: 0.6510\n",
            "Epoch 8/10\n",
            "50/50 [==============================] - 1s 18ms/step - loss: 0.9496 - accuracy: 0.6839 - val_loss: 1.0550 - val_accuracy: 0.6581\n",
            "Epoch 9/10\n",
            "50/50 [==============================] - 1s 18ms/step - loss: 0.9247 - accuracy: 0.6944 - val_loss: 1.0342 - val_accuracy: 0.6670\n",
            "Epoch 10/10\n",
            "50/50 [==============================] - 1s 18ms/step - loss: 0.8884 - accuracy: 0.7057 - val_loss: 1.0568 - val_accuracy: 0.6696\n",
            "58/58 [==============================] - 0s 3ms/step - loss: 1.0785 - accuracy: 0.6614\n"
          ],
          "name": "stdout"
        },
        {
          "output_type": "stream",
          "text": [
            "\r 15%|█▌        | 29/192 [10:16<57:39, 21.22s/it]"
          ],
          "name": "stderr"
        },
        {
          "output_type": "stream",
          "text": [
            "Epoch 1/10\n",
            "60/60 [==============================] - 1s 20ms/step - loss: 2.4454 - accuracy: 0.3720 - val_loss: 2.0874 - val_accuracy: 0.4651\n",
            "Epoch 2/10\n",
            "60/60 [==============================] - 1s 18ms/step - loss: 2.0321 - accuracy: 0.4644 - val_loss: 2.0345 - val_accuracy: 0.4607\n",
            "Epoch 3/10\n",
            "60/60 [==============================] - 1s 18ms/step - loss: 1.9122 - accuracy: 0.4876 - val_loss: 1.9491 - val_accuracy: 0.4926\n",
            "Epoch 4/10\n",
            "60/60 [==============================] - 1s 19ms/step - loss: 1.8170 - accuracy: 0.5089 - val_loss: 1.8805 - val_accuracy: 0.5022\n",
            "Epoch 5/10\n",
            "60/60 [==============================] - 1s 18ms/step - loss: 1.7440 - accuracy: 0.5292 - val_loss: 1.8838 - val_accuracy: 0.5015\n",
            "Epoch 6/10\n",
            "60/60 [==============================] - 1s 18ms/step - loss: 1.6816 - accuracy: 0.5364 - val_loss: 1.8395 - val_accuracy: 0.5171\n",
            "Epoch 7/10\n",
            "60/60 [==============================] - 1s 19ms/step - loss: 1.6163 - accuracy: 0.5528 - val_loss: 1.8428 - val_accuracy: 0.5111\n",
            "Epoch 8/10\n",
            "60/60 [==============================] - 1s 18ms/step - loss: 1.5583 - accuracy: 0.5622 - val_loss: 1.8697 - val_accuracy: 0.5282\n",
            "Epoch 9/10\n",
            "60/60 [==============================] - 1s 18ms/step - loss: 1.5100 - accuracy: 0.5794 - val_loss: 1.9066 - val_accuracy: 0.5141\n",
            "Epoch 10/10\n",
            "60/60 [==============================] - 1s 19ms/step - loss: 1.4562 - accuracy: 0.5861 - val_loss: 1.8342 - val_accuracy: 0.5245\n",
            "71/71 [==============================] - 0s 3ms/step - loss: 1.8601 - accuracy: 0.5232\n"
          ],
          "name": "stdout"
        },
        {
          "output_type": "stream",
          "text": [
            "\r 16%|█▌        | 30/192 [10:40<59:18, 21.97s/it]"
          ],
          "name": "stderr"
        },
        {
          "output_type": "stream",
          "text": [
            "Epoch 1/10\n",
            "50/50 [==============================] - 4s 82ms/step - loss: 1.3445 - accuracy: 0.5562 - val_loss: 1.0504 - val_accuracy: 0.6439\n",
            "Epoch 2/10\n",
            "50/50 [==============================] - 4s 79ms/step - loss: 0.9074 - accuracy: 0.7053 - val_loss: 0.8531 - val_accuracy: 0.7522\n",
            "Epoch 3/10\n",
            "50/50 [==============================] - 4s 79ms/step - loss: 0.6810 - accuracy: 0.7896 - val_loss: 0.7492 - val_accuracy: 0.7869\n",
            "Epoch 4/10\n",
            "50/50 [==============================] - 4s 79ms/step - loss: 0.4992 - accuracy: 0.8587 - val_loss: 0.6824 - val_accuracy: 0.8250\n",
            "Epoch 5/10\n",
            "50/50 [==============================] - 4s 79ms/step - loss: 0.3710 - accuracy: 0.8979 - val_loss: 0.7098 - val_accuracy: 0.8153\n",
            "Epoch 6/10\n",
            "50/50 [==============================] - 4s 80ms/step - loss: 0.2868 - accuracy: 0.9268 - val_loss: 0.7201 - val_accuracy: 0.8277\n",
            "Epoch 7/10\n",
            "50/50 [==============================] - 4s 79ms/step - loss: 0.2318 - accuracy: 0.9426 - val_loss: 0.7347 - val_accuracy: 0.8348\n",
            "Epoch 8/10\n",
            "50/50 [==============================] - 4s 80ms/step - loss: 0.1884 - accuracy: 0.9511 - val_loss: 0.8403 - val_accuracy: 0.8268\n",
            "Epoch 9/10\n",
            "50/50 [==============================] - 4s 80ms/step - loss: 0.1659 - accuracy: 0.9592 - val_loss: 0.8300 - val_accuracy: 0.8277\n",
            "Epoch 10/10\n",
            "50/50 [==============================] - 4s 79ms/step - loss: 0.1498 - accuracy: 0.9611 - val_loss: 0.8195 - val_accuracy: 0.8401\n",
            "58/58 [==============================] - 0s 6ms/step - loss: 0.8501 - accuracy: 0.8197\n"
          ],
          "name": "stdout"
        },
        {
          "output_type": "stream",
          "text": [
            "\r 16%|█▌        | 31/192 [11:22<1:15:42, 28.21s/it]"
          ],
          "name": "stderr"
        },
        {
          "output_type": "stream",
          "text": [
            "Epoch 1/10\n",
            "60/60 [==============================] - 5s 82ms/step - loss: 2.1768 - accuracy: 0.4239 - val_loss: 1.8123 - val_accuracy: 0.5119\n",
            "Epoch 2/10\n",
            "60/60 [==============================] - 5s 79ms/step - loss: 1.6479 - accuracy: 0.5849 - val_loss: 1.5491 - val_accuracy: 0.6239\n",
            "Epoch 3/10\n",
            "60/60 [==============================] - 5s 81ms/step - loss: 1.3735 - accuracy: 0.6649 - val_loss: 1.4435 - val_accuracy: 0.6550\n",
            "Epoch 4/10\n",
            "60/60 [==============================] - 5s 80ms/step - loss: 1.1348 - accuracy: 0.7138 - val_loss: 1.3628 - val_accuracy: 0.6818\n",
            "Epoch 5/10\n",
            "60/60 [==============================] - 5s 79ms/step - loss: 0.9215 - accuracy: 0.7692 - val_loss: 1.3523 - val_accuracy: 0.7010\n",
            "Epoch 6/10\n",
            "60/60 [==============================] - 5s 80ms/step - loss: 0.7246 - accuracy: 0.8215 - val_loss: 1.3256 - val_accuracy: 0.7255\n",
            "Epoch 7/10\n",
            "60/60 [==============================] - 5s 80ms/step - loss: 0.5598 - accuracy: 0.8636 - val_loss: 1.3808 - val_accuracy: 0.7233\n",
            "Epoch 8/10\n",
            "60/60 [==============================] - 5s 79ms/step - loss: 0.4273 - accuracy: 0.8956 - val_loss: 1.4413 - val_accuracy: 0.7300\n",
            "Epoch 9/10\n",
            "60/60 [==============================] - 5s 79ms/step - loss: 0.3511 - accuracy: 0.9177 - val_loss: 1.4833 - val_accuracy: 0.7270\n",
            "Epoch 10/10\n",
            "60/60 [==============================] - 5s 79ms/step - loss: 0.3036 - accuracy: 0.9293 - val_loss: 1.4978 - val_accuracy: 0.7285\n",
            "71/71 [==============================] - 0s 6ms/step - loss: 1.5620 - accuracy: 0.7048\n"
          ],
          "name": "stdout"
        },
        {
          "output_type": "stream",
          "text": [
            "\r 17%|█▋        | 32/192 [12:13<1:33:05, 34.91s/it]"
          ],
          "name": "stderr"
        },
        {
          "output_type": "stream",
          "text": [
            "Epoch 1/10\n",
            "50/50 [==============================] - 1s 12ms/step - loss: 1.6804 - accuracy: 0.4319 - val_loss: 1.3890 - val_accuracy: 0.5613\n",
            "Epoch 2/10\n",
            "50/50 [==============================] - 1s 10ms/step - loss: 1.3852 - accuracy: 0.5314 - val_loss: 1.2879 - val_accuracy: 0.5835\n",
            "Epoch 3/10\n",
            "50/50 [==============================] - 0s 10ms/step - loss: 1.2937 - accuracy: 0.5592 - val_loss: 1.2275 - val_accuracy: 0.5888\n",
            "Epoch 4/10\n",
            "50/50 [==============================] - 0s 10ms/step - loss: 1.2251 - accuracy: 0.5719 - val_loss: 1.1961 - val_accuracy: 0.6039\n",
            "Epoch 5/10\n",
            "50/50 [==============================] - 0s 10ms/step - loss: 1.1866 - accuracy: 0.5827 - val_loss: 1.1971 - val_accuracy: 0.6110\n",
            "Epoch 6/10\n",
            "50/50 [==============================] - 0s 10ms/step - loss: 1.1466 - accuracy: 0.5906 - val_loss: 1.1439 - val_accuracy: 0.6217\n",
            "Epoch 7/10\n",
            "50/50 [==============================] - 0s 10ms/step - loss: 1.1113 - accuracy: 0.6102 - val_loss: 1.1795 - val_accuracy: 0.5995\n",
            "Epoch 8/10\n",
            "50/50 [==============================] - 0s 10ms/step - loss: 1.0862 - accuracy: 0.6196 - val_loss: 1.1161 - val_accuracy: 0.6252\n",
            "Epoch 9/10\n",
            "50/50 [==============================] - 0s 10ms/step - loss: 1.0508 - accuracy: 0.6401 - val_loss: 1.1215 - val_accuracy: 0.6155\n",
            "Epoch 10/10\n",
            "50/50 [==============================] - 0s 10ms/step - loss: 1.0322 - accuracy: 0.6423 - val_loss: 1.1182 - val_accuracy: 0.6385\n",
            "58/58 [==============================] - 0s 2ms/step - loss: 1.1121 - accuracy: 0.6177\n"
          ],
          "name": "stdout"
        },
        {
          "output_type": "stream",
          "text": [
            "\r 17%|█▋        | 33/192 [12:31<1:18:46, 29.73s/it]"
          ],
          "name": "stderr"
        },
        {
          "output_type": "stream",
          "text": [
            "Epoch 1/10\n",
            "60/60 [==============================] - 1s 12ms/step - loss: 2.7848 - accuracy: 0.3242 - val_loss: 2.1712 - val_accuracy: 0.4466\n",
            "Epoch 2/10\n",
            "60/60 [==============================] - 1s 10ms/step - loss: 2.1754 - accuracy: 0.4480 - val_loss: 2.0207 - val_accuracy: 0.4688\n",
            "Epoch 3/10\n",
            "60/60 [==============================] - 1s 10ms/step - loss: 2.0395 - accuracy: 0.4726 - val_loss: 2.0174 - val_accuracy: 0.4770\n",
            "Epoch 4/10\n",
            "60/60 [==============================] - 1s 10ms/step - loss: 1.9535 - accuracy: 0.4882 - val_loss: 1.9142 - val_accuracy: 0.4933\n",
            "Epoch 5/10\n",
            "60/60 [==============================] - 1s 10ms/step - loss: 1.8865 - accuracy: 0.5021 - val_loss: 1.8878 - val_accuracy: 0.4941\n",
            "Epoch 6/10\n",
            "60/60 [==============================] - 1s 10ms/step - loss: 1.8250 - accuracy: 0.5118 - val_loss: 1.8785 - val_accuracy: 0.4978\n",
            "Epoch 7/10\n",
            "60/60 [==============================] - 1s 10ms/step - loss: 1.7897 - accuracy: 0.5217 - val_loss: 1.8477 - val_accuracy: 0.5126\n",
            "Epoch 8/10\n",
            "60/60 [==============================] - 1s 10ms/step - loss: 1.7468 - accuracy: 0.5292 - val_loss: 1.8725 - val_accuracy: 0.4970\n",
            "Epoch 9/10\n",
            "60/60 [==============================] - 1s 10ms/step - loss: 1.7169 - accuracy: 0.5390 - val_loss: 1.8543 - val_accuracy: 0.5141\n",
            "Epoch 10/10\n",
            "60/60 [==============================] - 1s 10ms/step - loss: 1.6803 - accuracy: 0.5418 - val_loss: 1.9745 - val_accuracy: 0.5089\n",
            "71/71 [==============================] - 0s 2ms/step - loss: 2.0065 - accuracy: 0.5232\n"
          ],
          "name": "stdout"
        },
        {
          "output_type": "stream",
          "text": [
            "\r 18%|█▊        | 34/192 [12:49<1:09:41, 26.47s/it]"
          ],
          "name": "stderr"
        },
        {
          "output_type": "stream",
          "text": [
            "Epoch 1/10\n",
            "50/50 [==============================] - 1s 18ms/step - loss: 1.4719 - accuracy: 0.4882 - val_loss: 1.1163 - val_accuracy: 0.6039\n",
            "Epoch 2/10\n",
            "50/50 [==============================] - 1s 15ms/step - loss: 1.0217 - accuracy: 0.6481 - val_loss: 0.9394 - val_accuracy: 0.6945\n",
            "Epoch 3/10\n",
            "50/50 [==============================] - 1s 15ms/step - loss: 0.8376 - accuracy: 0.7267 - val_loss: 0.8599 - val_accuracy: 0.7398\n",
            "Epoch 4/10\n",
            "50/50 [==============================] - 1s 16ms/step - loss: 0.6903 - accuracy: 0.7866 - val_loss: 0.8024 - val_accuracy: 0.7691\n",
            "Epoch 5/10\n",
            "50/50 [==============================] - 1s 16ms/step - loss: 0.5765 - accuracy: 0.8266 - val_loss: 0.7875 - val_accuracy: 0.7691\n",
            "Epoch 6/10\n",
            "50/50 [==============================] - 1s 16ms/step - loss: 0.4876 - accuracy: 0.8560 - val_loss: 0.7949 - val_accuracy: 0.7762\n",
            "Epoch 7/10\n",
            "50/50 [==============================] - 1s 16ms/step - loss: 0.4162 - accuracy: 0.8800 - val_loss: 0.8184 - val_accuracy: 0.7860\n",
            "Epoch 8/10\n",
            "50/50 [==============================] - 1s 16ms/step - loss: 0.3494 - accuracy: 0.9084 - val_loss: 0.8364 - val_accuracy: 0.7940\n",
            "Epoch 9/10\n",
            "50/50 [==============================] - 1s 16ms/step - loss: 0.2911 - accuracy: 0.9238 - val_loss: 0.8553 - val_accuracy: 0.8037\n",
            "Epoch 10/10\n",
            "50/50 [==============================] - 1s 15ms/step - loss: 0.2461 - accuracy: 0.9363 - val_loss: 0.8865 - val_accuracy: 0.8126\n",
            "58/58 [==============================] - 0s 2ms/step - loss: 0.8860 - accuracy: 0.7819\n"
          ],
          "name": "stdout"
        },
        {
          "output_type": "stream",
          "text": [
            "\r 18%|█▊        | 35/192 [12:59<56:05, 21.44s/it]  "
          ],
          "name": "stderr"
        },
        {
          "output_type": "stream",
          "text": [
            "Epoch 1/10\n",
            "60/60 [==============================] - 1s 18ms/step - loss: 2.3913 - accuracy: 0.3745 - val_loss: 1.9424 - val_accuracy: 0.4866\n",
            "Epoch 2/10\n",
            "60/60 [==============================] - 1s 16ms/step - loss: 1.8155 - accuracy: 0.5161 - val_loss: 1.6623 - val_accuracy: 0.5653\n",
            "Epoch 3/10\n",
            "60/60 [==============================] - 1s 16ms/step - loss: 1.5594 - accuracy: 0.5988 - val_loss: 1.5712 - val_accuracy: 0.5979\n",
            "Epoch 4/10\n",
            "60/60 [==============================] - 1s 16ms/step - loss: 1.3732 - accuracy: 0.6462 - val_loss: 1.4600 - val_accuracy: 0.6365\n",
            "Epoch 5/10\n",
            "60/60 [==============================] - 1s 16ms/step - loss: 1.2100 - accuracy: 0.6872 - val_loss: 1.4109 - val_accuracy: 0.6469\n",
            "Epoch 6/10\n",
            "60/60 [==============================] - 1s 16ms/step - loss: 1.0580 - accuracy: 0.7250 - val_loss: 1.3945 - val_accuracy: 0.6484\n",
            "Epoch 7/10\n",
            "60/60 [==============================] - 1s 16ms/step - loss: 0.9298 - accuracy: 0.7602 - val_loss: 1.3849 - val_accuracy: 0.6550\n",
            "Epoch 8/10\n",
            "60/60 [==============================] - 1s 16ms/step - loss: 0.8162 - accuracy: 0.7873 - val_loss: 1.3717 - val_accuracy: 0.6706\n",
            "Epoch 9/10\n",
            "60/60 [==============================] - 1s 16ms/step - loss: 0.7062 - accuracy: 0.8120 - val_loss: 1.3791 - val_accuracy: 0.6788\n",
            "Epoch 10/10\n",
            "60/60 [==============================] - 1s 16ms/step - loss: 0.6214 - accuracy: 0.8327 - val_loss: 1.4379 - val_accuracy: 0.6766\n",
            "71/71 [==============================] - 0s 2ms/step - loss: 1.4457 - accuracy: 0.6732\n"
          ],
          "name": "stdout"
        },
        {
          "output_type": "stream",
          "text": [
            "\r 19%|█▉        | 36/192 [13:11<48:07, 18.51s/it]"
          ],
          "name": "stderr"
        },
        {
          "output_type": "stream",
          "text": [
            "Epoch 1/10\n",
            "50/50 [==============================] - 1s 12ms/step - loss: 1.6916 - accuracy: 0.4221 - val_loss: 1.3645 - val_accuracy: 0.5746\n",
            "Epoch 2/10\n",
            "50/50 [==============================] - 0s 10ms/step - loss: 1.3564 - accuracy: 0.5456 - val_loss: 1.2535 - val_accuracy: 0.5870\n",
            "Epoch 3/10\n",
            "50/50 [==============================] - 0s 10ms/step - loss: 1.2666 - accuracy: 0.5708 - val_loss: 1.2039 - val_accuracy: 0.5915\n",
            "Epoch 4/10\n",
            "50/50 [==============================] - 0s 10ms/step - loss: 1.1977 - accuracy: 0.5855 - val_loss: 1.2271 - val_accuracy: 0.5968\n",
            "Epoch 5/10\n",
            "50/50 [==============================] - 0s 10ms/step - loss: 1.1498 - accuracy: 0.6012 - val_loss: 1.2097 - val_accuracy: 0.6208\n",
            "Epoch 6/10\n",
            "50/50 [==============================] - 0s 10ms/step - loss: 1.1217 - accuracy: 0.6186 - val_loss: 1.1116 - val_accuracy: 0.6501\n",
            "Epoch 7/10\n",
            "50/50 [==============================] - 0s 10ms/step - loss: 1.0798 - accuracy: 0.6276 - val_loss: 1.1356 - val_accuracy: 0.6412\n",
            "Epoch 8/10\n",
            "50/50 [==============================] - 0s 10ms/step - loss: 1.0496 - accuracy: 0.6392 - val_loss: 1.0889 - val_accuracy: 0.6474\n",
            "Epoch 9/10\n",
            "50/50 [==============================] - 0s 10ms/step - loss: 1.0190 - accuracy: 0.6528 - val_loss: 1.2511 - val_accuracy: 0.5799\n",
            "Epoch 10/10\n",
            "50/50 [==============================] - 0s 10ms/step - loss: 0.9917 - accuracy: 0.6611 - val_loss: 1.0861 - val_accuracy: 0.6563\n",
            "58/58 [==============================] - 0s 2ms/step - loss: 1.0810 - accuracy: 0.6469\n"
          ],
          "name": "stdout"
        },
        {
          "output_type": "stream",
          "text": [
            "\r 19%|█▉        | 37/192 [13:29<47:08, 18.25s/it]"
          ],
          "name": "stderr"
        },
        {
          "output_type": "stream",
          "text": [
            "Epoch 1/10\n",
            "60/60 [==============================] - 1s 12ms/step - loss: 2.8439 - accuracy: 0.2945 - val_loss: 2.2574 - val_accuracy: 0.4340\n",
            "Epoch 2/10\n",
            "60/60 [==============================] - 1s 10ms/step - loss: 2.1864 - accuracy: 0.4243 - val_loss: 2.0658 - val_accuracy: 0.4496\n",
            "Epoch 3/10\n",
            "60/60 [==============================] - 1s 10ms/step - loss: 2.0551 - accuracy: 0.4556 - val_loss: 2.0027 - val_accuracy: 0.4696\n",
            "Epoch 4/10\n",
            "60/60 [==============================] - 1s 10ms/step - loss: 1.9663 - accuracy: 0.4734 - val_loss: 1.9695 - val_accuracy: 0.4800\n",
            "Epoch 5/10\n",
            "60/60 [==============================] - 1s 10ms/step - loss: 1.9024 - accuracy: 0.4917 - val_loss: 1.9277 - val_accuracy: 0.5007\n",
            "Epoch 6/10\n",
            "60/60 [==============================] - 1s 10ms/step - loss: 1.8455 - accuracy: 0.5051 - val_loss: 1.9586 - val_accuracy: 0.4518\n",
            "Epoch 7/10\n",
            "60/60 [==============================] - 1s 10ms/step - loss: 1.8072 - accuracy: 0.5179 - val_loss: 1.8953 - val_accuracy: 0.5059\n",
            "Epoch 8/10\n",
            "60/60 [==============================] - 1s 10ms/step - loss: 1.7642 - accuracy: 0.5238 - val_loss: 1.8973 - val_accuracy: 0.5126\n",
            "Epoch 9/10\n",
            "60/60 [==============================] - 1s 10ms/step - loss: 1.7230 - accuracy: 0.5321 - val_loss: 1.8997 - val_accuracy: 0.5007\n",
            "Epoch 10/10\n",
            "60/60 [==============================] - 1s 10ms/step - loss: 1.6882 - accuracy: 0.5410 - val_loss: 1.9628 - val_accuracy: 0.4436\n",
            "71/71 [==============================] - 0s 2ms/step - loss: 1.9353 - accuracy: 0.4755\n"
          ],
          "name": "stdout"
        },
        {
          "output_type": "stream",
          "text": [
            "\r 20%|█▉        | 38/192 [13:47<46:57, 18.30s/it]"
          ],
          "name": "stderr"
        },
        {
          "output_type": "stream",
          "text": [
            "Epoch 1/10\n",
            "50/50 [==============================] - 2s 46ms/step - loss: 1.4346 - accuracy: 0.4792 - val_loss: 1.0946 - val_accuracy: 0.6243\n",
            "Epoch 2/10\n",
            "50/50 [==============================] - 2s 44ms/step - loss: 0.9732 - accuracy: 0.6821 - val_loss: 0.9018 - val_accuracy: 0.7016\n",
            "Epoch 3/10\n",
            "50/50 [==============================] - 2s 45ms/step - loss: 0.7358 - accuracy: 0.7700 - val_loss: 0.7918 - val_accuracy: 0.7584\n",
            "Epoch 4/10\n",
            "50/50 [==============================] - 2s 44ms/step - loss: 0.5434 - accuracy: 0.8479 - val_loss: 0.7261 - val_accuracy: 0.7922\n",
            "Epoch 5/10\n",
            "50/50 [==============================] - 2s 44ms/step - loss: 0.4008 - accuracy: 0.8883 - val_loss: 0.7361 - val_accuracy: 0.7931\n",
            "Epoch 6/10\n",
            "50/50 [==============================] - 2s 43ms/step - loss: 0.3074 - accuracy: 0.9241 - val_loss: 0.7434 - val_accuracy: 0.8046\n",
            "Epoch 7/10\n",
            "50/50 [==============================] - 2s 45ms/step - loss: 0.2369 - accuracy: 0.9396 - val_loss: 0.7586 - val_accuracy: 0.8117\n",
            "Epoch 8/10\n",
            "50/50 [==============================] - 2s 45ms/step - loss: 0.2005 - accuracy: 0.9526 - val_loss: 0.7912 - val_accuracy: 0.8099\n",
            "Epoch 9/10\n",
            "50/50 [==============================] - 2s 44ms/step - loss: 0.1624 - accuracy: 0.9597 - val_loss: 0.8238 - val_accuracy: 0.8099\n",
            "Epoch 10/10\n",
            "50/50 [==============================] - 2s 44ms/step - loss: 0.1517 - accuracy: 0.9619 - val_loss: 0.8442 - val_accuracy: 0.8108\n",
            "58/58 [==============================] - 0s 3ms/step - loss: 0.8274 - accuracy: 0.8099\n"
          ],
          "name": "stdout"
        },
        {
          "output_type": "stream",
          "text": [
            "\r 20%|██        | 39/192 [14:12<51:28, 20.18s/it]"
          ],
          "name": "stderr"
        },
        {
          "output_type": "stream",
          "text": [
            "Epoch 1/10\n",
            "60/60 [==============================] - 3s 45ms/step - loss: 2.2860 - accuracy: 0.4215 - val_loss: 1.8218 - val_accuracy: 0.5045\n",
            "Epoch 2/10\n",
            "60/60 [==============================] - 3s 44ms/step - loss: 1.6960 - accuracy: 0.5566 - val_loss: 1.6155 - val_accuracy: 0.5690\n",
            "Epoch 3/10\n",
            "60/60 [==============================] - 3s 44ms/step - loss: 1.4420 - accuracy: 0.6310 - val_loss: 1.5070 - val_accuracy: 0.6283\n",
            "Epoch 4/10\n",
            "60/60 [==============================] - 3s 44ms/step - loss: 1.2226 - accuracy: 0.6875 - val_loss: 1.4306 - val_accuracy: 0.6476\n",
            "Epoch 5/10\n",
            "60/60 [==============================] - 3s 44ms/step - loss: 1.0283 - accuracy: 0.7395 - val_loss: 1.3820 - val_accuracy: 0.6728\n",
            "Epoch 6/10\n",
            "60/60 [==============================] - 3s 44ms/step - loss: 0.8660 - accuracy: 0.7791 - val_loss: 1.3681 - val_accuracy: 0.6677\n",
            "Epoch 7/10\n",
            "60/60 [==============================] - 3s 44ms/step - loss: 0.7069 - accuracy: 0.8175 - val_loss: 1.3868 - val_accuracy: 0.6877\n",
            "Epoch 8/10\n",
            "60/60 [==============================] - 3s 45ms/step - loss: 0.5808 - accuracy: 0.8515 - val_loss: 1.4580 - val_accuracy: 0.6780\n",
            "Epoch 9/10\n",
            "60/60 [==============================] - 3s 44ms/step - loss: 0.4729 - accuracy: 0.8803 - val_loss: 1.4273 - val_accuracy: 0.6869\n",
            "Epoch 10/10\n",
            "60/60 [==============================] - 3s 44ms/step - loss: 0.3806 - accuracy: 0.9084 - val_loss: 1.4881 - val_accuracy: 0.6855\n",
            "71/71 [==============================] - 0s 3ms/step - loss: 1.5192 - accuracy: 0.6839\n"
          ],
          "name": "stdout"
        },
        {
          "output_type": "stream",
          "text": [
            "\r 21%|██        | 40/192 [14:40<57:42, 22.78s/it]"
          ],
          "name": "stderr"
        },
        {
          "output_type": "stream",
          "text": [
            "Epoch 1/10\n",
            "50/50 [==============================] - 1s 22ms/step - loss: 1.6822 - accuracy: 0.4305 - val_loss: 1.3514 - val_accuracy: 0.5098\n",
            "Epoch 2/10\n",
            "50/50 [==============================] - 1s 19ms/step - loss: 1.3344 - accuracy: 0.5496 - val_loss: 1.2622 - val_accuracy: 0.5728\n",
            "Epoch 3/10\n",
            "50/50 [==============================] - 1s 19ms/step - loss: 1.2488 - accuracy: 0.5793 - val_loss: 1.2293 - val_accuracy: 0.5853\n",
            "Epoch 4/10\n",
            "50/50 [==============================] - 1s 19ms/step - loss: 1.1895 - accuracy: 0.5989 - val_loss: 1.1566 - val_accuracy: 0.5995\n",
            "Epoch 5/10\n",
            "50/50 [==============================] - 1s 19ms/step - loss: 1.1200 - accuracy: 0.6221 - val_loss: 1.2023 - val_accuracy: 0.5835\n",
            "Epoch 6/10\n",
            "50/50 [==============================] - 1s 19ms/step - loss: 1.0880 - accuracy: 0.6316 - val_loss: 1.2969 - val_accuracy: 0.6057\n",
            "Epoch 7/10\n",
            "50/50 [==============================] - 1s 19ms/step - loss: 1.0400 - accuracy: 0.6545 - val_loss: 1.0797 - val_accuracy: 0.6483\n",
            "Epoch 8/10\n",
            "50/50 [==============================] - 1s 19ms/step - loss: 1.0082 - accuracy: 0.6627 - val_loss: 1.0968 - val_accuracy: 0.6359\n",
            "Epoch 9/10\n",
            "50/50 [==============================] - 1s 19ms/step - loss: 0.9705 - accuracy: 0.6749 - val_loss: 1.0661 - val_accuracy: 0.6430\n",
            "Epoch 10/10\n",
            "50/50 [==============================] - 1s 19ms/step - loss: 0.9376 - accuracy: 0.6901 - val_loss: 1.0301 - val_accuracy: 0.6590\n",
            "58/58 [==============================] - 0s 3ms/step - loss: 1.0248 - accuracy: 0.6663\n"
          ],
          "name": "stdout"
        },
        {
          "output_type": "stream",
          "text": [
            "\r 21%|██▏       | 41/192 [15:03<56:59, 22.65s/it]"
          ],
          "name": "stderr"
        },
        {
          "output_type": "stream",
          "text": [
            "Epoch 1/10\n",
            "60/60 [==============================] - 1s 23ms/step - loss: 2.5505 - accuracy: 0.3648 - val_loss: 2.1093 - val_accuracy: 0.4399\n",
            "Epoch 2/10\n",
            "60/60 [==============================] - 1s 20ms/step - loss: 2.0654 - accuracy: 0.4538 - val_loss: 2.0619 - val_accuracy: 0.4585\n",
            "Epoch 3/10\n",
            "60/60 [==============================] - 1s 20ms/step - loss: 1.9585 - accuracy: 0.4806 - val_loss: 1.9404 - val_accuracy: 0.4918\n",
            "Epoch 4/10\n",
            "60/60 [==============================] - 1s 20ms/step - loss: 1.8696 - accuracy: 0.5010 - val_loss: 1.9211 - val_accuracy: 0.5052\n",
            "Epoch 5/10\n",
            "60/60 [==============================] - 1s 20ms/step - loss: 1.8084 - accuracy: 0.5179 - val_loss: 1.8835 - val_accuracy: 0.5141\n",
            "Epoch 6/10\n",
            "60/60 [==============================] - 1s 19ms/step - loss: 1.7459 - accuracy: 0.5286 - val_loss: 1.9132 - val_accuracy: 0.5134\n",
            "Epoch 7/10\n",
            "60/60 [==============================] - 1s 20ms/step - loss: 1.6974 - accuracy: 0.5411 - val_loss: 1.8949 - val_accuracy: 0.5163\n",
            "Epoch 8/10\n",
            "60/60 [==============================] - 1s 19ms/step - loss: 1.6307 - accuracy: 0.5596 - val_loss: 1.9316 - val_accuracy: 0.5178\n",
            "Epoch 9/10\n",
            "60/60 [==============================] - 1s 19ms/step - loss: 1.5995 - accuracy: 0.5652 - val_loss: 1.7769 - val_accuracy: 0.5386\n",
            "Epoch 10/10\n",
            "60/60 [==============================] - 1s 20ms/step - loss: 1.5510 - accuracy: 0.5808 - val_loss: 1.8010 - val_accuracy: 0.5274\n",
            "71/71 [==============================] - 0s 3ms/step - loss: 1.8075 - accuracy: 0.5254\n"
          ],
          "name": "stdout"
        },
        {
          "output_type": "stream",
          "text": [
            "\r 22%|██▏       | 42/192 [15:27<58:09, 23.27s/it]"
          ],
          "name": "stderr"
        },
        {
          "output_type": "stream",
          "text": [
            "Epoch 1/10\n",
            "50/50 [==============================] - 2s 34ms/step - loss: 1.4640 - accuracy: 0.4874 - val_loss: 1.1320 - val_accuracy: 0.6377\n",
            "Epoch 2/10\n",
            "50/50 [==============================] - 2s 31ms/step - loss: 0.9990 - accuracy: 0.6774 - val_loss: 0.8986 - val_accuracy: 0.7069\n",
            "Epoch 3/10\n",
            "50/50 [==============================] - 2s 31ms/step - loss: 0.8053 - accuracy: 0.7392 - val_loss: 0.8314 - val_accuracy: 0.7496\n",
            "Epoch 4/10\n",
            "50/50 [==============================] - 2s 30ms/step - loss: 0.6902 - accuracy: 0.7855 - val_loss: 0.7851 - val_accuracy: 0.7735\n",
            "Epoch 5/10\n",
            "50/50 [==============================] - 2s 31ms/step - loss: 0.5591 - accuracy: 0.8382 - val_loss: 0.7392 - val_accuracy: 0.7913\n",
            "Epoch 6/10\n",
            "50/50 [==============================] - 2s 30ms/step - loss: 0.4475 - accuracy: 0.8755 - val_loss: 0.6978 - val_accuracy: 0.8224\n",
            "Epoch 7/10\n",
            "50/50 [==============================] - 2s 31ms/step - loss: 0.3566 - accuracy: 0.9029 - val_loss: 0.7045 - val_accuracy: 0.8375\n",
            "Epoch 8/10\n",
            "50/50 [==============================] - 2s 31ms/step - loss: 0.3042 - accuracy: 0.9180 - val_loss: 0.7410 - val_accuracy: 0.8375\n",
            "Epoch 9/10\n",
            "50/50 [==============================] - 2s 30ms/step - loss: 0.2608 - accuracy: 0.9301 - val_loss: 0.8302 - val_accuracy: 0.8117\n",
            "Epoch 10/10\n",
            "50/50 [==============================] - 2s 31ms/step - loss: 0.2235 - accuracy: 0.9421 - val_loss: 0.7891 - val_accuracy: 0.8313\n",
            "58/58 [==============================] - 0s 3ms/step - loss: 0.8193 - accuracy: 0.8207\n"
          ],
          "name": "stdout"
        },
        {
          "output_type": "stream",
          "text": [
            "\r 22%|██▏       | 43/192 [15:45<53:29, 21.54s/it]"
          ],
          "name": "stderr"
        },
        {
          "output_type": "stream",
          "text": [
            "Epoch 1/10\n",
            "60/60 [==============================] - 2s 33ms/step - loss: 2.3277 - accuracy: 0.3794 - val_loss: 1.9514 - val_accuracy: 0.4807\n",
            "Epoch 2/10\n",
            "60/60 [==============================] - 2s 31ms/step - loss: 1.8078 - accuracy: 0.5068 - val_loss: 1.6889 - val_accuracy: 0.5334\n",
            "Epoch 3/10\n",
            "60/60 [==============================] - 2s 31ms/step - loss: 1.5800 - accuracy: 0.5840 - val_loss: 1.6069 - val_accuracy: 0.5927\n",
            "Epoch 4/10\n",
            "60/60 [==============================] - 2s 31ms/step - loss: 1.4306 - accuracy: 0.6260 - val_loss: 1.5510 - val_accuracy: 0.6053\n",
            "Epoch 5/10\n",
            "60/60 [==============================] - 2s 31ms/step - loss: 1.2997 - accuracy: 0.6628 - val_loss: 1.4856 - val_accuracy: 0.6269\n",
            "Epoch 6/10\n",
            "60/60 [==============================] - 2s 31ms/step - loss: 1.1517 - accuracy: 0.6968 - val_loss: 1.4468 - val_accuracy: 0.6476\n",
            "Epoch 7/10\n",
            "60/60 [==============================] - 2s 31ms/step - loss: 1.0141 - accuracy: 0.7316 - val_loss: 1.4306 - val_accuracy: 0.6588\n",
            "Epoch 8/10\n",
            "60/60 [==============================] - 2s 31ms/step - loss: 0.8812 - accuracy: 0.7650 - val_loss: 1.4397 - val_accuracy: 0.6639\n",
            "Epoch 9/10\n",
            "60/60 [==============================] - 2s 31ms/step - loss: 0.7659 - accuracy: 0.7946 - val_loss: 1.5010 - val_accuracy: 0.6699\n",
            "Epoch 10/10\n",
            "60/60 [==============================] - 2s 31ms/step - loss: 0.6614 - accuracy: 0.8253 - val_loss: 1.6486 - val_accuracy: 0.6639\n",
            "71/71 [==============================] - 0s 3ms/step - loss: 1.6909 - accuracy: 0.6487\n"
          ],
          "name": "stdout"
        },
        {
          "output_type": "stream",
          "text": [
            "\r 23%|██▎       | 44/192 [16:06<52:35, 21.32s/it]"
          ],
          "name": "stderr"
        },
        {
          "output_type": "stream",
          "text": [
            "Epoch 1/10\n",
            "50/50 [==============================] - 1s 22ms/step - loss: 1.6038 - accuracy: 0.4482 - val_loss: 1.3303 - val_accuracy: 0.5560\n",
            "Epoch 2/10\n",
            "50/50 [==============================] - 1s 19ms/step - loss: 1.3268 - accuracy: 0.5471 - val_loss: 1.2717 - val_accuracy: 0.5755\n",
            "Epoch 3/10\n",
            "50/50 [==============================] - 1s 20ms/step - loss: 1.2462 - accuracy: 0.5753 - val_loss: 1.2376 - val_accuracy: 0.5986\n",
            "Epoch 4/10\n",
            "50/50 [==============================] - 1s 19ms/step - loss: 1.1794 - accuracy: 0.5923 - val_loss: 1.1715 - val_accuracy: 0.6066\n",
            "Epoch 5/10\n",
            "50/50 [==============================] - 1s 20ms/step - loss: 1.1317 - accuracy: 0.6045 - val_loss: 1.1535 - val_accuracy: 0.5959\n",
            "Epoch 6/10\n",
            "50/50 [==============================] - 1s 20ms/step - loss: 1.0979 - accuracy: 0.6141 - val_loss: 1.1262 - val_accuracy: 0.6243\n",
            "Epoch 7/10\n",
            "50/50 [==============================] - 1s 20ms/step - loss: 1.0488 - accuracy: 0.6404 - val_loss: 1.1180 - val_accuracy: 0.6519\n",
            "Epoch 8/10\n",
            "50/50 [==============================] - 1s 20ms/step - loss: 1.0219 - accuracy: 0.6497 - val_loss: 1.1213 - val_accuracy: 0.6536\n",
            "Epoch 9/10\n",
            "50/50 [==============================] - 1s 20ms/step - loss: 0.9813 - accuracy: 0.6635 - val_loss: 1.0585 - val_accuracy: 0.6714\n",
            "Epoch 10/10\n",
            "50/50 [==============================] - 1s 20ms/step - loss: 0.9604 - accuracy: 0.6749 - val_loss: 1.0439 - val_accuracy: 0.6705\n",
            "58/58 [==============================] - 0s 3ms/step - loss: 1.0425 - accuracy: 0.6636\n"
          ],
          "name": "stdout"
        },
        {
          "output_type": "stream",
          "text": [
            "\r 23%|██▎       | 45/192 [16:29<53:19, 21.76s/it]"
          ],
          "name": "stderr"
        },
        {
          "output_type": "stream",
          "text": [
            "Epoch 1/10\n",
            "60/60 [==============================] - 1s 23ms/step - loss: 2.5677 - accuracy: 0.3579 - val_loss: 2.1817 - val_accuracy: 0.3895\n",
            "Epoch 2/10\n",
            "60/60 [==============================] - 1s 21ms/step - loss: 2.0802 - accuracy: 0.4500 - val_loss: 2.0375 - val_accuracy: 0.4681\n",
            "Epoch 3/10\n",
            "60/60 [==============================] - 1s 22ms/step - loss: 1.9714 - accuracy: 0.4728 - val_loss: 1.9779 - val_accuracy: 0.4852\n",
            "Epoch 4/10\n",
            "60/60 [==============================] - 1s 21ms/step - loss: 1.8927 - accuracy: 0.4917 - val_loss: 1.9081 - val_accuracy: 0.4904\n",
            "Epoch 5/10\n",
            "60/60 [==============================] - 1s 20ms/step - loss: 1.8110 - accuracy: 0.5102 - val_loss: 1.8878 - val_accuracy: 0.5015\n",
            "Epoch 6/10\n",
            "60/60 [==============================] - 1s 20ms/step - loss: 1.7511 - accuracy: 0.5261 - val_loss: 1.9560 - val_accuracy: 0.5052\n",
            "Epoch 7/10\n",
            "60/60 [==============================] - 1s 20ms/step - loss: 1.6999 - accuracy: 0.5364 - val_loss: 1.8725 - val_accuracy: 0.4941\n",
            "Epoch 8/10\n",
            "60/60 [==============================] - 1s 20ms/step - loss: 1.6529 - accuracy: 0.5485 - val_loss: 1.8158 - val_accuracy: 0.5274\n",
            "Epoch 9/10\n",
            "60/60 [==============================] - 1s 20ms/step - loss: 1.6072 - accuracy: 0.5586 - val_loss: 1.7971 - val_accuracy: 0.5312\n",
            "Epoch 10/10\n",
            "60/60 [==============================] - 1s 20ms/step - loss: 1.5456 - accuracy: 0.5757 - val_loss: 1.8122 - val_accuracy: 0.5512\n",
            "71/71 [==============================] - 0s 3ms/step - loss: 1.8213 - accuracy: 0.5503\n"
          ],
          "name": "stdout"
        },
        {
          "output_type": "stream",
          "text": [
            "\r 24%|██▍       | 46/192 [16:54<55:37, 22.86s/it]"
          ],
          "name": "stderr"
        },
        {
          "output_type": "stream",
          "text": [
            "Epoch 1/10\n",
            "50/50 [==============================] - 4s 88ms/step - loss: 1.3737 - accuracy: 0.5388 - val_loss: 1.0711 - val_accuracy: 0.6421\n",
            "Epoch 2/10\n",
            "50/50 [==============================] - 4s 86ms/step - loss: 0.9551 - accuracy: 0.6908 - val_loss: 0.8907 - val_accuracy: 0.7194\n",
            "Epoch 3/10\n",
            "50/50 [==============================] - 4s 86ms/step - loss: 0.7551 - accuracy: 0.7638 - val_loss: 0.8045 - val_accuracy: 0.7611\n",
            "Epoch 4/10\n",
            "50/50 [==============================] - 4s 86ms/step - loss: 0.5855 - accuracy: 0.8281 - val_loss: 0.7386 - val_accuracy: 0.7922\n",
            "Epoch 5/10\n",
            "50/50 [==============================] - 4s 86ms/step - loss: 0.4228 - accuracy: 0.8824 - val_loss: 0.6787 - val_accuracy: 0.8286\n",
            "Epoch 6/10\n",
            "50/50 [==============================] - 4s 86ms/step - loss: 0.3186 - accuracy: 0.9172 - val_loss: 0.7186 - val_accuracy: 0.8233\n",
            "Epoch 7/10\n",
            "50/50 [==============================] - 4s 86ms/step - loss: 0.2558 - accuracy: 0.9352 - val_loss: 0.6911 - val_accuracy: 0.8437\n",
            "Epoch 8/10\n",
            "50/50 [==============================] - 4s 86ms/step - loss: 0.2143 - accuracy: 0.9445 - val_loss: 0.6985 - val_accuracy: 0.8437\n",
            "Epoch 9/10\n",
            "50/50 [==============================] - 4s 86ms/step - loss: 0.1798 - accuracy: 0.9552 - val_loss: 0.7803 - val_accuracy: 0.8304\n",
            "Epoch 10/10\n",
            "50/50 [==============================] - 4s 85ms/step - loss: 0.1598 - accuracy: 0.9584 - val_loss: 0.7837 - val_accuracy: 0.8393\n",
            "58/58 [==============================] - 0s 5ms/step - loss: 0.8041 - accuracy: 0.8224\n"
          ],
          "name": "stdout"
        },
        {
          "output_type": "stream",
          "text": [
            "\r 24%|██▍       | 47/192 [17:40<1:12:00, 29.80s/it]"
          ],
          "name": "stderr"
        },
        {
          "output_type": "stream",
          "text": [
            "Epoch 1/10\n",
            "60/60 [==============================] - 5s 90ms/step - loss: 2.1445 - accuracy: 0.4424 - val_loss: 1.7677 - val_accuracy: 0.5245\n",
            "Epoch 2/10\n",
            "60/60 [==============================] - 5s 85ms/step - loss: 1.6214 - accuracy: 0.5802 - val_loss: 1.5670 - val_accuracy: 0.5972\n",
            "Epoch 3/10\n",
            "60/60 [==============================] - 5s 85ms/step - loss: 1.3800 - accuracy: 0.6555 - val_loss: 1.4457 - val_accuracy: 0.6506\n",
            "Epoch 4/10\n",
            "60/60 [==============================] - 5s 85ms/step - loss: 1.1613 - accuracy: 0.7165 - val_loss: 1.3985 - val_accuracy: 0.6832\n",
            "Epoch 5/10\n",
            "60/60 [==============================] - 5s 85ms/step - loss: 0.9637 - accuracy: 0.7591 - val_loss: 1.3057 - val_accuracy: 0.6973\n",
            "Epoch 6/10\n",
            "60/60 [==============================] - 5s 85ms/step - loss: 0.7912 - accuracy: 0.7991 - val_loss: 1.3165 - val_accuracy: 0.7077\n",
            "Epoch 7/10\n",
            "60/60 [==============================] - 5s 85ms/step - loss: 0.6330 - accuracy: 0.8415 - val_loss: 1.3943 - val_accuracy: 0.7181\n",
            "Epoch 8/10\n",
            "60/60 [==============================] - 5s 85ms/step - loss: 0.5225 - accuracy: 0.8719 - val_loss: 1.3991 - val_accuracy: 0.7122\n",
            "Epoch 9/10\n",
            "60/60 [==============================] - 5s 85ms/step - loss: 0.4142 - accuracy: 0.8957 - val_loss: 1.4894 - val_accuracy: 0.7233\n",
            "Epoch 10/10\n",
            "60/60 [==============================] - 5s 85ms/step - loss: 0.3510 - accuracy: 0.9150 - val_loss: 1.4606 - val_accuracy: 0.7263\n",
            "71/71 [==============================] - 0s 5ms/step - loss: 1.5134 - accuracy: 0.7070\n"
          ],
          "name": "stdout"
        },
        {
          "output_type": "stream",
          "text": [
            "\r 25%|██▌       | 48/192 [18:34<1:28:54, 37.04s/it]"
          ],
          "name": "stderr"
        },
        {
          "output_type": "stream",
          "text": [
            "Epoch 1/10\n",
            "50/50 [==============================] - 1s 13ms/step - loss: 1.6037 - accuracy: 0.4637 - val_loss: 1.3197 - val_accuracy: 0.5639\n",
            "Epoch 2/10\n",
            "50/50 [==============================] - 1s 10ms/step - loss: 1.3257 - accuracy: 0.5460 - val_loss: 1.2485 - val_accuracy: 0.5764\n",
            "Epoch 3/10\n",
            "50/50 [==============================] - 1s 10ms/step - loss: 1.2490 - accuracy: 0.5659 - val_loss: 1.2068 - val_accuracy: 0.5870\n",
            "Epoch 4/10\n",
            "50/50 [==============================] - 1s 10ms/step - loss: 1.1862 - accuracy: 0.5832 - val_loss: 1.1666 - val_accuracy: 0.6217\n",
            "Epoch 5/10\n",
            "50/50 [==============================] - 1s 10ms/step - loss: 1.1311 - accuracy: 0.6070 - val_loss: 1.1427 - val_accuracy: 0.6075\n",
            "Epoch 6/10\n",
            "50/50 [==============================] - 1s 10ms/step - loss: 1.0897 - accuracy: 0.6296 - val_loss: 1.1492 - val_accuracy: 0.6137\n",
            "Epoch 7/10\n",
            "50/50 [==============================] - 1s 10ms/step - loss: 1.0477 - accuracy: 0.6451 - val_loss: 1.1591 - val_accuracy: 0.6261\n",
            "Epoch 8/10\n",
            "50/50 [==============================] - 1s 10ms/step - loss: 1.0198 - accuracy: 0.6489 - val_loss: 1.1049 - val_accuracy: 0.6448\n",
            "Epoch 9/10\n",
            "50/50 [==============================] - 1s 10ms/step - loss: 0.9936 - accuracy: 0.6610 - val_loss: 1.0887 - val_accuracy: 0.6492\n",
            "Epoch 10/10\n",
            "50/50 [==============================] - 0s 10ms/step - loss: 0.9700 - accuracy: 0.6737 - val_loss: 1.0979 - val_accuracy: 0.6501\n",
            "58/58 [==============================] - 0s 2ms/step - loss: 1.0747 - accuracy: 0.6523\n"
          ],
          "name": "stdout"
        },
        {
          "output_type": "stream",
          "text": [
            "\r 26%|██▌       | 49/192 [18:52<1:14:28, 31.25s/it]"
          ],
          "name": "stderr"
        },
        {
          "output_type": "stream",
          "text": [
            "Epoch 1/10\n",
            "60/60 [==============================] - 1s 13ms/step - loss: 2.4450 - accuracy: 0.3834 - val_loss: 2.1041 - val_accuracy: 0.4636\n",
            "Epoch 2/10\n",
            "60/60 [==============================] - 1s 11ms/step - loss: 2.0729 - accuracy: 0.4576 - val_loss: 1.9848 - val_accuracy: 0.4740\n",
            "Epoch 3/10\n",
            "60/60 [==============================] - 1s 11ms/step - loss: 1.9394 - accuracy: 0.4857 - val_loss: 1.9256 - val_accuracy: 0.4955\n",
            "Epoch 4/10\n",
            "60/60 [==============================] - 1s 11ms/step - loss: 1.8693 - accuracy: 0.5021 - val_loss: 1.9361 - val_accuracy: 0.4896\n",
            "Epoch 5/10\n",
            "60/60 [==============================] - 1s 11ms/step - loss: 1.7974 - accuracy: 0.5214 - val_loss: 2.1193 - val_accuracy: 0.4280\n",
            "Epoch 6/10\n",
            "60/60 [==============================] - 1s 10ms/step - loss: 1.7417 - accuracy: 0.5291 - val_loss: 1.8422 - val_accuracy: 0.5119\n",
            "Epoch 7/10\n",
            "60/60 [==============================] - 1s 11ms/step - loss: 1.6947 - accuracy: 0.5375 - val_loss: 1.8680 - val_accuracy: 0.5022\n",
            "Epoch 8/10\n",
            "60/60 [==============================] - 1s 11ms/step - loss: 1.6436 - accuracy: 0.5506 - val_loss: 1.8162 - val_accuracy: 0.5237\n",
            "Epoch 9/10\n",
            "60/60 [==============================] - 1s 11ms/step - loss: 1.5989 - accuracy: 0.5620 - val_loss: 1.8659 - val_accuracy: 0.5178\n",
            "Epoch 10/10\n",
            "60/60 [==============================] - 1s 11ms/step - loss: 1.5565 - accuracy: 0.5711 - val_loss: 1.7503 - val_accuracy: 0.5497\n",
            "71/71 [==============================] - 0s 2ms/step - loss: 1.7937 - accuracy: 0.5525\n"
          ],
          "name": "stdout"
        },
        {
          "output_type": "stream",
          "text": [
            "\r 26%|██▌       | 50/192 [19:11<1:05:21, 27.62s/it]"
          ],
          "name": "stderr"
        },
        {
          "output_type": "stream",
          "text": [
            "Epoch 1/10\n",
            "50/50 [==============================] - 1s 18ms/step - loss: 1.3939 - accuracy: 0.5120 - val_loss: 1.0318 - val_accuracy: 0.6368\n",
            "Epoch 2/10\n",
            "50/50 [==============================] - 1s 16ms/step - loss: 0.9406 - accuracy: 0.6831 - val_loss: 0.9234 - val_accuracy: 0.7060\n",
            "Epoch 3/10\n",
            "50/50 [==============================] - 1s 16ms/step - loss: 0.7897 - accuracy: 0.7430 - val_loss: 0.8760 - val_accuracy: 0.7256\n",
            "Epoch 4/10\n",
            "50/50 [==============================] - 1s 16ms/step - loss: 0.6472 - accuracy: 0.8037 - val_loss: 0.8123 - val_accuracy: 0.7673\n",
            "Epoch 5/10\n",
            "50/50 [==============================] - 1s 16ms/step - loss: 0.5224 - accuracy: 0.8480 - val_loss: 0.8048 - val_accuracy: 0.7744\n",
            "Epoch 6/10\n",
            "50/50 [==============================] - 1s 16ms/step - loss: 0.4114 - accuracy: 0.8854 - val_loss: 0.8084 - val_accuracy: 0.7931\n",
            "Epoch 7/10\n",
            "50/50 [==============================] - 1s 16ms/step - loss: 0.3364 - accuracy: 0.9061 - val_loss: 0.8322 - val_accuracy: 0.7984\n",
            "Epoch 8/10\n",
            "50/50 [==============================] - 1s 16ms/step - loss: 0.2834 - accuracy: 0.9241 - val_loss: 0.8842 - val_accuracy: 0.7904\n",
            "Epoch 9/10\n",
            "50/50 [==============================] - 1s 16ms/step - loss: 0.2332 - accuracy: 0.9412 - val_loss: 0.9030 - val_accuracy: 0.7975\n",
            "Epoch 10/10\n",
            "50/50 [==============================] - 1s 16ms/step - loss: 0.2067 - accuracy: 0.9476 - val_loss: 0.9664 - val_accuracy: 0.7851\n",
            "58/58 [==============================] - 0s 2ms/step - loss: 0.9709 - accuracy: 0.7786\n"
          ],
          "name": "stdout"
        },
        {
          "output_type": "stream",
          "text": [
            "\r 27%|██▋       | 51/192 [19:21<52:33, 22.37s/it]  "
          ],
          "name": "stderr"
        },
        {
          "output_type": "stream",
          "text": [
            "Epoch 1/10\n",
            "60/60 [==============================] - 1s 18ms/step - loss: 2.2947 - accuracy: 0.3991 - val_loss: 1.8668 - val_accuracy: 0.4948\n",
            "Epoch 2/10\n",
            "60/60 [==============================] - 1s 17ms/step - loss: 1.7363 - accuracy: 0.5348 - val_loss: 1.6496 - val_accuracy: 0.5742\n",
            "Epoch 3/10\n",
            "60/60 [==============================] - 1s 16ms/step - loss: 1.5116 - accuracy: 0.6110 - val_loss: 1.5451 - val_accuracy: 0.6039\n",
            "Epoch 4/10\n",
            "60/60 [==============================] - 1s 17ms/step - loss: 1.3275 - accuracy: 0.6607 - val_loss: 1.4717 - val_accuracy: 0.6335\n",
            "Epoch 5/10\n",
            "60/60 [==============================] - 1s 17ms/step - loss: 1.1675 - accuracy: 0.6957 - val_loss: 1.4656 - val_accuracy: 0.6424\n",
            "Epoch 6/10\n",
            "60/60 [==============================] - 1s 17ms/step - loss: 1.0286 - accuracy: 0.7285 - val_loss: 1.4350 - val_accuracy: 0.6588\n",
            "Epoch 7/10\n",
            "60/60 [==============================] - 1s 17ms/step - loss: 0.8944 - accuracy: 0.7674 - val_loss: 1.4425 - val_accuracy: 0.6691\n",
            "Epoch 8/10\n",
            "60/60 [==============================] - 1s 17ms/step - loss: 0.7750 - accuracy: 0.7916 - val_loss: 1.4718 - val_accuracy: 0.6632\n",
            "Epoch 9/10\n",
            "60/60 [==============================] - 1s 17ms/step - loss: 0.6579 - accuracy: 0.8249 - val_loss: 1.7282 - val_accuracy: 0.6380\n",
            "Epoch 10/10\n",
            "60/60 [==============================] - 1s 17ms/step - loss: 0.5612 - accuracy: 0.8538 - val_loss: 1.5973 - val_accuracy: 0.6691\n",
            "71/71 [==============================] - 0s 2ms/step - loss: 1.6278 - accuracy: 0.6625\n"
          ],
          "name": "stdout"
        },
        {
          "output_type": "stream",
          "text": [
            "\r 27%|██▋       | 52/192 [19:33<44:50, 19.22s/it]"
          ],
          "name": "stderr"
        },
        {
          "output_type": "stream",
          "text": [
            "Epoch 1/10\n",
            "50/50 [==============================] - 1s 13ms/step - loss: 1.6080 - accuracy: 0.4427 - val_loss: 1.4343 - val_accuracy: 0.5533\n",
            "Epoch 2/10\n",
            "50/50 [==============================] - 1s 10ms/step - loss: 1.3352 - accuracy: 0.5432 - val_loss: 1.2555 - val_accuracy: 0.5844\n",
            "Epoch 3/10\n",
            "50/50 [==============================] - 1s 10ms/step - loss: 1.2491 - accuracy: 0.5661 - val_loss: 1.2003 - val_accuracy: 0.5986\n",
            "Epoch 4/10\n",
            "50/50 [==============================] - 1s 10ms/step - loss: 1.1722 - accuracy: 0.5946 - val_loss: 1.2236 - val_accuracy: 0.6075\n",
            "Epoch 5/10\n",
            "50/50 [==============================] - 1s 10ms/step - loss: 1.1314 - accuracy: 0.6125 - val_loss: 1.1254 - val_accuracy: 0.6297\n",
            "Epoch 6/10\n",
            "50/50 [==============================] - 1s 10ms/step - loss: 1.0915 - accuracy: 0.6172 - val_loss: 1.1271 - val_accuracy: 0.6350\n",
            "Epoch 7/10\n",
            "50/50 [==============================] - 0s 10ms/step - loss: 1.0608 - accuracy: 0.6345 - val_loss: 1.2778 - val_accuracy: 0.5409\n",
            "Epoch 8/10\n",
            "50/50 [==============================] - 1s 10ms/step - loss: 1.0250 - accuracy: 0.6453 - val_loss: 1.0847 - val_accuracy: 0.6439\n",
            "Epoch 9/10\n",
            "50/50 [==============================] - 1s 10ms/step - loss: 0.9997 - accuracy: 0.6567 - val_loss: 1.1302 - val_accuracy: 0.6359\n",
            "Epoch 10/10\n",
            "50/50 [==============================] - 1s 10ms/step - loss: 0.9648 - accuracy: 0.6748 - val_loss: 1.0868 - val_accuracy: 0.6687\n",
            "58/58 [==============================] - 0s 2ms/step - loss: 1.0985 - accuracy: 0.6474\n"
          ],
          "name": "stdout"
        },
        {
          "output_type": "stream",
          "text": [
            "\r 28%|██▊       | 53/192 [19:51<43:39, 18.84s/it]"
          ],
          "name": "stderr"
        },
        {
          "output_type": "stream",
          "text": [
            "Epoch 1/10\n",
            "60/60 [==============================] - 1s 13ms/step - loss: 2.4617 - accuracy: 0.3769 - val_loss: 2.0954 - val_accuracy: 0.4154\n",
            "Epoch 2/10\n",
            "60/60 [==============================] - 1s 11ms/step - loss: 2.0651 - accuracy: 0.4547 - val_loss: 1.9874 - val_accuracy: 0.4755\n",
            "Epoch 3/10\n",
            "60/60 [==============================] - 1s 11ms/step - loss: 1.9469 - accuracy: 0.4845 - val_loss: 1.9826 - val_accuracy: 0.4822\n",
            "Epoch 4/10\n",
            "60/60 [==============================] - 1s 11ms/step - loss: 1.8668 - accuracy: 0.5005 - val_loss: 1.9232 - val_accuracy: 0.5000\n",
            "Epoch 5/10\n",
            "60/60 [==============================] - 1s 11ms/step - loss: 1.7853 - accuracy: 0.5211 - val_loss: 1.9292 - val_accuracy: 0.4815\n",
            "Epoch 6/10\n",
            "60/60 [==============================] - 1s 11ms/step - loss: 1.7398 - accuracy: 0.5286 - val_loss: 1.8559 - val_accuracy: 0.5015\n",
            "Epoch 7/10\n",
            "60/60 [==============================] - 1s 11ms/step - loss: 1.6980 - accuracy: 0.5422 - val_loss: 1.8082 - val_accuracy: 0.5126\n",
            "Epoch 8/10\n",
            "60/60 [==============================] - 1s 11ms/step - loss: 1.6435 - accuracy: 0.5499 - val_loss: 1.7854 - val_accuracy: 0.5260\n",
            "Epoch 9/10\n",
            "60/60 [==============================] - 1s 11ms/step - loss: 1.5973 - accuracy: 0.5597 - val_loss: 1.7731 - val_accuracy: 0.5297\n",
            "Epoch 10/10\n",
            "60/60 [==============================] - 1s 11ms/step - loss: 1.5613 - accuracy: 0.5654 - val_loss: 1.8487 - val_accuracy: 0.5126\n",
            "71/71 [==============================] - 0s 2ms/step - loss: 1.8683 - accuracy: 0.5245\n"
          ],
          "name": "stdout"
        },
        {
          "output_type": "stream",
          "text": [
            "\r 28%|██▊       | 54/192 [20:10<43:26, 18.89s/it]"
          ],
          "name": "stderr"
        },
        {
          "output_type": "stream",
          "text": [
            "Epoch 1/10\n",
            "50/50 [==============================] - 2s 47ms/step - loss: 1.3104 - accuracy: 0.5413 - val_loss: 0.9851 - val_accuracy: 0.6670\n",
            "Epoch 2/10\n",
            "50/50 [==============================] - 2s 44ms/step - loss: 0.8801 - accuracy: 0.7028 - val_loss: 0.8738 - val_accuracy: 0.7282\n",
            "Epoch 3/10\n",
            "50/50 [==============================] - 2s 47ms/step - loss: 0.6814 - accuracy: 0.7883 - val_loss: 0.8141 - val_accuracy: 0.7629\n",
            "Epoch 4/10\n",
            "50/50 [==============================] - 2s 48ms/step - loss: 0.5116 - accuracy: 0.8617 - val_loss: 0.7382 - val_accuracy: 0.7993\n",
            "Epoch 5/10\n",
            "50/50 [==============================] - 2s 47ms/step - loss: 0.3641 - accuracy: 0.9090 - val_loss: 0.7536 - val_accuracy: 0.8011\n",
            "Epoch 6/10\n",
            "50/50 [==============================] - 2s 47ms/step - loss: 0.2691 - accuracy: 0.9370 - val_loss: 0.7527 - val_accuracy: 0.8153\n",
            "Epoch 7/10\n",
            "50/50 [==============================] - 2s 46ms/step - loss: 0.2035 - accuracy: 0.9501 - val_loss: 0.7767 - val_accuracy: 0.8046\n",
            "Epoch 8/10\n",
            "50/50 [==============================] - 2s 44ms/step - loss: 0.1726 - accuracy: 0.9569 - val_loss: 0.8638 - val_accuracy: 0.7993\n",
            "Epoch 9/10\n",
            "50/50 [==============================] - 2s 45ms/step - loss: 0.1481 - accuracy: 0.9633 - val_loss: 0.8121 - val_accuracy: 0.8064\n",
            "Epoch 10/10\n",
            "50/50 [==============================] - 2s 45ms/step - loss: 0.1304 - accuracy: 0.9657 - val_loss: 0.8296 - val_accuracy: 0.8144\n",
            "58/58 [==============================] - 0s 3ms/step - loss: 0.8784 - accuracy: 0.8040\n"
          ],
          "name": "stdout"
        },
        {
          "output_type": "stream",
          "text": [
            "\r 29%|██▊       | 55/192 [20:35<47:34, 20.83s/it]"
          ],
          "name": "stderr"
        },
        {
          "output_type": "stream",
          "text": [
            "Epoch 1/10\n",
            "60/60 [==============================] - 3s 46ms/step - loss: 2.1584 - accuracy: 0.4400 - val_loss: 1.7720 - val_accuracy: 0.5163\n",
            "Epoch 2/10\n",
            "60/60 [==============================] - 3s 44ms/step - loss: 1.6352 - accuracy: 0.5719 - val_loss: 1.5860 - val_accuracy: 0.5801\n",
            "Epoch 3/10\n",
            "60/60 [==============================] - 3s 44ms/step - loss: 1.3873 - accuracy: 0.6441 - val_loss: 1.4766 - val_accuracy: 0.6447\n",
            "Epoch 4/10\n",
            "60/60 [==============================] - 3s 43ms/step - loss: 1.1397 - accuracy: 0.7177 - val_loss: 1.3644 - val_accuracy: 0.6691\n",
            "Epoch 5/10\n",
            "60/60 [==============================] - 3s 44ms/step - loss: 0.9103 - accuracy: 0.7645 - val_loss: 1.3314 - val_accuracy: 0.6840\n",
            "Epoch 6/10\n",
            "60/60 [==============================] - 3s 44ms/step - loss: 0.7047 - accuracy: 0.8218 - val_loss: 1.3476 - val_accuracy: 0.6936\n",
            "Epoch 7/10\n",
            "60/60 [==============================] - 3s 44ms/step - loss: 0.5429 - accuracy: 0.8687 - val_loss: 1.3717 - val_accuracy: 0.7003\n",
            "Epoch 8/10\n",
            "60/60 [==============================] - 3s 44ms/step - loss: 0.3971 - accuracy: 0.9041 - val_loss: 1.4904 - val_accuracy: 0.6825\n",
            "Epoch 9/10\n",
            "60/60 [==============================] - 3s 44ms/step - loss: 0.3215 - accuracy: 0.9230 - val_loss: 1.5720 - val_accuracy: 0.6862\n",
            "Epoch 10/10\n",
            "60/60 [==============================] - 3s 44ms/step - loss: 0.2630 - accuracy: 0.9378 - val_loss: 1.6341 - val_accuracy: 0.6714\n",
            "71/71 [==============================] - 0s 3ms/step - loss: 1.6333 - accuracy: 0.6714\n"
          ],
          "name": "stdout"
        },
        {
          "output_type": "stream",
          "text": [
            "\r 29%|██▉       | 56/192 [21:04<52:28, 23.15s/it]"
          ],
          "name": "stderr"
        },
        {
          "output_type": "stream",
          "text": [
            "Epoch 1/10\n",
            "50/50 [==============================] - 1s 22ms/step - loss: 1.5531 - accuracy: 0.4631 - val_loss: 1.3067 - val_accuracy: 0.5684\n",
            "Epoch 2/10\n",
            "50/50 [==============================] - 1s 19ms/step - loss: 1.2938 - accuracy: 0.5617 - val_loss: 1.2345 - val_accuracy: 0.5835\n",
            "Epoch 3/10\n",
            "50/50 [==============================] - 1s 19ms/step - loss: 1.2057 - accuracy: 0.5830 - val_loss: 1.1731 - val_accuracy: 0.5870\n",
            "Epoch 4/10\n",
            "50/50 [==============================] - 1s 20ms/step - loss: 1.1267 - accuracy: 0.6117 - val_loss: 1.1564 - val_accuracy: 0.5950\n",
            "Epoch 5/10\n",
            "50/50 [==============================] - 1s 20ms/step - loss: 1.0633 - accuracy: 0.6335 - val_loss: 1.0936 - val_accuracy: 0.6394\n",
            "Epoch 6/10\n",
            "50/50 [==============================] - 1s 20ms/step - loss: 1.0176 - accuracy: 0.6569 - val_loss: 1.2565 - val_accuracy: 0.5968\n",
            "Epoch 7/10\n",
            "50/50 [==============================] - 1s 20ms/step - loss: 0.9748 - accuracy: 0.6699 - val_loss: 1.2059 - val_accuracy: 0.6137\n",
            "Epoch 8/10\n",
            "50/50 [==============================] - 1s 20ms/step - loss: 0.9455 - accuracy: 0.6845 - val_loss: 1.0223 - val_accuracy: 0.6670\n",
            "Epoch 9/10\n",
            "50/50 [==============================] - 1s 19ms/step - loss: 0.9061 - accuracy: 0.7068 - val_loss: 1.0585 - val_accuracy: 0.6643\n",
            "Epoch 10/10\n",
            "50/50 [==============================] - 1s 19ms/step - loss: 0.8654 - accuracy: 0.7124 - val_loss: 1.0147 - val_accuracy: 0.6874\n",
            "58/58 [==============================] - 0s 3ms/step - loss: 1.0448 - accuracy: 0.6598\n"
          ],
          "name": "stdout"
        },
        {
          "output_type": "stream",
          "text": [
            "\r 30%|██▉       | 57/192 [21:26<51:30, 22.90s/it]"
          ],
          "name": "stderr"
        },
        {
          "output_type": "stream",
          "text": [
            "Epoch 1/10\n",
            "60/60 [==============================] - 1s 22ms/step - loss: 2.4261 - accuracy: 0.3704 - val_loss: 2.0720 - val_accuracy: 0.4577\n",
            "Epoch 2/10\n",
            "60/60 [==============================] - 1s 20ms/step - loss: 2.0054 - accuracy: 0.4717 - val_loss: 1.9599 - val_accuracy: 0.4852\n",
            "Epoch 3/10\n",
            "60/60 [==============================] - 1s 20ms/step - loss: 1.8793 - accuracy: 0.4996 - val_loss: 1.8938 - val_accuracy: 0.5096\n",
            "Epoch 4/10\n",
            "60/60 [==============================] - 1s 20ms/step - loss: 1.7833 - accuracy: 0.5214 - val_loss: 1.8569 - val_accuracy: 0.5141\n",
            "Epoch 5/10\n",
            "60/60 [==============================] - 1s 20ms/step - loss: 1.7107 - accuracy: 0.5335 - val_loss: 1.8522 - val_accuracy: 0.4970\n",
            "Epoch 6/10\n",
            "60/60 [==============================] - 1s 20ms/step - loss: 1.6438 - accuracy: 0.5544 - val_loss: 1.8030 - val_accuracy: 0.5356\n",
            "Epoch 7/10\n",
            "60/60 [==============================] - 1s 20ms/step - loss: 1.5903 - accuracy: 0.5633 - val_loss: 1.8105 - val_accuracy: 0.5282\n",
            "Epoch 8/10\n",
            "60/60 [==============================] - 1s 20ms/step - loss: 1.5164 - accuracy: 0.5828 - val_loss: 1.7563 - val_accuracy: 0.5475\n",
            "Epoch 9/10\n",
            "60/60 [==============================] - 1s 20ms/step - loss: 1.4594 - accuracy: 0.5917 - val_loss: 1.7536 - val_accuracy: 0.5423\n",
            "Epoch 10/10\n",
            "60/60 [==============================] - 1s 20ms/step - loss: 1.4082 - accuracy: 0.6108 - val_loss: 1.9252 - val_accuracy: 0.5467\n",
            "71/71 [==============================] - 0s 3ms/step - loss: 1.9623 - accuracy: 0.5561\n"
          ],
          "name": "stdout"
        },
        {
          "output_type": "stream",
          "text": [
            "\r 30%|███       | 58/192 [21:51<52:16, 23.41s/it]"
          ],
          "name": "stderr"
        },
        {
          "output_type": "stream",
          "text": [
            "Epoch 1/10\n",
            "50/50 [==============================] - 2s 33ms/step - loss: 1.4324 - accuracy: 0.5162 - val_loss: 1.1637 - val_accuracy: 0.6430\n",
            "Epoch 2/10\n",
            "50/50 [==============================] - 2s 31ms/step - loss: 0.9868 - accuracy: 0.6760 - val_loss: 0.8667 - val_accuracy: 0.7336\n",
            "Epoch 3/10\n",
            "50/50 [==============================] - 2s 31ms/step - loss: 0.7395 - accuracy: 0.7670 - val_loss: 0.7659 - val_accuracy: 0.7762\n",
            "Epoch 4/10\n",
            "50/50 [==============================] - 2s 31ms/step - loss: 0.5641 - accuracy: 0.8300 - val_loss: 0.6927 - val_accuracy: 0.8108\n",
            "Epoch 5/10\n",
            "50/50 [==============================] - 2s 31ms/step - loss: 0.4448 - accuracy: 0.8725 - val_loss: 0.6728 - val_accuracy: 0.8339\n",
            "Epoch 6/10\n",
            "50/50 [==============================] - 2s 31ms/step - loss: 0.3534 - accuracy: 0.9007 - val_loss: 0.7491 - val_accuracy: 0.7975\n",
            "Epoch 7/10\n",
            "50/50 [==============================] - 2s 31ms/step - loss: 0.2973 - accuracy: 0.9213 - val_loss: 0.7452 - val_accuracy: 0.8321\n",
            "Epoch 8/10\n",
            "50/50 [==============================] - 2s 31ms/step - loss: 0.2509 - accuracy: 0.9313 - val_loss: 0.7973 - val_accuracy: 0.8268\n",
            "Epoch 9/10\n",
            "50/50 [==============================] - 2s 31ms/step - loss: 0.2125 - accuracy: 0.9459 - val_loss: 0.8125 - val_accuracy: 0.8286\n",
            "Epoch 10/10\n",
            "50/50 [==============================] - 2s 31ms/step - loss: 0.1830 - accuracy: 0.9526 - val_loss: 0.8492 - val_accuracy: 0.8330\n",
            "58/58 [==============================] - 0s 3ms/step - loss: 0.8798 - accuracy: 0.8045\n"
          ],
          "name": "stdout"
        },
        {
          "output_type": "stream",
          "text": [
            "\r 31%|███       | 59/192 [22:08<48:08, 21.71s/it]"
          ],
          "name": "stderr"
        },
        {
          "output_type": "stream",
          "text": [
            "Epoch 1/10\n",
            "60/60 [==============================] - 2s 33ms/step - loss: 2.2302 - accuracy: 0.4112 - val_loss: 1.7930 - val_accuracy: 0.5163\n",
            "Epoch 2/10\n",
            "60/60 [==============================] - 2s 31ms/step - loss: 1.6563 - accuracy: 0.5671 - val_loss: 1.5890 - val_accuracy: 0.5964\n",
            "Epoch 3/10\n",
            "60/60 [==============================] - 2s 31ms/step - loss: 1.4489 - accuracy: 0.6326 - val_loss: 1.5364 - val_accuracy: 0.6283\n",
            "Epoch 4/10\n",
            "60/60 [==============================] - 2s 31ms/step - loss: 1.3072 - accuracy: 0.6653 - val_loss: 1.4764 - val_accuracy: 0.6365\n",
            "Epoch 5/10\n",
            "60/60 [==============================] - 2s 31ms/step - loss: 1.1663 - accuracy: 0.6953 - val_loss: 1.4437 - val_accuracy: 0.6580\n",
            "Epoch 6/10\n",
            "60/60 [==============================] - 2s 31ms/step - loss: 1.0283 - accuracy: 0.7290 - val_loss: 1.4304 - val_accuracy: 0.6751\n",
            "Epoch 7/10\n",
            "60/60 [==============================] - 2s 31ms/step - loss: 0.8936 - accuracy: 0.7641 - val_loss: 1.4437 - val_accuracy: 0.6803\n",
            "Epoch 8/10\n",
            "60/60 [==============================] - 2s 31ms/step - loss: 0.7607 - accuracy: 0.7970 - val_loss: 1.4984 - val_accuracy: 0.6847\n",
            "Epoch 9/10\n",
            "60/60 [==============================] - 2s 31ms/step - loss: 0.6506 - accuracy: 0.8298 - val_loss: 1.6946 - val_accuracy: 0.6884\n",
            "Epoch 10/10\n",
            "60/60 [==============================] - 2s 31ms/step - loss: 0.5488 - accuracy: 0.8556 - val_loss: 1.7369 - val_accuracy: 0.6899\n",
            "71/71 [==============================] - 0s 3ms/step - loss: 1.8140 - accuracy: 0.6687\n"
          ],
          "name": "stdout"
        },
        {
          "output_type": "stream",
          "text": [
            "\r 31%|███▏      | 60/192 [22:29<47:03, 21.39s/it]"
          ],
          "name": "stderr"
        },
        {
          "output_type": "stream",
          "text": [
            "Epoch 1/10\n",
            "50/50 [==============================] - 1s 22ms/step - loss: 1.5702 - accuracy: 0.4726 - val_loss: 1.3051 - val_accuracy: 0.5684\n",
            "Epoch 2/10\n",
            "50/50 [==============================] - 1s 20ms/step - loss: 1.2908 - accuracy: 0.5691 - val_loss: 1.2448 - val_accuracy: 0.5977\n",
            "Epoch 3/10\n",
            "50/50 [==============================] - 1s 20ms/step - loss: 1.1962 - accuracy: 0.5873 - val_loss: 1.1793 - val_accuracy: 0.6270\n",
            "Epoch 4/10\n",
            "50/50 [==============================] - 1s 20ms/step - loss: 1.1258 - accuracy: 0.6142 - val_loss: 1.2081 - val_accuracy: 0.6066\n",
            "Epoch 5/10\n",
            "50/50 [==============================] - 1s 20ms/step - loss: 1.0737 - accuracy: 0.6374 - val_loss: 1.0902 - val_accuracy: 0.6226\n",
            "Epoch 6/10\n",
            "50/50 [==============================] - 1s 20ms/step - loss: 1.0149 - accuracy: 0.6498 - val_loss: 1.1789 - val_accuracy: 0.6377\n",
            "Epoch 7/10\n",
            "50/50 [==============================] - 1s 20ms/step - loss: 0.9610 - accuracy: 0.6804 - val_loss: 1.0820 - val_accuracy: 0.6599\n",
            "Epoch 8/10\n",
            "50/50 [==============================] - 1s 20ms/step - loss: 0.9288 - accuracy: 0.6973 - val_loss: 1.0250 - val_accuracy: 0.6679\n",
            "Epoch 9/10\n",
            "50/50 [==============================] - 1s 20ms/step - loss: 0.8878 - accuracy: 0.7049 - val_loss: 1.0551 - val_accuracy: 0.6634\n",
            "Epoch 10/10\n",
            "50/50 [==============================] - 1s 20ms/step - loss: 0.8423 - accuracy: 0.7259 - val_loss: 1.0531 - val_accuracy: 0.6661\n",
            "58/58 [==============================] - 0s 3ms/step - loss: 1.0848 - accuracy: 0.6636\n"
          ],
          "name": "stdout"
        },
        {
          "output_type": "stream",
          "text": [
            "\r 32%|███▏      | 61/192 [22:52<47:37, 21.82s/it]"
          ],
          "name": "stderr"
        },
        {
          "output_type": "stream",
          "text": [
            "Epoch 1/10\n",
            "60/60 [==============================] - 1s 22ms/step - loss: 2.3662 - accuracy: 0.3889 - val_loss: 2.0678 - val_accuracy: 0.4711\n",
            "Epoch 2/10\n",
            "60/60 [==============================] - 1s 20ms/step - loss: 2.0065 - accuracy: 0.4663 - val_loss: 1.9892 - val_accuracy: 0.4866\n",
            "Epoch 3/10\n",
            "60/60 [==============================] - 1s 20ms/step - loss: 1.8928 - accuracy: 0.4920 - val_loss: 1.9790 - val_accuracy: 0.4881\n",
            "Epoch 4/10\n",
            "60/60 [==============================] - 1s 20ms/step - loss: 1.8007 - accuracy: 0.5092 - val_loss: 1.8976 - val_accuracy: 0.4874\n",
            "Epoch 5/10\n",
            "60/60 [==============================] - 1s 20ms/step - loss: 1.7196 - accuracy: 0.5346 - val_loss: 2.0729 - val_accuracy: 0.4332\n",
            "Epoch 6/10\n",
            "60/60 [==============================] - 1s 20ms/step - loss: 1.6500 - accuracy: 0.5451 - val_loss: 1.8303 - val_accuracy: 0.5289\n",
            "Epoch 7/10\n",
            "60/60 [==============================] - 1s 20ms/step - loss: 1.5821 - accuracy: 0.5588 - val_loss: 1.8152 - val_accuracy: 0.5148\n",
            "Epoch 8/10\n",
            "60/60 [==============================] - 1s 20ms/step - loss: 1.5271 - accuracy: 0.5726 - val_loss: 1.8148 - val_accuracy: 0.5252\n",
            "Epoch 9/10\n",
            "60/60 [==============================] - 1s 20ms/step - loss: 1.4662 - accuracy: 0.5858 - val_loss: 1.8127 - val_accuracy: 0.5126\n",
            "Epoch 10/10\n",
            "60/60 [==============================] - 1s 20ms/step - loss: 1.4064 - accuracy: 0.5963 - val_loss: 1.7700 - val_accuracy: 0.5364\n",
            "71/71 [==============================] - 0s 3ms/step - loss: 1.7866 - accuracy: 0.5610\n"
          ],
          "name": "stdout"
        },
        {
          "output_type": "stream",
          "text": [
            "\r 32%|███▏      | 62/192 [23:16<49:07, 22.67s/it]"
          ],
          "name": "stderr"
        },
        {
          "output_type": "stream",
          "text": [
            "Epoch 1/10\n",
            "50/50 [==============================] - 4s 86ms/step - loss: 1.3387 - accuracy: 0.5526 - val_loss: 1.0525 - val_accuracy: 0.6599\n",
            "Epoch 2/10\n",
            "50/50 [==============================] - 4s 84ms/step - loss: 0.8822 - accuracy: 0.7188 - val_loss: 0.8324 - val_accuracy: 0.7638\n",
            "Epoch 3/10\n",
            "50/50 [==============================] - 4s 84ms/step - loss: 0.6404 - accuracy: 0.8132 - val_loss: 0.6986 - val_accuracy: 0.8108\n",
            "Epoch 4/10\n",
            "50/50 [==============================] - 4s 84ms/step - loss: 0.4533 - accuracy: 0.8738 - val_loss: 0.6648 - val_accuracy: 0.8393\n",
            "Epoch 5/10\n",
            "50/50 [==============================] - 4s 84ms/step - loss: 0.3303 - accuracy: 0.9159 - val_loss: 0.6810 - val_accuracy: 0.8348\n",
            "Epoch 6/10\n",
            "50/50 [==============================] - 4s 84ms/step - loss: 0.2493 - accuracy: 0.9384 - val_loss: 0.6562 - val_accuracy: 0.8517\n",
            "Epoch 7/10\n",
            "50/50 [==============================] - 4s 84ms/step - loss: 0.2049 - accuracy: 0.9493 - val_loss: 0.7225 - val_accuracy: 0.8393\n",
            "Epoch 8/10\n",
            "50/50 [==============================] - 4s 84ms/step - loss: 0.1720 - accuracy: 0.9566 - val_loss: 0.7120 - val_accuracy: 0.8508\n",
            "Epoch 9/10\n",
            "50/50 [==============================] - 4s 84ms/step - loss: 0.1566 - accuracy: 0.9599 - val_loss: 0.7442 - val_accuracy: 0.8437\n",
            "Epoch 10/10\n",
            "50/50 [==============================] - 4s 84ms/step - loss: 0.1424 - accuracy: 0.9602 - val_loss: 0.7549 - val_accuracy: 0.8481\n",
            "58/58 [==============================] - 0s 5ms/step - loss: 0.8262 - accuracy: 0.8256\n"
          ],
          "name": "stdout"
        },
        {
          "output_type": "stream",
          "text": [
            "\r 33%|███▎      | 63/192 [24:01<1:02:58, 29.29s/it]"
          ],
          "name": "stderr"
        },
        {
          "output_type": "stream",
          "text": [
            "Epoch 1/10\n",
            "60/60 [==============================] - 5s 86ms/step - loss: 2.1180 - accuracy: 0.4483 - val_loss: 1.6969 - val_accuracy: 0.5415\n",
            "Epoch 2/10\n",
            "60/60 [==============================] - 5s 84ms/step - loss: 1.5598 - accuracy: 0.6095 - val_loss: 1.5038 - val_accuracy: 0.6417\n",
            "Epoch 3/10\n",
            "60/60 [==============================] - 5s 84ms/step - loss: 1.2642 - accuracy: 0.6898 - val_loss: 1.3331 - val_accuracy: 0.6914\n",
            "Epoch 4/10\n",
            "60/60 [==============================] - 5s 84ms/step - loss: 1.0223 - accuracy: 0.7384 - val_loss: 1.2659 - val_accuracy: 0.7144\n",
            "Epoch 5/10\n",
            "60/60 [==============================] - 5s 84ms/step - loss: 0.8141 - accuracy: 0.7919 - val_loss: 1.2431 - val_accuracy: 0.7181\n",
            "Epoch 6/10\n",
            "60/60 [==============================] - 5s 84ms/step - loss: 0.6263 - accuracy: 0.8395 - val_loss: 1.3374 - val_accuracy: 0.7211\n",
            "Epoch 7/10\n",
            "60/60 [==============================] - 5s 84ms/step - loss: 0.4768 - accuracy: 0.8811 - val_loss: 1.3851 - val_accuracy: 0.7263\n",
            "Epoch 8/10\n",
            "60/60 [==============================] - 5s 84ms/step - loss: 0.3788 - accuracy: 0.9061 - val_loss: 1.4329 - val_accuracy: 0.7188\n",
            "Epoch 9/10\n",
            "60/60 [==============================] - 5s 84ms/step - loss: 0.3115 - accuracy: 0.9245 - val_loss: 1.5507 - val_accuracy: 0.7122\n",
            "Epoch 10/10\n",
            "60/60 [==============================] - 5s 84ms/step - loss: 0.2638 - accuracy: 0.9373 - val_loss: 1.5678 - val_accuracy: 0.7196\n",
            "71/71 [==============================] - 0s 5ms/step - loss: 1.5708 - accuracy: 0.7128\n"
          ],
          "name": "stdout"
        },
        {
          "output_type": "stream",
          "text": [
            "\r 33%|███▎      | 64/192 [24:55<1:18:00, 36.57s/it]"
          ],
          "name": "stderr"
        },
        {
          "output_type": "stream",
          "text": [
            "Epoch 1/10\n",
            "50/50 [==============================] - 1s 20ms/step - loss: 1.6305 - accuracy: 0.4529 - val_loss: 1.3129 - val_accuracy: 0.5746\n",
            "Epoch 2/10\n",
            "50/50 [==============================] - 1s 15ms/step - loss: 1.3617 - accuracy: 0.5434 - val_loss: 1.2582 - val_accuracy: 0.5950\n",
            "Epoch 3/10\n",
            "50/50 [==============================] - 1s 15ms/step - loss: 1.2691 - accuracy: 0.5597 - val_loss: 1.2093 - val_accuracy: 0.5995\n",
            "Epoch 4/10\n",
            "50/50 [==============================] - 1s 15ms/step - loss: 1.2041 - accuracy: 0.5801 - val_loss: 1.1751 - val_accuracy: 0.6181\n",
            "Epoch 5/10\n",
            "50/50 [==============================] - 1s 15ms/step - loss: 1.1568 - accuracy: 0.5975 - val_loss: 1.1828 - val_accuracy: 0.5950\n",
            "Epoch 6/10\n",
            "50/50 [==============================] - 1s 15ms/step - loss: 1.1031 - accuracy: 0.6207 - val_loss: 1.1203 - val_accuracy: 0.6377\n",
            "Epoch 7/10\n",
            "50/50 [==============================] - 1s 15ms/step - loss: 1.0577 - accuracy: 0.6348 - val_loss: 1.1385 - val_accuracy: 0.6314\n",
            "Epoch 8/10\n",
            "50/50 [==============================] - 1s 15ms/step - loss: 1.0097 - accuracy: 0.6497 - val_loss: 1.1106 - val_accuracy: 0.6483\n",
            "Epoch 9/10\n",
            "50/50 [==============================] - 1s 16ms/step - loss: 0.9793 - accuracy: 0.6649 - val_loss: 1.0794 - val_accuracy: 0.6616\n",
            "Epoch 10/10\n",
            "50/50 [==============================] - 1s 15ms/step - loss: 0.9452 - accuracy: 0.6752 - val_loss: 1.0519 - val_accuracy: 0.6732\n",
            "58/58 [==============================] - 0s 2ms/step - loss: 1.0347 - accuracy: 0.6625\n"
          ],
          "name": "stdout"
        },
        {
          "output_type": "stream",
          "text": [
            "\r 34%|███▍      | 65/192 [25:15<1:07:07, 31.71s/it]"
          ],
          "name": "stderr"
        },
        {
          "output_type": "stream",
          "text": [
            "Epoch 1/10\n",
            "60/60 [==============================] - 1s 19ms/step - loss: 2.6605 - accuracy: 0.3334 - val_loss: 2.1014 - val_accuracy: 0.4518\n",
            "Epoch 2/10\n",
            "60/60 [==============================] - 1s 17ms/step - loss: 2.1423 - accuracy: 0.4581 - val_loss: 2.0072 - val_accuracy: 0.4807\n",
            "Epoch 3/10\n",
            "60/60 [==============================] - 1s 17ms/step - loss: 2.0303 - accuracy: 0.4720 - val_loss: 1.9382 - val_accuracy: 0.4889\n",
            "Epoch 4/10\n",
            "60/60 [==============================] - 1s 17ms/step - loss: 1.9130 - accuracy: 0.4962 - val_loss: 2.0833 - val_accuracy: 0.4577\n",
            "Epoch 5/10\n",
            "60/60 [==============================] - 1s 18ms/step - loss: 1.8342 - accuracy: 0.5118 - val_loss: 1.8603 - val_accuracy: 0.5052\n",
            "Epoch 6/10\n",
            "60/60 [==============================] - 1s 17ms/step - loss: 1.7712 - accuracy: 0.5202 - val_loss: 1.9987 - val_accuracy: 0.4763\n",
            "Epoch 7/10\n",
            "60/60 [==============================] - 1s 17ms/step - loss: 1.7289 - accuracy: 0.5354 - val_loss: 1.8677 - val_accuracy: 0.4792\n",
            "Epoch 8/10\n",
            "60/60 [==============================] - 1s 17ms/step - loss: 1.6668 - accuracy: 0.5538 - val_loss: 1.8718 - val_accuracy: 0.4748\n",
            "Epoch 9/10\n",
            "60/60 [==============================] - 1s 17ms/step - loss: 1.6178 - accuracy: 0.5648 - val_loss: 1.8659 - val_accuracy: 0.4837\n",
            "Epoch 10/10\n",
            "60/60 [==============================] - 1s 16ms/step - loss: 1.5512 - accuracy: 0.5775 - val_loss: 1.7726 - val_accuracy: 0.5193\n",
            "71/71 [==============================] - 0s 3ms/step - loss: 1.8156 - accuracy: 0.5205\n"
          ],
          "name": "stdout"
        },
        {
          "output_type": "stream",
          "text": [
            "\r 34%|███▍      | 66/192 [25:38<1:01:01, 29.06s/it]"
          ],
          "name": "stderr"
        },
        {
          "output_type": "stream",
          "text": [
            "Epoch 1/10\n",
            "50/50 [==============================] - 1s 23ms/step - loss: 1.3889 - accuracy: 0.5165 - val_loss: 1.0440 - val_accuracy: 0.6687\n",
            "Epoch 2/10\n",
            "50/50 [==============================] - 1s 21ms/step - loss: 0.9595 - accuracy: 0.6804 - val_loss: 0.9056 - val_accuracy: 0.7096\n",
            "Epoch 3/10\n",
            "50/50 [==============================] - 1s 21ms/step - loss: 0.8013 - accuracy: 0.7347 - val_loss: 0.8535 - val_accuracy: 0.7487\n",
            "Epoch 4/10\n",
            "50/50 [==============================] - 1s 20ms/step - loss: 0.6757 - accuracy: 0.7875 - val_loss: 0.8091 - val_accuracy: 0.7700\n",
            "Epoch 5/10\n",
            "50/50 [==============================] - 1s 20ms/step - loss: 0.5504 - accuracy: 0.8352 - val_loss: 0.7840 - val_accuracy: 0.7860\n",
            "Epoch 6/10\n",
            "50/50 [==============================] - 1s 20ms/step - loss: 0.4542 - accuracy: 0.8675 - val_loss: 0.7959 - val_accuracy: 0.7877\n",
            "Epoch 7/10\n",
            "50/50 [==============================] - 1s 20ms/step - loss: 0.3709 - accuracy: 0.8957 - val_loss: 0.8451 - val_accuracy: 0.7815\n",
            "Epoch 8/10\n",
            "50/50 [==============================] - 1s 21ms/step - loss: 0.3057 - accuracy: 0.9153 - val_loss: 0.8251 - val_accuracy: 0.8011\n",
            "Epoch 9/10\n",
            "50/50 [==============================] - 1s 20ms/step - loss: 0.2626 - accuracy: 0.9297 - val_loss: 0.9168 - val_accuracy: 0.7913\n",
            "Epoch 10/10\n",
            "50/50 [==============================] - 1s 20ms/step - loss: 0.2291 - accuracy: 0.9403 - val_loss: 0.8842 - val_accuracy: 0.8082\n",
            "58/58 [==============================] - 0s 3ms/step - loss: 0.9045 - accuracy: 0.7959\n"
          ],
          "name": "stdout"
        },
        {
          "output_type": "stream",
          "text": [
            "\r 35%|███▍      | 67/192 [25:50<50:06, 24.05s/it]  "
          ],
          "name": "stderr"
        },
        {
          "output_type": "stream",
          "text": [
            "Epoch 1/10\n",
            "60/60 [==============================] - 1s 23ms/step - loss: 2.3038 - accuracy: 0.3749 - val_loss: 1.8805 - val_accuracy: 0.4918\n",
            "Epoch 2/10\n",
            "60/60 [==============================] - 1s 21ms/step - loss: 1.7685 - accuracy: 0.5240 - val_loss: 1.6532 - val_accuracy: 0.5519\n",
            "Epoch 3/10\n",
            "60/60 [==============================] - 1s 21ms/step - loss: 1.4976 - accuracy: 0.6141 - val_loss: 1.5180 - val_accuracy: 0.6202\n",
            "Epoch 4/10\n",
            "60/60 [==============================] - 1s 21ms/step - loss: 1.2949 - accuracy: 0.6708 - val_loss: 1.4621 - val_accuracy: 0.6269\n",
            "Epoch 5/10\n",
            "60/60 [==============================] - 1s 21ms/step - loss: 1.1431 - accuracy: 0.6953 - val_loss: 1.4197 - val_accuracy: 0.6513\n",
            "Epoch 6/10\n",
            "60/60 [==============================] - 1s 21ms/step - loss: 1.0107 - accuracy: 0.7312 - val_loss: 1.3984 - val_accuracy: 0.6721\n",
            "Epoch 7/10\n",
            "60/60 [==============================] - 1s 21ms/step - loss: 0.8903 - accuracy: 0.7564 - val_loss: 1.4130 - val_accuracy: 0.6743\n",
            "Epoch 8/10\n",
            "60/60 [==============================] - 1s 21ms/step - loss: 0.7971 - accuracy: 0.7781 - val_loss: 1.4435 - val_accuracy: 0.6818\n",
            "Epoch 9/10\n",
            "60/60 [==============================] - 1s 21ms/step - loss: 0.6984 - accuracy: 0.8084 - val_loss: 1.4626 - val_accuracy: 0.6855\n",
            "Epoch 10/10\n",
            "60/60 [==============================] - 1s 21ms/step - loss: 0.6110 - accuracy: 0.8321 - val_loss: 1.5153 - val_accuracy: 0.6788\n",
            "71/71 [==============================] - 0s 3ms/step - loss: 1.5402 - accuracy: 0.6625\n"
          ],
          "name": "stdout"
        },
        {
          "output_type": "stream",
          "text": [
            "\r 35%|███▌      | 68/192 [26:05<43:43, 21.16s/it]"
          ],
          "name": "stderr"
        },
        {
          "output_type": "stream",
          "text": [
            "Epoch 1/10\n",
            "50/50 [==============================] - 1s 19ms/step - loss: 1.6860 - accuracy: 0.4243 - val_loss: 1.4627 - val_accuracy: 0.5453\n",
            "Epoch 2/10\n",
            "50/50 [==============================] - 1s 16ms/step - loss: 1.3577 - accuracy: 0.5358 - val_loss: 1.2261 - val_accuracy: 0.5826\n",
            "Epoch 3/10\n",
            "50/50 [==============================] - 1s 16ms/step - loss: 1.2604 - accuracy: 0.5694 - val_loss: 1.2630 - val_accuracy: 0.5639\n",
            "Epoch 4/10\n",
            "50/50 [==============================] - 1s 16ms/step - loss: 1.1922 - accuracy: 0.5932 - val_loss: 1.1627 - val_accuracy: 0.6030\n",
            "Epoch 5/10\n",
            "50/50 [==============================] - 1s 16ms/step - loss: 1.1380 - accuracy: 0.6100 - val_loss: 1.1128 - val_accuracy: 0.6297\n",
            "Epoch 6/10\n",
            "50/50 [==============================] - 1s 16ms/step - loss: 1.0869 - accuracy: 0.6260 - val_loss: 1.0880 - val_accuracy: 0.6377\n",
            "Epoch 7/10\n",
            "50/50 [==============================] - 1s 15ms/step - loss: 1.0396 - accuracy: 0.6432 - val_loss: 1.0688 - val_accuracy: 0.6607\n",
            "Epoch 8/10\n",
            "50/50 [==============================] - 1s 15ms/step - loss: 0.9955 - accuracy: 0.6677 - val_loss: 1.1990 - val_accuracy: 0.5950\n",
            "Epoch 9/10\n",
            "50/50 [==============================] - 1s 15ms/step - loss: 0.9665 - accuracy: 0.6698 - val_loss: 1.0999 - val_accuracy: 0.6607\n",
            "Epoch 10/10\n",
            "50/50 [==============================] - 1s 16ms/step - loss: 0.9307 - accuracy: 0.6823 - val_loss: 1.0362 - val_accuracy: 0.6776\n",
            "58/58 [==============================] - 0s 3ms/step - loss: 1.0509 - accuracy: 0.6733\n"
          ],
          "name": "stdout"
        },
        {
          "output_type": "stream",
          "text": [
            "\r 36%|███▌      | 69/192 [26:26<43:09, 21.05s/it]"
          ],
          "name": "stderr"
        },
        {
          "output_type": "stream",
          "text": [
            "Epoch 1/10\n",
            "60/60 [==============================] - 1s 18ms/step - loss: 2.6346 - accuracy: 0.3378 - val_loss: 2.1123 - val_accuracy: 0.4421\n",
            "Epoch 2/10\n",
            "60/60 [==============================] - 1s 16ms/step - loss: 2.1767 - accuracy: 0.4365 - val_loss: 2.0445 - val_accuracy: 0.4659\n",
            "Epoch 3/10\n",
            "60/60 [==============================] - 1s 16ms/step - loss: 2.0393 - accuracy: 0.4649 - val_loss: 2.1028 - val_accuracy: 0.4080\n",
            "Epoch 4/10\n",
            "60/60 [==============================] - 1s 16ms/step - loss: 1.9440 - accuracy: 0.4845 - val_loss: 1.9201 - val_accuracy: 0.4785\n",
            "Epoch 5/10\n",
            "60/60 [==============================] - 1s 16ms/step - loss: 1.8704 - accuracy: 0.5009 - val_loss: 2.0097 - val_accuracy: 0.4792\n",
            "Epoch 6/10\n",
            "60/60 [==============================] - 1s 16ms/step - loss: 1.8053 - accuracy: 0.5149 - val_loss: 1.8790 - val_accuracy: 0.5022\n",
            "Epoch 7/10\n",
            "60/60 [==============================] - 1s 16ms/step - loss: 1.7460 - accuracy: 0.5369 - val_loss: 1.9558 - val_accuracy: 0.4822\n",
            "Epoch 8/10\n",
            "60/60 [==============================] - 1s 17ms/step - loss: 1.7023 - accuracy: 0.5373 - val_loss: 1.9254 - val_accuracy: 0.4874\n",
            "Epoch 9/10\n",
            "60/60 [==============================] - 1s 16ms/step - loss: 1.6505 - accuracy: 0.5553 - val_loss: 1.8613 - val_accuracy: 0.5104\n",
            "Epoch 10/10\n",
            "60/60 [==============================] - 1s 16ms/step - loss: 1.6010 - accuracy: 0.5638 - val_loss: 1.8270 - val_accuracy: 0.5104\n",
            "71/71 [==============================] - 0s 2ms/step - loss: 1.8349 - accuracy: 0.5160\n"
          ],
          "name": "stdout"
        },
        {
          "output_type": "stream",
          "text": [
            "\r 36%|███▋      | 70/192 [26:48<43:40, 21.48s/it]"
          ],
          "name": "stderr"
        },
        {
          "output_type": "stream",
          "text": [
            "Epoch 1/10\n",
            "50/50 [==============================] - 3s 55ms/step - loss: 1.3307 - accuracy: 0.5360 - val_loss: 0.9865 - val_accuracy: 0.6794\n",
            "Epoch 2/10\n",
            "50/50 [==============================] - 3s 52ms/step - loss: 0.8999 - accuracy: 0.7091 - val_loss: 0.8797 - val_accuracy: 0.7336\n",
            "Epoch 3/10\n",
            "50/50 [==============================] - 3s 52ms/step - loss: 0.7161 - accuracy: 0.7783 - val_loss: 0.8129 - val_accuracy: 0.7647\n",
            "Epoch 4/10\n",
            "50/50 [==============================] - 3s 52ms/step - loss: 0.5287 - accuracy: 0.8537 - val_loss: 0.7537 - val_accuracy: 0.7904\n",
            "Epoch 5/10\n",
            "50/50 [==============================] - 3s 53ms/step - loss: 0.3927 - accuracy: 0.9023 - val_loss: 0.7353 - val_accuracy: 0.8073\n",
            "Epoch 6/10\n",
            "50/50 [==============================] - 3s 53ms/step - loss: 0.2974 - accuracy: 0.9254 - val_loss: 0.7017 - val_accuracy: 0.8135\n",
            "Epoch 7/10\n",
            "50/50 [==============================] - 3s 53ms/step - loss: 0.2185 - accuracy: 0.9464 - val_loss: 0.7415 - val_accuracy: 0.8117\n",
            "Epoch 8/10\n",
            "50/50 [==============================] - 3s 53ms/step - loss: 0.1898 - accuracy: 0.9503 - val_loss: 0.7649 - val_accuracy: 0.8099\n",
            "Epoch 9/10\n",
            "50/50 [==============================] - 3s 53ms/step - loss: 0.1666 - accuracy: 0.9616 - val_loss: 0.7891 - val_accuracy: 0.7993\n",
            "Epoch 10/10\n",
            "50/50 [==============================] - 3s 53ms/step - loss: 0.1477 - accuracy: 0.9602 - val_loss: 0.8808 - val_accuracy: 0.7975\n",
            "58/58 [==============================] - 0s 4ms/step - loss: 0.9456 - accuracy: 0.7943\n"
          ],
          "name": "stdout"
        },
        {
          "output_type": "stream",
          "text": [
            "\r 37%|███▋      | 71/192 [27:17<47:42, 23.66s/it]"
          ],
          "name": "stderr"
        },
        {
          "output_type": "stream",
          "text": [
            "Epoch 1/10\n",
            "60/60 [==============================] - 3s 55ms/step - loss: 2.2019 - accuracy: 0.4270 - val_loss: 1.7601 - val_accuracy: 0.5215\n",
            "Epoch 2/10\n",
            "60/60 [==============================] - 3s 53ms/step - loss: 1.6134 - accuracy: 0.5766 - val_loss: 1.5771 - val_accuracy: 0.6068\n",
            "Epoch 3/10\n",
            "60/60 [==============================] - 3s 53ms/step - loss: 1.3352 - accuracy: 0.6586 - val_loss: 1.4269 - val_accuracy: 0.6447\n",
            "Epoch 4/10\n",
            "60/60 [==============================] - 3s 54ms/step - loss: 1.1073 - accuracy: 0.7123 - val_loss: 1.3742 - val_accuracy: 0.6721\n",
            "Epoch 5/10\n",
            "60/60 [==============================] - 3s 53ms/step - loss: 0.9303 - accuracy: 0.7539 - val_loss: 1.3778 - val_accuracy: 0.6736\n",
            "Epoch 6/10\n",
            "60/60 [==============================] - 3s 53ms/step - loss: 0.7640 - accuracy: 0.7979 - val_loss: 1.3718 - val_accuracy: 0.6869\n",
            "Epoch 7/10\n",
            "60/60 [==============================] - 3s 53ms/step - loss: 0.6308 - accuracy: 0.8357 - val_loss: 1.3844 - val_accuracy: 0.6706\n",
            "Epoch 8/10\n",
            "60/60 [==============================] - 3s 54ms/step - loss: 0.5133 - accuracy: 0.8701 - val_loss: 1.3816 - val_accuracy: 0.6921\n",
            "Epoch 9/10\n",
            "60/60 [==============================] - 3s 54ms/step - loss: 0.4106 - accuracy: 0.8948 - val_loss: 1.4454 - val_accuracy: 0.7018\n",
            "Epoch 10/10\n",
            "60/60 [==============================] - 3s 54ms/step - loss: 0.3343 - accuracy: 0.9179 - val_loss: 1.4876 - val_accuracy: 0.6914\n",
            "71/71 [==============================] - 0s 4ms/step - loss: 1.5140 - accuracy: 0.6848\n"
          ],
          "name": "stdout"
        },
        {
          "output_type": "stream",
          "text": [
            "\r 38%|███▊      | 72/192 [27:51<53:56, 26.97s/it]"
          ],
          "name": "stderr"
        },
        {
          "output_type": "stream",
          "text": [
            "Epoch 1/10\n",
            "50/50 [==============================] - 2s 33ms/step - loss: 1.5939 - accuracy: 0.4646 - val_loss: 1.3230 - val_accuracy: 0.5684\n",
            "Epoch 2/10\n",
            "50/50 [==============================] - 2s 31ms/step - loss: 1.3225 - accuracy: 0.5567 - val_loss: 1.2633 - val_accuracy: 0.5764\n",
            "Epoch 3/10\n",
            "50/50 [==============================] - 2s 31ms/step - loss: 1.2117 - accuracy: 0.5866 - val_loss: 1.1641 - val_accuracy: 0.5977\n",
            "Epoch 4/10\n",
            "50/50 [==============================] - 2s 31ms/step - loss: 1.1540 - accuracy: 0.6014 - val_loss: 1.2152 - val_accuracy: 0.5595\n",
            "Epoch 5/10\n",
            "50/50 [==============================] - 2s 31ms/step - loss: 1.0844 - accuracy: 0.6288 - val_loss: 1.1408 - val_accuracy: 0.6403\n",
            "Epoch 6/10\n",
            "50/50 [==============================] - 2s 31ms/step - loss: 1.0325 - accuracy: 0.6506 - val_loss: 1.1092 - val_accuracy: 0.6528\n",
            "Epoch 7/10\n",
            "50/50 [==============================] - 2s 31ms/step - loss: 0.9922 - accuracy: 0.6729 - val_loss: 1.0650 - val_accuracy: 0.6474\n",
            "Epoch 8/10\n",
            "50/50 [==============================] - 2s 31ms/step - loss: 0.9520 - accuracy: 0.6846 - val_loss: 1.0790 - val_accuracy: 0.6679\n",
            "Epoch 9/10\n",
            "50/50 [==============================] - 2s 31ms/step - loss: 0.8995 - accuracy: 0.7030 - val_loss: 1.1058 - val_accuracy: 0.6554\n",
            "Epoch 10/10\n",
            "50/50 [==============================] - 2s 30ms/step - loss: 0.8655 - accuracy: 0.7210 - val_loss: 1.0091 - val_accuracy: 0.6892\n",
            "58/58 [==============================] - 0s 3ms/step - loss: 1.0066 - accuracy: 0.6825\n"
          ],
          "name": "stdout"
        },
        {
          "output_type": "stream",
          "text": [
            "\r 38%|███▊      | 73/192 [28:20<54:22, 27.42s/it]"
          ],
          "name": "stderr"
        },
        {
          "output_type": "stream",
          "text": [
            "Epoch 1/10\n",
            "60/60 [==============================] - 2s 35ms/step - loss: 2.4754 - accuracy: 0.3856 - val_loss: 2.1204 - val_accuracy: 0.4458\n",
            "Epoch 2/10\n",
            "60/60 [==============================] - 2s 33ms/step - loss: 2.0827 - accuracy: 0.4576 - val_loss: 2.0141 - val_accuracy: 0.4763\n",
            "Epoch 3/10\n",
            "60/60 [==============================] - 2s 33ms/step - loss: 1.9773 - accuracy: 0.4807 - val_loss: 1.9681 - val_accuracy: 0.4993\n",
            "Epoch 4/10\n",
            "60/60 [==============================] - 2s 34ms/step - loss: 1.8942 - accuracy: 0.4982 - val_loss: 1.8879 - val_accuracy: 0.5074\n",
            "Epoch 5/10\n",
            "60/60 [==============================] - 2s 34ms/step - loss: 1.8058 - accuracy: 0.5149 - val_loss: 1.8753 - val_accuracy: 0.5015\n",
            "Epoch 6/10\n",
            "60/60 [==============================] - 2s 33ms/step - loss: 1.7403 - accuracy: 0.5333 - val_loss: 1.8706 - val_accuracy: 0.5148\n",
            "Epoch 7/10\n",
            "60/60 [==============================] - 2s 34ms/step - loss: 1.6775 - accuracy: 0.5529 - val_loss: 1.8770 - val_accuracy: 0.5326\n",
            "Epoch 8/10\n",
            "60/60 [==============================] - 2s 34ms/step - loss: 1.6243 - accuracy: 0.5655 - val_loss: 1.7866 - val_accuracy: 0.5386\n",
            "Epoch 9/10\n",
            "60/60 [==============================] - 2s 34ms/step - loss: 1.5586 - accuracy: 0.5806 - val_loss: 1.7875 - val_accuracy: 0.5504\n",
            "Epoch 10/10\n",
            "60/60 [==============================] - 2s 33ms/step - loss: 1.5128 - accuracy: 0.5892 - val_loss: 1.7474 - val_accuracy: 0.5304\n",
            "71/71 [==============================] - 0s 4ms/step - loss: 1.7590 - accuracy: 0.5387\n"
          ],
          "name": "stdout"
        },
        {
          "output_type": "stream",
          "text": [
            "\r 39%|███▊      | 74/192 [28:53<57:07, 29.05s/it]"
          ],
          "name": "stderr"
        },
        {
          "output_type": "stream",
          "text": [
            "Epoch 1/10\n",
            "50/50 [==============================] - 2s 45ms/step - loss: 1.4021 - accuracy: 0.5242 - val_loss: 1.0928 - val_accuracy: 0.6465\n",
            "Epoch 2/10\n",
            "50/50 [==============================] - 2s 43ms/step - loss: 0.9524 - accuracy: 0.6895 - val_loss: 0.8658 - val_accuracy: 0.7442\n",
            "Epoch 3/10\n",
            "50/50 [==============================] - 2s 43ms/step - loss: 0.7474 - accuracy: 0.7646 - val_loss: 0.7651 - val_accuracy: 0.7895\n",
            "Epoch 4/10\n",
            "50/50 [==============================] - 2s 43ms/step - loss: 0.6063 - accuracy: 0.8131 - val_loss: 0.7552 - val_accuracy: 0.7957\n",
            "Epoch 5/10\n",
            "50/50 [==============================] - 2s 43ms/step - loss: 0.5176 - accuracy: 0.8388 - val_loss: 0.7207 - val_accuracy: 0.8002\n",
            "Epoch 6/10\n",
            "50/50 [==============================] - 2s 43ms/step - loss: 0.4316 - accuracy: 0.8714 - val_loss: 0.7310 - val_accuracy: 0.8046\n",
            "Epoch 7/10\n",
            "50/50 [==============================] - 2s 43ms/step - loss: 0.3603 - accuracy: 0.8946 - val_loss: 0.8326 - val_accuracy: 0.7833\n",
            "Epoch 8/10\n",
            "50/50 [==============================] - 2s 43ms/step - loss: 0.3085 - accuracy: 0.9098 - val_loss: 0.8220 - val_accuracy: 0.8108\n",
            "Epoch 9/10\n",
            "50/50 [==============================] - 2s 43ms/step - loss: 0.2702 - accuracy: 0.9254 - val_loss: 0.8878 - val_accuracy: 0.7975\n",
            "Epoch 10/10\n",
            "50/50 [==============================] - 2s 43ms/step - loss: 0.2427 - accuracy: 0.9330 - val_loss: 0.9406 - val_accuracy: 0.8002\n",
            "58/58 [==============================] - 0s 4ms/step - loss: 0.9947 - accuracy: 0.7797\n"
          ],
          "name": "stdout"
        },
        {
          "output_type": "stream",
          "text": [
            "\r 39%|███▉      | 75/192 [29:17<53:44, 27.56s/it]"
          ],
          "name": "stderr"
        },
        {
          "output_type": "stream",
          "text": [
            "Epoch 1/10\n",
            "60/60 [==============================] - 3s 46ms/step - loss: 2.2096 - accuracy: 0.4196 - val_loss: 1.8745 - val_accuracy: 0.5037\n",
            "Epoch 2/10\n",
            "60/60 [==============================] - 3s 44ms/step - loss: 1.7252 - accuracy: 0.5487 - val_loss: 1.6251 - val_accuracy: 0.5697\n",
            "Epoch 3/10\n",
            "60/60 [==============================] - 3s 44ms/step - loss: 1.4832 - accuracy: 0.6269 - val_loss: 1.5070 - val_accuracy: 0.6217\n",
            "Epoch 4/10\n",
            "60/60 [==============================] - 3s 44ms/step - loss: 1.3062 - accuracy: 0.6674 - val_loss: 1.4602 - val_accuracy: 0.6543\n",
            "Epoch 5/10\n",
            "60/60 [==============================] - 3s 43ms/step - loss: 1.1557 - accuracy: 0.7034 - val_loss: 1.4055 - val_accuracy: 0.6714\n",
            "Epoch 6/10\n",
            "60/60 [==============================] - 3s 43ms/step - loss: 1.0256 - accuracy: 0.7299 - val_loss: 1.4062 - val_accuracy: 0.6788\n",
            "Epoch 7/10\n",
            "60/60 [==============================] - 3s 43ms/step - loss: 0.9137 - accuracy: 0.7621 - val_loss: 1.4980 - val_accuracy: 0.6691\n",
            "Epoch 8/10\n",
            "60/60 [==============================] - 3s 43ms/step - loss: 0.8031 - accuracy: 0.7861 - val_loss: 1.4503 - val_accuracy: 0.6810\n",
            "Epoch 9/10\n",
            "60/60 [==============================] - 3s 44ms/step - loss: 0.7006 - accuracy: 0.8169 - val_loss: 1.5233 - val_accuracy: 0.6884\n",
            "Epoch 10/10\n",
            "60/60 [==============================] - 3s 43ms/step - loss: 0.6132 - accuracy: 0.8360 - val_loss: 1.6163 - val_accuracy: 0.6914\n",
            "71/71 [==============================] - 0s 4ms/step - loss: 1.6594 - accuracy: 0.6679\n"
          ],
          "name": "stdout"
        },
        {
          "output_type": "stream",
          "text": [
            "\r 40%|███▉      | 76/192 [29:45<53:44, 27.80s/it]"
          ],
          "name": "stderr"
        },
        {
          "output_type": "stream",
          "text": [
            "Epoch 1/10\n",
            "50/50 [==============================] - 2s 33ms/step - loss: 1.6048 - accuracy: 0.4530 - val_loss: 1.3417 - val_accuracy: 0.5453\n",
            "Epoch 2/10\n",
            "50/50 [==============================] - 2s 31ms/step - loss: 1.3185 - accuracy: 0.5496 - val_loss: 1.3251 - val_accuracy: 0.5098\n",
            "Epoch 3/10\n",
            "50/50 [==============================] - 2s 31ms/step - loss: 1.2283 - accuracy: 0.5716 - val_loss: 1.1996 - val_accuracy: 0.5906\n",
            "Epoch 4/10\n",
            "50/50 [==============================] - 2s 31ms/step - loss: 1.1763 - accuracy: 0.5887 - val_loss: 1.2423 - val_accuracy: 0.5755\n",
            "Epoch 5/10\n",
            "50/50 [==============================] - 2s 31ms/step - loss: 1.1179 - accuracy: 0.6133 - val_loss: 1.1657 - val_accuracy: 0.6288\n",
            "Epoch 6/10\n",
            "50/50 [==============================] - 2s 31ms/step - loss: 1.0734 - accuracy: 0.6294 - val_loss: 1.1472 - val_accuracy: 0.6243\n",
            "Epoch 7/10\n",
            "50/50 [==============================] - 2s 31ms/step - loss: 1.0269 - accuracy: 0.6536 - val_loss: 1.1867 - val_accuracy: 0.5941\n",
            "Epoch 8/10\n",
            "50/50 [==============================] - 2s 31ms/step - loss: 0.9911 - accuracy: 0.6608 - val_loss: 1.0502 - val_accuracy: 0.6750\n",
            "Epoch 9/10\n",
            "50/50 [==============================] - 2s 31ms/step - loss: 0.9205 - accuracy: 0.6928 - val_loss: 1.0659 - val_accuracy: 0.6563\n",
            "Epoch 10/10\n",
            "50/50 [==============================] - 2s 31ms/step - loss: 0.9098 - accuracy: 0.7028 - val_loss: 1.0292 - val_accuracy: 0.6705\n",
            "58/58 [==============================] - 0s 4ms/step - loss: 1.0214 - accuracy: 0.6760\n"
          ],
          "name": "stdout"
        },
        {
          "output_type": "stream",
          "text": [
            "\r 40%|████      | 77/192 [30:14<53:45, 28.05s/it]"
          ],
          "name": "stderr"
        },
        {
          "output_type": "stream",
          "text": [
            "Epoch 1/10\n",
            "60/60 [==============================] - 2s 33ms/step - loss: 2.6586 - accuracy: 0.3204 - val_loss: 2.1108 - val_accuracy: 0.4080\n",
            "Epoch 2/10\n",
            "60/60 [==============================] - 2s 32ms/step - loss: 2.1233 - accuracy: 0.4447 - val_loss: 2.1014 - val_accuracy: 0.4718\n",
            "Epoch 3/10\n",
            "60/60 [==============================] - 2s 32ms/step - loss: 2.0058 - accuracy: 0.4680 - val_loss: 2.1134 - val_accuracy: 0.4792\n",
            "Epoch 4/10\n",
            "60/60 [==============================] - 2s 32ms/step - loss: 1.9275 - accuracy: 0.4848 - val_loss: 1.8988 - val_accuracy: 0.4985\n",
            "Epoch 5/10\n",
            "60/60 [==============================] - 2s 32ms/step - loss: 1.8229 - accuracy: 0.5094 - val_loss: 1.8737 - val_accuracy: 0.4918\n",
            "Epoch 6/10\n",
            "60/60 [==============================] - 2s 32ms/step - loss: 1.7770 - accuracy: 0.5214 - val_loss: 1.8469 - val_accuracy: 0.5141\n",
            "Epoch 7/10\n",
            "60/60 [==============================] - 2s 34ms/step - loss: 1.6936 - accuracy: 0.5424 - val_loss: 1.8870 - val_accuracy: 0.4881\n",
            "Epoch 8/10\n",
            "60/60 [==============================] - 2s 34ms/step - loss: 1.6296 - accuracy: 0.5599 - val_loss: 1.9715 - val_accuracy: 0.5007\n",
            "Epoch 9/10\n",
            "60/60 [==============================] - 2s 34ms/step - loss: 1.5825 - accuracy: 0.5748 - val_loss: 1.8713 - val_accuracy: 0.5356\n",
            "Epoch 10/10\n",
            "60/60 [==============================] - 2s 34ms/step - loss: 1.5344 - accuracy: 0.5880 - val_loss: 1.9488 - val_accuracy: 0.5007\n",
            "71/71 [==============================] - 0s 4ms/step - loss: 1.9290 - accuracy: 0.5303\n"
          ],
          "name": "stdout"
        },
        {
          "output_type": "stream",
          "text": [
            "\r 41%|████      | 78/192 [30:46<55:49, 29.38s/it]"
          ],
          "name": "stderr"
        },
        {
          "output_type": "stream",
          "text": [
            "Epoch 1/10\n",
            "50/50 [==============================] - 7s 142ms/step - loss: 1.3199 - accuracy: 0.5484 - val_loss: 0.9922 - val_accuracy: 0.7140\n",
            "Epoch 2/10\n",
            "50/50 [==============================] - 7s 141ms/step - loss: 0.8731 - accuracy: 0.7207 - val_loss: 0.8411 - val_accuracy: 0.7451\n",
            "Epoch 3/10\n",
            "50/50 [==============================] - 7s 141ms/step - loss: 0.6857 - accuracy: 0.7819 - val_loss: 0.7600 - val_accuracy: 0.7815\n",
            "Epoch 4/10\n",
            "50/50 [==============================] - 7s 141ms/step - loss: 0.5312 - accuracy: 0.8404 - val_loss: 0.7455 - val_accuracy: 0.7931\n",
            "Epoch 5/10\n",
            "50/50 [==============================] - 7s 141ms/step - loss: 0.4138 - accuracy: 0.8827 - val_loss: 0.7043 - val_accuracy: 0.8259\n",
            "Epoch 6/10\n",
            "50/50 [==============================] - 7s 142ms/step - loss: 0.3247 - accuracy: 0.9136 - val_loss: 0.7531 - val_accuracy: 0.8197\n",
            "Epoch 7/10\n",
            "50/50 [==============================] - 7s 141ms/step - loss: 0.2650 - accuracy: 0.9359 - val_loss: 0.7766 - val_accuracy: 0.8295\n",
            "Epoch 8/10\n",
            "50/50 [==============================] - 7s 149ms/step - loss: 0.2111 - accuracy: 0.9472 - val_loss: 0.8885 - val_accuracy: 0.8108\n",
            "Epoch 9/10\n",
            "50/50 [==============================] - 7s 141ms/step - loss: 0.1821 - accuracy: 0.9534 - val_loss: 0.9097 - val_accuracy: 0.8162\n",
            "Epoch 10/10\n",
            "50/50 [==============================] - 7s 141ms/step - loss: 0.1671 - accuracy: 0.9584 - val_loss: 0.8389 - val_accuracy: 0.8268\n",
            "58/58 [==============================] - 0s 8ms/step - loss: 0.8938 - accuracy: 0.8083\n"
          ],
          "name": "stdout"
        },
        {
          "output_type": "stream",
          "text": [
            "\r 41%|████      | 79/192 [32:01<1:20:46, 42.89s/it]"
          ],
          "name": "stderr"
        },
        {
          "output_type": "stream",
          "text": [
            "Epoch 1/10\n",
            "60/60 [==============================] - 9s 145ms/step - loss: 2.1495 - accuracy: 0.4373 - val_loss: 1.7573 - val_accuracy: 0.5334\n",
            "Epoch 2/10\n",
            "60/60 [==============================] - 8s 140ms/step - loss: 1.6012 - accuracy: 0.5924 - val_loss: 1.5305 - val_accuracy: 0.6202\n",
            "Epoch 3/10\n",
            "60/60 [==============================] - 9s 143ms/step - loss: 1.3315 - accuracy: 0.6700 - val_loss: 1.4209 - val_accuracy: 0.6632\n",
            "Epoch 4/10\n",
            "60/60 [==============================] - 8s 141ms/step - loss: 1.1004 - accuracy: 0.7226 - val_loss: 1.3120 - val_accuracy: 0.7018\n",
            "Epoch 5/10\n",
            "60/60 [==============================] - 9s 142ms/step - loss: 0.9041 - accuracy: 0.7680 - val_loss: 1.3212 - val_accuracy: 0.7018\n",
            "Epoch 6/10\n",
            "60/60 [==============================] - 8s 141ms/step - loss: 0.7380 - accuracy: 0.8099 - val_loss: 1.2931 - val_accuracy: 0.7188\n",
            "Epoch 7/10\n",
            "60/60 [==============================] - 9s 142ms/step - loss: 0.6071 - accuracy: 0.8395 - val_loss: 1.2733 - val_accuracy: 0.7322\n",
            "Epoch 8/10\n",
            "60/60 [==============================] - 8s 140ms/step - loss: 0.4868 - accuracy: 0.8765 - val_loss: 1.3716 - val_accuracy: 0.7062\n",
            "Epoch 9/10\n",
            "60/60 [==============================] - 8s 141ms/step - loss: 0.4025 - accuracy: 0.8989 - val_loss: 1.3606 - val_accuracy: 0.7292\n",
            "Epoch 10/10\n",
            "60/60 [==============================] - 8s 141ms/step - loss: 0.3420 - accuracy: 0.9162 - val_loss: 1.4680 - val_accuracy: 0.7248\n",
            "71/71 [==============================] - 1s 8ms/step - loss: 1.5332 - accuracy: 0.7142\n"
          ],
          "name": "stdout"
        },
        {
          "output_type": "stream",
          "text": [
            "\r 42%|████▏     | 80/192 [33:29<1:45:42, 56.63s/it]"
          ],
          "name": "stderr"
        },
        {
          "output_type": "stream",
          "text": [
            "Epoch 1/10\n",
            "50/50 [==============================] - 1s 18ms/step - loss: 1.6076 - accuracy: 0.4755 - val_loss: 1.3172 - val_accuracy: 0.5737\n",
            "Epoch 2/10\n",
            "50/50 [==============================] - 1s 16ms/step - loss: 1.3308 - accuracy: 0.5556 - val_loss: 1.2463 - val_accuracy: 0.5924\n",
            "Epoch 3/10\n",
            "50/50 [==============================] - 1s 16ms/step - loss: 1.2338 - accuracy: 0.5717 - val_loss: 1.2108 - val_accuracy: 0.6021\n",
            "Epoch 4/10\n",
            "50/50 [==============================] - 1s 16ms/step - loss: 1.1612 - accuracy: 0.6012 - val_loss: 1.2233 - val_accuracy: 0.6155\n",
            "Epoch 5/10\n",
            "50/50 [==============================] - 1s 16ms/step - loss: 1.1098 - accuracy: 0.6160 - val_loss: 1.1281 - val_accuracy: 0.6261\n",
            "Epoch 6/10\n",
            "50/50 [==============================] - 1s 16ms/step - loss: 1.0537 - accuracy: 0.6367 - val_loss: 1.2258 - val_accuracy: 0.5790\n",
            "Epoch 7/10\n",
            "50/50 [==============================] - 1s 16ms/step - loss: 0.9993 - accuracy: 0.6560 - val_loss: 1.0781 - val_accuracy: 0.6625\n",
            "Epoch 8/10\n",
            "50/50 [==============================] - 1s 16ms/step - loss: 0.9353 - accuracy: 0.6828 - val_loss: 1.2428 - val_accuracy: 0.5710\n",
            "Epoch 9/10\n",
            "50/50 [==============================] - 1s 16ms/step - loss: 0.9095 - accuracy: 0.6919 - val_loss: 1.0427 - val_accuracy: 0.6696\n",
            "Epoch 10/10\n",
            "50/50 [==============================] - 1s 16ms/step - loss: 0.8604 - accuracy: 0.7135 - val_loss: 1.0273 - val_accuracy: 0.6785\n",
            "58/58 [==============================] - 0s 2ms/step - loss: 1.0187 - accuracy: 0.6674\n"
          ],
          "name": "stdout"
        },
        {
          "output_type": "stream",
          "text": [
            "\r 42%|████▏     | 81/192 [33:50<1:24:48, 45.85s/it]"
          ],
          "name": "stderr"
        },
        {
          "output_type": "stream",
          "text": [
            "Epoch 1/10\n",
            "60/60 [==============================] - 1s 18ms/step - loss: 2.4726 - accuracy: 0.3883 - val_loss: 2.0673 - val_accuracy: 0.4607\n",
            "Epoch 2/10\n",
            "60/60 [==============================] - 1s 16ms/step - loss: 2.0596 - accuracy: 0.4680 - val_loss: 2.0037 - val_accuracy: 0.4674\n",
            "Epoch 3/10\n",
            "60/60 [==============================] - 1s 16ms/step - loss: 1.9235 - accuracy: 0.4902 - val_loss: 2.0615 - val_accuracy: 0.4955\n",
            "Epoch 4/10\n",
            "60/60 [==============================] - 1s 16ms/step - loss: 1.8299 - accuracy: 0.5141 - val_loss: 1.9408 - val_accuracy: 0.4666\n",
            "Epoch 5/10\n",
            "60/60 [==============================] - 1s 16ms/step - loss: 1.7639 - accuracy: 0.5254 - val_loss: 1.8718 - val_accuracy: 0.4852\n",
            "Epoch 6/10\n",
            "60/60 [==============================] - 1s 16ms/step - loss: 1.6908 - accuracy: 0.5424 - val_loss: 1.8390 - val_accuracy: 0.5141\n",
            "Epoch 7/10\n",
            "60/60 [==============================] - 1s 16ms/step - loss: 1.6376 - accuracy: 0.5616 - val_loss: 1.8269 - val_accuracy: 0.5334\n",
            "Epoch 8/10\n",
            "60/60 [==============================] - 1s 16ms/step - loss: 1.5808 - accuracy: 0.5705 - val_loss: 1.9282 - val_accuracy: 0.4941\n",
            "Epoch 9/10\n",
            "60/60 [==============================] - 1s 16ms/step - loss: 1.4966 - accuracy: 0.5930 - val_loss: 1.9233 - val_accuracy: 0.4963\n",
            "Epoch 10/10\n",
            "60/60 [==============================] - 1s 16ms/step - loss: 1.4563 - accuracy: 0.6013 - val_loss: 1.7597 - val_accuracy: 0.5341\n",
            "71/71 [==============================] - 0s 2ms/step - loss: 1.8020 - accuracy: 0.5441\n"
          ],
          "name": "stdout"
        },
        {
          "output_type": "stream",
          "text": [
            "\r 43%|████▎     | 82/192 [34:12<1:10:58, 38.72s/it]"
          ],
          "name": "stderr"
        },
        {
          "output_type": "stream",
          "text": [
            "Epoch 1/10\n",
            "50/50 [==============================] - 1s 23ms/step - loss: 1.3878 - accuracy: 0.5059 - val_loss: 1.0551 - val_accuracy: 0.6190\n",
            "Epoch 2/10\n",
            "50/50 [==============================] - 1s 21ms/step - loss: 0.9581 - accuracy: 0.6740 - val_loss: 0.9263 - val_accuracy: 0.7123\n",
            "Epoch 3/10\n",
            "50/50 [==============================] - 1s 21ms/step - loss: 0.7979 - accuracy: 0.7386 - val_loss: 0.8421 - val_accuracy: 0.7504\n",
            "Epoch 4/10\n",
            "50/50 [==============================] - 1s 21ms/step - loss: 0.6527 - accuracy: 0.7932 - val_loss: 0.8025 - val_accuracy: 0.7647\n",
            "Epoch 5/10\n",
            "50/50 [==============================] - 1s 21ms/step - loss: 0.5178 - accuracy: 0.8432 - val_loss: 0.7595 - val_accuracy: 0.7895\n",
            "Epoch 6/10\n",
            "50/50 [==============================] - 1s 21ms/step - loss: 0.4006 - accuracy: 0.8874 - val_loss: 0.7693 - val_accuracy: 0.8046\n",
            "Epoch 7/10\n",
            "50/50 [==============================] - 1s 21ms/step - loss: 0.3362 - accuracy: 0.9031 - val_loss: 0.7969 - val_accuracy: 0.8037\n",
            "Epoch 8/10\n",
            "50/50 [==============================] - 1s 21ms/step - loss: 0.2740 - accuracy: 0.9266 - val_loss: 0.8177 - val_accuracy: 0.8099\n",
            "Epoch 9/10\n",
            "50/50 [==============================] - 1s 20ms/step - loss: 0.2252 - accuracy: 0.9415 - val_loss: 0.8798 - val_accuracy: 0.8020\n",
            "Epoch 10/10\n",
            "50/50 [==============================] - 1s 21ms/step - loss: 0.1972 - accuracy: 0.9453 - val_loss: 0.9317 - val_accuracy: 0.8091\n",
            "58/58 [==============================] - 0s 3ms/step - loss: 0.9603 - accuracy: 0.7986\n"
          ],
          "name": "stdout"
        },
        {
          "output_type": "stream",
          "text": [
            "\r 43%|████▎     | 83/192 [34:25<56:01, 30.84s/it]  "
          ],
          "name": "stderr"
        },
        {
          "output_type": "stream",
          "text": [
            "Epoch 1/10\n",
            "60/60 [==============================] - 1s 23ms/step - loss: 2.1630 - accuracy: 0.4342 - val_loss: 1.7872 - val_accuracy: 0.5082\n",
            "Epoch 2/10\n",
            "60/60 [==============================] - 1s 21ms/step - loss: 1.6626 - accuracy: 0.5675 - val_loss: 1.5949 - val_accuracy: 0.5868\n",
            "Epoch 3/10\n",
            "60/60 [==============================] - 1s 21ms/step - loss: 1.4443 - accuracy: 0.6220 - val_loss: 1.5070 - val_accuracy: 0.6194\n",
            "Epoch 4/10\n",
            "60/60 [==============================] - 1s 21ms/step - loss: 1.2589 - accuracy: 0.6706 - val_loss: 1.4159 - val_accuracy: 0.6484\n",
            "Epoch 5/10\n",
            "60/60 [==============================] - 1s 21ms/step - loss: 1.0841 - accuracy: 0.7119 - val_loss: 1.3865 - val_accuracy: 0.6491\n",
            "Epoch 6/10\n",
            "60/60 [==============================] - 1s 21ms/step - loss: 0.9393 - accuracy: 0.7481 - val_loss: 1.4731 - val_accuracy: 0.6588\n",
            "Epoch 7/10\n",
            "60/60 [==============================] - 1s 21ms/step - loss: 0.8171 - accuracy: 0.7807 - val_loss: 1.4437 - val_accuracy: 0.6677\n",
            "Epoch 8/10\n",
            "60/60 [==============================] - 1s 21ms/step - loss: 0.7192 - accuracy: 0.8069 - val_loss: 1.5511 - val_accuracy: 0.6580\n",
            "Epoch 9/10\n",
            "60/60 [==============================] - 1s 21ms/step - loss: 0.6126 - accuracy: 0.8300 - val_loss: 1.5584 - val_accuracy: 0.6684\n",
            "Epoch 10/10\n",
            "60/60 [==============================] - 1s 21ms/step - loss: 0.5306 - accuracy: 0.8549 - val_loss: 1.7397 - val_accuracy: 0.6654\n",
            "71/71 [==============================] - 0s 3ms/step - loss: 1.7911 - accuracy: 0.6589\n"
          ],
          "name": "stdout"
        },
        {
          "output_type": "stream",
          "text": [
            "\r 44%|████▍     | 84/192 [34:39<46:44, 25.96s/it]"
          ],
          "name": "stderr"
        },
        {
          "output_type": "stream",
          "text": [
            "Epoch 1/10\n",
            "50/50 [==============================] - 1s 18ms/step - loss: 1.5407 - accuracy: 0.4844 - val_loss: 1.2930 - val_accuracy: 0.5595\n",
            "Epoch 2/10\n",
            "50/50 [==============================] - 1s 16ms/step - loss: 1.3058 - accuracy: 0.5510 - val_loss: 1.3150 - val_accuracy: 0.5906\n",
            "Epoch 3/10\n",
            "50/50 [==============================] - 1s 16ms/step - loss: 1.2221 - accuracy: 0.5744 - val_loss: 1.2120 - val_accuracy: 0.5844\n",
            "Epoch 4/10\n",
            "50/50 [==============================] - 1s 16ms/step - loss: 1.1623 - accuracy: 0.5982 - val_loss: 1.1479 - val_accuracy: 0.6075\n",
            "Epoch 5/10\n",
            "50/50 [==============================] - 1s 16ms/step - loss: 1.0938 - accuracy: 0.6271 - val_loss: 1.1358 - val_accuracy: 0.6288\n",
            "Epoch 6/10\n",
            "50/50 [==============================] - 1s 16ms/step - loss: 1.0479 - accuracy: 0.6404 - val_loss: 1.1321 - val_accuracy: 0.6226\n",
            "Epoch 7/10\n",
            "50/50 [==============================] - 1s 16ms/step - loss: 0.9956 - accuracy: 0.6610 - val_loss: 1.0830 - val_accuracy: 0.6519\n",
            "Epoch 8/10\n",
            "50/50 [==============================] - 1s 16ms/step - loss: 0.9446 - accuracy: 0.6859 - val_loss: 1.0917 - val_accuracy: 0.6528\n",
            "Epoch 9/10\n",
            "50/50 [==============================] - 1s 16ms/step - loss: 0.9010 - accuracy: 0.6936 - val_loss: 1.1117 - val_accuracy: 0.6563\n",
            "Epoch 10/10\n",
            "50/50 [==============================] - 1s 16ms/step - loss: 0.8645 - accuracy: 0.7091 - val_loss: 1.0483 - val_accuracy: 0.6652\n",
            "58/58 [==============================] - 0s 2ms/step - loss: 1.0309 - accuracy: 0.6577\n"
          ],
          "name": "stdout"
        },
        {
          "output_type": "stream",
          "text": [
            "\r 44%|████▍     | 85/192 [35:00<43:34, 24.43s/it]"
          ],
          "name": "stderr"
        },
        {
          "output_type": "stream",
          "text": [
            "Epoch 1/10\n",
            "60/60 [==============================] - 1s 18ms/step - loss: 2.4650 - accuracy: 0.3942 - val_loss: 2.0833 - val_accuracy: 0.4629\n",
            "Epoch 2/10\n",
            "60/60 [==============================] - 1s 16ms/step - loss: 2.0652 - accuracy: 0.4646 - val_loss: 2.2159 - val_accuracy: 0.3516\n",
            "Epoch 3/10\n",
            "60/60 [==============================] - 1s 16ms/step - loss: 1.9472 - accuracy: 0.4874 - val_loss: 2.1082 - val_accuracy: 0.4473\n",
            "Epoch 4/10\n",
            "60/60 [==============================] - 1s 16ms/step - loss: 1.8539 - accuracy: 0.5119 - val_loss: 2.0109 - val_accuracy: 0.4785\n",
            "Epoch 5/10\n",
            "60/60 [==============================] - 1s 16ms/step - loss: 1.7696 - accuracy: 0.5291 - val_loss: 1.9350 - val_accuracy: 0.4599\n",
            "Epoch 6/10\n",
            "60/60 [==============================] - 1s 16ms/step - loss: 1.6873 - accuracy: 0.5456 - val_loss: 1.8436 - val_accuracy: 0.5156\n",
            "Epoch 7/10\n",
            "60/60 [==============================] - 1s 16ms/step - loss: 1.6203 - accuracy: 0.5693 - val_loss: 1.7827 - val_accuracy: 0.5378\n",
            "Epoch 8/10\n",
            "60/60 [==============================] - 1s 16ms/step - loss: 1.5593 - accuracy: 0.5744 - val_loss: 1.7811 - val_accuracy: 0.5430\n",
            "Epoch 9/10\n",
            "60/60 [==============================] - 1s 16ms/step - loss: 1.4868 - accuracy: 0.5955 - val_loss: 1.7725 - val_accuracy: 0.5386\n",
            "Epoch 10/10\n",
            "60/60 [==============================] - 1s 16ms/step - loss: 1.4060 - accuracy: 0.6113 - val_loss: 1.7099 - val_accuracy: 0.5556\n",
            "71/71 [==============================] - 0s 3ms/step - loss: 1.7133 - accuracy: 0.5508\n"
          ],
          "name": "stdout"
        },
        {
          "output_type": "stream",
          "text": [
            "\r 45%|████▍     | 86/192 [35:23<42:09, 23.87s/it]"
          ],
          "name": "stderr"
        },
        {
          "output_type": "stream",
          "text": [
            "Epoch 1/10\n",
            "50/50 [==============================] - 3s 56ms/step - loss: 1.2700 - accuracy: 0.5556 - val_loss: 0.9618 - val_accuracy: 0.6936\n",
            "Epoch 2/10\n",
            "50/50 [==============================] - 3s 54ms/step - loss: 0.8559 - accuracy: 0.7254 - val_loss: 0.8523 - val_accuracy: 0.7362\n",
            "Epoch 3/10\n",
            "50/50 [==============================] - 3s 54ms/step - loss: 0.6265 - accuracy: 0.8231 - val_loss: 0.7425 - val_accuracy: 0.7975\n",
            "Epoch 4/10\n",
            "50/50 [==============================] - 3s 54ms/step - loss: 0.4302 - accuracy: 0.8862 - val_loss: 0.6951 - val_accuracy: 0.8188\n",
            "Epoch 5/10\n",
            "50/50 [==============================] - 3s 53ms/step - loss: 0.3021 - accuracy: 0.9218 - val_loss: 0.6944 - val_accuracy: 0.8242\n",
            "Epoch 6/10\n",
            "50/50 [==============================] - 3s 53ms/step - loss: 0.2257 - accuracy: 0.9429 - val_loss: 0.7599 - val_accuracy: 0.8286\n",
            "Epoch 7/10\n",
            "50/50 [==============================] - 3s 54ms/step - loss: 0.1798 - accuracy: 0.9556 - val_loss: 0.7553 - val_accuracy: 0.8295\n",
            "Epoch 8/10\n",
            "50/50 [==============================] - 3s 54ms/step - loss: 0.1578 - accuracy: 0.9566 - val_loss: 0.7400 - val_accuracy: 0.8339\n",
            "Epoch 9/10\n",
            "50/50 [==============================] - 3s 55ms/step - loss: 0.1366 - accuracy: 0.9635 - val_loss: 0.7488 - val_accuracy: 0.8215\n",
            "Epoch 10/10\n",
            "50/50 [==============================] - 3s 56ms/step - loss: 0.1302 - accuracy: 0.9624 - val_loss: 0.8118 - val_accuracy: 0.8188\n",
            "58/58 [==============================] - 0s 5ms/step - loss: 0.8572 - accuracy: 0.8099\n"
          ],
          "name": "stdout"
        },
        {
          "output_type": "stream",
          "text": [
            "\r 45%|████▌     | 87/192 [35:52<44:42, 25.55s/it]"
          ],
          "name": "stderr"
        },
        {
          "output_type": "stream",
          "text": [
            "Epoch 1/10\n",
            "60/60 [==============================] - 4s 59ms/step - loss: 2.0838 - accuracy: 0.4493 - val_loss: 1.7113 - val_accuracy: 0.5542\n",
            "Epoch 2/10\n",
            "60/60 [==============================] - 3s 56ms/step - loss: 1.5487 - accuracy: 0.5979 - val_loss: 1.5212 - val_accuracy: 0.6105\n",
            "Epoch 3/10\n",
            "60/60 [==============================] - 3s 56ms/step - loss: 1.2589 - accuracy: 0.6818 - val_loss: 1.3712 - val_accuracy: 0.6654\n",
            "Epoch 4/10\n",
            "60/60 [==============================] - 3s 56ms/step - loss: 1.0087 - accuracy: 0.7435 - val_loss: 1.2823 - val_accuracy: 0.6944\n",
            "Epoch 5/10\n",
            "60/60 [==============================] - 3s 55ms/step - loss: 0.7953 - accuracy: 0.7985 - val_loss: 1.2755 - val_accuracy: 0.7003\n",
            "Epoch 6/10\n",
            "60/60 [==============================] - 3s 55ms/step - loss: 0.6182 - accuracy: 0.8416 - val_loss: 1.3469 - val_accuracy: 0.7025\n",
            "Epoch 7/10\n",
            "60/60 [==============================] - 3s 55ms/step - loss: 0.4724 - accuracy: 0.8800 - val_loss: 1.2930 - val_accuracy: 0.7151\n",
            "Epoch 8/10\n",
            "60/60 [==============================] - 3s 55ms/step - loss: 0.3653 - accuracy: 0.9105 - val_loss: 1.5100 - val_accuracy: 0.7010\n",
            "Epoch 9/10\n",
            "60/60 [==============================] - 3s 55ms/step - loss: 0.2981 - accuracy: 0.9299 - val_loss: 1.4828 - val_accuracy: 0.7025\n",
            "Epoch 10/10\n",
            "60/60 [==============================] - 3s 55ms/step - loss: 0.2409 - accuracy: 0.9412 - val_loss: 1.4619 - val_accuracy: 0.7107\n",
            "71/71 [==============================] - 0s 5ms/step - loss: 1.4737 - accuracy: 0.6981\n"
          ],
          "name": "stdout"
        },
        {
          "output_type": "stream",
          "text": [
            "\r 46%|████▌     | 88/192 [36:28<49:42, 28.68s/it]"
          ],
          "name": "stderr"
        },
        {
          "output_type": "stream",
          "text": [
            "Epoch 1/10\n",
            "50/50 [==============================] - 2s 34ms/step - loss: 1.5693 - accuracy: 0.4740 - val_loss: 1.3078 - val_accuracy: 0.5764\n",
            "Epoch 2/10\n",
            "50/50 [==============================] - 2s 31ms/step - loss: 1.3077 - accuracy: 0.5477 - val_loss: 1.2853 - val_accuracy: 0.5790\n",
            "Epoch 3/10\n",
            "50/50 [==============================] - 2s 31ms/step - loss: 1.2196 - accuracy: 0.5810 - val_loss: 1.2020 - val_accuracy: 0.6039\n",
            "Epoch 4/10\n",
            "50/50 [==============================] - 2s 31ms/step - loss: 1.1455 - accuracy: 0.6135 - val_loss: 1.1359 - val_accuracy: 0.6101\n",
            "Epoch 5/10\n",
            "50/50 [==============================] - 2s 31ms/step - loss: 1.0625 - accuracy: 0.6400 - val_loss: 1.3258 - val_accuracy: 0.5746\n",
            "Epoch 6/10\n",
            "50/50 [==============================] - 2s 31ms/step - loss: 1.0069 - accuracy: 0.6621 - val_loss: 1.0621 - val_accuracy: 0.6528\n",
            "Epoch 7/10\n",
            "50/50 [==============================] - 2s 31ms/step - loss: 0.9398 - accuracy: 0.6872 - val_loss: 1.1111 - val_accuracy: 0.6288\n",
            "Epoch 8/10\n",
            "50/50 [==============================] - 2s 31ms/step - loss: 0.8902 - accuracy: 0.7049 - val_loss: 1.0482 - val_accuracy: 0.6732\n",
            "Epoch 9/10\n",
            "50/50 [==============================] - 2s 31ms/step - loss: 0.8361 - accuracy: 0.7270 - val_loss: 1.0185 - val_accuracy: 0.6785\n",
            "Epoch 10/10\n",
            "50/50 [==============================] - 2s 31ms/step - loss: 0.7800 - accuracy: 0.7488 - val_loss: 1.0490 - val_accuracy: 0.6829\n",
            "58/58 [==============================] - 0s 4ms/step - loss: 1.0133 - accuracy: 0.6809\n"
          ],
          "name": "stdout"
        },
        {
          "output_type": "stream",
          "text": [
            "\r 46%|████▋     | 89/192 [36:57<49:12, 28.66s/it]"
          ],
          "name": "stderr"
        },
        {
          "output_type": "stream",
          "text": [
            "Epoch 1/10\n",
            "60/60 [==============================] - 2s 33ms/step - loss: 2.4110 - accuracy: 0.3991 - val_loss: 2.0571 - val_accuracy: 0.4726\n",
            "Epoch 2/10\n",
            "60/60 [==============================] - 2s 32ms/step - loss: 2.0216 - accuracy: 0.4661 - val_loss: 1.9760 - val_accuracy: 0.4718\n",
            "Epoch 3/10\n",
            "60/60 [==============================] - 2s 32ms/step - loss: 1.8961 - accuracy: 0.4910 - val_loss: 1.8843 - val_accuracy: 0.5104\n",
            "Epoch 4/10\n",
            "60/60 [==============================] - 2s 31ms/step - loss: 1.7952 - accuracy: 0.5225 - val_loss: 1.8789 - val_accuracy: 0.4800\n",
            "Epoch 5/10\n",
            "60/60 [==============================] - 2s 31ms/step - loss: 1.6972 - accuracy: 0.5363 - val_loss: 1.8295 - val_accuracy: 0.5067\n",
            "Epoch 6/10\n",
            "60/60 [==============================] - 2s 31ms/step - loss: 1.6010 - accuracy: 0.5603 - val_loss: 1.8516 - val_accuracy: 0.5096\n",
            "Epoch 7/10\n",
            "60/60 [==============================] - 2s 32ms/step - loss: 1.5342 - accuracy: 0.5764 - val_loss: 1.8903 - val_accuracy: 0.5267\n",
            "Epoch 8/10\n",
            "60/60 [==============================] - 2s 31ms/step - loss: 1.4613 - accuracy: 0.5930 - val_loss: 1.7646 - val_accuracy: 0.5349\n",
            "Epoch 9/10\n",
            "60/60 [==============================] - 2s 31ms/step - loss: 1.3909 - accuracy: 0.6068 - val_loss: 1.7525 - val_accuracy: 0.5497\n",
            "Epoch 10/10\n",
            "60/60 [==============================] - 2s 32ms/step - loss: 1.3265 - accuracy: 0.6229 - val_loss: 1.7831 - val_accuracy: 0.5631\n",
            "71/71 [==============================] - 0s 4ms/step - loss: 1.8199 - accuracy: 0.5467\n"
          ],
          "name": "stdout"
        },
        {
          "output_type": "stream",
          "text": [
            "\r 47%|████▋     | 90/192 [37:28<50:14, 29.55s/it]"
          ],
          "name": "stderr"
        },
        {
          "output_type": "stream",
          "text": [
            "Epoch 1/10\n",
            "50/50 [==============================] - 2s 46ms/step - loss: 1.3930 - accuracy: 0.5212 - val_loss: 1.0577 - val_accuracy: 0.6412\n",
            "Epoch 2/10\n",
            "50/50 [==============================] - 2s 43ms/step - loss: 0.9246 - accuracy: 0.6919 - val_loss: 0.8755 - val_accuracy: 0.7238\n",
            "Epoch 3/10\n",
            "50/50 [==============================] - 2s 43ms/step - loss: 0.7506 - accuracy: 0.7560 - val_loss: 0.7915 - val_accuracy: 0.7691\n",
            "Epoch 4/10\n",
            "50/50 [==============================] - 2s 44ms/step - loss: 0.5849 - accuracy: 0.8184 - val_loss: 0.7398 - val_accuracy: 0.7851\n",
            "Epoch 5/10\n",
            "50/50 [==============================] - 2s 44ms/step - loss: 0.4620 - accuracy: 0.8609 - val_loss: 0.7726 - val_accuracy: 0.7948\n",
            "Epoch 6/10\n",
            "50/50 [==============================] - 2s 44ms/step - loss: 0.3751 - accuracy: 0.9006 - val_loss: 0.7947 - val_accuracy: 0.8108\n",
            "Epoch 7/10\n",
            "50/50 [==============================] - 2s 44ms/step - loss: 0.3050 - accuracy: 0.9169 - val_loss: 0.8029 - val_accuracy: 0.8082\n",
            "Epoch 8/10\n",
            "50/50 [==============================] - 2s 44ms/step - loss: 0.2612 - accuracy: 0.9323 - val_loss: 0.7777 - val_accuracy: 0.8295\n",
            "Epoch 9/10\n",
            "50/50 [==============================] - 2s 44ms/step - loss: 0.2204 - accuracy: 0.9420 - val_loss: 0.7890 - val_accuracy: 0.8339\n",
            "Epoch 10/10\n",
            "50/50 [==============================] - 2s 43ms/step - loss: 0.1927 - accuracy: 0.9512 - val_loss: 0.8942 - val_accuracy: 0.8242\n",
            "58/58 [==============================] - 0s 4ms/step - loss: 1.0006 - accuracy: 0.8089\n"
          ],
          "name": "stdout"
        },
        {
          "output_type": "stream",
          "text": [
            "\r 47%|████▋     | 91/192 [37:53<47:06, 27.98s/it]"
          ],
          "name": "stderr"
        },
        {
          "output_type": "stream",
          "text": [
            "Epoch 1/10\n",
            "60/60 [==============================] - 3s 46ms/step - loss: 2.1437 - accuracy: 0.4379 - val_loss: 1.7680 - val_accuracy: 0.5289\n",
            "Epoch 2/10\n",
            "60/60 [==============================] - 3s 44ms/step - loss: 1.6209 - accuracy: 0.5787 - val_loss: 1.5783 - val_accuracy: 0.5861\n",
            "Epoch 3/10\n",
            "60/60 [==============================] - 3s 44ms/step - loss: 1.4063 - accuracy: 0.6403 - val_loss: 1.4840 - val_accuracy: 0.6372\n",
            "Epoch 4/10\n",
            "60/60 [==============================] - 3s 44ms/step - loss: 1.2364 - accuracy: 0.6766 - val_loss: 1.4687 - val_accuracy: 0.6484\n",
            "Epoch 5/10\n",
            "60/60 [==============================] - 3s 44ms/step - loss: 1.0546 - accuracy: 0.7243 - val_loss: 1.3709 - val_accuracy: 0.6862\n",
            "Epoch 6/10\n",
            "60/60 [==============================] - 3s 44ms/step - loss: 0.9011 - accuracy: 0.7638 - val_loss: 1.3658 - val_accuracy: 0.6944\n",
            "Epoch 7/10\n",
            "60/60 [==============================] - 3s 44ms/step - loss: 0.7681 - accuracy: 0.7946 - val_loss: 1.4312 - val_accuracy: 0.7018\n",
            "Epoch 8/10\n",
            "60/60 [==============================] - 3s 44ms/step - loss: 0.6520 - accuracy: 0.8275 - val_loss: 1.4785 - val_accuracy: 0.7010\n",
            "Epoch 9/10\n",
            "60/60 [==============================] - 3s 44ms/step - loss: 0.5546 - accuracy: 0.8537 - val_loss: 1.5227 - val_accuracy: 0.6921\n",
            "Epoch 10/10\n",
            "60/60 [==============================] - 3s 44ms/step - loss: 0.4792 - accuracy: 0.8689 - val_loss: 1.6203 - val_accuracy: 0.7033\n",
            "71/71 [==============================] - 0s 4ms/step - loss: 1.6706 - accuracy: 0.6906\n"
          ],
          "name": "stdout"
        },
        {
          "output_type": "stream",
          "text": [
            "\r 48%|████▊     | 92/192 [38:21<47:00, 28.21s/it]"
          ],
          "name": "stderr"
        },
        {
          "output_type": "stream",
          "text": [
            "Epoch 1/10\n",
            "50/50 [==============================] - 2s 34ms/step - loss: 1.5658 - accuracy: 0.4703 - val_loss: 1.3109 - val_accuracy: 0.5693\n",
            "Epoch 2/10\n",
            "50/50 [==============================] - 2s 32ms/step - loss: 1.3031 - accuracy: 0.5592 - val_loss: 1.2544 - val_accuracy: 0.5826\n",
            "Epoch 3/10\n",
            "50/50 [==============================] - 2s 32ms/step - loss: 1.2163 - accuracy: 0.5830 - val_loss: 1.1771 - val_accuracy: 0.5888\n",
            "Epoch 4/10\n",
            "50/50 [==============================] - 2s 32ms/step - loss: 1.1334 - accuracy: 0.6072 - val_loss: 1.2550 - val_accuracy: 0.5657\n",
            "Epoch 5/10\n",
            "50/50 [==============================] - 2s 32ms/step - loss: 1.0707 - accuracy: 0.6356 - val_loss: 1.1070 - val_accuracy: 0.6403\n",
            "Epoch 6/10\n",
            "50/50 [==============================] - 2s 32ms/step - loss: 1.0123 - accuracy: 0.6627 - val_loss: 1.1178 - val_accuracy: 0.6190\n",
            "Epoch 7/10\n",
            "50/50 [==============================] - 2s 32ms/step - loss: 0.9496 - accuracy: 0.6809 - val_loss: 1.1181 - val_accuracy: 0.6359\n",
            "Epoch 8/10\n",
            "50/50 [==============================] - 2s 32ms/step - loss: 0.9159 - accuracy: 0.6964 - val_loss: 1.0320 - val_accuracy: 0.6847\n",
            "Epoch 9/10\n",
            "50/50 [==============================] - 2s 32ms/step - loss: 0.8415 - accuracy: 0.7231 - val_loss: 1.0136 - val_accuracy: 0.6803\n",
            "Epoch 10/10\n",
            "50/50 [==============================] - 2s 32ms/step - loss: 0.8139 - accuracy: 0.7333 - val_loss: 1.0478 - val_accuracy: 0.6776\n",
            "58/58 [==============================] - 0s 4ms/step - loss: 1.0417 - accuracy: 0.6685\n"
          ],
          "name": "stdout"
        },
        {
          "output_type": "stream",
          "text": [
            "\r 48%|████▊     | 93/192 [38:51<47:00, 28.49s/it]"
          ],
          "name": "stderr"
        },
        {
          "output_type": "stream",
          "text": [
            "Epoch 1/10\n",
            "60/60 [==============================] - 2s 33ms/step - loss: 2.4043 - accuracy: 0.3952 - val_loss: 2.0851 - val_accuracy: 0.4659\n",
            "Epoch 2/10\n",
            "60/60 [==============================] - 2s 32ms/step - loss: 2.0230 - accuracy: 0.4721 - val_loss: 1.9856 - val_accuracy: 0.4748\n",
            "Epoch 3/10\n",
            "60/60 [==============================] - 2s 32ms/step - loss: 1.9068 - accuracy: 0.4925 - val_loss: 2.0203 - val_accuracy: 0.4933\n",
            "Epoch 4/10\n",
            "60/60 [==============================] - 2s 32ms/step - loss: 1.8071 - accuracy: 0.5214 - val_loss: 1.8266 - val_accuracy: 0.5193\n",
            "Epoch 5/10\n",
            "60/60 [==============================] - 2s 32ms/step - loss: 1.7067 - accuracy: 0.5419 - val_loss: 1.8040 - val_accuracy: 0.5274\n",
            "Epoch 6/10\n",
            "60/60 [==============================] - 2s 32ms/step - loss: 1.6423 - accuracy: 0.5567 - val_loss: 1.9043 - val_accuracy: 0.5022\n",
            "Epoch 7/10\n",
            "60/60 [==============================] - 2s 32ms/step - loss: 1.5632 - accuracy: 0.5735 - val_loss: 1.7456 - val_accuracy: 0.5378\n",
            "Epoch 8/10\n",
            "60/60 [==============================] - 2s 32ms/step - loss: 1.4693 - accuracy: 0.5944 - val_loss: 1.9041 - val_accuracy: 0.5319\n",
            "Epoch 9/10\n",
            "60/60 [==============================] - 2s 32ms/step - loss: 1.3972 - accuracy: 0.6089 - val_loss: 1.8614 - val_accuracy: 0.5371\n",
            "Epoch 10/10\n",
            "60/60 [==============================] - 2s 31ms/step - loss: 1.3346 - accuracy: 0.6264 - val_loss: 1.9285 - val_accuracy: 0.5467\n",
            "71/71 [==============================] - 0s 4ms/step - loss: 1.9781 - accuracy: 0.5467\n"
          ],
          "name": "stdout"
        },
        {
          "output_type": "stream",
          "text": [
            "\r 49%|████▉     | 94/192 [39:23<48:15, 29.55s/it]"
          ],
          "name": "stderr"
        },
        {
          "output_type": "stream",
          "text": [
            "Epoch 1/10\n",
            "50/50 [==============================] - 7s 144ms/step - loss: 1.2614 - accuracy: 0.5688 - val_loss: 0.9411 - val_accuracy: 0.7158\n",
            "Epoch 2/10\n",
            "50/50 [==============================] - 7s 144ms/step - loss: 0.8263 - accuracy: 0.7398 - val_loss: 0.7983 - val_accuracy: 0.7735\n",
            "Epoch 3/10\n",
            "50/50 [==============================] - 7s 142ms/step - loss: 0.6027 - accuracy: 0.8197 - val_loss: 0.7492 - val_accuracy: 0.8037\n",
            "Epoch 4/10\n",
            "50/50 [==============================] - 7s 143ms/step - loss: 0.4246 - accuracy: 0.8827 - val_loss: 0.6583 - val_accuracy: 0.8375\n",
            "Epoch 5/10\n",
            "50/50 [==============================] - 7s 142ms/step - loss: 0.3039 - accuracy: 0.9180 - val_loss: 0.6322 - val_accuracy: 0.8526\n",
            "Epoch 6/10\n",
            "50/50 [==============================] - 7s 143ms/step - loss: 0.2314 - accuracy: 0.9377 - val_loss: 0.6830 - val_accuracy: 0.8561\n",
            "Epoch 7/10\n",
            "50/50 [==============================] - 7s 141ms/step - loss: 0.1914 - accuracy: 0.9509 - val_loss: 0.7288 - val_accuracy: 0.8401\n",
            "Epoch 8/10\n",
            "50/50 [==============================] - 7s 141ms/step - loss: 0.1634 - accuracy: 0.9570 - val_loss: 0.7306 - val_accuracy: 0.8606\n",
            "Epoch 9/10\n",
            "50/50 [==============================] - 7s 143ms/step - loss: 0.1455 - accuracy: 0.9597 - val_loss: 0.7317 - val_accuracy: 0.8455\n",
            "Epoch 10/10\n",
            "50/50 [==============================] - 7s 144ms/step - loss: 0.1307 - accuracy: 0.9646 - val_loss: 0.7811 - val_accuracy: 0.8490\n",
            "58/58 [==============================] - 0s 8ms/step - loss: 0.8707 - accuracy: 0.8369\n"
          ],
          "name": "stdout"
        },
        {
          "output_type": "stream",
          "text": [
            "\r 49%|████▉     | 95/192 [40:37<1:09:41, 43.11s/it]"
          ],
          "name": "stderr"
        },
        {
          "output_type": "stream",
          "text": [
            "Epoch 1/10\n",
            "60/60 [==============================] - 9s 144ms/step - loss: 2.0677 - accuracy: 0.4649 - val_loss: 1.6771 - val_accuracy: 0.5623\n",
            "Epoch 2/10\n",
            "60/60 [==============================] - 8s 141ms/step - loss: 1.5434 - accuracy: 0.6075 - val_loss: 1.5567 - val_accuracy: 0.6209\n",
            "Epoch 3/10\n",
            "60/60 [==============================] - 9s 145ms/step - loss: 1.2454 - accuracy: 0.6848 - val_loss: 1.3411 - val_accuracy: 0.6907\n",
            "Epoch 4/10\n",
            "60/60 [==============================] - 9s 142ms/step - loss: 0.9953 - accuracy: 0.7482 - val_loss: 1.2787 - val_accuracy: 0.7159\n",
            "Epoch 5/10\n",
            "60/60 [==============================] - 9s 143ms/step - loss: 0.7913 - accuracy: 0.8000 - val_loss: 1.2968 - val_accuracy: 0.7196\n",
            "Epoch 6/10\n",
            "60/60 [==============================] - 9s 143ms/step - loss: 0.6160 - accuracy: 0.8465 - val_loss: 1.2875 - val_accuracy: 0.7233\n",
            "Epoch 7/10\n",
            "60/60 [==============================] - 9s 143ms/step - loss: 0.4824 - accuracy: 0.8782 - val_loss: 1.3507 - val_accuracy: 0.7285\n",
            "Epoch 8/10\n",
            "60/60 [==============================] - 9s 142ms/step - loss: 0.3741 - accuracy: 0.9076 - val_loss: 1.4964 - val_accuracy: 0.7329\n",
            "Epoch 9/10\n",
            "60/60 [==============================] - 9s 143ms/step - loss: 0.3037 - accuracy: 0.9227 - val_loss: 1.4680 - val_accuracy: 0.7085\n",
            "Epoch 10/10\n",
            "60/60 [==============================] - 8s 141ms/step - loss: 0.2614 - accuracy: 0.9328 - val_loss: 1.6537 - val_accuracy: 0.7322\n",
            "71/71 [==============================] - 1s 8ms/step - loss: 1.7278 - accuracy: 0.7017\n"
          ],
          "name": "stdout"
        },
        {
          "output_type": "stream",
          "text": [
            "\r 50%|█████     | 96/192 [42:07<1:31:06, 56.94s/it]"
          ],
          "name": "stderr"
        },
        {
          "output_type": "stream",
          "text": [
            "Epoch 1/10\n",
            "50/50 [==============================] - 1s 11ms/step - loss: 1.9544 - accuracy: 0.3110 - val_loss: 1.5499 - val_accuracy: 0.4529\n",
            "Epoch 2/10\n",
            "50/50 [==============================] - 0s 9ms/step - loss: 1.5483 - accuracy: 0.4695 - val_loss: 1.3355 - val_accuracy: 0.5719\n",
            "Epoch 3/10\n",
            "50/50 [==============================] - 0s 9ms/step - loss: 1.3884 - accuracy: 0.5264 - val_loss: 1.3046 - val_accuracy: 0.5817\n",
            "Epoch 4/10\n",
            "50/50 [==============================] - 0s 9ms/step - loss: 1.3269 - accuracy: 0.5474 - val_loss: 1.2205 - val_accuracy: 0.5853\n",
            "Epoch 5/10\n",
            "50/50 [==============================] - 0s 9ms/step - loss: 1.2796 - accuracy: 0.5542 - val_loss: 1.1991 - val_accuracy: 0.5959\n",
            "Epoch 6/10\n",
            "50/50 [==============================] - 0s 9ms/step - loss: 1.2398 - accuracy: 0.5622 - val_loss: 1.1984 - val_accuracy: 0.6039\n",
            "Epoch 7/10\n",
            "50/50 [==============================] - 0s 9ms/step - loss: 1.2154 - accuracy: 0.5749 - val_loss: 1.1647 - val_accuracy: 0.5950\n",
            "Epoch 8/10\n",
            "50/50 [==============================] - 0s 9ms/step - loss: 1.1966 - accuracy: 0.5764 - val_loss: 1.1517 - val_accuracy: 0.6163\n",
            "Epoch 9/10\n",
            "50/50 [==============================] - 0s 9ms/step - loss: 1.1734 - accuracy: 0.5821 - val_loss: 1.1912 - val_accuracy: 0.5924\n",
            "Epoch 10/10\n",
            "50/50 [==============================] - 0s 9ms/step - loss: 1.1513 - accuracy: 0.5873 - val_loss: 1.1402 - val_accuracy: 0.6270\n",
            "58/58 [==============================] - 0s 2ms/step - loss: 1.1454 - accuracy: 0.6253\n"
          ],
          "name": "stdout"
        },
        {
          "output_type": "stream",
          "text": [
            "\r 51%|█████     | 97/192 [42:24<1:11:13, 44.99s/it]"
          ],
          "name": "stderr"
        },
        {
          "output_type": "stream",
          "text": [
            "Epoch 1/10\n",
            "60/60 [==============================] - 1s 11ms/step - loss: 3.0241 - accuracy: 0.2304 - val_loss: 2.3121 - val_accuracy: 0.3806\n",
            "Epoch 2/10\n",
            "60/60 [==============================] - 1s 9ms/step - loss: 2.3482 - accuracy: 0.3893 - val_loss: 2.1265 - val_accuracy: 0.4570\n",
            "Epoch 3/10\n",
            "60/60 [==============================] - 1s 9ms/step - loss: 2.1545 - accuracy: 0.4307 - val_loss: 2.0512 - val_accuracy: 0.4622\n",
            "Epoch 4/10\n",
            "60/60 [==============================] - 1s 9ms/step - loss: 2.0757 - accuracy: 0.4564 - val_loss: 1.9974 - val_accuracy: 0.4800\n",
            "Epoch 5/10\n",
            "60/60 [==============================] - 1s 9ms/step - loss: 2.0116 - accuracy: 0.4676 - val_loss: 1.9495 - val_accuracy: 0.4755\n",
            "Epoch 6/10\n",
            "60/60 [==============================] - 1s 9ms/step - loss: 1.9689 - accuracy: 0.4802 - val_loss: 1.9150 - val_accuracy: 0.4911\n",
            "Epoch 7/10\n",
            "60/60 [==============================] - 1s 9ms/step - loss: 1.9285 - accuracy: 0.4869 - val_loss: 1.9242 - val_accuracy: 0.5030\n",
            "Epoch 8/10\n",
            "60/60 [==============================] - 1s 9ms/step - loss: 1.9010 - accuracy: 0.5004 - val_loss: 1.9228 - val_accuracy: 0.5000\n",
            "Epoch 9/10\n",
            "60/60 [==============================] - 1s 9ms/step - loss: 1.8689 - accuracy: 0.5031 - val_loss: 1.9493 - val_accuracy: 0.4473\n",
            "Epoch 10/10\n",
            "60/60 [==============================] - 1s 9ms/step - loss: 1.8404 - accuracy: 0.5090 - val_loss: 1.8511 - val_accuracy: 0.5096\n",
            "71/71 [==============================] - 0s 2ms/step - loss: 1.8498 - accuracy: 0.5174\n"
          ],
          "name": "stdout"
        },
        {
          "output_type": "stream",
          "text": [
            "\r 51%|█████     | 98/192 [42:41<57:40, 36.81s/it]  "
          ],
          "name": "stderr"
        },
        {
          "output_type": "stream",
          "text": [
            "Epoch 1/10\n",
            "50/50 [==============================] - 1s 18ms/step - loss: 1.6251 - accuracy: 0.4171 - val_loss: 1.2602 - val_accuracy: 0.5737\n",
            "Epoch 2/10\n",
            "50/50 [==============================] - 1s 16ms/step - loss: 1.1918 - accuracy: 0.5741 - val_loss: 1.0365 - val_accuracy: 0.6359\n",
            "Epoch 3/10\n",
            "50/50 [==============================] - 1s 16ms/step - loss: 1.0188 - accuracy: 0.6309 - val_loss: 0.9839 - val_accuracy: 0.6634\n",
            "Epoch 4/10\n",
            "50/50 [==============================] - 1s 16ms/step - loss: 0.9467 - accuracy: 0.6647 - val_loss: 0.9505 - val_accuracy: 0.6821\n",
            "Epoch 5/10\n",
            "50/50 [==============================] - 1s 15ms/step - loss: 0.8658 - accuracy: 0.6999 - val_loss: 0.9275 - val_accuracy: 0.7016\n",
            "Epoch 6/10\n",
            "50/50 [==============================] - 1s 16ms/step - loss: 0.7975 - accuracy: 0.7326 - val_loss: 0.9044 - val_accuracy: 0.7265\n",
            "Epoch 7/10\n",
            "50/50 [==============================] - 1s 16ms/step - loss: 0.7175 - accuracy: 0.7709 - val_loss: 0.8708 - val_accuracy: 0.7425\n",
            "Epoch 8/10\n",
            "50/50 [==============================] - 1s 16ms/step - loss: 0.6402 - accuracy: 0.7939 - val_loss: 0.8510 - val_accuracy: 0.7567\n",
            "Epoch 9/10\n",
            "50/50 [==============================] - 1s 16ms/step - loss: 0.5700 - accuracy: 0.8135 - val_loss: 0.8358 - val_accuracy: 0.7638\n",
            "Epoch 10/10\n",
            "50/50 [==============================] - 1s 16ms/step - loss: 0.5103 - accuracy: 0.8344 - val_loss: 0.8448 - val_accuracy: 0.7664\n",
            "58/58 [==============================] - 0s 2ms/step - loss: 0.8566 - accuracy: 0.7684\n"
          ],
          "name": "stdout"
        },
        {
          "output_type": "stream",
          "text": [
            "\r 52%|█████▏    | 99/192 [42:51<44:33, 28.75s/it]"
          ],
          "name": "stderr"
        },
        {
          "output_type": "stream",
          "text": [
            "Epoch 1/10\n",
            "60/60 [==============================] - 1s 18ms/step - loss: 2.5158 - accuracy: 0.3420 - val_loss: 2.0271 - val_accuracy: 0.4191\n",
            "Epoch 2/10\n",
            "60/60 [==============================] - 1s 16ms/step - loss: 1.9656 - accuracy: 0.4578 - val_loss: 1.8037 - val_accuracy: 0.5030\n",
            "Epoch 3/10\n",
            "60/60 [==============================] - 1s 16ms/step - loss: 1.7609 - accuracy: 0.5238 - val_loss: 1.6807 - val_accuracy: 0.5378\n",
            "Epoch 4/10\n",
            "60/60 [==============================] - 1s 16ms/step - loss: 1.6259 - accuracy: 0.5652 - val_loss: 1.6202 - val_accuracy: 0.5712\n",
            "Epoch 5/10\n",
            "60/60 [==============================] - 1s 16ms/step - loss: 1.5200 - accuracy: 0.5961 - val_loss: 1.5934 - val_accuracy: 0.5823\n",
            "Epoch 6/10\n",
            "60/60 [==============================] - 1s 16ms/step - loss: 1.4247 - accuracy: 0.6214 - val_loss: 1.5469 - val_accuracy: 0.6068\n",
            "Epoch 7/10\n",
            "60/60 [==============================] - 1s 16ms/step - loss: 1.3189 - accuracy: 0.6467 - val_loss: 1.5394 - val_accuracy: 0.6120\n",
            "Epoch 8/10\n",
            "60/60 [==============================] - 1s 16ms/step - loss: 1.2438 - accuracy: 0.6673 - val_loss: 1.5164 - val_accuracy: 0.6276\n",
            "Epoch 9/10\n",
            "60/60 [==============================] - 1s 16ms/step - loss: 1.1625 - accuracy: 0.6814 - val_loss: 1.5040 - val_accuracy: 0.6350\n",
            "Epoch 10/10\n",
            "60/60 [==============================] - 1s 16ms/step - loss: 1.0835 - accuracy: 0.7011 - val_loss: 1.4957 - val_accuracy: 0.6417\n",
            "71/71 [==============================] - 0s 2ms/step - loss: 1.5250 - accuracy: 0.6238\n"
          ],
          "name": "stdout"
        },
        {
          "output_type": "stream",
          "text": [
            "\r 52%|█████▏    | 100/192 [43:03<36:09, 23.58s/it]"
          ],
          "name": "stderr"
        },
        {
          "output_type": "stream",
          "text": [
            "Epoch 1/10\n",
            "50/50 [==============================] - 1s 11ms/step - loss: 1.9267 - accuracy: 0.3235 - val_loss: 1.5031 - val_accuracy: 0.4591\n",
            "Epoch 2/10\n",
            "50/50 [==============================] - 0s 9ms/step - loss: 1.5256 - accuracy: 0.4659 - val_loss: 1.3155 - val_accuracy: 0.5710\n",
            "Epoch 3/10\n",
            "50/50 [==============================] - 0s 8ms/step - loss: 1.3940 - accuracy: 0.5247 - val_loss: 1.2690 - val_accuracy: 0.5826\n",
            "Epoch 4/10\n",
            "50/50 [==============================] - 0s 9ms/step - loss: 1.3167 - accuracy: 0.5435 - val_loss: 1.2375 - val_accuracy: 0.5933\n",
            "Epoch 5/10\n",
            "50/50 [==============================] - 0s 8ms/step - loss: 1.2707 - accuracy: 0.5628 - val_loss: 1.2054 - val_accuracy: 0.6012\n",
            "Epoch 6/10\n",
            "50/50 [==============================] - 0s 8ms/step - loss: 1.2305 - accuracy: 0.5680 - val_loss: 1.1815 - val_accuracy: 0.5924\n",
            "Epoch 7/10\n",
            "50/50 [==============================] - 0s 8ms/step - loss: 1.2124 - accuracy: 0.5826 - val_loss: 1.1653 - val_accuracy: 0.6128\n",
            "Epoch 8/10\n",
            "50/50 [==============================] - 0s 8ms/step - loss: 1.1791 - accuracy: 0.5879 - val_loss: 1.1581 - val_accuracy: 0.6226\n",
            "Epoch 9/10\n",
            "50/50 [==============================] - 0s 8ms/step - loss: 1.1593 - accuracy: 0.5992 - val_loss: 1.1336 - val_accuracy: 0.6297\n",
            "Epoch 10/10\n",
            "50/50 [==============================] - 0s 8ms/step - loss: 1.1411 - accuracy: 0.6070 - val_loss: 1.2221 - val_accuracy: 0.5817\n",
            "58/58 [==============================] - 0s 2ms/step - loss: 1.1944 - accuracy: 0.5880\n"
          ],
          "name": "stdout"
        },
        {
          "output_type": "stream",
          "text": [
            "\r 53%|█████▎    | 101/192 [43:20<32:41, 21.55s/it]"
          ],
          "name": "stderr"
        },
        {
          "output_type": "stream",
          "text": [
            "Epoch 1/10\n",
            "60/60 [==============================] - 1s 11ms/step - loss: 2.9611 - accuracy: 0.2688 - val_loss: 2.3048 - val_accuracy: 0.3902\n",
            "Epoch 2/10\n",
            "60/60 [==============================] - 1s 9ms/step - loss: 2.3049 - accuracy: 0.4049 - val_loss: 2.1462 - val_accuracy: 0.4384\n",
            "Epoch 3/10\n",
            "60/60 [==============================] - 1s 9ms/step - loss: 2.1523 - accuracy: 0.4390 - val_loss: 2.0404 - val_accuracy: 0.4592\n",
            "Epoch 4/10\n",
            "60/60 [==============================] - 1s 9ms/step - loss: 2.0884 - accuracy: 0.4543 - val_loss: 2.0167 - val_accuracy: 0.4555\n",
            "Epoch 5/10\n",
            "60/60 [==============================] - 1s 9ms/step - loss: 2.0220 - accuracy: 0.4638 - val_loss: 1.9598 - val_accuracy: 0.4777\n",
            "Epoch 6/10\n",
            "60/60 [==============================] - 1s 9ms/step - loss: 1.9757 - accuracy: 0.4769 - val_loss: 1.9436 - val_accuracy: 0.4852\n",
            "Epoch 7/10\n",
            "60/60 [==============================] - 1s 9ms/step - loss: 1.9462 - accuracy: 0.4818 - val_loss: 1.9318 - val_accuracy: 0.4718\n",
            "Epoch 8/10\n",
            "60/60 [==============================] - 1s 9ms/step - loss: 1.9153 - accuracy: 0.4870 - val_loss: 1.9060 - val_accuracy: 0.4926\n",
            "Epoch 9/10\n",
            "60/60 [==============================] - 1s 9ms/step - loss: 1.8826 - accuracy: 0.4962 - val_loss: 1.8811 - val_accuracy: 0.4918\n",
            "Epoch 10/10\n",
            "60/60 [==============================] - 1s 9ms/step - loss: 1.8742 - accuracy: 0.5009 - val_loss: 1.8820 - val_accuracy: 0.4993\n",
            "71/71 [==============================] - 0s 2ms/step - loss: 1.8840 - accuracy: 0.5089\n"
          ],
          "name": "stdout"
        },
        {
          "output_type": "stream",
          "text": [
            "\r 53%|█████▎    | 102/192 [43:37<30:37, 20.42s/it]"
          ],
          "name": "stderr"
        },
        {
          "output_type": "stream",
          "text": [
            "Epoch 1/10\n",
            "50/50 [==============================] - 2s 44ms/step - loss: 1.5386 - accuracy: 0.4610 - val_loss: 1.1870 - val_accuracy: 0.6066\n",
            "Epoch 2/10\n",
            "50/50 [==============================] - 2s 42ms/step - loss: 1.1515 - accuracy: 0.5946 - val_loss: 1.0130 - val_accuracy: 0.6430\n",
            "Epoch 3/10\n",
            "50/50 [==============================] - 2s 42ms/step - loss: 0.9866 - accuracy: 0.6552 - val_loss: 0.9556 - val_accuracy: 0.6901\n",
            "Epoch 4/10\n",
            "50/50 [==============================] - 2s 42ms/step - loss: 0.8766 - accuracy: 0.7039 - val_loss: 0.9328 - val_accuracy: 0.7007\n",
            "Epoch 5/10\n",
            "50/50 [==============================] - 2s 42ms/step - loss: 0.7815 - accuracy: 0.7419 - val_loss: 0.9073 - val_accuracy: 0.7096\n",
            "Epoch 6/10\n",
            "50/50 [==============================] - 2s 42ms/step - loss: 0.7107 - accuracy: 0.7629 - val_loss: 0.8950 - val_accuracy: 0.7185\n",
            "Epoch 7/10\n",
            "50/50 [==============================] - 2s 42ms/step - loss: 0.6312 - accuracy: 0.7952 - val_loss: 0.8964 - val_accuracy: 0.7229\n",
            "Epoch 8/10\n",
            "50/50 [==============================] - 2s 42ms/step - loss: 0.5570 - accuracy: 0.8226 - val_loss: 0.9001 - val_accuracy: 0.7389\n",
            "Epoch 9/10\n",
            "50/50 [==============================] - 2s 42ms/step - loss: 0.4873 - accuracy: 0.8462 - val_loss: 0.9117 - val_accuracy: 0.7478\n",
            "Epoch 10/10\n",
            "50/50 [==============================] - 2s 42ms/step - loss: 0.4291 - accuracy: 0.8739 - val_loss: 0.9343 - val_accuracy: 0.7531\n",
            "58/58 [==============================] - 0s 3ms/step - loss: 0.9392 - accuracy: 0.7549\n"
          ],
          "name": "stdout"
        },
        {
          "output_type": "stream",
          "text": [
            "\r 54%|█████▎    | 103/192 [44:00<31:28, 21.22s/it]"
          ],
          "name": "stderr"
        },
        {
          "output_type": "stream",
          "text": [
            "Epoch 1/10\n",
            "60/60 [==============================] - 3s 44ms/step - loss: 2.4191 - accuracy: 0.3589 - val_loss: 1.9378 - val_accuracy: 0.4815\n",
            "Epoch 2/10\n",
            "60/60 [==============================] - 3s 42ms/step - loss: 1.8734 - accuracy: 0.4955 - val_loss: 1.7177 - val_accuracy: 0.5401\n",
            "Epoch 3/10\n",
            "60/60 [==============================] - 3s 43ms/step - loss: 1.6602 - accuracy: 0.5672 - val_loss: 1.6283 - val_accuracy: 0.5697\n",
            "Epoch 4/10\n",
            "60/60 [==============================] - 3s 43ms/step - loss: 1.5116 - accuracy: 0.6047 - val_loss: 1.5685 - val_accuracy: 0.6068\n",
            "Epoch 5/10\n",
            "60/60 [==============================] - 3s 43ms/step - loss: 1.3832 - accuracy: 0.6391 - val_loss: 1.5523 - val_accuracy: 0.6239\n",
            "Epoch 6/10\n",
            "60/60 [==============================] - 3s 43ms/step - loss: 1.2763 - accuracy: 0.6715 - val_loss: 1.5531 - val_accuracy: 0.6291\n",
            "Epoch 7/10\n",
            "60/60 [==============================] - 3s 43ms/step - loss: 1.1608 - accuracy: 0.6952 - val_loss: 1.5190 - val_accuracy: 0.6476\n",
            "Epoch 8/10\n",
            "60/60 [==============================] - 3s 43ms/step - loss: 1.0769 - accuracy: 0.7248 - val_loss: 1.5110 - val_accuracy: 0.6484\n",
            "Epoch 9/10\n",
            "60/60 [==============================] - 3s 43ms/step - loss: 0.9853 - accuracy: 0.7446 - val_loss: 1.4901 - val_accuracy: 0.6550\n",
            "Epoch 10/10\n",
            "60/60 [==============================] - 3s 43ms/step - loss: 0.9204 - accuracy: 0.7598 - val_loss: 1.5388 - val_accuracy: 0.6528\n",
            "71/71 [==============================] - 0s 3ms/step - loss: 1.5319 - accuracy: 0.6456\n"
          ],
          "name": "stdout"
        },
        {
          "output_type": "stream",
          "text": [
            "\r 54%|█████▍    | 104/192 [44:29<34:08, 23.28s/it]"
          ],
          "name": "stderr"
        },
        {
          "output_type": "stream",
          "text": [
            "Epoch 1/10\n",
            "50/50 [==============================] - 1s 20ms/step - loss: 1.8392 - accuracy: 0.3773 - val_loss: 1.4229 - val_accuracy: 0.4982\n",
            "Epoch 2/10\n",
            "50/50 [==============================] - 1s 18ms/step - loss: 1.4178 - accuracy: 0.5002 - val_loss: 1.3078 - val_accuracy: 0.5657\n",
            "Epoch 3/10\n",
            "50/50 [==============================] - 1s 17ms/step - loss: 1.3239 - accuracy: 0.5550 - val_loss: 1.2358 - val_accuracy: 0.5995\n",
            "Epoch 4/10\n",
            "50/50 [==============================] - 1s 17ms/step - loss: 1.2665 - accuracy: 0.5727 - val_loss: 1.1978 - val_accuracy: 0.6066\n",
            "Epoch 5/10\n",
            "50/50 [==============================] - 1s 17ms/step - loss: 1.2109 - accuracy: 0.5805 - val_loss: 1.1687 - val_accuracy: 0.6243\n",
            "Epoch 6/10\n",
            "50/50 [==============================] - 1s 17ms/step - loss: 1.1763 - accuracy: 0.5986 - val_loss: 1.1422 - val_accuracy: 0.6057\n",
            "Epoch 7/10\n",
            "50/50 [==============================] - 1s 17ms/step - loss: 1.1452 - accuracy: 0.6073 - val_loss: 1.1010 - val_accuracy: 0.6412\n",
            "Epoch 8/10\n",
            "50/50 [==============================] - 1s 17ms/step - loss: 1.1175 - accuracy: 0.6155 - val_loss: 1.0918 - val_accuracy: 0.6536\n",
            "Epoch 9/10\n",
            "50/50 [==============================] - 1s 17ms/step - loss: 1.1080 - accuracy: 0.6238 - val_loss: 1.0917 - val_accuracy: 0.6590\n",
            "Epoch 10/10\n",
            "50/50 [==============================] - 1s 17ms/step - loss: 1.0801 - accuracy: 0.6367 - val_loss: 1.0716 - val_accuracy: 0.6474\n",
            "58/58 [==============================] - 0s 3ms/step - loss: 1.0678 - accuracy: 0.6452\n"
          ],
          "name": "stdout"
        },
        {
          "output_type": "stream",
          "text": [
            "\r 55%|█████▍    | 105/192 [44:50<32:55, 22.71s/it]"
          ],
          "name": "stderr"
        },
        {
          "output_type": "stream",
          "text": [
            "Epoch 1/10\n",
            "60/60 [==============================] - 1s 20ms/step - loss: 2.7407 - accuracy: 0.2911 - val_loss: 2.2179 - val_accuracy: 0.3323\n",
            "Epoch 2/10\n",
            "60/60 [==============================] - 1s 18ms/step - loss: 2.1735 - accuracy: 0.4041 - val_loss: 2.0984 - val_accuracy: 0.4585\n",
            "Epoch 3/10\n",
            "60/60 [==============================] - 1s 18ms/step - loss: 2.0756 - accuracy: 0.4459 - val_loss: 2.0157 - val_accuracy: 0.4733\n",
            "Epoch 4/10\n",
            "60/60 [==============================] - 1s 18ms/step - loss: 2.0140 - accuracy: 0.4649 - val_loss: 1.9889 - val_accuracy: 0.4777\n",
            "Epoch 5/10\n",
            "60/60 [==============================] - 1s 17ms/step - loss: 1.9573 - accuracy: 0.4708 - val_loss: 1.9298 - val_accuracy: 0.4859\n",
            "Epoch 6/10\n",
            "60/60 [==============================] - 1s 18ms/step - loss: 1.9146 - accuracy: 0.4815 - val_loss: 1.9708 - val_accuracy: 0.4970\n",
            "Epoch 7/10\n",
            "60/60 [==============================] - 1s 18ms/step - loss: 1.8884 - accuracy: 0.4912 - val_loss: 1.8716 - val_accuracy: 0.5052\n",
            "Epoch 8/10\n",
            "60/60 [==============================] - 1s 18ms/step - loss: 1.8552 - accuracy: 0.5012 - val_loss: 1.8642 - val_accuracy: 0.4978\n",
            "Epoch 9/10\n",
            "60/60 [==============================] - 1s 17ms/step - loss: 1.8177 - accuracy: 0.5103 - val_loss: 1.8527 - val_accuracy: 0.4904\n",
            "Epoch 10/10\n",
            "60/60 [==============================] - 1s 17ms/step - loss: 1.8054 - accuracy: 0.5215 - val_loss: 1.8553 - val_accuracy: 0.5059\n",
            "71/71 [==============================] - 0s 3ms/step - loss: 1.8552 - accuracy: 0.5294\n"
          ],
          "name": "stdout"
        },
        {
          "output_type": "stream",
          "text": [
            "\r 55%|█████▌    | 106/192 [45:13<32:41, 22.81s/it]"
          ],
          "name": "stderr"
        },
        {
          "output_type": "stream",
          "text": [
            "Epoch 1/10\n",
            "50/50 [==============================] - 1s 29ms/step - loss: 1.5352 - accuracy: 0.4671 - val_loss: 1.2491 - val_accuracy: 0.6137\n",
            "Epoch 2/10\n",
            "50/50 [==============================] - 1s 26ms/step - loss: 1.1869 - accuracy: 0.6001 - val_loss: 1.0410 - val_accuracy: 0.6439\n",
            "Epoch 3/10\n",
            "50/50 [==============================] - 1s 27ms/step - loss: 0.9958 - accuracy: 0.6483 - val_loss: 0.9349 - val_accuracy: 0.7114\n",
            "Epoch 4/10\n",
            "50/50 [==============================] - 1s 26ms/step - loss: 0.8618 - accuracy: 0.7198 - val_loss: 0.8782 - val_accuracy: 0.7202\n",
            "Epoch 5/10\n",
            "50/50 [==============================] - 1s 27ms/step - loss: 0.7792 - accuracy: 0.7444 - val_loss: 0.8465 - val_accuracy: 0.7398\n",
            "Epoch 6/10\n",
            "50/50 [==============================] - 1s 27ms/step - loss: 0.7015 - accuracy: 0.7663 - val_loss: 0.8293 - val_accuracy: 0.7451\n",
            "Epoch 7/10\n",
            "50/50 [==============================] - 1s 27ms/step - loss: 0.6340 - accuracy: 0.7969 - val_loss: 0.8178 - val_accuracy: 0.7549\n",
            "Epoch 8/10\n",
            "50/50 [==============================] - 1s 27ms/step - loss: 0.5845 - accuracy: 0.8146 - val_loss: 0.8081 - val_accuracy: 0.7735\n",
            "Epoch 9/10\n",
            "50/50 [==============================] - 1s 27ms/step - loss: 0.5201 - accuracy: 0.8327 - val_loss: 0.8431 - val_accuracy: 0.7735\n",
            "Epoch 10/10\n",
            "50/50 [==============================] - 1s 27ms/step - loss: 0.4718 - accuracy: 0.8501 - val_loss: 0.8185 - val_accuracy: 0.7718\n",
            "58/58 [==============================] - 0s 3ms/step - loss: 0.8529 - accuracy: 0.7759\n"
          ],
          "name": "stdout"
        },
        {
          "output_type": "stream",
          "text": [
            "\r 56%|█████▌    | 107/192 [45:29<29:15, 20.65s/it]"
          ],
          "name": "stderr"
        },
        {
          "output_type": "stream",
          "text": [
            "Epoch 1/10\n",
            "60/60 [==============================] - 2s 29ms/step - loss: 2.4033 - accuracy: 0.3517 - val_loss: 2.0222 - val_accuracy: 0.4473\n",
            "Epoch 2/10\n",
            "60/60 [==============================] - 2s 27ms/step - loss: 1.9439 - accuracy: 0.4768 - val_loss: 1.7914 - val_accuracy: 0.5252\n",
            "Epoch 3/10\n",
            "60/60 [==============================] - 2s 27ms/step - loss: 1.7257 - accuracy: 0.5438 - val_loss: 1.6612 - val_accuracy: 0.5749\n",
            "Epoch 4/10\n",
            "60/60 [==============================] - 2s 27ms/step - loss: 1.5827 - accuracy: 0.5925 - val_loss: 1.5641 - val_accuracy: 0.5979\n",
            "Epoch 5/10\n",
            "60/60 [==============================] - 2s 27ms/step - loss: 1.4557 - accuracy: 0.6265 - val_loss: 1.5110 - val_accuracy: 0.6350\n",
            "Epoch 6/10\n",
            "60/60 [==============================] - 2s 27ms/step - loss: 1.3386 - accuracy: 0.6555 - val_loss: 1.4649 - val_accuracy: 0.6454\n",
            "Epoch 7/10\n",
            "60/60 [==============================] - 2s 27ms/step - loss: 1.2383 - accuracy: 0.6797 - val_loss: 1.4425 - val_accuracy: 0.6654\n",
            "Epoch 8/10\n",
            "60/60 [==============================] - 2s 27ms/step - loss: 1.1415 - accuracy: 0.6965 - val_loss: 1.4150 - val_accuracy: 0.6669\n",
            "Epoch 9/10\n",
            "60/60 [==============================] - 2s 27ms/step - loss: 1.0570 - accuracy: 0.7152 - val_loss: 1.4305 - val_accuracy: 0.6766\n",
            "Epoch 10/10\n",
            "60/60 [==============================] - 2s 27ms/step - loss: 0.9850 - accuracy: 0.7349 - val_loss: 1.4666 - val_accuracy: 0.6788\n",
            "71/71 [==============================] - 0s 3ms/step - loss: 1.4720 - accuracy: 0.6594\n"
          ],
          "name": "stdout"
        },
        {
          "output_type": "stream",
          "text": [
            "\r 56%|█████▋    | 108/192 [45:47<27:55, 19.95s/it]"
          ],
          "name": "stderr"
        },
        {
          "output_type": "stream",
          "text": [
            "Epoch 1/10\n",
            "50/50 [==============================] - 1s 20ms/step - loss: 1.8045 - accuracy: 0.3778 - val_loss: 1.3907 - val_accuracy: 0.5160\n",
            "Epoch 2/10\n",
            "50/50 [==============================] - 1s 18ms/step - loss: 1.4153 - accuracy: 0.5018 - val_loss: 1.3021 - val_accuracy: 0.5755\n",
            "Epoch 3/10\n",
            "50/50 [==============================] - 1s 18ms/step - loss: 1.3436 - accuracy: 0.5437 - val_loss: 1.2710 - val_accuracy: 0.5835\n",
            "Epoch 4/10\n",
            "50/50 [==============================] - 1s 18ms/step - loss: 1.2834 - accuracy: 0.5612 - val_loss: 1.2336 - val_accuracy: 0.5986\n",
            "Epoch 5/10\n",
            "50/50 [==============================] - 1s 17ms/step - loss: 1.2457 - accuracy: 0.5736 - val_loss: 1.1841 - val_accuracy: 0.5835\n",
            "Epoch 6/10\n",
            "50/50 [==============================] - 1s 18ms/step - loss: 1.2071 - accuracy: 0.5888 - val_loss: 1.1638 - val_accuracy: 0.6288\n",
            "Epoch 7/10\n",
            "50/50 [==============================] - 1s 18ms/step - loss: 1.1756 - accuracy: 0.6023 - val_loss: 1.1425 - val_accuracy: 0.6332\n",
            "Epoch 8/10\n",
            "50/50 [==============================] - 1s 17ms/step - loss: 1.1316 - accuracy: 0.6178 - val_loss: 1.1735 - val_accuracy: 0.6261\n",
            "Epoch 9/10\n",
            "50/50 [==============================] - 1s 18ms/step - loss: 1.1160 - accuracy: 0.6251 - val_loss: 1.1096 - val_accuracy: 0.6519\n",
            "Epoch 10/10\n",
            "50/50 [==============================] - 1s 18ms/step - loss: 1.0917 - accuracy: 0.6343 - val_loss: 1.0848 - val_accuracy: 0.6545\n",
            "58/58 [==============================] - 0s 3ms/step - loss: 1.0788 - accuracy: 0.6544\n"
          ],
          "name": "stdout"
        },
        {
          "output_type": "stream",
          "text": [
            "\r 57%|█████▋    | 109/192 [46:09<28:16, 20.44s/it]"
          ],
          "name": "stderr"
        },
        {
          "output_type": "stream",
          "text": [
            "Epoch 1/10\n",
            "60/60 [==============================] - 1s 20ms/step - loss: 2.8239 - accuracy: 0.2898 - val_loss: 2.1977 - val_accuracy: 0.3487\n",
            "Epoch 2/10\n",
            "60/60 [==============================] - 1s 18ms/step - loss: 2.1630 - accuracy: 0.4188 - val_loss: 2.0721 - val_accuracy: 0.4592\n",
            "Epoch 3/10\n",
            "60/60 [==============================] - 1s 18ms/step - loss: 2.0626 - accuracy: 0.4649 - val_loss: 2.0045 - val_accuracy: 0.4792\n",
            "Epoch 4/10\n",
            "60/60 [==============================] - 1s 18ms/step - loss: 1.9809 - accuracy: 0.4768 - val_loss: 1.9517 - val_accuracy: 0.4829\n",
            "Epoch 5/10\n",
            "60/60 [==============================] - 1s 18ms/step - loss: 1.9360 - accuracy: 0.4835 - val_loss: 1.9335 - val_accuracy: 0.4904\n",
            "Epoch 6/10\n",
            "60/60 [==============================] - 1s 18ms/step - loss: 1.8895 - accuracy: 0.4957 - val_loss: 1.8843 - val_accuracy: 0.4993\n",
            "Epoch 7/10\n",
            "60/60 [==============================] - 1s 18ms/step - loss: 1.8512 - accuracy: 0.5021 - val_loss: 1.8457 - val_accuracy: 0.5030\n",
            "Epoch 8/10\n",
            "60/60 [==============================] - 1s 18ms/step - loss: 1.8342 - accuracy: 0.5086 - val_loss: 1.8594 - val_accuracy: 0.5074\n",
            "Epoch 9/10\n",
            "60/60 [==============================] - 1s 18ms/step - loss: 1.8001 - accuracy: 0.5240 - val_loss: 1.8492 - val_accuracy: 0.5148\n",
            "Epoch 10/10\n",
            "60/60 [==============================] - 1s 18ms/step - loss: 1.7698 - accuracy: 0.5262 - val_loss: 1.8122 - val_accuracy: 0.5282\n",
            "71/71 [==============================] - 0s 3ms/step - loss: 1.8208 - accuracy: 0.5352\n"
          ],
          "name": "stdout"
        },
        {
          "output_type": "stream",
          "text": [
            "\r 57%|█████▋    | 110/192 [46:32<29:10, 21.35s/it]"
          ],
          "name": "stderr"
        },
        {
          "output_type": "stream",
          "text": [
            "Epoch 1/10\n",
            "50/50 [==============================] - 4s 82ms/step - loss: 1.4440 - accuracy: 0.5109 - val_loss: 1.1228 - val_accuracy: 0.6492\n",
            "Epoch 2/10\n",
            "50/50 [==============================] - 4s 82ms/step - loss: 1.0388 - accuracy: 0.6484 - val_loss: 0.9437 - val_accuracy: 0.7123\n",
            "Epoch 3/10\n",
            "50/50 [==============================] - 4s 80ms/step - loss: 0.8926 - accuracy: 0.7055 - val_loss: 0.8835 - val_accuracy: 0.7336\n",
            "Epoch 4/10\n",
            "50/50 [==============================] - 4s 80ms/step - loss: 0.7970 - accuracy: 0.7438 - val_loss: 0.8416 - val_accuracy: 0.7487\n",
            "Epoch 5/10\n",
            "50/50 [==============================] - 4s 79ms/step - loss: 0.6956 - accuracy: 0.7701 - val_loss: 0.8399 - val_accuracy: 0.7575\n",
            "Epoch 6/10\n",
            "50/50 [==============================] - 4s 84ms/step - loss: 0.6063 - accuracy: 0.8019 - val_loss: 0.8391 - val_accuracy: 0.7593\n",
            "Epoch 7/10\n",
            "50/50 [==============================] - 4s 79ms/step - loss: 0.5407 - accuracy: 0.8231 - val_loss: 0.8507 - val_accuracy: 0.7771\n",
            "Epoch 8/10\n",
            "50/50 [==============================] - 4s 79ms/step - loss: 0.4710 - accuracy: 0.8495 - val_loss: 0.8449 - val_accuracy: 0.7922\n",
            "Epoch 9/10\n",
            "50/50 [==============================] - 4s 79ms/step - loss: 0.4084 - accuracy: 0.8804 - val_loss: 0.8683 - val_accuracy: 0.7931\n",
            "Epoch 10/10\n",
            "50/50 [==============================] - 4s 80ms/step - loss: 0.3605 - accuracy: 0.8957 - val_loss: 0.8620 - val_accuracy: 0.7975\n",
            "58/58 [==============================] - 0s 5ms/step - loss: 0.8561 - accuracy: 0.7964\n"
          ],
          "name": "stdout"
        },
        {
          "output_type": "stream",
          "text": [
            "\r 58%|█████▊    | 111/192 [47:15<37:30, 27.78s/it]"
          ],
          "name": "stderr"
        },
        {
          "output_type": "stream",
          "text": [
            "Epoch 1/10\n",
            "60/60 [==============================] - 5s 80ms/step - loss: 2.3576 - accuracy: 0.3670 - val_loss: 1.9418 - val_accuracy: 0.4748\n",
            "Epoch 2/10\n",
            "60/60 [==============================] - 5s 78ms/step - loss: 1.8297 - accuracy: 0.5187 - val_loss: 1.6709 - val_accuracy: 0.5660\n",
            "Epoch 3/10\n",
            "60/60 [==============================] - 5s 78ms/step - loss: 1.5720 - accuracy: 0.6115 - val_loss: 1.5555 - val_accuracy: 0.6269\n",
            "Epoch 4/10\n",
            "60/60 [==============================] - 5s 78ms/step - loss: 1.4105 - accuracy: 0.6520 - val_loss: 1.4837 - val_accuracy: 0.6350\n",
            "Epoch 5/10\n",
            "60/60 [==============================] - 5s 78ms/step - loss: 1.2845 - accuracy: 0.6749 - val_loss: 1.4332 - val_accuracy: 0.6558\n",
            "Epoch 6/10\n",
            "60/60 [==============================] - 5s 78ms/step - loss: 1.1593 - accuracy: 0.7015 - val_loss: 1.4553 - val_accuracy: 0.6550\n",
            "Epoch 7/10\n",
            "60/60 [==============================] - 5s 78ms/step - loss: 1.0535 - accuracy: 0.7269 - val_loss: 1.3946 - val_accuracy: 0.6825\n",
            "Epoch 8/10\n",
            "60/60 [==============================] - 5s 78ms/step - loss: 0.9498 - accuracy: 0.7544 - val_loss: 1.4446 - val_accuracy: 0.6877\n",
            "Epoch 9/10\n",
            "60/60 [==============================] - 5s 78ms/step - loss: 0.8729 - accuracy: 0.7755 - val_loss: 1.4105 - val_accuracy: 0.6929\n",
            "Epoch 10/10\n",
            "60/60 [==============================] - 5s 78ms/step - loss: 0.7902 - accuracy: 0.7939 - val_loss: 1.4268 - val_accuracy: 0.6996\n",
            "71/71 [==============================] - 0s 5ms/step - loss: 1.4445 - accuracy: 0.6745\n"
          ],
          "name": "stdout"
        },
        {
          "output_type": "stream",
          "text": [
            "\r 58%|█████▊    | 112/192 [48:04<45:49, 34.36s/it]"
          ],
          "name": "stderr"
        },
        {
          "output_type": "stream",
          "text": [
            "Epoch 1/10\n",
            "50/50 [==============================] - 1s 11ms/step - loss: 1.8146 - accuracy: 0.3898 - val_loss: 1.4057 - val_accuracy: 0.5337\n",
            "Epoch 2/10\n",
            "50/50 [==============================] - 0s 9ms/step - loss: 1.4370 - accuracy: 0.5082 - val_loss: 1.3248 - val_accuracy: 0.5684\n",
            "Epoch 3/10\n",
            "50/50 [==============================] - 0s 9ms/step - loss: 1.3451 - accuracy: 0.5424 - val_loss: 1.2693 - val_accuracy: 0.5719\n",
            "Epoch 4/10\n",
            "50/50 [==============================] - 0s 9ms/step - loss: 1.2874 - accuracy: 0.5565 - val_loss: 1.2216 - val_accuracy: 0.5826\n",
            "Epoch 5/10\n",
            "50/50 [==============================] - 0s 9ms/step - loss: 1.2433 - accuracy: 0.5666 - val_loss: 1.1989 - val_accuracy: 0.5808\n",
            "Epoch 6/10\n",
            "50/50 [==============================] - 0s 9ms/step - loss: 1.1905 - accuracy: 0.5860 - val_loss: 1.1831 - val_accuracy: 0.6137\n",
            "Epoch 7/10\n",
            "50/50 [==============================] - 0s 9ms/step - loss: 1.1687 - accuracy: 0.5935 - val_loss: 1.1625 - val_accuracy: 0.6279\n",
            "Epoch 8/10\n",
            "50/50 [==============================] - 0s 9ms/step - loss: 1.1340 - accuracy: 0.6058 - val_loss: 1.1447 - val_accuracy: 0.6306\n",
            "Epoch 9/10\n",
            "50/50 [==============================] - 0s 9ms/step - loss: 1.1221 - accuracy: 0.6146 - val_loss: 1.1128 - val_accuracy: 0.6394\n",
            "Epoch 10/10\n",
            "50/50 [==============================] - 0s 9ms/step - loss: 1.0869 - accuracy: 0.6229 - val_loss: 1.1135 - val_accuracy: 0.6412\n",
            "58/58 [==============================] - 0s 2ms/step - loss: 1.1079 - accuracy: 0.6420\n"
          ],
          "name": "stdout"
        },
        {
          "output_type": "stream",
          "text": [
            "\r 59%|█████▉    | 113/192 [48:22<38:27, 29.21s/it]"
          ],
          "name": "stderr"
        },
        {
          "output_type": "stream",
          "text": [
            "Epoch 1/10\n",
            "60/60 [==============================] - 1s 11ms/step - loss: 2.6865 - accuracy: 0.3188 - val_loss: 2.2506 - val_accuracy: 0.3398\n",
            "Epoch 2/10\n",
            "60/60 [==============================] - 1s 10ms/step - loss: 2.1913 - accuracy: 0.4121 - val_loss: 2.0573 - val_accuracy: 0.4414\n",
            "Epoch 3/10\n",
            "60/60 [==============================] - 1s 9ms/step - loss: 2.0561 - accuracy: 0.4485 - val_loss: 1.9848 - val_accuracy: 0.4659\n",
            "Epoch 4/10\n",
            "60/60 [==============================] - 1s 10ms/step - loss: 1.9835 - accuracy: 0.4679 - val_loss: 1.9621 - val_accuracy: 0.4792\n",
            "Epoch 5/10\n",
            "60/60 [==============================] - 1s 9ms/step - loss: 1.9244 - accuracy: 0.4869 - val_loss: 1.9026 - val_accuracy: 0.4918\n",
            "Epoch 6/10\n",
            "60/60 [==============================] - 1s 9ms/step - loss: 1.8832 - accuracy: 0.4967 - val_loss: 1.9248 - val_accuracy: 0.4740\n",
            "Epoch 7/10\n",
            "60/60 [==============================] - 1s 10ms/step - loss: 1.8441 - accuracy: 0.5071 - val_loss: 1.8864 - val_accuracy: 0.4933\n",
            "Epoch 8/10\n",
            "60/60 [==============================] - 1s 9ms/step - loss: 1.8076 - accuracy: 0.5127 - val_loss: 1.8862 - val_accuracy: 0.5059\n",
            "Epoch 9/10\n",
            "60/60 [==============================] - 1s 10ms/step - loss: 1.7943 - accuracy: 0.5254 - val_loss: 1.8931 - val_accuracy: 0.4918\n",
            "Epoch 10/10\n",
            "60/60 [==============================] - 1s 10ms/step - loss: 1.7745 - accuracy: 0.5266 - val_loss: 1.8616 - val_accuracy: 0.5074\n",
            "71/71 [==============================] - 0s 2ms/step - loss: 1.8598 - accuracy: 0.5325\n"
          ],
          "name": "stdout"
        },
        {
          "output_type": "stream",
          "text": [
            "\r 59%|█████▉    | 114/192 [48:40<33:35, 25.84s/it]"
          ],
          "name": "stderr"
        },
        {
          "output_type": "stream",
          "text": [
            "Epoch 1/10\n",
            "50/50 [==============================] - 1s 19ms/step - loss: 1.5118 - accuracy: 0.4584 - val_loss: 1.1957 - val_accuracy: 0.5933\n",
            "Epoch 2/10\n",
            "50/50 [==============================] - 1s 16ms/step - loss: 1.1168 - accuracy: 0.5971 - val_loss: 1.0070 - val_accuracy: 0.6554\n",
            "Epoch 3/10\n",
            "50/50 [==============================] - 1s 16ms/step - loss: 0.9573 - accuracy: 0.6668 - val_loss: 0.9381 - val_accuracy: 0.6901\n",
            "Epoch 4/10\n",
            "50/50 [==============================] - 1s 16ms/step - loss: 0.8548 - accuracy: 0.7094 - val_loss: 0.9050 - val_accuracy: 0.7078\n",
            "Epoch 5/10\n",
            "50/50 [==============================] - 1s 16ms/step - loss: 0.7634 - accuracy: 0.7387 - val_loss: 0.8996 - val_accuracy: 0.7176\n",
            "Epoch 6/10\n",
            "50/50 [==============================] - 1s 16ms/step - loss: 0.6797 - accuracy: 0.7728 - val_loss: 0.8722 - val_accuracy: 0.7407\n",
            "Epoch 7/10\n",
            "50/50 [==============================] - 1s 16ms/step - loss: 0.5964 - accuracy: 0.8043 - val_loss: 0.8869 - val_accuracy: 0.7487\n",
            "Epoch 8/10\n",
            "50/50 [==============================] - 1s 16ms/step - loss: 0.5198 - accuracy: 0.8311 - val_loss: 0.8743 - val_accuracy: 0.7647\n",
            "Epoch 9/10\n",
            "50/50 [==============================] - 1s 16ms/step - loss: 0.4479 - accuracy: 0.8625 - val_loss: 0.9164 - val_accuracy: 0.7655\n",
            "Epoch 10/10\n",
            "50/50 [==============================] - 1s 17ms/step - loss: 0.4005 - accuracy: 0.8749 - val_loss: 0.9550 - val_accuracy: 0.7691\n",
            "58/58 [==============================] - 0s 2ms/step - loss: 0.9501 - accuracy: 0.7576\n"
          ],
          "name": "stdout"
        },
        {
          "output_type": "stream",
          "text": [
            "\r 60%|█████▉    | 115/192 [48:50<27:08, 21.14s/it]"
          ],
          "name": "stderr"
        },
        {
          "output_type": "stream",
          "text": [
            "Epoch 1/10\n",
            "60/60 [==============================] - 1s 18ms/step - loss: 2.3662 - accuracy: 0.3640 - val_loss: 1.9253 - val_accuracy: 0.4726\n",
            "Epoch 2/10\n",
            "60/60 [==============================] - 1s 16ms/step - loss: 1.8443 - accuracy: 0.4877 - val_loss: 1.7446 - val_accuracy: 0.5089\n",
            "Epoch 3/10\n",
            "60/60 [==============================] - 1s 17ms/step - loss: 1.6579 - accuracy: 0.5418 - val_loss: 1.6399 - val_accuracy: 0.5593\n",
            "Epoch 4/10\n",
            "60/60 [==============================] - 1s 17ms/step - loss: 1.5118 - accuracy: 0.5867 - val_loss: 1.5918 - val_accuracy: 0.5950\n",
            "Epoch 5/10\n",
            "60/60 [==============================] - 1s 17ms/step - loss: 1.3823 - accuracy: 0.6267 - val_loss: 1.5567 - val_accuracy: 0.6098\n",
            "Epoch 6/10\n",
            "60/60 [==============================] - 1s 17ms/step - loss: 1.2688 - accuracy: 0.6594 - val_loss: 1.5104 - val_accuracy: 0.6387\n",
            "Epoch 7/10\n",
            "60/60 [==============================] - 1s 17ms/step - loss: 1.1586 - accuracy: 0.6986 - val_loss: 1.4946 - val_accuracy: 0.6565\n",
            "Epoch 8/10\n",
            "60/60 [==============================] - 1s 17ms/step - loss: 1.0453 - accuracy: 0.7303 - val_loss: 1.4527 - val_accuracy: 0.6588\n",
            "Epoch 9/10\n",
            "60/60 [==============================] - 1s 16ms/step - loss: 0.9573 - accuracy: 0.7478 - val_loss: 1.4825 - val_accuracy: 0.6699\n",
            "Epoch 10/10\n",
            "60/60 [==============================] - 1s 16ms/step - loss: 0.8707 - accuracy: 0.7735 - val_loss: 1.4939 - val_accuracy: 0.6751\n",
            "71/71 [==============================] - 0s 2ms/step - loss: 1.5605 - accuracy: 0.6621\n"
          ],
          "name": "stdout"
        },
        {
          "output_type": "stream",
          "text": [
            "\r 60%|██████    | 116/192 [49:02<23:17, 18.39s/it]"
          ],
          "name": "stderr"
        },
        {
          "output_type": "stream",
          "text": [
            "Epoch 1/10\n",
            "50/50 [==============================] - 1s 11ms/step - loss: 1.7637 - accuracy: 0.3876 - val_loss: 1.4054 - val_accuracy: 0.4938\n",
            "Epoch 2/10\n",
            "50/50 [==============================] - 0s 9ms/step - loss: 1.4167 - accuracy: 0.5026 - val_loss: 1.3091 - val_accuracy: 0.5648\n",
            "Epoch 3/10\n",
            "50/50 [==============================] - 0s 9ms/step - loss: 1.3375 - accuracy: 0.5379 - val_loss: 1.2620 - val_accuracy: 0.5746\n",
            "Epoch 4/10\n",
            "50/50 [==============================] - 0s 9ms/step - loss: 1.2849 - accuracy: 0.5576 - val_loss: 1.2260 - val_accuracy: 0.5915\n",
            "Epoch 5/10\n",
            "50/50 [==============================] - 0s 9ms/step - loss: 1.2333 - accuracy: 0.5680 - val_loss: 1.1973 - val_accuracy: 0.6030\n",
            "Epoch 6/10\n",
            "50/50 [==============================] - 0s 9ms/step - loss: 1.1959 - accuracy: 0.5807 - val_loss: 1.1811 - val_accuracy: 0.6172\n",
            "Epoch 7/10\n",
            "50/50 [==============================] - 0s 9ms/step - loss: 1.1650 - accuracy: 0.5937 - val_loss: 1.1795 - val_accuracy: 0.6021\n",
            "Epoch 8/10\n",
            "50/50 [==============================] - 0s 9ms/step - loss: 1.1408 - accuracy: 0.6066 - val_loss: 1.1304 - val_accuracy: 0.6270\n",
            "Epoch 9/10\n",
            "50/50 [==============================] - 0s 9ms/step - loss: 1.1113 - accuracy: 0.6211 - val_loss: 1.1218 - val_accuracy: 0.6403\n",
            "Epoch 10/10\n",
            "50/50 [==============================] - 0s 9ms/step - loss: 1.0882 - accuracy: 0.6251 - val_loss: 1.1168 - val_accuracy: 0.6474\n",
            "58/58 [==============================] - 0s 2ms/step - loss: 1.1105 - accuracy: 0.6334\n"
          ],
          "name": "stdout"
        },
        {
          "output_type": "stream",
          "text": [
            "\r 61%|██████    | 117/192 [49:19<22:27, 17.96s/it]"
          ],
          "name": "stderr"
        },
        {
          "output_type": "stream",
          "text": [
            "Epoch 1/10\n",
            "60/60 [==============================] - 1s 12ms/step - loss: 2.6641 - accuracy: 0.3232 - val_loss: 2.1413 - val_accuracy: 0.4466\n",
            "Epoch 2/10\n",
            "60/60 [==============================] - 1s 10ms/step - loss: 2.1646 - accuracy: 0.4300 - val_loss: 2.0700 - val_accuracy: 0.4636\n",
            "Epoch 3/10\n",
            "60/60 [==============================] - 1s 10ms/step - loss: 2.0723 - accuracy: 0.4587 - val_loss: 2.0214 - val_accuracy: 0.4726\n",
            "Epoch 4/10\n",
            "60/60 [==============================] - 1s 10ms/step - loss: 1.9997 - accuracy: 0.4708 - val_loss: 1.9724 - val_accuracy: 0.4755\n",
            "Epoch 5/10\n",
            "60/60 [==============================] - 1s 10ms/step - loss: 1.9466 - accuracy: 0.4797 - val_loss: 1.9302 - val_accuracy: 0.4896\n",
            "Epoch 6/10\n",
            "60/60 [==============================] - 1s 10ms/step - loss: 1.8988 - accuracy: 0.4921 - val_loss: 1.9002 - val_accuracy: 0.4874\n",
            "Epoch 7/10\n",
            "60/60 [==============================] - 1s 10ms/step - loss: 1.8672 - accuracy: 0.5005 - val_loss: 1.8777 - val_accuracy: 0.4904\n",
            "Epoch 8/10\n",
            "60/60 [==============================] - 1s 10ms/step - loss: 1.8244 - accuracy: 0.5094 - val_loss: 1.8939 - val_accuracy: 0.4926\n",
            "Epoch 9/10\n",
            "60/60 [==============================] - 1s 10ms/step - loss: 1.8015 - accuracy: 0.5153 - val_loss: 1.8874 - val_accuracy: 0.5126\n",
            "Epoch 10/10\n",
            "60/60 [==============================] - 1s 10ms/step - loss: 1.7729 - accuracy: 0.5242 - val_loss: 1.9000 - val_accuracy: 0.5104\n",
            "71/71 [==============================] - 0s 2ms/step - loss: 1.8984 - accuracy: 0.5245\n"
          ],
          "name": "stdout"
        },
        {
          "output_type": "stream",
          "text": [
            "\r 61%|██████▏   | 118/192 [49:37<22:17, 18.07s/it]"
          ],
          "name": "stderr"
        },
        {
          "output_type": "stream",
          "text": [
            "Epoch 1/10\n",
            "50/50 [==============================] - 2s 45ms/step - loss: 1.4220 - accuracy: 0.5125 - val_loss: 1.0898 - val_accuracy: 0.6181\n",
            "Epoch 2/10\n",
            "50/50 [==============================] - 2s 43ms/step - loss: 1.0329 - accuracy: 0.6390 - val_loss: 0.9622 - val_accuracy: 0.6954\n",
            "Epoch 3/10\n",
            "50/50 [==============================] - 2s 43ms/step - loss: 0.8704 - accuracy: 0.7122 - val_loss: 0.8949 - val_accuracy: 0.7131\n",
            "Epoch 4/10\n",
            "50/50 [==============================] - 2s 43ms/step - loss: 0.7533 - accuracy: 0.7538 - val_loss: 0.8647 - val_accuracy: 0.7460\n",
            "Epoch 5/10\n",
            "50/50 [==============================] - 2s 43ms/step - loss: 0.6291 - accuracy: 0.8052 - val_loss: 0.8229 - val_accuracy: 0.7735\n",
            "Epoch 6/10\n",
            "50/50 [==============================] - 2s 43ms/step - loss: 0.5089 - accuracy: 0.8451 - val_loss: 0.8442 - val_accuracy: 0.7780\n",
            "Epoch 7/10\n",
            "50/50 [==============================] - 2s 43ms/step - loss: 0.4151 - accuracy: 0.8778 - val_loss: 0.8378 - val_accuracy: 0.7860\n",
            "Epoch 8/10\n",
            "50/50 [==============================] - 2s 43ms/step - loss: 0.3503 - accuracy: 0.8989 - val_loss: 0.8272 - val_accuracy: 0.7993\n",
            "Epoch 9/10\n",
            "50/50 [==============================] - 2s 43ms/step - loss: 0.2948 - accuracy: 0.9159 - val_loss: 0.8747 - val_accuracy: 0.8099\n",
            "Epoch 10/10\n",
            "50/50 [==============================] - 2s 43ms/step - loss: 0.2596 - accuracy: 0.9301 - val_loss: 0.9326 - val_accuracy: 0.8037\n",
            "58/58 [==============================] - 0s 3ms/step - loss: 0.9104 - accuracy: 0.7900\n"
          ],
          "name": "stdout"
        },
        {
          "output_type": "stream",
          "text": [
            "\r 62%|██████▏   | 119/192 [50:01<24:04, 19.79s/it]"
          ],
          "name": "stderr"
        },
        {
          "output_type": "stream",
          "text": [
            "Epoch 1/10\n",
            "60/60 [==============================] - 3s 46ms/step - loss: 2.3516 - accuracy: 0.3691 - val_loss: 1.8905 - val_accuracy: 0.4881\n",
            "Epoch 2/10\n",
            "60/60 [==============================] - 3s 44ms/step - loss: 1.8010 - accuracy: 0.5100 - val_loss: 1.6882 - val_accuracy: 0.5534\n",
            "Epoch 3/10\n",
            "60/60 [==============================] - 3s 44ms/step - loss: 1.5857 - accuracy: 0.5819 - val_loss: 1.5615 - val_accuracy: 0.5868\n",
            "Epoch 4/10\n",
            "60/60 [==============================] - 3s 44ms/step - loss: 1.4045 - accuracy: 0.6256 - val_loss: 1.5003 - val_accuracy: 0.6320\n",
            "Epoch 5/10\n",
            "60/60 [==============================] - 3s 44ms/step - loss: 1.2444 - accuracy: 0.6793 - val_loss: 1.4348 - val_accuracy: 0.6654\n",
            "Epoch 6/10\n",
            "60/60 [==============================] - 3s 43ms/step - loss: 1.0928 - accuracy: 0.7168 - val_loss: 1.4219 - val_accuracy: 0.6677\n",
            "Epoch 7/10\n",
            "60/60 [==============================] - 3s 43ms/step - loss: 0.9676 - accuracy: 0.7450 - val_loss: 1.3641 - val_accuracy: 0.6877\n",
            "Epoch 8/10\n",
            "60/60 [==============================] - 3s 43ms/step - loss: 0.8580 - accuracy: 0.7729 - val_loss: 1.3686 - val_accuracy: 0.6892\n",
            "Epoch 9/10\n",
            "60/60 [==============================] - 3s 44ms/step - loss: 0.7659 - accuracy: 0.7989 - val_loss: 1.3635 - val_accuracy: 0.6884\n",
            "Epoch 10/10\n",
            "60/60 [==============================] - 3s 44ms/step - loss: 0.6923 - accuracy: 0.8181 - val_loss: 1.4108 - val_accuracy: 0.6869\n",
            "71/71 [==============================] - 0s 3ms/step - loss: 1.4541 - accuracy: 0.6754\n"
          ],
          "name": "stdout"
        },
        {
          "output_type": "stream",
          "text": [
            "\r 62%|██████▎   | 120/192 [50:29<26:49, 22.36s/it]"
          ],
          "name": "stderr"
        },
        {
          "output_type": "stream",
          "text": [
            "Epoch 1/10\n",
            "50/50 [==============================] - 1s 21ms/step - loss: 1.6602 - accuracy: 0.4408 - val_loss: 1.3432 - val_accuracy: 0.5249\n",
            "Epoch 2/10\n",
            "50/50 [==============================] - 1s 18ms/step - loss: 1.3457 - accuracy: 0.5462 - val_loss: 1.2799 - val_accuracy: 0.5497\n",
            "Epoch 3/10\n",
            "50/50 [==============================] - 1s 18ms/step - loss: 1.2545 - accuracy: 0.5686 - val_loss: 1.2000 - val_accuracy: 0.6004\n",
            "Epoch 4/10\n",
            "50/50 [==============================] - 1s 18ms/step - loss: 1.1903 - accuracy: 0.5893 - val_loss: 1.1538 - val_accuracy: 0.6146\n",
            "Epoch 5/10\n",
            "50/50 [==============================] - 1s 18ms/step - loss: 1.1307 - accuracy: 0.6164 - val_loss: 1.0998 - val_accuracy: 0.6243\n",
            "Epoch 6/10\n",
            "50/50 [==============================] - 1s 19ms/step - loss: 1.0896 - accuracy: 0.6324 - val_loss: 1.0813 - val_accuracy: 0.6323\n",
            "Epoch 7/10\n",
            "50/50 [==============================] - 1s 18ms/step - loss: 1.0583 - accuracy: 0.6454 - val_loss: 1.0581 - val_accuracy: 0.6510\n",
            "Epoch 8/10\n",
            "50/50 [==============================] - 1s 18ms/step - loss: 1.0219 - accuracy: 0.6558 - val_loss: 1.0940 - val_accuracy: 0.6394\n",
            "Epoch 9/10\n",
            "50/50 [==============================] - 1s 18ms/step - loss: 0.9976 - accuracy: 0.6618 - val_loss: 1.0582 - val_accuracy: 0.6545\n",
            "Epoch 10/10\n",
            "50/50 [==============================] - 1s 19ms/step - loss: 0.9746 - accuracy: 0.6773 - val_loss: 1.0429 - val_accuracy: 0.6661\n",
            "58/58 [==============================] - 0s 3ms/step - loss: 1.0366 - accuracy: 0.6636\n"
          ],
          "name": "stdout"
        },
        {
          "output_type": "stream",
          "text": [
            "\r 63%|██████▎   | 121/192 [50:51<26:24, 22.31s/it]"
          ],
          "name": "stderr"
        },
        {
          "output_type": "stream",
          "text": [
            "Epoch 1/10\n",
            "60/60 [==============================] - 1s 20ms/step - loss: 2.5445 - accuracy: 0.3418 - val_loss: 2.1097 - val_accuracy: 0.3828\n",
            "Epoch 2/10\n",
            "60/60 [==============================] - 1s 18ms/step - loss: 2.0828 - accuracy: 0.4489 - val_loss: 2.1018 - val_accuracy: 0.3650\n",
            "Epoch 3/10\n",
            "60/60 [==============================] - 1s 18ms/step - loss: 1.9896 - accuracy: 0.4762 - val_loss: 1.9711 - val_accuracy: 0.4859\n",
            "Epoch 4/10\n",
            "60/60 [==============================] - 1s 18ms/step - loss: 1.9272 - accuracy: 0.4834 - val_loss: 2.0619 - val_accuracy: 0.4889\n",
            "Epoch 5/10\n",
            "60/60 [==============================] - 1s 18ms/step - loss: 1.8753 - accuracy: 0.4950 - val_loss: 1.9243 - val_accuracy: 0.4562\n",
            "Epoch 6/10\n",
            "60/60 [==============================] - 1s 18ms/step - loss: 1.8393 - accuracy: 0.5054 - val_loss: 1.8729 - val_accuracy: 0.5096\n",
            "Epoch 7/10\n",
            "60/60 [==============================] - 1s 19ms/step - loss: 1.7977 - accuracy: 0.5134 - val_loss: 1.8463 - val_accuracy: 0.5045\n",
            "Epoch 8/10\n",
            "60/60 [==============================] - 1s 18ms/step - loss: 1.7748 - accuracy: 0.5170 - val_loss: 1.8332 - val_accuracy: 0.5148\n",
            "Epoch 9/10\n",
            "60/60 [==============================] - 1s 18ms/step - loss: 1.7389 - accuracy: 0.5236 - val_loss: 1.8618 - val_accuracy: 0.5037\n",
            "Epoch 10/10\n",
            "60/60 [==============================] - 1s 18ms/step - loss: 1.7163 - accuracy: 0.5380 - val_loss: 1.8687 - val_accuracy: 0.4933\n",
            "71/71 [==============================] - 0s 3ms/step - loss: 1.8777 - accuracy: 0.5111\n"
          ],
          "name": "stdout"
        },
        {
          "output_type": "stream",
          "text": [
            "\r 64%|██████▎   | 122/192 [51:15<26:28, 22.69s/it]"
          ],
          "name": "stderr"
        },
        {
          "output_type": "stream",
          "text": [
            "Epoch 1/10\n",
            "50/50 [==============================] - 2s 32ms/step - loss: 1.5109 - accuracy: 0.4662 - val_loss: 1.2221 - val_accuracy: 0.6137\n",
            "Epoch 2/10\n",
            "50/50 [==============================] - 1s 30ms/step - loss: 1.1420 - accuracy: 0.6152 - val_loss: 0.9982 - val_accuracy: 0.6599\n",
            "Epoch 3/10\n",
            "50/50 [==============================] - 2s 31ms/step - loss: 0.9113 - accuracy: 0.7057 - val_loss: 0.8856 - val_accuracy: 0.7336\n",
            "Epoch 4/10\n",
            "50/50 [==============================] - 2s 32ms/step - loss: 0.7711 - accuracy: 0.7541 - val_loss: 0.8573 - val_accuracy: 0.7398\n",
            "Epoch 5/10\n",
            "50/50 [==============================] - 2s 32ms/step - loss: 0.6644 - accuracy: 0.7850 - val_loss: 0.7879 - val_accuracy: 0.7691\n",
            "Epoch 6/10\n",
            "50/50 [==============================] - 2s 32ms/step - loss: 0.5693 - accuracy: 0.8204 - val_loss: 0.7908 - val_accuracy: 0.7833\n",
            "Epoch 7/10\n",
            "50/50 [==============================] - 2s 32ms/step - loss: 0.5011 - accuracy: 0.8459 - val_loss: 0.7871 - val_accuracy: 0.8011\n",
            "Epoch 8/10\n",
            "50/50 [==============================] - 2s 32ms/step - loss: 0.4348 - accuracy: 0.8800 - val_loss: 0.7772 - val_accuracy: 0.8153\n",
            "Epoch 9/10\n",
            "50/50 [==============================] - 2s 31ms/step - loss: 0.3691 - accuracy: 0.8984 - val_loss: 0.8241 - val_accuracy: 0.8117\n",
            "Epoch 10/10\n",
            "50/50 [==============================] - 1s 30ms/step - loss: 0.3177 - accuracy: 0.9094 - val_loss: 0.8563 - val_accuracy: 0.8099\n",
            "58/58 [==============================] - 0s 3ms/step - loss: 0.8888 - accuracy: 0.7991\n"
          ],
          "name": "stdout"
        },
        {
          "output_type": "stream",
          "text": [
            "\r 64%|██████▍   | 123/192 [51:33<24:26, 21.25s/it]"
          ],
          "name": "stderr"
        },
        {
          "output_type": "stream",
          "text": [
            "Epoch 1/10\n",
            "60/60 [==============================] - 2s 30ms/step - loss: 2.2882 - accuracy: 0.3939 - val_loss: 1.9360 - val_accuracy: 0.4911\n",
            "Epoch 2/10\n",
            "60/60 [==============================] - 2s 28ms/step - loss: 1.7766 - accuracy: 0.5316 - val_loss: 1.6406 - val_accuracy: 0.5720\n",
            "Epoch 3/10\n",
            "60/60 [==============================] - 2s 28ms/step - loss: 1.5637 - accuracy: 0.6005 - val_loss: 1.5467 - val_accuracy: 0.6009\n",
            "Epoch 4/10\n",
            "60/60 [==============================] - 2s 28ms/step - loss: 1.4206 - accuracy: 0.6311 - val_loss: 1.4905 - val_accuracy: 0.6239\n",
            "Epoch 5/10\n",
            "60/60 [==============================] - 2s 28ms/step - loss: 1.2934 - accuracy: 0.6673 - val_loss: 1.4546 - val_accuracy: 0.6409\n",
            "Epoch 6/10\n",
            "60/60 [==============================] - 2s 29ms/step - loss: 1.1851 - accuracy: 0.6916 - val_loss: 1.4261 - val_accuracy: 0.6706\n",
            "Epoch 7/10\n",
            "60/60 [==============================] - 2s 29ms/step - loss: 1.0751 - accuracy: 0.7176 - val_loss: 1.4499 - val_accuracy: 0.6736\n",
            "Epoch 8/10\n",
            "60/60 [==============================] - 2s 28ms/step - loss: 0.9801 - accuracy: 0.7375 - val_loss: 1.4384 - val_accuracy: 0.6825\n",
            "Epoch 9/10\n",
            "60/60 [==============================] - 2s 28ms/step - loss: 0.8889 - accuracy: 0.7637 - val_loss: 1.4431 - val_accuracy: 0.6907\n",
            "Epoch 10/10\n",
            "60/60 [==============================] - 2s 28ms/step - loss: 0.8037 - accuracy: 0.7854 - val_loss: 1.4641 - val_accuracy: 0.6899\n",
            "71/71 [==============================] - 0s 3ms/step - loss: 1.4641 - accuracy: 0.6799\n"
          ],
          "name": "stdout"
        },
        {
          "output_type": "stream",
          "text": [
            "\r 65%|██████▍   | 124/192 [51:52<23:23, 20.64s/it]"
          ],
          "name": "stderr"
        },
        {
          "output_type": "stream",
          "text": [
            "Epoch 1/10\n",
            "50/50 [==============================] - 1s 20ms/step - loss: 1.7066 - accuracy: 0.4262 - val_loss: 1.3924 - val_accuracy: 0.5027\n",
            "Epoch 2/10\n",
            "50/50 [==============================] - 1s 18ms/step - loss: 1.3870 - accuracy: 0.5412 - val_loss: 1.2877 - val_accuracy: 0.5933\n",
            "Epoch 3/10\n",
            "50/50 [==============================] - 1s 18ms/step - loss: 1.2978 - accuracy: 0.5642 - val_loss: 1.2397 - val_accuracy: 0.5959\n",
            "Epoch 4/10\n",
            "50/50 [==============================] - 1s 18ms/step - loss: 1.2414 - accuracy: 0.5746 - val_loss: 1.2240 - val_accuracy: 0.6004\n",
            "Epoch 5/10\n",
            "50/50 [==============================] - 1s 18ms/step - loss: 1.1852 - accuracy: 0.5912 - val_loss: 1.2007 - val_accuracy: 0.6083\n",
            "Epoch 6/10\n",
            "50/50 [==============================] - 1s 18ms/step - loss: 1.1372 - accuracy: 0.6061 - val_loss: 1.1389 - val_accuracy: 0.6217\n",
            "Epoch 7/10\n",
            "50/50 [==============================] - 1s 18ms/step - loss: 1.0973 - accuracy: 0.6205 - val_loss: 1.1242 - val_accuracy: 0.6368\n",
            "Epoch 8/10\n",
            "50/50 [==============================] - 1s 18ms/step - loss: 1.0644 - accuracy: 0.6411 - val_loss: 1.1189 - val_accuracy: 0.6252\n",
            "Epoch 9/10\n",
            "50/50 [==============================] - 1s 18ms/step - loss: 1.0302 - accuracy: 0.6508 - val_loss: 1.1027 - val_accuracy: 0.6519\n",
            "Epoch 10/10\n",
            "50/50 [==============================] - 1s 18ms/step - loss: 1.0112 - accuracy: 0.6603 - val_loss: 1.1152 - val_accuracy: 0.6465\n",
            "58/58 [==============================] - 0s 3ms/step - loss: 1.0954 - accuracy: 0.6501\n"
          ],
          "name": "stdout"
        },
        {
          "output_type": "stream",
          "text": [
            "\r 65%|██████▌   | 125/192 [52:14<23:25, 20.98s/it]"
          ],
          "name": "stderr"
        },
        {
          "output_type": "stream",
          "text": [
            "Epoch 1/10\n",
            "60/60 [==============================] - 1s 20ms/step - loss: 2.5461 - accuracy: 0.3423 - val_loss: 2.1302 - val_accuracy: 0.3642\n",
            "Epoch 2/10\n",
            "60/60 [==============================] - 1s 18ms/step - loss: 2.0964 - accuracy: 0.4345 - val_loss: 2.0369 - val_accuracy: 0.4518\n",
            "Epoch 3/10\n",
            "60/60 [==============================] - 1s 19ms/step - loss: 2.0093 - accuracy: 0.4606 - val_loss: 1.9745 - val_accuracy: 0.4844\n",
            "Epoch 4/10\n",
            "60/60 [==============================] - 1s 19ms/step - loss: 1.9259 - accuracy: 0.4762 - val_loss: 1.9454 - val_accuracy: 0.4800\n",
            "Epoch 5/10\n",
            "60/60 [==============================] - 1s 19ms/step - loss: 1.8745 - accuracy: 0.4889 - val_loss: 1.9412 - val_accuracy: 0.4748\n",
            "Epoch 6/10\n",
            "60/60 [==============================] - 1s 19ms/step - loss: 1.8370 - accuracy: 0.4983 - val_loss: 1.8663 - val_accuracy: 0.4955\n",
            "Epoch 7/10\n",
            "60/60 [==============================] - 1s 19ms/step - loss: 1.7857 - accuracy: 0.5136 - val_loss: 1.8765 - val_accuracy: 0.4941\n",
            "Epoch 8/10\n",
            "60/60 [==============================] - 1s 19ms/step - loss: 1.7640 - accuracy: 0.5219 - val_loss: 1.8253 - val_accuracy: 0.5111\n",
            "Epoch 9/10\n",
            "60/60 [==============================] - 1s 19ms/step - loss: 1.7297 - accuracy: 0.5313 - val_loss: 1.8463 - val_accuracy: 0.5000\n",
            "Epoch 10/10\n",
            "60/60 [==============================] - 1s 19ms/step - loss: 1.7065 - accuracy: 0.5325 - val_loss: 1.8677 - val_accuracy: 0.4963\n",
            "71/71 [==============================] - 0s 3ms/step - loss: 1.8519 - accuracy: 0.5160\n"
          ],
          "name": "stdout"
        },
        {
          "output_type": "stream",
          "text": [
            "\r 66%|██████▌   | 126/192 [52:38<24:01, 21.84s/it]"
          ],
          "name": "stderr"
        },
        {
          "output_type": "stream",
          "text": [
            "Epoch 1/10\n",
            "50/50 [==============================] - 4s 83ms/step - loss: 1.4043 - accuracy: 0.5164 - val_loss: 1.0385 - val_accuracy: 0.6474\n",
            "Epoch 2/10\n",
            "50/50 [==============================] - 4s 80ms/step - loss: 0.9608 - accuracy: 0.6810 - val_loss: 0.8831 - val_accuracy: 0.7300\n",
            "Epoch 3/10\n",
            "50/50 [==============================] - 4s 81ms/step - loss: 0.7946 - accuracy: 0.7547 - val_loss: 0.8274 - val_accuracy: 0.7522\n",
            "Epoch 4/10\n",
            "50/50 [==============================] - 4s 81ms/step - loss: 0.6463 - accuracy: 0.7979 - val_loss: 0.7341 - val_accuracy: 0.8073\n",
            "Epoch 5/10\n",
            "50/50 [==============================] - 4s 80ms/step - loss: 0.5061 - accuracy: 0.8463 - val_loss: 0.6934 - val_accuracy: 0.8197\n",
            "Epoch 6/10\n",
            "50/50 [==============================] - 4s 82ms/step - loss: 0.4109 - accuracy: 0.8783 - val_loss: 0.6793 - val_accuracy: 0.8250\n",
            "Epoch 7/10\n",
            "50/50 [==============================] - 4s 81ms/step - loss: 0.3295 - accuracy: 0.9058 - val_loss: 0.7077 - val_accuracy: 0.8242\n",
            "Epoch 8/10\n",
            "50/50 [==============================] - 4s 81ms/step - loss: 0.2900 - accuracy: 0.9189 - val_loss: 0.7676 - val_accuracy: 0.8197\n",
            "Epoch 9/10\n",
            "50/50 [==============================] - 4s 81ms/step - loss: 0.2411 - accuracy: 0.9329 - val_loss: 0.7737 - val_accuracy: 0.8401\n",
            "Epoch 10/10\n",
            "50/50 [==============================] - 4s 81ms/step - loss: 0.2127 - accuracy: 0.9445 - val_loss: 0.8446 - val_accuracy: 0.8259\n",
            "58/58 [==============================] - 0s 6ms/step - loss: 0.9650 - accuracy: 0.8002\n"
          ],
          "name": "stdout"
        },
        {
          "output_type": "stream",
          "text": [
            "\r 66%|██████▌   | 127/192 [53:21<30:38, 28.29s/it]"
          ],
          "name": "stderr"
        },
        {
          "output_type": "stream",
          "text": [
            "Epoch 1/10\n",
            "60/60 [==============================] - 6s 99ms/step - loss: 2.1793 - accuracy: 0.4219 - val_loss: 1.8107 - val_accuracy: 0.5171\n",
            "Epoch 2/10\n",
            "60/60 [==============================] - 5s 80ms/step - loss: 1.6699 - accuracy: 0.5696 - val_loss: 1.5886 - val_accuracy: 0.5972\n",
            "Epoch 3/10\n",
            "60/60 [==============================] - 5s 79ms/step - loss: 1.4736 - accuracy: 0.6200 - val_loss: 1.5199 - val_accuracy: 0.6165\n",
            "Epoch 4/10\n",
            "60/60 [==============================] - 5s 81ms/step - loss: 1.3309 - accuracy: 0.6516 - val_loss: 1.4720 - val_accuracy: 0.6424\n",
            "Epoch 5/10\n",
            "60/60 [==============================] - 5s 79ms/step - loss: 1.1966 - accuracy: 0.6869 - val_loss: 1.4460 - val_accuracy: 0.6595\n",
            "Epoch 6/10\n",
            "60/60 [==============================] - 5s 79ms/step - loss: 1.0804 - accuracy: 0.7113 - val_loss: 1.4677 - val_accuracy: 0.6743\n",
            "Epoch 7/10\n",
            "60/60 [==============================] - 5s 79ms/step - loss: 0.9692 - accuracy: 0.7402 - val_loss: 1.4472 - val_accuracy: 0.6869\n",
            "Epoch 8/10\n",
            "60/60 [==============================] - 5s 79ms/step - loss: 0.8664 - accuracy: 0.7641 - val_loss: 1.4846 - val_accuracy: 0.6795\n",
            "Epoch 9/10\n",
            "60/60 [==============================] - 5s 79ms/step - loss: 0.7712 - accuracy: 0.7942 - val_loss: 1.5391 - val_accuracy: 0.6944\n",
            "Epoch 10/10\n",
            "60/60 [==============================] - 5s 79ms/step - loss: 0.6977 - accuracy: 0.8063 - val_loss: 1.5980 - val_accuracy: 0.6966\n",
            "71/71 [==============================] - 0s 5ms/step - loss: 1.6195 - accuracy: 0.6745\n"
          ],
          "name": "stdout"
        },
        {
          "output_type": "stream",
          "text": [
            "\r 67%|██████▋   | 128/192 [54:13<37:35, 35.24s/it]"
          ],
          "name": "stderr"
        },
        {
          "output_type": "stream",
          "text": [
            "Epoch 1/10\n",
            "50/50 [==============================] - 1s 13ms/step - loss: 1.9781 - accuracy: 0.2859 - val_loss: 1.4842 - val_accuracy: 0.4352\n",
            "Epoch 2/10\n",
            "50/50 [==============================] - 1s 10ms/step - loss: 1.5176 - accuracy: 0.4755 - val_loss: 1.3085 - val_accuracy: 0.5497\n",
            "Epoch 3/10\n",
            "50/50 [==============================] - 0s 10ms/step - loss: 1.3772 - accuracy: 0.5241 - val_loss: 1.2687 - val_accuracy: 0.5755\n",
            "Epoch 4/10\n",
            "50/50 [==============================] - 1s 10ms/step - loss: 1.3048 - accuracy: 0.5445 - val_loss: 1.2319 - val_accuracy: 0.5915\n",
            "Epoch 5/10\n",
            "50/50 [==============================] - 1s 10ms/step - loss: 1.2624 - accuracy: 0.5589 - val_loss: 1.2099 - val_accuracy: 0.5817\n",
            "Epoch 6/10\n",
            "50/50 [==============================] - 1s 10ms/step - loss: 1.2316 - accuracy: 0.5661 - val_loss: 1.2183 - val_accuracy: 0.6012\n",
            "Epoch 7/10\n",
            "50/50 [==============================] - 1s 10ms/step - loss: 1.2135 - accuracy: 0.5708 - val_loss: 1.2033 - val_accuracy: 0.5941\n",
            "Epoch 8/10\n",
            "50/50 [==============================] - 0s 10ms/step - loss: 1.1744 - accuracy: 0.5818 - val_loss: 1.1746 - val_accuracy: 0.5950\n",
            "Epoch 9/10\n",
            "50/50 [==============================] - 1s 10ms/step - loss: 1.1625 - accuracy: 0.5926 - val_loss: 1.1669 - val_accuracy: 0.6101\n",
            "Epoch 10/10\n",
            "50/50 [==============================] - 1s 10ms/step - loss: 1.1522 - accuracy: 0.5987 - val_loss: 1.2594 - val_accuracy: 0.5737\n",
            "58/58 [==============================] - 0s 2ms/step - loss: 1.2221 - accuracy: 0.5864\n"
          ],
          "name": "stdout"
        },
        {
          "output_type": "stream",
          "text": [
            "\r 67%|██████▋   | 129/192 [54:30<31:32, 30.04s/it]"
          ],
          "name": "stderr"
        },
        {
          "output_type": "stream",
          "text": [
            "Epoch 1/10\n",
            "60/60 [==============================] - 1s 13ms/step - loss: 2.8831 - accuracy: 0.2903 - val_loss: 2.1896 - val_accuracy: 0.4006\n",
            "Epoch 2/10\n",
            "60/60 [==============================] - 1s 11ms/step - loss: 2.2818 - accuracy: 0.4094 - val_loss: 2.0750 - val_accuracy: 0.4488\n",
            "Epoch 3/10\n",
            "60/60 [==============================] - 1s 10ms/step - loss: 2.1391 - accuracy: 0.4426 - val_loss: 2.0428 - val_accuracy: 0.4562\n",
            "Epoch 4/10\n",
            "60/60 [==============================] - 1s 10ms/step - loss: 2.0476 - accuracy: 0.4585 - val_loss: 1.9701 - val_accuracy: 0.4777\n",
            "Epoch 5/10\n",
            "60/60 [==============================] - 1s 11ms/step - loss: 1.9842 - accuracy: 0.4743 - val_loss: 1.9396 - val_accuracy: 0.4911\n",
            "Epoch 6/10\n",
            "60/60 [==============================] - 1s 11ms/step - loss: 1.9482 - accuracy: 0.4824 - val_loss: 1.9149 - val_accuracy: 0.4978\n",
            "Epoch 7/10\n",
            "60/60 [==============================] - 1s 10ms/step - loss: 1.9073 - accuracy: 0.4957 - val_loss: 1.8747 - val_accuracy: 0.4955\n",
            "Epoch 8/10\n",
            "60/60 [==============================] - 1s 11ms/step - loss: 1.8907 - accuracy: 0.4992 - val_loss: 1.8813 - val_accuracy: 0.5089\n",
            "Epoch 9/10\n",
            "60/60 [==============================] - 1s 10ms/step - loss: 1.8433 - accuracy: 0.5073 - val_loss: 1.8676 - val_accuracy: 0.5015\n",
            "Epoch 10/10\n",
            "60/60 [==============================] - 1s 11ms/step - loss: 1.8283 - accuracy: 0.5136 - val_loss: 1.8527 - val_accuracy: 0.5252\n",
            "71/71 [==============================] - 0s 2ms/step - loss: 1.8460 - accuracy: 0.5405\n"
          ],
          "name": "stdout"
        },
        {
          "output_type": "stream",
          "text": [
            "\r 68%|██████▊   | 130/192 [54:49<27:36, 26.72s/it]"
          ],
          "name": "stderr"
        },
        {
          "output_type": "stream",
          "text": [
            "Epoch 1/10\n",
            "50/50 [==============================] - 1s 19ms/step - loss: 1.5504 - accuracy: 0.4537 - val_loss: 1.1879 - val_accuracy: 0.6021\n",
            "Epoch 2/10\n",
            "50/50 [==============================] - 1s 16ms/step - loss: 1.1267 - accuracy: 0.5992 - val_loss: 1.0034 - val_accuracy: 0.6430\n",
            "Epoch 3/10\n",
            "50/50 [==============================] - 1s 16ms/step - loss: 0.9838 - accuracy: 0.6467 - val_loss: 0.9582 - val_accuracy: 0.6616\n",
            "Epoch 4/10\n",
            "50/50 [==============================] - 1s 16ms/step - loss: 0.8948 - accuracy: 0.6914 - val_loss: 0.9066 - val_accuracy: 0.7194\n",
            "Epoch 5/10\n",
            "50/50 [==============================] - 1s 16ms/step - loss: 0.7992 - accuracy: 0.7359 - val_loss: 0.8759 - val_accuracy: 0.7531\n",
            "Epoch 6/10\n",
            "50/50 [==============================] - 1s 16ms/step - loss: 0.7167 - accuracy: 0.7673 - val_loss: 0.8523 - val_accuracy: 0.7549\n",
            "Epoch 7/10\n",
            "50/50 [==============================] - 1s 16ms/step - loss: 0.6437 - accuracy: 0.7921 - val_loss: 0.8254 - val_accuracy: 0.7762\n",
            "Epoch 8/10\n",
            "50/50 [==============================] - 1s 16ms/step - loss: 0.5692 - accuracy: 0.8211 - val_loss: 0.8377 - val_accuracy: 0.7798\n",
            "Epoch 9/10\n",
            "50/50 [==============================] - 1s 16ms/step - loss: 0.5127 - accuracy: 0.8427 - val_loss: 0.8314 - val_accuracy: 0.7904\n",
            "Epoch 10/10\n",
            "50/50 [==============================] - 1s 16ms/step - loss: 0.4532 - accuracy: 0.8548 - val_loss: 0.8678 - val_accuracy: 0.7762\n",
            "58/58 [==============================] - 0s 2ms/step - loss: 0.8780 - accuracy: 0.7775\n"
          ],
          "name": "stdout"
        },
        {
          "output_type": "stream",
          "text": [
            "\r 68%|██████▊   | 131/192 [54:59<22:04, 21.71s/it]"
          ],
          "name": "stderr"
        },
        {
          "output_type": "stream",
          "text": [
            "Epoch 1/10\n",
            "60/60 [==============================] - 1s 19ms/step - loss: 2.6275 - accuracy: 0.2957 - val_loss: 2.0487 - val_accuracy: 0.3605\n",
            "Epoch 2/10\n",
            "60/60 [==============================] - 1s 17ms/step - loss: 1.9822 - accuracy: 0.4510 - val_loss: 1.8052 - val_accuracy: 0.5030\n",
            "Epoch 3/10\n",
            "60/60 [==============================] - 1s 17ms/step - loss: 1.7594 - accuracy: 0.5185 - val_loss: 1.6825 - val_accuracy: 0.5364\n",
            "Epoch 4/10\n",
            "60/60 [==============================] - 1s 16ms/step - loss: 1.6102 - accuracy: 0.5639 - val_loss: 1.6317 - val_accuracy: 0.5668\n",
            "Epoch 5/10\n",
            "60/60 [==============================] - 1s 16ms/step - loss: 1.5099 - accuracy: 0.5958 - val_loss: 1.6112 - val_accuracy: 0.5772\n",
            "Epoch 6/10\n",
            "60/60 [==============================] - 1s 16ms/step - loss: 1.4258 - accuracy: 0.6133 - val_loss: 1.5886 - val_accuracy: 0.5838\n",
            "Epoch 7/10\n",
            "60/60 [==============================] - 1s 16ms/step - loss: 1.3462 - accuracy: 0.6361 - val_loss: 1.5817 - val_accuracy: 0.6083\n",
            "Epoch 8/10\n",
            "60/60 [==============================] - 1s 16ms/step - loss: 1.2494 - accuracy: 0.6653 - val_loss: 1.5357 - val_accuracy: 0.6261\n",
            "Epoch 9/10\n",
            "60/60 [==============================] - 1s 16ms/step - loss: 1.1539 - accuracy: 0.6890 - val_loss: 1.5328 - val_accuracy: 0.6409\n",
            "Epoch 10/10\n",
            "60/60 [==============================] - 1s 17ms/step - loss: 1.0677 - accuracy: 0.7130 - val_loss: 1.4902 - val_accuracy: 0.6558\n",
            "71/71 [==============================] - 0s 2ms/step - loss: 1.5331 - accuracy: 0.6331\n"
          ],
          "name": "stdout"
        },
        {
          "output_type": "stream",
          "text": [
            "\r 69%|██████▉   | 132/192 [55:12<18:51, 18.85s/it]"
          ],
          "name": "stderr"
        },
        {
          "output_type": "stream",
          "text": [
            "Epoch 1/10\n",
            "50/50 [==============================] - 1s 13ms/step - loss: 1.9449 - accuracy: 0.3270 - val_loss: 1.4760 - val_accuracy: 0.5471\n",
            "Epoch 2/10\n",
            "50/50 [==============================] - 1s 10ms/step - loss: 1.5219 - accuracy: 0.4902 - val_loss: 1.3682 - val_accuracy: 0.5693\n",
            "Epoch 3/10\n",
            "50/50 [==============================] - 1s 10ms/step - loss: 1.3942 - accuracy: 0.5205 - val_loss: 1.3085 - val_accuracy: 0.5551\n",
            "Epoch 4/10\n",
            "50/50 [==============================] - 1s 10ms/step - loss: 1.3214 - accuracy: 0.5462 - val_loss: 1.2678 - val_accuracy: 0.5764\n",
            "Epoch 5/10\n",
            "50/50 [==============================] - 1s 14ms/step - loss: 1.2754 - accuracy: 0.5606 - val_loss: 1.2099 - val_accuracy: 0.5870\n",
            "Epoch 6/10\n",
            "50/50 [==============================] - 1s 10ms/step - loss: 1.2241 - accuracy: 0.5736 - val_loss: 1.1889 - val_accuracy: 0.6137\n",
            "Epoch 7/10\n",
            "50/50 [==============================] - 1s 10ms/step - loss: 1.1971 - accuracy: 0.5826 - val_loss: 1.1556 - val_accuracy: 0.6217\n",
            "Epoch 8/10\n",
            "50/50 [==============================] - 1s 10ms/step - loss: 1.1697 - accuracy: 0.5970 - val_loss: 1.1918 - val_accuracy: 0.5959\n",
            "Epoch 9/10\n",
            "50/50 [==============================] - 1s 10ms/step - loss: 1.1426 - accuracy: 0.6053 - val_loss: 1.1593 - val_accuracy: 0.6368\n",
            "Epoch 10/10\n",
            "50/50 [==============================] - 1s 10ms/step - loss: 1.1219 - accuracy: 0.6103 - val_loss: 1.1195 - val_accuracy: 0.6456\n",
            "58/58 [==============================] - 0s 2ms/step - loss: 1.1049 - accuracy: 0.6393\n"
          ],
          "name": "stdout"
        },
        {
          "output_type": "stream",
          "text": [
            "\r 69%|██████▉   | 133/192 [55:30<18:16, 18.58s/it]"
          ],
          "name": "stderr"
        },
        {
          "output_type": "stream",
          "text": [
            "Epoch 1/10\n",
            "60/60 [==============================] - 1s 12ms/step - loss: 2.9328 - accuracy: 0.3044 - val_loss: 2.2420 - val_accuracy: 0.3909\n",
            "Epoch 2/10\n",
            "60/60 [==============================] - 1s 11ms/step - loss: 2.2693 - accuracy: 0.4189 - val_loss: 2.0912 - val_accuracy: 0.4206\n",
            "Epoch 3/10\n",
            "60/60 [==============================] - 1s 10ms/step - loss: 2.1311 - accuracy: 0.4437 - val_loss: 2.1173 - val_accuracy: 0.4755\n",
            "Epoch 4/10\n",
            "60/60 [==============================] - 1s 10ms/step - loss: 2.0448 - accuracy: 0.4599 - val_loss: 1.9689 - val_accuracy: 0.4755\n",
            "Epoch 5/10\n",
            "60/60 [==============================] - 1s 11ms/step - loss: 1.9894 - accuracy: 0.4762 - val_loss: 1.9376 - val_accuracy: 0.4911\n",
            "Epoch 6/10\n",
            "60/60 [==============================] - 1s 10ms/step - loss: 1.9380 - accuracy: 0.4851 - val_loss: 1.9473 - val_accuracy: 0.4881\n",
            "Epoch 7/10\n",
            "60/60 [==============================] - 1s 10ms/step - loss: 1.9134 - accuracy: 0.4924 - val_loss: 1.9323 - val_accuracy: 0.4800\n",
            "Epoch 8/10\n",
            "60/60 [==============================] - 1s 11ms/step - loss: 1.8770 - accuracy: 0.5010 - val_loss: 1.8524 - val_accuracy: 0.4993\n",
            "Epoch 9/10\n",
            "60/60 [==============================] - 1s 11ms/step - loss: 1.8540 - accuracy: 0.5056 - val_loss: 1.8428 - val_accuracy: 0.5037\n",
            "Epoch 10/10\n",
            "60/60 [==============================] - 1s 10ms/step - loss: 1.8306 - accuracy: 0.5136 - val_loss: 1.8341 - val_accuracy: 0.5119\n",
            "71/71 [==============================] - 0s 2ms/step - loss: 1.8596 - accuracy: 0.5147\n"
          ],
          "name": "stdout"
        },
        {
          "output_type": "stream",
          "text": [
            "\r 70%|██████▉   | 134/192 [55:48<18:01, 18.64s/it]"
          ],
          "name": "stderr"
        },
        {
          "output_type": "stream",
          "text": [
            "Epoch 1/10\n",
            "50/50 [==============================] - 2s 48ms/step - loss: 1.4741 - accuracy: 0.4915 - val_loss: 1.0987 - val_accuracy: 0.6199\n",
            "Epoch 2/10\n",
            "50/50 [==============================] - 2s 47ms/step - loss: 1.0805 - accuracy: 0.6246 - val_loss: 0.9773 - val_accuracy: 0.6536\n",
            "Epoch 3/10\n",
            "50/50 [==============================] - 2s 47ms/step - loss: 0.9409 - accuracy: 0.6693 - val_loss: 0.9473 - val_accuracy: 0.6758\n",
            "Epoch 4/10\n",
            "50/50 [==============================] - 2s 47ms/step - loss: 0.8307 - accuracy: 0.7198 - val_loss: 0.9069 - val_accuracy: 0.7043\n",
            "Epoch 5/10\n",
            "50/50 [==============================] - 2s 47ms/step - loss: 0.7373 - accuracy: 0.7599 - val_loss: 0.8900 - val_accuracy: 0.7247\n",
            "Epoch 6/10\n",
            "50/50 [==============================] - 2s 46ms/step - loss: 0.6391 - accuracy: 0.7993 - val_loss: 0.8279 - val_accuracy: 0.7567\n",
            "Epoch 7/10\n",
            "50/50 [==============================] - 2s 47ms/step - loss: 0.5385 - accuracy: 0.8391 - val_loss: 0.7919 - val_accuracy: 0.7869\n",
            "Epoch 8/10\n",
            "50/50 [==============================] - 2s 47ms/step - loss: 0.4529 - accuracy: 0.8612 - val_loss: 0.7794 - val_accuracy: 0.7993\n",
            "Epoch 9/10\n",
            "50/50 [==============================] - 2s 46ms/step - loss: 0.3737 - accuracy: 0.8893 - val_loss: 0.8187 - val_accuracy: 0.7913\n",
            "Epoch 10/10\n",
            "50/50 [==============================] - 2s 47ms/step - loss: 0.3356 - accuracy: 0.9036 - val_loss: 0.8472 - val_accuracy: 0.8037\n",
            "58/58 [==============================] - 0s 3ms/step - loss: 0.8581 - accuracy: 0.7878\n"
          ],
          "name": "stdout"
        },
        {
          "output_type": "stream",
          "text": [
            "\r 70%|███████   | 135/192 [56:14<19:46, 20.82s/it]"
          ],
          "name": "stderr"
        },
        {
          "output_type": "stream",
          "text": [
            "Epoch 1/10\n",
            "60/60 [==============================] - 3s 48ms/step - loss: 2.4870 - accuracy: 0.3581 - val_loss: 1.9001 - val_accuracy: 0.4963\n",
            "Epoch 2/10\n",
            "60/60 [==============================] - 3s 46ms/step - loss: 1.8596 - accuracy: 0.5062 - val_loss: 1.6965 - val_accuracy: 0.5519\n",
            "Epoch 3/10\n",
            "60/60 [==============================] - 3s 46ms/step - loss: 1.6175 - accuracy: 0.5794 - val_loss: 1.5939 - val_accuracy: 0.5734\n",
            "Epoch 4/10\n",
            "60/60 [==============================] - 3s 46ms/step - loss: 1.4776 - accuracy: 0.6091 - val_loss: 1.5594 - val_accuracy: 0.5898\n",
            "Epoch 5/10\n",
            "60/60 [==============================] - 3s 45ms/step - loss: 1.3438 - accuracy: 0.6399 - val_loss: 1.5452 - val_accuracy: 0.6142\n",
            "Epoch 6/10\n",
            "60/60 [==============================] - 3s 46ms/step - loss: 1.2243 - accuracy: 0.6751 - val_loss: 1.4781 - val_accuracy: 0.6565\n",
            "Epoch 7/10\n",
            "60/60 [==============================] - 3s 48ms/step - loss: 1.1078 - accuracy: 0.7114 - val_loss: 1.4572 - val_accuracy: 0.6691\n",
            "Epoch 8/10\n",
            "60/60 [==============================] - 3s 48ms/step - loss: 1.0058 - accuracy: 0.7353 - val_loss: 1.4411 - val_accuracy: 0.6728\n",
            "Epoch 9/10\n",
            "60/60 [==============================] - 3s 48ms/step - loss: 0.9167 - accuracy: 0.7547 - val_loss: 1.5073 - val_accuracy: 0.6677\n",
            "Epoch 10/10\n",
            "60/60 [==============================] - 3s 45ms/step - loss: 0.8336 - accuracy: 0.7772 - val_loss: 1.4755 - val_accuracy: 0.6699\n",
            "71/71 [==============================] - 0s 3ms/step - loss: 1.5203 - accuracy: 0.6576\n"
          ],
          "name": "stdout"
        },
        {
          "output_type": "stream",
          "text": [
            "\r 71%|███████   | 136/192 [56:44<22:02, 23.61s/it]"
          ],
          "name": "stderr"
        },
        {
          "output_type": "stream",
          "text": [
            "Epoch 1/10\n",
            "50/50 [==============================] - 1s 22ms/step - loss: 1.7453 - accuracy: 0.4069 - val_loss: 1.3737 - val_accuracy: 0.5284\n",
            "Epoch 2/10\n",
            "50/50 [==============================] - 1s 19ms/step - loss: 1.3915 - accuracy: 0.5231 - val_loss: 1.2862 - val_accuracy: 0.5737\n",
            "Epoch 3/10\n",
            "50/50 [==============================] - 1s 19ms/step - loss: 1.3233 - accuracy: 0.5521 - val_loss: 1.3010 - val_accuracy: 0.5933\n",
            "Epoch 4/10\n",
            "50/50 [==============================] - 1s 19ms/step - loss: 1.2668 - accuracy: 0.5678 - val_loss: 1.2061 - val_accuracy: 0.5853\n",
            "Epoch 5/10\n",
            "50/50 [==============================] - 1s 19ms/step - loss: 1.2174 - accuracy: 0.5824 - val_loss: 1.1754 - val_accuracy: 0.5924\n",
            "Epoch 6/10\n",
            "50/50 [==============================] - 1s 19ms/step - loss: 1.1810 - accuracy: 0.5954 - val_loss: 1.1664 - val_accuracy: 0.6297\n",
            "Epoch 7/10\n",
            "50/50 [==============================] - 1s 19ms/step - loss: 1.1448 - accuracy: 0.6088 - val_loss: 1.1345 - val_accuracy: 0.6137\n",
            "Epoch 8/10\n",
            "50/50 [==============================] - 1s 19ms/step - loss: 1.1160 - accuracy: 0.6213 - val_loss: 1.1207 - val_accuracy: 0.6448\n",
            "Epoch 9/10\n",
            "50/50 [==============================] - 1s 19ms/step - loss: 1.1060 - accuracy: 0.6288 - val_loss: 1.1803 - val_accuracy: 0.6465\n",
            "Epoch 10/10\n",
            "50/50 [==============================] - 1s 19ms/step - loss: 1.0864 - accuracy: 0.6337 - val_loss: 1.0876 - val_accuracy: 0.6643\n",
            "58/58 [==============================] - 0s 3ms/step - loss: 1.0629 - accuracy: 0.6690\n"
          ],
          "name": "stdout"
        },
        {
          "output_type": "stream",
          "text": [
            "\r 71%|███████▏  | 137/192 [57:07<21:21, 23.30s/it]"
          ],
          "name": "stderr"
        },
        {
          "output_type": "stream",
          "text": [
            "Epoch 1/10\n",
            "60/60 [==============================] - 1s 21ms/step - loss: 2.5981 - accuracy: 0.3401 - val_loss: 2.1156 - val_accuracy: 0.4221\n",
            "Epoch 2/10\n",
            "60/60 [==============================] - 1s 20ms/step - loss: 2.1258 - accuracy: 0.4403 - val_loss: 2.0764 - val_accuracy: 0.4755\n",
            "Epoch 3/10\n",
            "60/60 [==============================] - 1s 19ms/step - loss: 2.0441 - accuracy: 0.4663 - val_loss: 1.9668 - val_accuracy: 0.4792\n",
            "Epoch 4/10\n",
            "60/60 [==============================] - 1s 19ms/step - loss: 1.9793 - accuracy: 0.4746 - val_loss: 1.9786 - val_accuracy: 0.4955\n",
            "Epoch 5/10\n",
            "60/60 [==============================] - 1s 20ms/step - loss: 1.9228 - accuracy: 0.4865 - val_loss: 1.9270 - val_accuracy: 0.4733\n",
            "Epoch 6/10\n",
            "60/60 [==============================] - 1s 22ms/step - loss: 1.8799 - accuracy: 0.4920 - val_loss: 1.9071 - val_accuracy: 0.4837\n",
            "Epoch 7/10\n",
            "60/60 [==============================] - 1s 19ms/step - loss: 1.8430 - accuracy: 0.5076 - val_loss: 1.8931 - val_accuracy: 0.5082\n",
            "Epoch 8/10\n",
            "60/60 [==============================] - 1s 20ms/step - loss: 1.8096 - accuracy: 0.5114 - val_loss: 1.8165 - val_accuracy: 0.5089\n",
            "Epoch 9/10\n",
            "60/60 [==============================] - 1s 20ms/step - loss: 1.7877 - accuracy: 0.5229 - val_loss: 1.8128 - val_accuracy: 0.5260\n",
            "Epoch 10/10\n",
            "60/60 [==============================] - 1s 20ms/step - loss: 1.7570 - accuracy: 0.5263 - val_loss: 1.7908 - val_accuracy: 0.5401\n",
            "71/71 [==============================] - 0s 3ms/step - loss: 1.8039 - accuracy: 0.5361\n"
          ],
          "name": "stdout"
        },
        {
          "output_type": "stream",
          "text": [
            "\r 72%|███████▏  | 138/192 [57:32<21:21, 23.72s/it]"
          ],
          "name": "stderr"
        },
        {
          "output_type": "stream",
          "text": [
            "Epoch 1/10\n",
            "50/50 [==============================] - 2s 32ms/step - loss: 1.5290 - accuracy: 0.4648 - val_loss: 1.1970 - val_accuracy: 0.6261\n",
            "Epoch 2/10\n",
            "50/50 [==============================] - 1s 30ms/step - loss: 1.1010 - accuracy: 0.6320 - val_loss: 0.9561 - val_accuracy: 0.7025\n",
            "Epoch 3/10\n",
            "50/50 [==============================] - 1s 30ms/step - loss: 0.9054 - accuracy: 0.7036 - val_loss: 0.9043 - val_accuracy: 0.7096\n",
            "Epoch 4/10\n",
            "50/50 [==============================] - 1s 29ms/step - loss: 0.8081 - accuracy: 0.7311 - val_loss: 0.8562 - val_accuracy: 0.7274\n",
            "Epoch 5/10\n",
            "50/50 [==============================] - 1s 29ms/step - loss: 0.7178 - accuracy: 0.7659 - val_loss: 0.8088 - val_accuracy: 0.7638\n",
            "Epoch 6/10\n",
            "50/50 [==============================] - 1s 29ms/step - loss: 0.6376 - accuracy: 0.7933 - val_loss: 0.7735 - val_accuracy: 0.7753\n",
            "Epoch 7/10\n",
            "50/50 [==============================] - 1s 29ms/step - loss: 0.5710 - accuracy: 0.8219 - val_loss: 0.7684 - val_accuracy: 0.7922\n",
            "Epoch 8/10\n",
            "50/50 [==============================] - 1s 29ms/step - loss: 0.4951 - accuracy: 0.8548 - val_loss: 0.7708 - val_accuracy: 0.8002\n",
            "Epoch 9/10\n",
            "50/50 [==============================] - 1s 29ms/step - loss: 0.4348 - accuracy: 0.8708 - val_loss: 0.7750 - val_accuracy: 0.8135\n",
            "Epoch 10/10\n",
            "50/50 [==============================] - 1s 29ms/step - loss: 0.3770 - accuracy: 0.8929 - val_loss: 0.8183 - val_accuracy: 0.7975\n",
            "58/58 [==============================] - 0s 3ms/step - loss: 0.8629 - accuracy: 0.7829\n"
          ],
          "name": "stdout"
        },
        {
          "output_type": "stream",
          "text": [
            "\r 72%|███████▏  | 139/192 [57:48<19:06, 21.63s/it]"
          ],
          "name": "stderr"
        },
        {
          "output_type": "stream",
          "text": [
            "Epoch 1/10\n",
            "60/60 [==============================] - 2s 32ms/step - loss: 2.3826 - accuracy: 0.3853 - val_loss: 1.9339 - val_accuracy: 0.5015\n",
            "Epoch 2/10\n",
            "60/60 [==============================] - 2s 30ms/step - loss: 1.8376 - accuracy: 0.5141 - val_loss: 1.7012 - val_accuracy: 0.5445\n",
            "Epoch 3/10\n",
            "60/60 [==============================] - 2s 30ms/step - loss: 1.6339 - accuracy: 0.5692 - val_loss: 1.6058 - val_accuracy: 0.5779\n",
            "Epoch 4/10\n",
            "60/60 [==============================] - 2s 29ms/step - loss: 1.5097 - accuracy: 0.6039 - val_loss: 1.5580 - val_accuracy: 0.6098\n",
            "Epoch 5/10\n",
            "60/60 [==============================] - 2s 30ms/step - loss: 1.4051 - accuracy: 0.6337 - val_loss: 1.5294 - val_accuracy: 0.6172\n",
            "Epoch 6/10\n",
            "60/60 [==============================] - 2s 29ms/step - loss: 1.2894 - accuracy: 0.6595 - val_loss: 1.5054 - val_accuracy: 0.6298\n",
            "Epoch 7/10\n",
            "60/60 [==============================] - 2s 29ms/step - loss: 1.1957 - accuracy: 0.6806 - val_loss: 1.4760 - val_accuracy: 0.6409\n",
            "Epoch 8/10\n",
            "60/60 [==============================] - 2s 29ms/step - loss: 1.1077 - accuracy: 0.6985 - val_loss: 1.4844 - val_accuracy: 0.6543\n",
            "Epoch 9/10\n",
            "60/60 [==============================] - 2s 30ms/step - loss: 1.0360 - accuracy: 0.7160 - val_loss: 1.4693 - val_accuracy: 0.6536\n",
            "Epoch 10/10\n",
            "60/60 [==============================] - 2s 30ms/step - loss: 0.9702 - accuracy: 0.7347 - val_loss: 1.5107 - val_accuracy: 0.6573\n",
            "71/71 [==============================] - 0s 3ms/step - loss: 1.5179 - accuracy: 0.6465\n"
          ],
          "name": "stdout"
        },
        {
          "output_type": "stream",
          "text": [
            "\r 73%|███████▎  | 140/192 [58:08<18:20, 21.16s/it]"
          ],
          "name": "stderr"
        },
        {
          "output_type": "stream",
          "text": [
            "Epoch 1/10\n",
            "50/50 [==============================] - 1s 22ms/step - loss: 1.7822 - accuracy: 0.3936 - val_loss: 1.3831 - val_accuracy: 0.5524\n",
            "Epoch 2/10\n",
            "50/50 [==============================] - 1s 20ms/step - loss: 1.3959 - accuracy: 0.5093 - val_loss: 1.2762 - val_accuracy: 0.5808\n",
            "Epoch 3/10\n",
            "50/50 [==============================] - 1s 20ms/step - loss: 1.3322 - accuracy: 0.5459 - val_loss: 1.2435 - val_accuracy: 0.5853\n",
            "Epoch 4/10\n",
            "50/50 [==============================] - 1s 20ms/step - loss: 1.2668 - accuracy: 0.5614 - val_loss: 1.2160 - val_accuracy: 0.5799\n",
            "Epoch 5/10\n",
            "50/50 [==============================] - 1s 20ms/step - loss: 1.2266 - accuracy: 0.5670 - val_loss: 1.2012 - val_accuracy: 0.6066\n",
            "Epoch 6/10\n",
            "50/50 [==============================] - 1s 20ms/step - loss: 1.1902 - accuracy: 0.5857 - val_loss: 1.1728 - val_accuracy: 0.6146\n",
            "Epoch 7/10\n",
            "50/50 [==============================] - 1s 20ms/step - loss: 1.1563 - accuracy: 0.5954 - val_loss: 1.1341 - val_accuracy: 0.6172\n",
            "Epoch 8/10\n",
            "50/50 [==============================] - 1s 23ms/step - loss: 1.1200 - accuracy: 0.6109 - val_loss: 1.1535 - val_accuracy: 0.6261\n",
            "Epoch 9/10\n",
            "50/50 [==============================] - 1s 20ms/step - loss: 1.0948 - accuracy: 0.6235 - val_loss: 1.0890 - val_accuracy: 0.6607\n",
            "Epoch 10/10\n",
            "50/50 [==============================] - 1s 20ms/step - loss: 1.0716 - accuracy: 0.6362 - val_loss: 1.1611 - val_accuracy: 0.6217\n",
            "58/58 [==============================] - 0s 3ms/step - loss: 1.1419 - accuracy: 0.6210\n"
          ],
          "name": "stdout"
        },
        {
          "output_type": "stream",
          "text": [
            "\r 73%|███████▎  | 141/192 [58:31<18:23, 21.63s/it]"
          ],
          "name": "stderr"
        },
        {
          "output_type": "stream",
          "text": [
            "Epoch 1/10\n",
            "60/60 [==============================] - 1s 22ms/step - loss: 2.7954 - accuracy: 0.2949 - val_loss: 2.1339 - val_accuracy: 0.3917\n",
            "Epoch 2/10\n",
            "60/60 [==============================] - 1s 21ms/step - loss: 2.1536 - accuracy: 0.4214 - val_loss: 2.1174 - val_accuracy: 0.4177\n",
            "Epoch 3/10\n",
            "60/60 [==============================] - 1s 20ms/step - loss: 2.0549 - accuracy: 0.4555 - val_loss: 1.9830 - val_accuracy: 0.4852\n",
            "Epoch 4/10\n",
            "60/60 [==============================] - 1s 20ms/step - loss: 1.9897 - accuracy: 0.4671 - val_loss: 1.9731 - val_accuracy: 0.4681\n",
            "Epoch 5/10\n",
            "60/60 [==============================] - 1s 20ms/step - loss: 1.9312 - accuracy: 0.4893 - val_loss: 1.8932 - val_accuracy: 0.5082\n",
            "Epoch 6/10\n",
            "60/60 [==============================] - 1s 20ms/step - loss: 1.8907 - accuracy: 0.4976 - val_loss: 1.8804 - val_accuracy: 0.5126\n",
            "Epoch 7/10\n",
            "60/60 [==============================] - 1s 20ms/step - loss: 1.8514 - accuracy: 0.5045 - val_loss: 1.9006 - val_accuracy: 0.5015\n",
            "Epoch 8/10\n",
            "60/60 [==============================] - 1s 20ms/step - loss: 1.8298 - accuracy: 0.5149 - val_loss: 1.8305 - val_accuracy: 0.5274\n",
            "Epoch 9/10\n",
            "60/60 [==============================] - 1s 21ms/step - loss: 1.7893 - accuracy: 0.5261 - val_loss: 1.8997 - val_accuracy: 0.4970\n",
            "Epoch 10/10\n",
            "60/60 [==============================] - 1s 20ms/step - loss: 1.7635 - accuracy: 0.5322 - val_loss: 1.9416 - val_accuracy: 0.4622\n",
            "71/71 [==============================] - 0s 3ms/step - loss: 1.9122 - accuracy: 0.5045\n"
          ],
          "name": "stdout"
        },
        {
          "output_type": "stream",
          "text": [
            "\r 74%|███████▍  | 142/192 [58:56<18:50, 22.61s/it]"
          ],
          "name": "stderr"
        },
        {
          "output_type": "stream",
          "text": [
            "Epoch 1/10\n",
            "50/50 [==============================] - 5s 92ms/step - loss: 1.4324 - accuracy: 0.5104 - val_loss: 1.0667 - val_accuracy: 0.6439\n",
            "Epoch 2/10\n",
            "50/50 [==============================] - 4s 89ms/step - loss: 1.0243 - accuracy: 0.6481 - val_loss: 0.9128 - val_accuracy: 0.7105\n",
            "Epoch 3/10\n",
            "50/50 [==============================] - 4s 90ms/step - loss: 0.8653 - accuracy: 0.7193 - val_loss: 0.8864 - val_accuracy: 0.7282\n",
            "Epoch 4/10\n",
            "50/50 [==============================] - 4s 89ms/step - loss: 0.7591 - accuracy: 0.7507 - val_loss: 0.8103 - val_accuracy: 0.7593\n",
            "Epoch 5/10\n",
            "50/50 [==============================] - 4s 89ms/step - loss: 0.6500 - accuracy: 0.7961 - val_loss: 0.7508 - val_accuracy: 0.7815\n",
            "Epoch 6/10\n",
            "50/50 [==============================] - 4s 90ms/step - loss: 0.5432 - accuracy: 0.8300 - val_loss: 0.7284 - val_accuracy: 0.8020\n",
            "Epoch 7/10\n",
            "50/50 [==============================] - 4s 90ms/step - loss: 0.4611 - accuracy: 0.8626 - val_loss: 0.7161 - val_accuracy: 0.8206\n",
            "Epoch 8/10\n",
            "50/50 [==============================] - 4s 90ms/step - loss: 0.3926 - accuracy: 0.8835 - val_loss: 0.7125 - val_accuracy: 0.8171\n",
            "Epoch 9/10\n",
            "50/50 [==============================] - 4s 89ms/step - loss: 0.3313 - accuracy: 0.9007 - val_loss: 0.7341 - val_accuracy: 0.8108\n",
            "Epoch 10/10\n",
            "50/50 [==============================] - 4s 90ms/step - loss: 0.2929 - accuracy: 0.9181 - val_loss: 0.7505 - val_accuracy: 0.8277\n",
            "58/58 [==============================] - 0s 5ms/step - loss: 0.8102 - accuracy: 0.8186\n"
          ],
          "name": "stdout"
        },
        {
          "output_type": "stream",
          "text": [
            "\r 74%|███████▍  | 143/192 [59:44<24:38, 30.18s/it]"
          ],
          "name": "stderr"
        },
        {
          "output_type": "stream",
          "text": [
            "Epoch 1/10\n",
            "60/60 [==============================] - 5s 90ms/step - loss: 2.3377 - accuracy: 0.3559 - val_loss: 1.9330 - val_accuracy: 0.4607\n",
            "Epoch 2/10\n",
            "60/60 [==============================] - 5s 88ms/step - loss: 1.8238 - accuracy: 0.5007 - val_loss: 1.6854 - val_accuracy: 0.5749\n",
            "Epoch 3/10\n",
            "60/60 [==============================] - 5s 88ms/step - loss: 1.5753 - accuracy: 0.6020 - val_loss: 1.5377 - val_accuracy: 0.6320\n",
            "Epoch 4/10\n",
            "60/60 [==============================] - 5s 88ms/step - loss: 1.3886 - accuracy: 0.6466 - val_loss: 1.4554 - val_accuracy: 0.6617\n",
            "Epoch 5/10\n",
            "60/60 [==============================] - 5s 88ms/step - loss: 1.2484 - accuracy: 0.6814 - val_loss: 1.3988 - val_accuracy: 0.6788\n",
            "Epoch 6/10\n",
            "60/60 [==============================] - 5s 88ms/step - loss: 1.1219 - accuracy: 0.7049 - val_loss: 1.4015 - val_accuracy: 0.6810\n",
            "Epoch 7/10\n",
            "60/60 [==============================] - 5s 88ms/step - loss: 1.0286 - accuracy: 0.7273 - val_loss: 1.3821 - val_accuracy: 0.6996\n",
            "Epoch 8/10\n",
            "60/60 [==============================] - 5s 88ms/step - loss: 0.9340 - accuracy: 0.7541 - val_loss: 1.4213 - val_accuracy: 0.6877\n",
            "Epoch 9/10\n",
            "60/60 [==============================] - 5s 88ms/step - loss: 0.8511 - accuracy: 0.7676 - val_loss: 1.3844 - val_accuracy: 0.6973\n",
            "Epoch 10/10\n",
            "60/60 [==============================] - 5s 88ms/step - loss: 0.7803 - accuracy: 0.7890 - val_loss: 1.4168 - val_accuracy: 0.6973\n",
            "71/71 [==============================] - 0s 5ms/step - loss: 1.4464 - accuracy: 0.6790\n"
          ],
          "name": "stdout"
        },
        {
          "output_type": "stream",
          "text": [
            "\r 75%|███████▌  | 144/192 [1:00:40<30:15, 37.82s/it]"
          ],
          "name": "stderr"
        },
        {
          "output_type": "stream",
          "text": [
            "Epoch 1/10\n",
            "50/50 [==============================] - 1s 13ms/step - loss: 1.7458 - accuracy: 0.4204 - val_loss: 1.3466 - val_accuracy: 0.5764\n",
            "Epoch 2/10\n",
            "50/50 [==============================] - 1s 10ms/step - loss: 1.3966 - accuracy: 0.5368 - val_loss: 1.3241 - val_accuracy: 0.5666\n",
            "Epoch 3/10\n",
            "50/50 [==============================] - 1s 10ms/step - loss: 1.2937 - accuracy: 0.5548 - val_loss: 1.2243 - val_accuracy: 0.5897\n",
            "Epoch 4/10\n",
            "50/50 [==============================] - 1s 11ms/step - loss: 1.2360 - accuracy: 0.5760 - val_loss: 1.1951 - val_accuracy: 0.6075\n",
            "Epoch 5/10\n",
            "50/50 [==============================] - 1s 10ms/step - loss: 1.1905 - accuracy: 0.5835 - val_loss: 1.1661 - val_accuracy: 0.6252\n",
            "Epoch 6/10\n",
            "50/50 [==============================] - 1s 11ms/step - loss: 1.1499 - accuracy: 0.5987 - val_loss: 1.1384 - val_accuracy: 0.6279\n",
            "Epoch 7/10\n",
            "50/50 [==============================] - 1s 10ms/step - loss: 1.1182 - accuracy: 0.6095 - val_loss: 1.1212 - val_accuracy: 0.6394\n",
            "Epoch 8/10\n",
            "50/50 [==============================] - 1s 11ms/step - loss: 1.0935 - accuracy: 0.6200 - val_loss: 1.1325 - val_accuracy: 0.6412\n",
            "Epoch 9/10\n",
            "50/50 [==============================] - 1s 10ms/step - loss: 1.0688 - accuracy: 0.6313 - val_loss: 1.2905 - val_accuracy: 0.5950\n",
            "Epoch 10/10\n",
            "50/50 [==============================] - 1s 10ms/step - loss: 1.0528 - accuracy: 0.6404 - val_loss: 1.1114 - val_accuracy: 0.6368\n",
            "58/58 [==============================] - 0s 2ms/step - loss: 1.0906 - accuracy: 0.6420\n"
          ],
          "name": "stdout"
        },
        {
          "output_type": "stream",
          "text": [
            "\r 76%|███████▌  | 145/192 [1:00:58<25:00, 31.94s/it]"
          ],
          "name": "stderr"
        },
        {
          "output_type": "stream",
          "text": [
            "Epoch 1/10\n",
            "60/60 [==============================] - 1s 16ms/step - loss: 2.7009 - accuracy: 0.3297 - val_loss: 2.1686 - val_accuracy: 0.4184\n",
            "Epoch 2/10\n",
            "60/60 [==============================] - 1s 11ms/step - loss: 2.1511 - accuracy: 0.4378 - val_loss: 2.0436 - val_accuracy: 0.4659\n",
            "Epoch 3/10\n",
            "60/60 [==============================] - 1s 11ms/step - loss: 2.0435 - accuracy: 0.4641 - val_loss: 1.9878 - val_accuracy: 0.4666\n",
            "Epoch 4/10\n",
            "60/60 [==============================] - 1s 11ms/step - loss: 1.9581 - accuracy: 0.4804 - val_loss: 1.9301 - val_accuracy: 0.4881\n",
            "Epoch 5/10\n",
            "60/60 [==============================] - 1s 11ms/step - loss: 1.8985 - accuracy: 0.4949 - val_loss: 2.0109 - val_accuracy: 0.4533\n",
            "Epoch 6/10\n",
            "60/60 [==============================] - 1s 11ms/step - loss: 1.8627 - accuracy: 0.5051 - val_loss: 1.9034 - val_accuracy: 0.4978\n",
            "Epoch 7/10\n",
            "60/60 [==============================] - 1s 11ms/step - loss: 1.8297 - accuracy: 0.5124 - val_loss: 1.8555 - val_accuracy: 0.5082\n",
            "Epoch 8/10\n",
            "60/60 [==============================] - 1s 11ms/step - loss: 1.7821 - accuracy: 0.5216 - val_loss: 1.8695 - val_accuracy: 0.5163\n",
            "Epoch 9/10\n",
            "60/60 [==============================] - 1s 11ms/step - loss: 1.7618 - accuracy: 0.5330 - val_loss: 1.8861 - val_accuracy: 0.5104\n",
            "Epoch 10/10\n",
            "60/60 [==============================] - 1s 11ms/step - loss: 1.7293 - accuracy: 0.5333 - val_loss: 1.8690 - val_accuracy: 0.4866\n",
            "71/71 [==============================] - 0s 2ms/step - loss: 1.8507 - accuracy: 0.5258\n"
          ],
          "name": "stdout"
        },
        {
          "output_type": "stream",
          "text": [
            "\r 76%|███████▌  | 146/192 [1:01:17<21:34, 28.13s/it]"
          ],
          "name": "stderr"
        },
        {
          "output_type": "stream",
          "text": [
            "Epoch 1/10\n",
            "50/50 [==============================] - 1s 19ms/step - loss: 1.4920 - accuracy: 0.4811 - val_loss: 1.1584 - val_accuracy: 0.6137\n",
            "Epoch 2/10\n",
            "50/50 [==============================] - 1s 16ms/step - loss: 1.0861 - accuracy: 0.6120 - val_loss: 0.9842 - val_accuracy: 0.6483\n",
            "Epoch 3/10\n",
            "50/50 [==============================] - 1s 17ms/step - loss: 0.9208 - accuracy: 0.6839 - val_loss: 0.9243 - val_accuracy: 0.7043\n",
            "Epoch 4/10\n",
            "50/50 [==============================] - 1s 17ms/step - loss: 0.8113 - accuracy: 0.7184 - val_loss: 0.8929 - val_accuracy: 0.7282\n",
            "Epoch 5/10\n",
            "50/50 [==============================] - 1s 16ms/step - loss: 0.7261 - accuracy: 0.7590 - val_loss: 0.8868 - val_accuracy: 0.7380\n",
            "Epoch 6/10\n",
            "50/50 [==============================] - 1s 16ms/step - loss: 0.6287 - accuracy: 0.8002 - val_loss: 0.8733 - val_accuracy: 0.7611\n",
            "Epoch 7/10\n",
            "50/50 [==============================] - 1s 16ms/step - loss: 0.5438 - accuracy: 0.8241 - val_loss: 0.8619 - val_accuracy: 0.7549\n",
            "Epoch 8/10\n",
            "50/50 [==============================] - 1s 16ms/step - loss: 0.4788 - accuracy: 0.8462 - val_loss: 0.9132 - val_accuracy: 0.7709\n",
            "Epoch 9/10\n",
            "50/50 [==============================] - 1s 17ms/step - loss: 0.4177 - accuracy: 0.8691 - val_loss: 0.9445 - val_accuracy: 0.7762\n",
            "Epoch 10/10\n",
            "50/50 [==============================] - 1s 16ms/step - loss: 0.3692 - accuracy: 0.8877 - val_loss: 0.9212 - val_accuracy: 0.7806\n",
            "58/58 [==============================] - 0s 2ms/step - loss: 0.9614 - accuracy: 0.7597\n"
          ],
          "name": "stdout"
        },
        {
          "output_type": "stream",
          "text": [
            "\r 77%|███████▋  | 147/192 [1:01:27<17:03, 22.74s/it]"
          ],
          "name": "stderr"
        },
        {
          "output_type": "stream",
          "text": [
            "Epoch 1/10\n",
            "60/60 [==============================] - 1s 19ms/step - loss: 2.3381 - accuracy: 0.3659 - val_loss: 1.9331 - val_accuracy: 0.4770\n",
            "Epoch 2/10\n",
            "60/60 [==============================] - 1s 17ms/step - loss: 1.8406 - accuracy: 0.4954 - val_loss: 1.7251 - val_accuracy: 0.5297\n",
            "Epoch 3/10\n",
            "60/60 [==============================] - 1s 17ms/step - loss: 1.6299 - accuracy: 0.5600 - val_loss: 1.6144 - val_accuracy: 0.5675\n",
            "Epoch 4/10\n",
            "60/60 [==============================] - 1s 17ms/step - loss: 1.4904 - accuracy: 0.6014 - val_loss: 1.5703 - val_accuracy: 0.5950\n",
            "Epoch 5/10\n",
            "60/60 [==============================] - 1s 17ms/step - loss: 1.3825 - accuracy: 0.6296 - val_loss: 1.5667 - val_accuracy: 0.6016\n",
            "Epoch 6/10\n",
            "60/60 [==============================] - 1s 17ms/step - loss: 1.2736 - accuracy: 0.6606 - val_loss: 1.5661 - val_accuracy: 0.6091\n",
            "Epoch 7/10\n",
            "60/60 [==============================] - 1s 17ms/step - loss: 1.1722 - accuracy: 0.6846 - val_loss: 1.5299 - val_accuracy: 0.6417\n",
            "Epoch 8/10\n",
            "60/60 [==============================] - 1s 17ms/step - loss: 1.0688 - accuracy: 0.7138 - val_loss: 1.5516 - val_accuracy: 0.6491\n",
            "Epoch 9/10\n",
            "60/60 [==============================] - 1s 17ms/step - loss: 0.9744 - accuracy: 0.7372 - val_loss: 1.5291 - val_accuracy: 0.6513\n",
            "Epoch 10/10\n",
            "60/60 [==============================] - 1s 17ms/step - loss: 0.8995 - accuracy: 0.7588 - val_loss: 1.5574 - val_accuracy: 0.6506\n",
            "71/71 [==============================] - 0s 2ms/step - loss: 1.5966 - accuracy: 0.6376\n"
          ],
          "name": "stdout"
        },
        {
          "output_type": "stream",
          "text": [
            "\r 77%|███████▋  | 148/192 [1:01:40<14:22, 19.60s/it]"
          ],
          "name": "stderr"
        },
        {
          "output_type": "stream",
          "text": [
            "Epoch 1/10\n",
            "50/50 [==============================] - 1s 13ms/step - loss: 1.7042 - accuracy: 0.4273 - val_loss: 1.3456 - val_accuracy: 0.5613\n",
            "Epoch 2/10\n",
            "50/50 [==============================] - 1s 11ms/step - loss: 1.3941 - accuracy: 0.5267 - val_loss: 1.2813 - val_accuracy: 0.5702\n",
            "Epoch 3/10\n",
            "50/50 [==============================] - 1s 11ms/step - loss: 1.3077 - accuracy: 0.5564 - val_loss: 1.2303 - val_accuracy: 0.5861\n",
            "Epoch 4/10\n",
            "50/50 [==============================] - 1s 11ms/step - loss: 1.2488 - accuracy: 0.5645 - val_loss: 1.2017 - val_accuracy: 0.5959\n",
            "Epoch 5/10\n",
            "50/50 [==============================] - 1s 11ms/step - loss: 1.2125 - accuracy: 0.5802 - val_loss: 1.2015 - val_accuracy: 0.6119\n",
            "Epoch 6/10\n",
            "50/50 [==============================] - 1s 11ms/step - loss: 1.1745 - accuracy: 0.5907 - val_loss: 1.1830 - val_accuracy: 0.5853\n",
            "Epoch 7/10\n",
            "50/50 [==============================] - 1s 11ms/step - loss: 1.1530 - accuracy: 0.5997 - val_loss: 1.1466 - val_accuracy: 0.6297\n",
            "Epoch 8/10\n",
            "50/50 [==============================] - 1s 11ms/step - loss: 1.1246 - accuracy: 0.6105 - val_loss: 1.1419 - val_accuracy: 0.6243\n",
            "Epoch 9/10\n",
            "50/50 [==============================] - 1s 11ms/step - loss: 1.1016 - accuracy: 0.6156 - val_loss: 1.1664 - val_accuracy: 0.6234\n",
            "Epoch 10/10\n",
            "50/50 [==============================] - 1s 11ms/step - loss: 1.0855 - accuracy: 0.6224 - val_loss: 1.1074 - val_accuracy: 0.6412\n",
            "58/58 [==============================] - 0s 2ms/step - loss: 1.0881 - accuracy: 0.6447\n"
          ],
          "name": "stdout"
        },
        {
          "output_type": "stream",
          "text": [
            "\r 78%|███████▊  | 149/192 [1:01:58<13:48, 19.27s/it]"
          ],
          "name": "stderr"
        },
        {
          "output_type": "stream",
          "text": [
            "Epoch 1/10\n",
            "60/60 [==============================] - 1s 13ms/step - loss: 2.6643 - accuracy: 0.3291 - val_loss: 2.1355 - val_accuracy: 0.4132\n",
            "Epoch 2/10\n",
            "60/60 [==============================] - 1s 11ms/step - loss: 2.1695 - accuracy: 0.4319 - val_loss: 2.0181 - val_accuracy: 0.4666\n",
            "Epoch 3/10\n",
            "60/60 [==============================] - 1s 11ms/step - loss: 2.0402 - accuracy: 0.4632 - val_loss: 1.9721 - val_accuracy: 0.4866\n",
            "Epoch 4/10\n",
            "60/60 [==============================] - 1s 11ms/step - loss: 1.9635 - accuracy: 0.4839 - val_loss: 1.9183 - val_accuracy: 0.4881\n",
            "Epoch 5/10\n",
            "60/60 [==============================] - 1s 11ms/step - loss: 1.9043 - accuracy: 0.4946 - val_loss: 1.8864 - val_accuracy: 0.4978\n",
            "Epoch 6/10\n",
            "60/60 [==============================] - 1s 11ms/step - loss: 1.8571 - accuracy: 0.5065 - val_loss: 1.8717 - val_accuracy: 0.4993\n",
            "Epoch 7/10\n",
            "60/60 [==============================] - 1s 11ms/step - loss: 1.8287 - accuracy: 0.5131 - val_loss: 1.9409 - val_accuracy: 0.4748\n",
            "Epoch 8/10\n",
            "60/60 [==============================] - 1s 11ms/step - loss: 1.7879 - accuracy: 0.5241 - val_loss: 1.8398 - val_accuracy: 0.5074\n",
            "Epoch 9/10\n",
            "60/60 [==============================] - 1s 11ms/step - loss: 1.7645 - accuracy: 0.5284 - val_loss: 1.8257 - val_accuracy: 0.5245\n",
            "Epoch 10/10\n",
            "60/60 [==============================] - 1s 11ms/step - loss: 1.7246 - accuracy: 0.5415 - val_loss: 1.8156 - val_accuracy: 0.5171\n",
            "71/71 [==============================] - 0s 2ms/step - loss: 1.8023 - accuracy: 0.5423\n"
          ],
          "name": "stdout"
        },
        {
          "output_type": "stream",
          "text": [
            "\r 78%|███████▊  | 150/192 [1:02:17<13:26, 19.20s/it]"
          ],
          "name": "stderr"
        },
        {
          "output_type": "stream",
          "text": [
            "Epoch 1/10\n",
            "50/50 [==============================] - 2s 46ms/step - loss: 1.4153 - accuracy: 0.5087 - val_loss: 1.0680 - val_accuracy: 0.6279\n",
            "Epoch 2/10\n",
            "50/50 [==============================] - 2s 42ms/step - loss: 1.0168 - accuracy: 0.6472 - val_loss: 0.9439 - val_accuracy: 0.6945\n",
            "Epoch 3/10\n",
            "50/50 [==============================] - 2s 43ms/step - loss: 0.8413 - accuracy: 0.7300 - val_loss: 0.8493 - val_accuracy: 0.7425\n",
            "Epoch 4/10\n",
            "50/50 [==============================] - 2s 44ms/step - loss: 0.6616 - accuracy: 0.7944 - val_loss: 0.7487 - val_accuracy: 0.7966\n",
            "Epoch 5/10\n",
            "50/50 [==============================] - 2s 44ms/step - loss: 0.5097 - accuracy: 0.8502 - val_loss: 0.7269 - val_accuracy: 0.8091\n",
            "Epoch 6/10\n",
            "50/50 [==============================] - 2s 44ms/step - loss: 0.3938 - accuracy: 0.8888 - val_loss: 0.7184 - val_accuracy: 0.8171\n",
            "Epoch 7/10\n",
            "50/50 [==============================] - 2s 44ms/step - loss: 0.3283 - accuracy: 0.9053 - val_loss: 0.7494 - val_accuracy: 0.8162\n",
            "Epoch 8/10\n",
            "50/50 [==============================] - 2s 44ms/step - loss: 0.2656 - accuracy: 0.9286 - val_loss: 0.8007 - val_accuracy: 0.8233\n",
            "Epoch 9/10\n",
            "50/50 [==============================] - 2s 44ms/step - loss: 0.2253 - accuracy: 0.9406 - val_loss: 0.8468 - val_accuracy: 0.8171\n",
            "Epoch 10/10\n",
            "50/50 [==============================] - 2s 44ms/step - loss: 0.1967 - accuracy: 0.9464 - val_loss: 0.8373 - val_accuracy: 0.8197\n",
            "58/58 [==============================] - 0s 3ms/step - loss: 0.8731 - accuracy: 0.8094\n"
          ],
          "name": "stdout"
        },
        {
          "output_type": "stream",
          "text": [
            "\r 79%|███████▊  | 151/192 [1:02:41<14:10, 20.73s/it]"
          ],
          "name": "stderr"
        },
        {
          "output_type": "stream",
          "text": [
            "Epoch 1/10\n",
            "60/60 [==============================] - 3s 48ms/step - loss: 2.2789 - accuracy: 0.3942 - val_loss: 1.8356 - val_accuracy: 0.5126\n",
            "Epoch 2/10\n",
            "60/60 [==============================] - 3s 46ms/step - loss: 1.7596 - accuracy: 0.5293 - val_loss: 1.6590 - val_accuracy: 0.5712\n",
            "Epoch 3/10\n",
            "60/60 [==============================] - 3s 46ms/step - loss: 1.5374 - accuracy: 0.5997 - val_loss: 1.5727 - val_accuracy: 0.5920\n",
            "Epoch 4/10\n",
            "60/60 [==============================] - 3s 46ms/step - loss: 1.3623 - accuracy: 0.6420 - val_loss: 1.4909 - val_accuracy: 0.6380\n",
            "Epoch 5/10\n",
            "60/60 [==============================] - 3s 46ms/step - loss: 1.1966 - accuracy: 0.6939 - val_loss: 1.5478 - val_accuracy: 0.6209\n",
            "Epoch 6/10\n",
            "60/60 [==============================] - 3s 46ms/step - loss: 1.0591 - accuracy: 0.7199 - val_loss: 1.4324 - val_accuracy: 0.6699\n",
            "Epoch 7/10\n",
            "60/60 [==============================] - 3s 46ms/step - loss: 0.9323 - accuracy: 0.7536 - val_loss: 1.4179 - val_accuracy: 0.6780\n",
            "Epoch 8/10\n",
            "60/60 [==============================] - 3s 46ms/step - loss: 0.8254 - accuracy: 0.7797 - val_loss: 1.4676 - val_accuracy: 0.6840\n",
            "Epoch 9/10\n",
            "60/60 [==============================] - 3s 46ms/step - loss: 0.7259 - accuracy: 0.8063 - val_loss: 1.5467 - val_accuracy: 0.6751\n",
            "Epoch 10/10\n",
            "60/60 [==============================] - 3s 46ms/step - loss: 0.6530 - accuracy: 0.8234 - val_loss: 1.5100 - val_accuracy: 0.6840\n",
            "71/71 [==============================] - 0s 3ms/step - loss: 1.5543 - accuracy: 0.6692\n"
          ],
          "name": "stdout"
        },
        {
          "output_type": "stream",
          "text": [
            "\r 79%|███████▉  | 152/192 [1:03:11<15:37, 23.43s/it]"
          ],
          "name": "stderr"
        },
        {
          "output_type": "stream",
          "text": [
            "Epoch 1/10\n",
            "50/50 [==============================] - 1s 22ms/step - loss: 1.6359 - accuracy: 0.4438 - val_loss: 1.3322 - val_accuracy: 0.5595\n",
            "Epoch 2/10\n",
            "50/50 [==============================] - 1s 20ms/step - loss: 1.3541 - accuracy: 0.5388 - val_loss: 1.3033 - val_accuracy: 0.5595\n",
            "Epoch 3/10\n",
            "50/50 [==============================] - 1s 20ms/step - loss: 1.2829 - accuracy: 0.5570 - val_loss: 1.2180 - val_accuracy: 0.5986\n",
            "Epoch 4/10\n",
            "50/50 [==============================] - 1s 19ms/step - loss: 1.2156 - accuracy: 0.5785 - val_loss: 1.1771 - val_accuracy: 0.6039\n",
            "Epoch 5/10\n",
            "50/50 [==============================] - 1s 19ms/step - loss: 1.1635 - accuracy: 0.6051 - val_loss: 1.2252 - val_accuracy: 0.6092\n",
            "Epoch 6/10\n",
            "50/50 [==============================] - 1s 20ms/step - loss: 1.1235 - accuracy: 0.6158 - val_loss: 1.1289 - val_accuracy: 0.6155\n",
            "Epoch 7/10\n",
            "50/50 [==============================] - 1s 20ms/step - loss: 1.0763 - accuracy: 0.6299 - val_loss: 1.0836 - val_accuracy: 0.6554\n",
            "Epoch 8/10\n",
            "50/50 [==============================] - 1s 20ms/step - loss: 1.0370 - accuracy: 0.6458 - val_loss: 1.1095 - val_accuracy: 0.6394\n",
            "Epoch 9/10\n",
            "50/50 [==============================] - 1s 20ms/step - loss: 1.0228 - accuracy: 0.6544 - val_loss: 1.0946 - val_accuracy: 0.6385\n",
            "Epoch 10/10\n",
            "50/50 [==============================] - 1s 20ms/step - loss: 0.9981 - accuracy: 0.6663 - val_loss: 1.1034 - val_accuracy: 0.6412\n",
            "58/58 [==============================] - 0s 3ms/step - loss: 1.0806 - accuracy: 0.6447\n"
          ],
          "name": "stdout"
        },
        {
          "output_type": "stream",
          "text": [
            "\r 80%|███████▉  | 153/192 [1:03:34<15:05, 23.22s/it]"
          ],
          "name": "stderr"
        },
        {
          "output_type": "stream",
          "text": [
            "Epoch 1/10\n",
            "60/60 [==============================] - 1s 22ms/step - loss: 2.5610 - accuracy: 0.3539 - val_loss: 2.1358 - val_accuracy: 0.3924\n",
            "Epoch 2/10\n",
            "60/60 [==============================] - 1s 21ms/step - loss: 2.0883 - accuracy: 0.4511 - val_loss: 2.0206 - val_accuracy: 0.4807\n",
            "Epoch 3/10\n",
            "60/60 [==============================] - 1s 20ms/step - loss: 1.9831 - accuracy: 0.4768 - val_loss: 1.9378 - val_accuracy: 0.4815\n",
            "Epoch 4/10\n",
            "60/60 [==============================] - 1s 20ms/step - loss: 1.9117 - accuracy: 0.4874 - val_loss: 1.8984 - val_accuracy: 0.4777\n",
            "Epoch 5/10\n",
            "60/60 [==============================] - 1s 20ms/step - loss: 1.8340 - accuracy: 0.5055 - val_loss: 1.9367 - val_accuracy: 0.4792\n",
            "Epoch 6/10\n",
            "60/60 [==============================] - 1s 20ms/step - loss: 1.8010 - accuracy: 0.5119 - val_loss: 1.8636 - val_accuracy: 0.5126\n",
            "Epoch 7/10\n",
            "60/60 [==============================] - 1s 20ms/step - loss: 1.7611 - accuracy: 0.5250 - val_loss: 1.8566 - val_accuracy: 0.5252\n",
            "Epoch 8/10\n",
            "60/60 [==============================] - 1s 20ms/step - loss: 1.7319 - accuracy: 0.5362 - val_loss: 1.8124 - val_accuracy: 0.5148\n",
            "Epoch 9/10\n",
            "60/60 [==============================] - 1s 20ms/step - loss: 1.6971 - accuracy: 0.5407 - val_loss: 1.8712 - val_accuracy: 0.5148\n",
            "Epoch 10/10\n",
            "60/60 [==============================] - 1s 20ms/step - loss: 1.6707 - accuracy: 0.5461 - val_loss: 1.7789 - val_accuracy: 0.5349\n",
            "71/71 [==============================] - 0s 3ms/step - loss: 1.7807 - accuracy: 0.5441\n"
          ],
          "name": "stdout"
        },
        {
          "output_type": "stream",
          "text": [
            "\r 80%|████████  | 154/192 [1:03:59<15:01, 23.71s/it]"
          ],
          "name": "stderr"
        },
        {
          "output_type": "stream",
          "text": [
            "Epoch 1/10\n",
            "50/50 [==============================] - 2s 33ms/step - loss: 1.4452 - accuracy: 0.5181 - val_loss: 1.1766 - val_accuracy: 0.6368\n",
            "Epoch 2/10\n",
            "50/50 [==============================] - 2s 31ms/step - loss: 1.0736 - accuracy: 0.6318 - val_loss: 0.9449 - val_accuracy: 0.7007\n",
            "Epoch 3/10\n",
            "50/50 [==============================] - 2s 31ms/step - loss: 0.8687 - accuracy: 0.7075 - val_loss: 0.8694 - val_accuracy: 0.7300\n",
            "Epoch 4/10\n",
            "50/50 [==============================] - 2s 31ms/step - loss: 0.7462 - accuracy: 0.7541 - val_loss: 0.8077 - val_accuracy: 0.7567\n",
            "Epoch 5/10\n",
            "50/50 [==============================] - 2s 32ms/step - loss: 0.6339 - accuracy: 0.7897 - val_loss: 0.7734 - val_accuracy: 0.7753\n",
            "Epoch 6/10\n",
            "50/50 [==============================] - 2s 32ms/step - loss: 0.5365 - accuracy: 0.8280 - val_loss: 0.7664 - val_accuracy: 0.7877\n",
            "Epoch 7/10\n",
            "50/50 [==============================] - 2s 32ms/step - loss: 0.4700 - accuracy: 0.8513 - val_loss: 0.7991 - val_accuracy: 0.7922\n",
            "Epoch 8/10\n",
            "50/50 [==============================] - 2s 32ms/step - loss: 0.4075 - accuracy: 0.8763 - val_loss: 0.7625 - val_accuracy: 0.8064\n",
            "Epoch 9/10\n",
            "50/50 [==============================] - 2s 31ms/step - loss: 0.3501 - accuracy: 0.8940 - val_loss: 0.8037 - val_accuracy: 0.8020\n",
            "Epoch 10/10\n",
            "50/50 [==============================] - 2s 31ms/step - loss: 0.3168 - accuracy: 0.9076 - val_loss: 0.8329 - val_accuracy: 0.8046\n",
            "58/58 [==============================] - 0s 3ms/step - loss: 0.9085 - accuracy: 0.7986\n"
          ],
          "name": "stdout"
        },
        {
          "output_type": "stream",
          "text": [
            "\r 81%|████████  | 155/192 [1:04:17<13:32, 21.96s/it]"
          ],
          "name": "stderr"
        },
        {
          "output_type": "stream",
          "text": [
            "Epoch 1/10\n",
            "60/60 [==============================] - 2s 33ms/step - loss: 2.2473 - accuracy: 0.4156 - val_loss: 1.8798 - val_accuracy: 0.4993\n",
            "Epoch 2/10\n",
            "60/60 [==============================] - 2s 31ms/step - loss: 1.7415 - accuracy: 0.5406 - val_loss: 1.6249 - val_accuracy: 0.5742\n",
            "Epoch 3/10\n",
            "60/60 [==============================] - 2s 31ms/step - loss: 1.5496 - accuracy: 0.5956 - val_loss: 1.5652 - val_accuracy: 0.5920\n",
            "Epoch 4/10\n",
            "60/60 [==============================] - 2s 31ms/step - loss: 1.4202 - accuracy: 0.6244 - val_loss: 1.5261 - val_accuracy: 0.6128\n",
            "Epoch 5/10\n",
            "60/60 [==============================] - 2s 31ms/step - loss: 1.3027 - accuracy: 0.6531 - val_loss: 1.5214 - val_accuracy: 0.6350\n",
            "Epoch 6/10\n",
            "60/60 [==============================] - 2s 31ms/step - loss: 1.2013 - accuracy: 0.6762 - val_loss: 1.4910 - val_accuracy: 0.6328\n",
            "Epoch 7/10\n",
            "60/60 [==============================] - 2s 31ms/step - loss: 1.0943 - accuracy: 0.7007 - val_loss: 1.4964 - val_accuracy: 0.6521\n",
            "Epoch 8/10\n",
            "60/60 [==============================] - 2s 31ms/step - loss: 0.9969 - accuracy: 0.7249 - val_loss: 1.4896 - val_accuracy: 0.6766\n",
            "Epoch 9/10\n",
            "60/60 [==============================] - 2s 31ms/step - loss: 0.9104 - accuracy: 0.7440 - val_loss: 1.5176 - val_accuracy: 0.6832\n",
            "Epoch 10/10\n",
            "60/60 [==============================] - 2s 31ms/step - loss: 0.8298 - accuracy: 0.7646 - val_loss: 1.6062 - val_accuracy: 0.6840\n",
            "71/71 [==============================] - 0s 3ms/step - loss: 1.6220 - accuracy: 0.6545\n"
          ],
          "name": "stdout"
        },
        {
          "output_type": "stream",
          "text": [
            "\r 81%|████████▏ | 156/192 [1:04:38<13:01, 21.70s/it]"
          ],
          "name": "stderr"
        },
        {
          "output_type": "stream",
          "text": [
            "Epoch 1/10\n",
            "50/50 [==============================] - 1s 22ms/step - loss: 1.6476 - accuracy: 0.4410 - val_loss: 1.3372 - val_accuracy: 0.5622\n",
            "Epoch 2/10\n",
            "50/50 [==============================] - 1s 20ms/step - loss: 1.3452 - accuracy: 0.5473 - val_loss: 1.2600 - val_accuracy: 0.5861\n",
            "Epoch 3/10\n",
            "50/50 [==============================] - 1s 20ms/step - loss: 1.2622 - accuracy: 0.5730 - val_loss: 1.2054 - val_accuracy: 0.6057\n",
            "Epoch 4/10\n",
            "50/50 [==============================] - 1s 20ms/step - loss: 1.1951 - accuracy: 0.5846 - val_loss: 1.1332 - val_accuracy: 0.6163\n",
            "Epoch 5/10\n",
            "50/50 [==============================] - 1s 20ms/step - loss: 1.1370 - accuracy: 0.6098 - val_loss: 1.1038 - val_accuracy: 0.6323\n",
            "Epoch 6/10\n",
            "50/50 [==============================] - 1s 19ms/step - loss: 1.1084 - accuracy: 0.6161 - val_loss: 1.1464 - val_accuracy: 0.6456\n",
            "Epoch 7/10\n",
            "50/50 [==============================] - 1s 20ms/step - loss: 1.0699 - accuracy: 0.6362 - val_loss: 1.0742 - val_accuracy: 0.6545\n",
            "Epoch 8/10\n",
            "50/50 [==============================] - 1s 20ms/step - loss: 1.0448 - accuracy: 0.6465 - val_loss: 1.1058 - val_accuracy: 0.6572\n",
            "Epoch 9/10\n",
            "50/50 [==============================] - 1s 20ms/step - loss: 1.0066 - accuracy: 0.6592 - val_loss: 1.0797 - val_accuracy: 0.6377\n",
            "Epoch 10/10\n",
            "50/50 [==============================] - 1s 20ms/step - loss: 0.9909 - accuracy: 0.6654 - val_loss: 1.0464 - val_accuracy: 0.6705\n",
            "58/58 [==============================] - 0s 3ms/step - loss: 1.0267 - accuracy: 0.6674\n"
          ],
          "name": "stdout"
        },
        {
          "output_type": "stream",
          "text": [
            "\r 82%|████████▏ | 157/192 [1:05:00<12:50, 22.02s/it]"
          ],
          "name": "stderr"
        },
        {
          "output_type": "stream",
          "text": [
            "Epoch 1/10\n",
            "60/60 [==============================] - 1s 22ms/step - loss: 2.5031 - accuracy: 0.3584 - val_loss: 2.1231 - val_accuracy: 0.4162\n",
            "Epoch 2/10\n",
            "60/60 [==============================] - 1s 20ms/step - loss: 2.0952 - accuracy: 0.4443 - val_loss: 2.0438 - val_accuracy: 0.4792\n",
            "Epoch 3/10\n",
            "60/60 [==============================] - 1s 20ms/step - loss: 2.0188 - accuracy: 0.4602 - val_loss: 1.9735 - val_accuracy: 0.4800\n",
            "Epoch 4/10\n",
            "60/60 [==============================] - 1s 20ms/step - loss: 1.9485 - accuracy: 0.4809 - val_loss: 1.9328 - val_accuracy: 0.4933\n",
            "Epoch 5/10\n",
            "60/60 [==============================] - 1s 20ms/step - loss: 1.8910 - accuracy: 0.4919 - val_loss: 1.9108 - val_accuracy: 0.4866\n",
            "Epoch 6/10\n",
            "60/60 [==============================] - 1s 20ms/step - loss: 1.8489 - accuracy: 0.5041 - val_loss: 1.8457 - val_accuracy: 0.5148\n",
            "Epoch 7/10\n",
            "60/60 [==============================] - 1s 20ms/step - loss: 1.7998 - accuracy: 0.5164 - val_loss: 1.8192 - val_accuracy: 0.5282\n",
            "Epoch 8/10\n",
            "60/60 [==============================] - 1s 20ms/step - loss: 1.7628 - accuracy: 0.5263 - val_loss: 1.8179 - val_accuracy: 0.5312\n",
            "Epoch 9/10\n",
            "60/60 [==============================] - 1s 20ms/step - loss: 1.7470 - accuracy: 0.5322 - val_loss: 1.8375 - val_accuracy: 0.5148\n",
            "Epoch 10/10\n",
            "60/60 [==============================] - 1s 20ms/step - loss: 1.7218 - accuracy: 0.5392 - val_loss: 1.7801 - val_accuracy: 0.5386\n",
            "71/71 [==============================] - 0s 3ms/step - loss: 1.7886 - accuracy: 0.5405\n"
          ],
          "name": "stdout"
        },
        {
          "output_type": "stream",
          "text": [
            "\r 82%|████████▏ | 158/192 [1:05:25<12:53, 22.75s/it]"
          ],
          "name": "stderr"
        },
        {
          "output_type": "stream",
          "text": [
            "Epoch 1/10\n",
            "50/50 [==============================] - 4s 87ms/step - loss: 1.3783 - accuracy: 0.5256 - val_loss: 1.0523 - val_accuracy: 0.6412\n",
            "Epoch 2/10\n",
            "50/50 [==============================] - 4s 85ms/step - loss: 0.9782 - accuracy: 0.6702 - val_loss: 0.9028 - val_accuracy: 0.7220\n",
            "Epoch 3/10\n",
            "50/50 [==============================] - 4s 86ms/step - loss: 0.8263 - accuracy: 0.7306 - val_loss: 0.8764 - val_accuracy: 0.7389\n",
            "Epoch 4/10\n",
            "50/50 [==============================] - 4s 86ms/step - loss: 0.7252 - accuracy: 0.7663 - val_loss: 0.8329 - val_accuracy: 0.7540\n",
            "Epoch 5/10\n",
            "50/50 [==============================] - 4s 85ms/step - loss: 0.6113 - accuracy: 0.8071 - val_loss: 0.7972 - val_accuracy: 0.7789\n",
            "Epoch 6/10\n",
            "50/50 [==============================] - 4s 85ms/step - loss: 0.5042 - accuracy: 0.8498 - val_loss: 0.8245 - val_accuracy: 0.7922\n",
            "Epoch 7/10\n",
            "50/50 [==============================] - 4s 85ms/step - loss: 0.4066 - accuracy: 0.8797 - val_loss: 0.7802 - val_accuracy: 0.8091\n",
            "Epoch 8/10\n",
            "50/50 [==============================] - 4s 86ms/step - loss: 0.3291 - accuracy: 0.9032 - val_loss: 0.7916 - val_accuracy: 0.8108\n",
            "Epoch 9/10\n",
            "50/50 [==============================] - 4s 86ms/step - loss: 0.2848 - accuracy: 0.9175 - val_loss: 0.9126 - val_accuracy: 0.8064\n",
            "Epoch 10/10\n",
            "50/50 [==============================] - 4s 86ms/step - loss: 0.2419 - accuracy: 0.9305 - val_loss: 0.9016 - val_accuracy: 0.8206\n",
            "58/58 [==============================] - 0s 5ms/step - loss: 0.9669 - accuracy: 0.8094\n"
          ],
          "name": "stdout"
        },
        {
          "output_type": "stream",
          "text": [
            "\r 83%|████████▎ | 159/192 [1:06:11<16:18, 29.64s/it]"
          ],
          "name": "stderr"
        },
        {
          "output_type": "stream",
          "text": [
            "Epoch 1/10\n",
            "60/60 [==============================] - 5s 86ms/step - loss: 2.1817 - accuracy: 0.4099 - val_loss: 1.8058 - val_accuracy: 0.5007\n",
            "Epoch 2/10\n",
            "60/60 [==============================] - 5s 84ms/step - loss: 1.6922 - accuracy: 0.5486 - val_loss: 1.6114 - val_accuracy: 0.5853\n",
            "Epoch 3/10\n",
            "60/60 [==============================] - 5s 85ms/step - loss: 1.4715 - accuracy: 0.6227 - val_loss: 1.5412 - val_accuracy: 0.6328\n",
            "Epoch 4/10\n",
            "60/60 [==============================] - 5s 85ms/step - loss: 1.3140 - accuracy: 0.6657 - val_loss: 1.4673 - val_accuracy: 0.6699\n",
            "Epoch 5/10\n",
            "60/60 [==============================] - 5s 84ms/step - loss: 1.1631 - accuracy: 0.7041 - val_loss: 1.4406 - val_accuracy: 0.6788\n",
            "Epoch 6/10\n",
            "60/60 [==============================] - 5s 85ms/step - loss: 1.0373 - accuracy: 0.7275 - val_loss: 1.4561 - val_accuracy: 0.6921\n",
            "Epoch 7/10\n",
            "60/60 [==============================] - 5s 85ms/step - loss: 0.9221 - accuracy: 0.7533 - val_loss: 1.4277 - val_accuracy: 0.6966\n",
            "Epoch 8/10\n",
            "60/60 [==============================] - 5s 86ms/step - loss: 0.8326 - accuracy: 0.7757 - val_loss: 1.4247 - val_accuracy: 0.7010\n",
            "Epoch 9/10\n",
            "60/60 [==============================] - 5s 90ms/step - loss: 0.7407 - accuracy: 0.7992 - val_loss: 1.4491 - val_accuracy: 0.7033\n",
            "Epoch 10/10\n",
            "60/60 [==============================] - 5s 90ms/step - loss: 0.6685 - accuracy: 0.8217 - val_loss: 1.5213 - val_accuracy: 0.6929\n",
            "71/71 [==============================] - 0s 5ms/step - loss: 1.5262 - accuracy: 0.6763\n"
          ],
          "name": "stdout"
        },
        {
          "output_type": "stream",
          "text": [
            "\r 83%|████████▎ | 160/192 [1:07:05<19:43, 36.99s/it]"
          ],
          "name": "stderr"
        },
        {
          "output_type": "stream",
          "text": [
            "Epoch 1/10\n",
            "50/50 [==============================] - 1s 18ms/step - loss: 1.9472 - accuracy: 0.3086 - val_loss: 1.4647 - val_accuracy: 0.4725\n",
            "Epoch 2/10\n",
            "50/50 [==============================] - 1s 16ms/step - loss: 1.5166 - accuracy: 0.4512 - val_loss: 1.3138 - val_accuracy: 0.5302\n",
            "Epoch 3/10\n",
            "50/50 [==============================] - 1s 16ms/step - loss: 1.4064 - accuracy: 0.4899 - val_loss: 1.3521 - val_accuracy: 0.5551\n",
            "Epoch 4/10\n",
            "50/50 [==============================] - 1s 16ms/step - loss: 1.3339 - accuracy: 0.5239 - val_loss: 1.2482 - val_accuracy: 0.5710\n",
            "Epoch 5/10\n",
            "50/50 [==============================] - 1s 16ms/step - loss: 1.2893 - accuracy: 0.5426 - val_loss: 1.2703 - val_accuracy: 0.5844\n",
            "Epoch 6/10\n",
            "50/50 [==============================] - 1s 16ms/step - loss: 1.2567 - accuracy: 0.5507 - val_loss: 1.2049 - val_accuracy: 0.5906\n",
            "Epoch 7/10\n",
            "50/50 [==============================] - 1s 16ms/step - loss: 1.2103 - accuracy: 0.5659 - val_loss: 1.2037 - val_accuracy: 0.6012\n",
            "Epoch 8/10\n",
            "50/50 [==============================] - 1s 15ms/step - loss: 1.1816 - accuracy: 0.5786 - val_loss: 1.1992 - val_accuracy: 0.5666\n",
            "Epoch 9/10\n",
            "50/50 [==============================] - 1s 16ms/step - loss: 1.1714 - accuracy: 0.5837 - val_loss: 1.2087 - val_accuracy: 0.6199\n",
            "Epoch 10/10\n",
            "50/50 [==============================] - 1s 15ms/step - loss: 1.1546 - accuracy: 0.5959 - val_loss: 1.1686 - val_accuracy: 0.6004\n",
            "58/58 [==============================] - 0s 2ms/step - loss: 1.1518 - accuracy: 0.6010\n"
          ],
          "name": "stdout"
        },
        {
          "output_type": "stream",
          "text": [
            "\r 84%|████████▍ | 161/192 [1:07:25<16:34, 32.08s/it]"
          ],
          "name": "stderr"
        },
        {
          "output_type": "stream",
          "text": [
            "Epoch 1/10\n",
            "60/60 [==============================] - 1s 18ms/step - loss: 3.1607 - accuracy: 0.2185 - val_loss: 2.2385 - val_accuracy: 0.3843\n",
            "Epoch 2/10\n",
            "60/60 [==============================] - 1s 16ms/step - loss: 2.4174 - accuracy: 0.3914 - val_loss: 2.2118 - val_accuracy: 0.4651\n",
            "Epoch 3/10\n",
            "60/60 [==============================] - 1s 16ms/step - loss: 2.2210 - accuracy: 0.4314 - val_loss: 2.1631 - val_accuracy: 0.4703\n",
            "Epoch 4/10\n",
            "60/60 [==============================] - 1s 16ms/step - loss: 2.1055 - accuracy: 0.4536 - val_loss: 2.0249 - val_accuracy: 0.4659\n",
            "Epoch 5/10\n",
            "60/60 [==============================] - 1s 16ms/step - loss: 2.0509 - accuracy: 0.4646 - val_loss: 2.0226 - val_accuracy: 0.4488\n",
            "Epoch 6/10\n",
            "60/60 [==============================] - 1s 16ms/step - loss: 1.9911 - accuracy: 0.4796 - val_loss: 1.9160 - val_accuracy: 0.4941\n",
            "Epoch 7/10\n",
            "60/60 [==============================] - 1s 16ms/step - loss: 1.9246 - accuracy: 0.4908 - val_loss: 1.9637 - val_accuracy: 0.4792\n",
            "Epoch 8/10\n",
            "60/60 [==============================] - 1s 16ms/step - loss: 1.8985 - accuracy: 0.4959 - val_loss: 1.9045 - val_accuracy: 0.5007\n",
            "Epoch 9/10\n",
            "60/60 [==============================] - 1s 16ms/step - loss: 1.8594 - accuracy: 0.5043 - val_loss: 1.8565 - val_accuracy: 0.5067\n",
            "Epoch 10/10\n",
            "60/60 [==============================] - 1s 16ms/step - loss: 1.7986 - accuracy: 0.5160 - val_loss: 1.8690 - val_accuracy: 0.4918\n",
            "71/71 [==============================] - 0s 3ms/step - loss: 1.8941 - accuracy: 0.4911\n"
          ],
          "name": "stdout"
        },
        {
          "output_type": "stream",
          "text": [
            "\r 84%|████████▍ | 162/192 [1:07:48<14:34, 29.13s/it]"
          ],
          "name": "stderr"
        },
        {
          "output_type": "stream",
          "text": [
            "Epoch 1/10\n",
            "50/50 [==============================] - 1s 22ms/step - loss: 1.5277 - accuracy: 0.4659 - val_loss: 1.1369 - val_accuracy: 0.6208\n",
            "Epoch 2/10\n",
            "50/50 [==============================] - 1s 20ms/step - loss: 1.0920 - accuracy: 0.6279 - val_loss: 0.9757 - val_accuracy: 0.6829\n",
            "Epoch 3/10\n",
            "50/50 [==============================] - 1s 20ms/step - loss: 0.9404 - accuracy: 0.6850 - val_loss: 0.9192 - val_accuracy: 0.6918\n",
            "Epoch 4/10\n",
            "50/50 [==============================] - 1s 20ms/step - loss: 0.8395 - accuracy: 0.7198 - val_loss: 0.8808 - val_accuracy: 0.7176\n",
            "Epoch 5/10\n",
            "50/50 [==============================] - 1s 20ms/step - loss: 0.7510 - accuracy: 0.7497 - val_loss: 0.8579 - val_accuracy: 0.7345\n",
            "Epoch 6/10\n",
            "50/50 [==============================] - 1s 20ms/step - loss: 0.6796 - accuracy: 0.7712 - val_loss: 0.8543 - val_accuracy: 0.7460\n",
            "Epoch 7/10\n",
            "50/50 [==============================] - 1s 21ms/step - loss: 0.5971 - accuracy: 0.8066 - val_loss: 0.8241 - val_accuracy: 0.7647\n",
            "Epoch 8/10\n",
            "50/50 [==============================] - 1s 21ms/step - loss: 0.5202 - accuracy: 0.8330 - val_loss: 0.8270 - val_accuracy: 0.7877\n",
            "Epoch 9/10\n",
            "50/50 [==============================] - 1s 21ms/step - loss: 0.4602 - accuracy: 0.8589 - val_loss: 0.7998 - val_accuracy: 0.7886\n",
            "Epoch 10/10\n",
            "50/50 [==============================] - 1s 21ms/step - loss: 0.4069 - accuracy: 0.8764 - val_loss: 0.8168 - val_accuracy: 0.8020\n",
            "58/58 [==============================] - 0s 3ms/step - loss: 0.8615 - accuracy: 0.7894\n"
          ],
          "name": "stdout"
        },
        {
          "output_type": "stream",
          "text": [
            "\r 85%|████████▍ | 163/192 [1:08:00<11:37, 24.06s/it]"
          ],
          "name": "stderr"
        },
        {
          "output_type": "stream",
          "text": [
            "Epoch 1/10\n",
            "60/60 [==============================] - 1s 23ms/step - loss: 2.4411 - accuracy: 0.3678 - val_loss: 1.9295 - val_accuracy: 0.4844\n",
            "Epoch 2/10\n",
            "60/60 [==============================] - 1s 21ms/step - loss: 1.9034 - accuracy: 0.4872 - val_loss: 1.7550 - val_accuracy: 0.5215\n",
            "Epoch 3/10\n",
            "60/60 [==============================] - 1s 21ms/step - loss: 1.7086 - accuracy: 0.5355 - val_loss: 1.6625 - val_accuracy: 0.5475\n",
            "Epoch 4/10\n",
            "60/60 [==============================] - 1s 21ms/step - loss: 1.5587 - accuracy: 0.5762 - val_loss: 1.6066 - val_accuracy: 0.5875\n",
            "Epoch 5/10\n",
            "60/60 [==============================] - 1s 21ms/step - loss: 1.4349 - accuracy: 0.6151 - val_loss: 1.5369 - val_accuracy: 0.6335\n",
            "Epoch 6/10\n",
            "60/60 [==============================] - 1s 21ms/step - loss: 1.3107 - accuracy: 0.6513 - val_loss: 1.5906 - val_accuracy: 0.6120\n",
            "Epoch 7/10\n",
            "60/60 [==============================] - 1s 21ms/step - loss: 1.2254 - accuracy: 0.6736 - val_loss: 1.5007 - val_accuracy: 0.6506\n",
            "Epoch 8/10\n",
            "60/60 [==============================] - 1s 21ms/step - loss: 1.1370 - accuracy: 0.6935 - val_loss: 1.4568 - val_accuracy: 0.6610\n",
            "Epoch 9/10\n",
            "60/60 [==============================] - 1s 21ms/step - loss: 1.0567 - accuracy: 0.7152 - val_loss: 1.5064 - val_accuracy: 0.6558\n",
            "Epoch 10/10\n",
            "60/60 [==============================] - 1s 21ms/step - loss: 0.9913 - accuracy: 0.7285 - val_loss: 1.5350 - val_accuracy: 0.6610\n",
            "71/71 [==============================] - 0s 3ms/step - loss: 1.5433 - accuracy: 0.6487\n"
          ],
          "name": "stdout"
        },
        {
          "output_type": "stream",
          "text": [
            "\r 85%|████████▌ | 164/192 [1:08:15<09:55, 21.25s/it]"
          ],
          "name": "stderr"
        },
        {
          "output_type": "stream",
          "text": [
            "Epoch 1/10\n",
            "50/50 [==============================] - 1s 18ms/step - loss: 1.8375 - accuracy: 0.3431 - val_loss: 1.4378 - val_accuracy: 0.4325\n",
            "Epoch 2/10\n",
            "50/50 [==============================] - 1s 16ms/step - loss: 1.4542 - accuracy: 0.4734 - val_loss: 1.3110 - val_accuracy: 0.5417\n",
            "Epoch 3/10\n",
            "50/50 [==============================] - 1s 16ms/step - loss: 1.3654 - accuracy: 0.5194 - val_loss: 1.3600 - val_accuracy: 0.5568\n",
            "Epoch 4/10\n",
            "50/50 [==============================] - 1s 16ms/step - loss: 1.2899 - accuracy: 0.5523 - val_loss: 1.2393 - val_accuracy: 0.5888\n",
            "Epoch 5/10\n",
            "50/50 [==============================] - 1s 16ms/step - loss: 1.2514 - accuracy: 0.5619 - val_loss: 1.2765 - val_accuracy: 0.5773\n",
            "Epoch 6/10\n",
            "50/50 [==============================] - 1s 16ms/step - loss: 1.2108 - accuracy: 0.5725 - val_loss: 1.1890 - val_accuracy: 0.5799\n",
            "Epoch 7/10\n",
            "50/50 [==============================] - 1s 16ms/step - loss: 1.1947 - accuracy: 0.5760 - val_loss: 1.2845 - val_accuracy: 0.5293\n",
            "Epoch 8/10\n",
            "50/50 [==============================] - 1s 16ms/step - loss: 1.1609 - accuracy: 0.5921 - val_loss: 1.1730 - val_accuracy: 0.6092\n",
            "Epoch 9/10\n",
            "50/50 [==============================] - 1s 15ms/step - loss: 1.1208 - accuracy: 0.6059 - val_loss: 1.2206 - val_accuracy: 0.6163\n",
            "Epoch 10/10\n",
            "50/50 [==============================] - 1s 15ms/step - loss: 1.0996 - accuracy: 0.6091 - val_loss: 1.1569 - val_accuracy: 0.6306\n",
            "58/58 [==============================] - 0s 2ms/step - loss: 1.1241 - accuracy: 0.6285\n"
          ],
          "name": "stdout"
        },
        {
          "output_type": "stream",
          "text": [
            "\r 86%|████████▌ | 165/192 [1:08:35<09:28, 21.04s/it]"
          ],
          "name": "stderr"
        },
        {
          "output_type": "stream",
          "text": [
            "Epoch 1/10\n",
            "60/60 [==============================] - 1s 18ms/step - loss: 2.9385 - accuracy: 0.2949 - val_loss: 2.3371 - val_accuracy: 0.4028\n",
            "Epoch 2/10\n",
            "60/60 [==============================] - 1s 16ms/step - loss: 2.3257 - accuracy: 0.4095 - val_loss: 2.0900 - val_accuracy: 0.4243\n",
            "Epoch 3/10\n",
            "60/60 [==============================] - 1s 16ms/step - loss: 2.1659 - accuracy: 0.4363 - val_loss: 2.0241 - val_accuracy: 0.4681\n",
            "Epoch 4/10\n",
            "60/60 [==============================] - 1s 16ms/step - loss: 2.0587 - accuracy: 0.4614 - val_loss: 1.9388 - val_accuracy: 0.4792\n",
            "Epoch 5/10\n",
            "60/60 [==============================] - 1s 16ms/step - loss: 1.9801 - accuracy: 0.4726 - val_loss: 1.9068 - val_accuracy: 0.4889\n",
            "Epoch 6/10\n",
            "60/60 [==============================] - 1s 16ms/step - loss: 1.9236 - accuracy: 0.4917 - val_loss: 1.8688 - val_accuracy: 0.4963\n",
            "Epoch 7/10\n",
            "60/60 [==============================] - 1s 16ms/step - loss: 1.8667 - accuracy: 0.5086 - val_loss: 1.8505 - val_accuracy: 0.5148\n",
            "Epoch 8/10\n",
            "60/60 [==============================] - 1s 16ms/step - loss: 1.8221 - accuracy: 0.5164 - val_loss: 1.8242 - val_accuracy: 0.5267\n",
            "Epoch 9/10\n",
            "60/60 [==============================] - 1s 16ms/step - loss: 1.7799 - accuracy: 0.5358 - val_loss: 1.9010 - val_accuracy: 0.5134\n",
            "Epoch 10/10\n",
            "60/60 [==============================] - 1s 16ms/step - loss: 1.7545 - accuracy: 0.5359 - val_loss: 1.7986 - val_accuracy: 0.5378\n",
            "71/71 [==============================] - 0s 3ms/step - loss: 1.8006 - accuracy: 0.5463\n"
          ],
          "name": "stdout"
        },
        {
          "output_type": "stream",
          "text": [
            "\r 86%|████████▋ | 166/192 [1:08:57<09:14, 21.31s/it]"
          ],
          "name": "stderr"
        },
        {
          "output_type": "stream",
          "text": [
            "Epoch 1/10\n",
            "50/50 [==============================] - 3s 56ms/step - loss: 1.4935 - accuracy: 0.4753 - val_loss: 1.0973 - val_accuracy: 0.6368\n",
            "Epoch 2/10\n",
            "50/50 [==============================] - 3s 53ms/step - loss: 1.0493 - accuracy: 0.6473 - val_loss: 0.9273 - val_accuracy: 0.6980\n",
            "Epoch 3/10\n",
            "50/50 [==============================] - 3s 53ms/step - loss: 0.8722 - accuracy: 0.7187 - val_loss: 0.8259 - val_accuracy: 0.7371\n",
            "Epoch 4/10\n",
            "50/50 [==============================] - 3s 54ms/step - loss: 0.7243 - accuracy: 0.7715 - val_loss: 0.7818 - val_accuracy: 0.7709\n",
            "Epoch 5/10\n",
            "50/50 [==============================] - 3s 54ms/step - loss: 0.5940 - accuracy: 0.8153 - val_loss: 0.7333 - val_accuracy: 0.8055\n",
            "Epoch 6/10\n",
            "50/50 [==============================] - 3s 54ms/step - loss: 0.4911 - accuracy: 0.8506 - val_loss: 0.7185 - val_accuracy: 0.8046\n",
            "Epoch 7/10\n",
            "50/50 [==============================] - 3s 54ms/step - loss: 0.4091 - accuracy: 0.8794 - val_loss: 0.7321 - val_accuracy: 0.8064\n",
            "Epoch 8/10\n",
            "50/50 [==============================] - 3s 53ms/step - loss: 0.3454 - accuracy: 0.8996 - val_loss: 0.7128 - val_accuracy: 0.8162\n",
            "Epoch 9/10\n",
            "50/50 [==============================] - 3s 54ms/step - loss: 0.3022 - accuracy: 0.9159 - val_loss: 0.7460 - val_accuracy: 0.8206\n",
            "Epoch 10/10\n",
            "50/50 [==============================] - 3s 54ms/step - loss: 0.2602 - accuracy: 0.9266 - val_loss: 0.7818 - val_accuracy: 0.8064\n",
            "58/58 [==============================] - 0s 4ms/step - loss: 0.8070 - accuracy: 0.8029\n"
          ],
          "name": "stdout"
        },
        {
          "output_type": "stream",
          "text": [
            "\r 87%|████████▋ | 167/192 [1:09:27<09:54, 23.78s/it]"
          ],
          "name": "stderr"
        },
        {
          "output_type": "stream",
          "text": [
            "Epoch 1/10\n",
            "60/60 [==============================] - 3s 56ms/step - loss: 2.4879 - accuracy: 0.3161 - val_loss: 1.9986 - val_accuracy: 0.3917\n",
            "Epoch 2/10\n",
            "60/60 [==============================] - 3s 55ms/step - loss: 1.9028 - accuracy: 0.4752 - val_loss: 1.7115 - val_accuracy: 0.5497\n",
            "Epoch 3/10\n",
            "60/60 [==============================] - 3s 54ms/step - loss: 1.6202 - accuracy: 0.5803 - val_loss: 1.5900 - val_accuracy: 0.5994\n",
            "Epoch 4/10\n",
            "60/60 [==============================] - 3s 54ms/step - loss: 1.4346 - accuracy: 0.6298 - val_loss: 1.4968 - val_accuracy: 0.6291\n",
            "Epoch 5/10\n",
            "60/60 [==============================] - 3s 54ms/step - loss: 1.2774 - accuracy: 0.6690 - val_loss: 1.4371 - val_accuracy: 0.6543\n",
            "Epoch 6/10\n",
            "60/60 [==============================] - 3s 54ms/step - loss: 1.1695 - accuracy: 0.6926 - val_loss: 1.4212 - val_accuracy: 0.6632\n",
            "Epoch 7/10\n",
            "60/60 [==============================] - 3s 54ms/step - loss: 1.0531 - accuracy: 0.7203 - val_loss: 1.4042 - val_accuracy: 0.6706\n",
            "Epoch 8/10\n",
            "60/60 [==============================] - 3s 54ms/step - loss: 0.9609 - accuracy: 0.7376 - val_loss: 1.4441 - val_accuracy: 0.6728\n",
            "Epoch 9/10\n",
            "60/60 [==============================] - 3s 54ms/step - loss: 0.8906 - accuracy: 0.7603 - val_loss: 1.3853 - val_accuracy: 0.6810\n",
            "Epoch 10/10\n",
            "60/60 [==============================] - 3s 54ms/step - loss: 0.8209 - accuracy: 0.7781 - val_loss: 1.4289 - val_accuracy: 0.6825\n",
            "71/71 [==============================] - 0s 4ms/step - loss: 1.4756 - accuracy: 0.6710\n"
          ],
          "name": "stdout"
        },
        {
          "output_type": "stream",
          "text": [
            "\r 88%|████████▊ | 168/192 [1:10:01<10:50, 27.12s/it]"
          ],
          "name": "stderr"
        },
        {
          "output_type": "stream",
          "text": [
            "Epoch 1/10\n",
            "50/50 [==============================] - 2s 36ms/step - loss: 1.7418 - accuracy: 0.3894 - val_loss: 1.3680 - val_accuracy: 0.5453\n",
            "Epoch 2/10\n",
            "50/50 [==============================] - 2s 33ms/step - loss: 1.4061 - accuracy: 0.5085 - val_loss: 1.3172 - val_accuracy: 0.5471\n",
            "Epoch 3/10\n",
            "50/50 [==============================] - 2s 33ms/step - loss: 1.3436 - accuracy: 0.5467 - val_loss: 1.2613 - val_accuracy: 0.5773\n",
            "Epoch 4/10\n",
            "50/50 [==============================] - 2s 34ms/step - loss: 1.2925 - accuracy: 0.5546 - val_loss: 1.2333 - val_accuracy: 0.5941\n",
            "Epoch 5/10\n",
            "50/50 [==============================] - 2s 33ms/step - loss: 1.2325 - accuracy: 0.5680 - val_loss: 1.1785 - val_accuracy: 0.5941\n",
            "Epoch 6/10\n",
            "50/50 [==============================] - 2s 34ms/step - loss: 1.2066 - accuracy: 0.5736 - val_loss: 1.1786 - val_accuracy: 0.5799\n",
            "Epoch 7/10\n",
            "50/50 [==============================] - 2s 34ms/step - loss: 1.1631 - accuracy: 0.5838 - val_loss: 1.1483 - val_accuracy: 0.6163\n",
            "Epoch 8/10\n",
            "50/50 [==============================] - 2s 34ms/step - loss: 1.1291 - accuracy: 0.5976 - val_loss: 1.1171 - val_accuracy: 0.6119\n",
            "Epoch 9/10\n",
            "50/50 [==============================] - 2s 34ms/step - loss: 1.0981 - accuracy: 0.6175 - val_loss: 1.1132 - val_accuracy: 0.6083\n",
            "Epoch 10/10\n",
            "50/50 [==============================] - 2s 34ms/step - loss: 1.0781 - accuracy: 0.6262 - val_loss: 1.0856 - val_accuracy: 0.6554\n",
            "58/58 [==============================] - 0s 4ms/step - loss: 1.0597 - accuracy: 0.6528\n"
          ],
          "name": "stdout"
        },
        {
          "output_type": "stream",
          "text": [
            "\r 88%|████████▊ | 169/192 [1:10:31<10:43, 27.99s/it]"
          ],
          "name": "stderr"
        },
        {
          "output_type": "stream",
          "text": [
            "Epoch 1/10\n",
            "60/60 [==============================] - 2s 34ms/step - loss: 2.7066 - accuracy: 0.3289 - val_loss: 2.1306 - val_accuracy: 0.4028\n",
            "Epoch 2/10\n",
            "60/60 [==============================] - 2s 31ms/step - loss: 2.1726 - accuracy: 0.4312 - val_loss: 2.0407 - val_accuracy: 0.4703\n",
            "Epoch 3/10\n",
            "60/60 [==============================] - 2s 32ms/step - loss: 2.0731 - accuracy: 0.4595 - val_loss: 2.1458 - val_accuracy: 0.3694\n",
            "Epoch 4/10\n",
            "60/60 [==============================] - 2s 32ms/step - loss: 2.0121 - accuracy: 0.4667 - val_loss: 1.9468 - val_accuracy: 0.4763\n",
            "Epoch 5/10\n",
            "60/60 [==============================] - 2s 32ms/step - loss: 1.9396 - accuracy: 0.4828 - val_loss: 1.9060 - val_accuracy: 0.4948\n",
            "Epoch 6/10\n",
            "60/60 [==============================] - 2s 32ms/step - loss: 1.8939 - accuracy: 0.4876 - val_loss: 1.8498 - val_accuracy: 0.5096\n",
            "Epoch 7/10\n",
            "60/60 [==============================] - 2s 32ms/step - loss: 1.8509 - accuracy: 0.5031 - val_loss: 1.8954 - val_accuracy: 0.4985\n",
            "Epoch 8/10\n",
            "60/60 [==============================] - 2s 32ms/step - loss: 1.8228 - accuracy: 0.5130 - val_loss: 1.8037 - val_accuracy: 0.5378\n",
            "Epoch 9/10\n",
            "60/60 [==============================] - 2s 32ms/step - loss: 1.7848 - accuracy: 0.5237 - val_loss: 1.8261 - val_accuracy: 0.5401\n",
            "Epoch 10/10\n",
            "60/60 [==============================] - 2s 32ms/step - loss: 1.7568 - accuracy: 0.5313 - val_loss: 1.9430 - val_accuracy: 0.5082\n",
            "71/71 [==============================] - 0s 4ms/step - loss: 1.9799 - accuracy: 0.5187\n"
          ],
          "name": "stdout"
        },
        {
          "output_type": "stream",
          "text": [
            "\r 89%|████████▊ | 170/192 [1:11:04<10:43, 29.23s/it]"
          ],
          "name": "stderr"
        },
        {
          "output_type": "stream",
          "text": [
            "Epoch 1/10\n",
            "50/50 [==============================] - 2s 47ms/step - loss: 1.5094 - accuracy: 0.4798 - val_loss: 1.1220 - val_accuracy: 0.6288\n",
            "Epoch 2/10\n",
            "50/50 [==============================] - 2s 45ms/step - loss: 1.0347 - accuracy: 0.6556 - val_loss: 0.9056 - val_accuracy: 0.7194\n",
            "Epoch 3/10\n",
            "50/50 [==============================] - 2s 44ms/step - loss: 0.8610 - accuracy: 0.7191 - val_loss: 0.8432 - val_accuracy: 0.7380\n",
            "Epoch 4/10\n",
            "50/50 [==============================] - 2s 44ms/step - loss: 0.7672 - accuracy: 0.7467 - val_loss: 0.8437 - val_accuracy: 0.7504\n",
            "Epoch 5/10\n",
            "50/50 [==============================] - 2s 44ms/step - loss: 0.6816 - accuracy: 0.7803 - val_loss: 0.8060 - val_accuracy: 0.7682\n",
            "Epoch 6/10\n",
            "50/50 [==============================] - 2s 44ms/step - loss: 0.5902 - accuracy: 0.8146 - val_loss: 0.7854 - val_accuracy: 0.7789\n",
            "Epoch 7/10\n",
            "50/50 [==============================] - 2s 44ms/step - loss: 0.5256 - accuracy: 0.8371 - val_loss: 0.7818 - val_accuracy: 0.7860\n",
            "Epoch 8/10\n",
            "50/50 [==============================] - 2s 44ms/step - loss: 0.4595 - accuracy: 0.8623 - val_loss: 0.7875 - val_accuracy: 0.7993\n",
            "Epoch 9/10\n",
            "50/50 [==============================] - 2s 44ms/step - loss: 0.3992 - accuracy: 0.8821 - val_loss: 0.7662 - val_accuracy: 0.8188\n",
            "Epoch 10/10\n",
            "50/50 [==============================] - 2s 44ms/step - loss: 0.3453 - accuracy: 0.9001 - val_loss: 0.7988 - val_accuracy: 0.8162\n",
            "58/58 [==============================] - 0s 4ms/step - loss: 0.8549 - accuracy: 0.8105\n"
          ],
          "name": "stdout"
        },
        {
          "output_type": "stream",
          "text": [
            "\r 89%|████████▉ | 171/192 [1:11:28<09:43, 27.78s/it]"
          ],
          "name": "stderr"
        },
        {
          "output_type": "stream",
          "text": [
            "Epoch 1/10\n",
            "60/60 [==============================] - 3s 46ms/step - loss: 2.3332 - accuracy: 0.3843 - val_loss: 1.9251 - val_accuracy: 0.4829\n",
            "Epoch 2/10\n",
            "60/60 [==============================] - 3s 44ms/step - loss: 1.8260 - accuracy: 0.5181 - val_loss: 1.6679 - val_accuracy: 0.5571\n",
            "Epoch 3/10\n",
            "60/60 [==============================] - 3s 44ms/step - loss: 1.6128 - accuracy: 0.5828 - val_loss: 1.5568 - val_accuracy: 0.5927\n",
            "Epoch 4/10\n",
            "60/60 [==============================] - 3s 44ms/step - loss: 1.4612 - accuracy: 0.6201 - val_loss: 1.5005 - val_accuracy: 0.6157\n",
            "Epoch 5/10\n",
            "60/60 [==============================] - 3s 44ms/step - loss: 1.3336 - accuracy: 0.6438 - val_loss: 1.4993 - val_accuracy: 0.6320\n",
            "Epoch 6/10\n",
            "60/60 [==============================] - 3s 44ms/step - loss: 1.2414 - accuracy: 0.6669 - val_loss: 1.4548 - val_accuracy: 0.6402\n",
            "Epoch 7/10\n",
            "60/60 [==============================] - 3s 45ms/step - loss: 1.1555 - accuracy: 0.6943 - val_loss: 1.4460 - val_accuracy: 0.6654\n",
            "Epoch 8/10\n",
            "60/60 [==============================] - 3s 45ms/step - loss: 1.0686 - accuracy: 0.7168 - val_loss: 1.4033 - val_accuracy: 0.6892\n",
            "Epoch 9/10\n",
            "60/60 [==============================] - 3s 44ms/step - loss: 0.9984 - accuracy: 0.7332 - val_loss: 1.4273 - val_accuracy: 0.6847\n",
            "Epoch 10/10\n",
            "60/60 [==============================] - 3s 45ms/step - loss: 0.9198 - accuracy: 0.7537 - val_loss: 1.5156 - val_accuracy: 0.6580\n",
            "71/71 [==============================] - 0s 4ms/step - loss: 1.5205 - accuracy: 0.6460\n"
          ],
          "name": "stdout"
        },
        {
          "output_type": "stream",
          "text": [
            "\r 90%|████████▉ | 172/192 [1:11:57<09:23, 28.17s/it]"
          ],
          "name": "stderr"
        },
        {
          "output_type": "stream",
          "text": [
            "Epoch 1/10\n",
            "50/50 [==============================] - 2s 36ms/step - loss: 1.7337 - accuracy: 0.3964 - val_loss: 1.3595 - val_accuracy: 0.5480\n",
            "Epoch 2/10\n",
            "50/50 [==============================] - 2s 34ms/step - loss: 1.4076 - accuracy: 0.5172 - val_loss: 1.3512 - val_accuracy: 0.5675\n",
            "Epoch 3/10\n",
            "50/50 [==============================] - 2s 32ms/step - loss: 1.3583 - accuracy: 0.5419 - val_loss: 1.2513 - val_accuracy: 0.5755\n",
            "Epoch 4/10\n",
            "50/50 [==============================] - 2s 32ms/step - loss: 1.3024 - accuracy: 0.5592 - val_loss: 1.2797 - val_accuracy: 0.5835\n",
            "Epoch 5/10\n",
            "50/50 [==============================] - 2s 32ms/step - loss: 1.2601 - accuracy: 0.5689 - val_loss: 1.2410 - val_accuracy: 0.5888\n",
            "Epoch 6/10\n",
            "50/50 [==============================] - 2s 32ms/step - loss: 1.2227 - accuracy: 0.5766 - val_loss: 1.1552 - val_accuracy: 0.6004\n",
            "Epoch 7/10\n",
            "50/50 [==============================] - 2s 32ms/step - loss: 1.1758 - accuracy: 0.5873 - val_loss: 1.1578 - val_accuracy: 0.6137\n",
            "Epoch 8/10\n",
            "50/50 [==============================] - 2s 32ms/step - loss: 1.1441 - accuracy: 0.5982 - val_loss: 1.1253 - val_accuracy: 0.6163\n",
            "Epoch 9/10\n",
            "50/50 [==============================] - 2s 32ms/step - loss: 1.1119 - accuracy: 0.6149 - val_loss: 1.2288 - val_accuracy: 0.6004\n",
            "Epoch 10/10\n",
            "50/50 [==============================] - 2s 32ms/step - loss: 1.0833 - accuracy: 0.6337 - val_loss: 1.1126 - val_accuracy: 0.6501\n",
            "58/58 [==============================] - 0s 4ms/step - loss: 1.1012 - accuracy: 0.6528\n"
          ],
          "name": "stdout"
        },
        {
          "output_type": "stream",
          "text": [
            "\r 90%|█████████ | 173/192 [1:12:26<09:02, 28.54s/it]"
          ],
          "name": "stderr"
        },
        {
          "output_type": "stream",
          "text": [
            "Epoch 1/10\n",
            "60/60 [==============================] - 2s 34ms/step - loss: 2.6744 - accuracy: 0.3359 - val_loss: 2.0947 - val_accuracy: 0.4414\n",
            "Epoch 2/10\n",
            "60/60 [==============================] - 2s 32ms/step - loss: 2.1423 - accuracy: 0.4361 - val_loss: 2.0212 - val_accuracy: 0.4785\n",
            "Epoch 3/10\n",
            "60/60 [==============================] - 2s 32ms/step - loss: 2.0673 - accuracy: 0.4597 - val_loss: 1.9810 - val_accuracy: 0.4777\n",
            "Epoch 4/10\n",
            "60/60 [==============================] - 2s 32ms/step - loss: 1.9848 - accuracy: 0.4750 - val_loss: 1.9638 - val_accuracy: 0.4822\n",
            "Epoch 5/10\n",
            "60/60 [==============================] - 2s 32ms/step - loss: 1.9149 - accuracy: 0.4932 - val_loss: 1.8614 - val_accuracy: 0.4963\n",
            "Epoch 6/10\n",
            "60/60 [==============================] - 2s 32ms/step - loss: 1.8821 - accuracy: 0.5026 - val_loss: 1.8742 - val_accuracy: 0.5208\n",
            "Epoch 7/10\n",
            "60/60 [==============================] - 2s 32ms/step - loss: 1.8336 - accuracy: 0.5118 - val_loss: 1.8684 - val_accuracy: 0.5104\n",
            "Epoch 8/10\n",
            "60/60 [==============================] - 2s 32ms/step - loss: 1.7931 - accuracy: 0.5287 - val_loss: 1.8768 - val_accuracy: 0.5067\n",
            "Epoch 9/10\n",
            "60/60 [==============================] - 2s 32ms/step - loss: 1.7699 - accuracy: 0.5372 - val_loss: 1.8149 - val_accuracy: 0.5438\n",
            "Epoch 10/10\n",
            "60/60 [==============================] - 2s 32ms/step - loss: 1.7330 - accuracy: 0.5427 - val_loss: 1.8223 - val_accuracy: 0.5297\n",
            "71/71 [==============================] - 0s 4ms/step - loss: 1.8329 - accuracy: 0.5378\n"
          ],
          "name": "stdout"
        },
        {
          "output_type": "stream",
          "text": [
            "\r 91%|█████████ | 174/192 [1:12:59<08:52, 29.59s/it]"
          ],
          "name": "stderr"
        },
        {
          "output_type": "stream",
          "text": [
            "Epoch 1/10\n",
            "50/50 [==============================] - 8s 150ms/step - loss: 1.4298 - accuracy: 0.5111 - val_loss: 1.0855 - val_accuracy: 0.6465\n",
            "Epoch 2/10\n",
            "50/50 [==============================] - 7s 146ms/step - loss: 0.9985 - accuracy: 0.6671 - val_loss: 0.8916 - val_accuracy: 0.7220\n",
            "Epoch 3/10\n",
            "50/50 [==============================] - 7s 146ms/step - loss: 0.8414 - accuracy: 0.7315 - val_loss: 0.8219 - val_accuracy: 0.7647\n",
            "Epoch 4/10\n",
            "50/50 [==============================] - 7s 146ms/step - loss: 0.6970 - accuracy: 0.7781 - val_loss: 0.7925 - val_accuracy: 0.7895\n",
            "Epoch 5/10\n",
            "50/50 [==============================] - 7s 146ms/step - loss: 0.5780 - accuracy: 0.8286 - val_loss: 0.6751 - val_accuracy: 0.8206\n",
            "Epoch 6/10\n",
            "50/50 [==============================] - 7s 145ms/step - loss: 0.4837 - accuracy: 0.8545 - val_loss: 0.6444 - val_accuracy: 0.8313\n",
            "Epoch 7/10\n",
            "50/50 [==============================] - 7s 144ms/step - loss: 0.3979 - accuracy: 0.8814 - val_loss: 0.6644 - val_accuracy: 0.8277\n",
            "Epoch 8/10\n",
            "50/50 [==============================] - 7s 144ms/step - loss: 0.3456 - accuracy: 0.8951 - val_loss: 0.7215 - val_accuracy: 0.8126\n",
            "Epoch 9/10\n",
            "50/50 [==============================] - 7s 145ms/step - loss: 0.3136 - accuracy: 0.9089 - val_loss: 0.7263 - val_accuracy: 0.8446\n",
            "Epoch 10/10\n",
            "50/50 [==============================] - 7s 143ms/step - loss: 0.2784 - accuracy: 0.9166 - val_loss: 0.7085 - val_accuracy: 0.8428\n",
            "58/58 [==============================] - 0s 8ms/step - loss: 0.7467 - accuracy: 0.8267\n"
          ],
          "name": "stdout"
        },
        {
          "output_type": "stream",
          "text": [
            "\r 91%|█████████ | 175/192 [1:14:15<12:22, 43.66s/it]"
          ],
          "name": "stderr"
        },
        {
          "output_type": "stream",
          "text": [
            "Epoch 1/10\n",
            "60/60 [==============================] - 9s 146ms/step - loss: 2.2554 - accuracy: 0.4028 - val_loss: 1.8474 - val_accuracy: 0.5030\n",
            "Epoch 2/10\n",
            "60/60 [==============================] - 9s 146ms/step - loss: 1.7643 - accuracy: 0.5289 - val_loss: 1.6701 - val_accuracy: 0.5935\n",
            "Epoch 3/10\n",
            "60/60 [==============================] - 9s 145ms/step - loss: 1.5305 - accuracy: 0.6106 - val_loss: 1.5354 - val_accuracy: 0.6157\n",
            "Epoch 4/10\n",
            "60/60 [==============================] - 9s 144ms/step - loss: 1.3349 - accuracy: 0.6576 - val_loss: 1.4453 - val_accuracy: 0.6677\n",
            "Epoch 5/10\n",
            "60/60 [==============================] - 9s 145ms/step - loss: 1.1817 - accuracy: 0.6983 - val_loss: 1.4367 - val_accuracy: 0.6795\n",
            "Epoch 6/10\n",
            "60/60 [==============================] - 9s 144ms/step - loss: 1.0576 - accuracy: 0.7287 - val_loss: 1.3373 - val_accuracy: 0.6936\n",
            "Epoch 7/10\n",
            "60/60 [==============================] - 9s 144ms/step - loss: 0.9539 - accuracy: 0.7526 - val_loss: 1.3523 - val_accuracy: 0.7025\n",
            "Epoch 8/10\n",
            "60/60 [==============================] - 9s 144ms/step - loss: 0.8667 - accuracy: 0.7733 - val_loss: 1.3441 - val_accuracy: 0.7174\n",
            "Epoch 9/10\n",
            "60/60 [==============================] - 9s 143ms/step - loss: 0.7791 - accuracy: 0.7892 - val_loss: 1.4994 - val_accuracy: 0.7166\n",
            "Epoch 10/10\n",
            "60/60 [==============================] - 9s 144ms/step - loss: 0.7067 - accuracy: 0.8094 - val_loss: 1.3866 - val_accuracy: 0.7211\n",
            "71/71 [==============================] - 1s 8ms/step - loss: 1.3645 - accuracy: 0.6995\n"
          ],
          "name": "stdout"
        },
        {
          "output_type": "stream",
          "text": [
            "\r 92%|█████████▏| 176/192 [1:15:45<15:22, 57.65s/it]"
          ],
          "name": "stderr"
        },
        {
          "output_type": "stream",
          "text": [
            "Epoch 1/10\n",
            "50/50 [==============================] - 1s 18ms/step - loss: 1.7229 - accuracy: 0.4184 - val_loss: 1.4108 - val_accuracy: 0.4556\n",
            "Epoch 2/10\n",
            "50/50 [==============================] - 1s 16ms/step - loss: 1.3955 - accuracy: 0.5136 - val_loss: 1.2597 - val_accuracy: 0.5826\n",
            "Epoch 3/10\n",
            "50/50 [==============================] - 1s 16ms/step - loss: 1.2947 - accuracy: 0.5526 - val_loss: 1.2558 - val_accuracy: 0.5666\n",
            "Epoch 4/10\n",
            "50/50 [==============================] - 1s 16ms/step - loss: 1.2299 - accuracy: 0.5699 - val_loss: 1.2539 - val_accuracy: 0.5808\n",
            "Epoch 5/10\n",
            "50/50 [==============================] - 1s 16ms/step - loss: 1.2034 - accuracy: 0.5760 - val_loss: 1.1744 - val_accuracy: 0.6172\n",
            "Epoch 6/10\n",
            "50/50 [==============================] - 1s 16ms/step - loss: 1.1641 - accuracy: 0.5946 - val_loss: 1.1505 - val_accuracy: 0.6137\n",
            "Epoch 7/10\n",
            "50/50 [==============================] - 1s 16ms/step - loss: 1.1252 - accuracy: 0.6109 - val_loss: 1.1268 - val_accuracy: 0.6323\n",
            "Epoch 8/10\n",
            "50/50 [==============================] - 1s 16ms/step - loss: 1.0811 - accuracy: 0.6255 - val_loss: 1.2732 - val_accuracy: 0.6172\n",
            "Epoch 9/10\n",
            "50/50 [==============================] - 1s 16ms/step - loss: 1.0463 - accuracy: 0.6407 - val_loss: 1.1371 - val_accuracy: 0.6314\n",
            "Epoch 10/10\n",
            "50/50 [==============================] - 1s 16ms/step - loss: 1.0256 - accuracy: 0.6439 - val_loss: 1.1378 - val_accuracy: 0.6448\n",
            "58/58 [==============================] - 0s 2ms/step - loss: 1.0995 - accuracy: 0.6452\n"
          ],
          "name": "stdout"
        },
        {
          "output_type": "stream",
          "text": [
            "\r 92%|█████████▏| 177/192 [1:16:06<11:37, 46.53s/it]"
          ],
          "name": "stderr"
        },
        {
          "output_type": "stream",
          "text": [
            "Epoch 1/10\n",
            "60/60 [==============================] - 1s 18ms/step - loss: 2.7173 - accuracy: 0.3332 - val_loss: 2.2889 - val_accuracy: 0.3806\n",
            "Epoch 2/10\n",
            "60/60 [==============================] - 1s 16ms/step - loss: 2.2024 - accuracy: 0.4321 - val_loss: 2.0285 - val_accuracy: 0.4585\n",
            "Epoch 3/10\n",
            "60/60 [==============================] - 1s 16ms/step - loss: 2.0711 - accuracy: 0.4518 - val_loss: 2.0121 - val_accuracy: 0.4496\n",
            "Epoch 4/10\n",
            "60/60 [==============================] - 1s 16ms/step - loss: 1.9975 - accuracy: 0.4725 - val_loss: 1.9300 - val_accuracy: 0.4829\n",
            "Epoch 5/10\n",
            "60/60 [==============================] - 1s 16ms/step - loss: 1.9116 - accuracy: 0.4879 - val_loss: 1.8826 - val_accuracy: 0.4963\n",
            "Epoch 6/10\n",
            "60/60 [==============================] - 1s 16ms/step - loss: 1.8625 - accuracy: 0.5042 - val_loss: 1.9130 - val_accuracy: 0.4985\n",
            "Epoch 7/10\n",
            "60/60 [==============================] - 1s 16ms/step - loss: 1.8024 - accuracy: 0.5191 - val_loss: 1.8391 - val_accuracy: 0.5059\n",
            "Epoch 8/10\n",
            "60/60 [==============================] - 1s 16ms/step - loss: 1.7727 - accuracy: 0.5278 - val_loss: 1.8050 - val_accuracy: 0.5208\n",
            "Epoch 9/10\n",
            "60/60 [==============================] - 1s 16ms/step - loss: 1.7271 - accuracy: 0.5413 - val_loss: 1.8150 - val_accuracy: 0.5134\n",
            "Epoch 10/10\n",
            "60/60 [==============================] - 1s 16ms/step - loss: 1.6973 - accuracy: 0.5430 - val_loss: 1.7941 - val_accuracy: 0.5237\n",
            "71/71 [==============================] - 0s 2ms/step - loss: 1.7982 - accuracy: 0.5383\n"
          ],
          "name": "stdout"
        },
        {
          "output_type": "stream",
          "text": [
            "\r 93%|█████████▎| 178/192 [1:16:28<09:09, 39.26s/it]"
          ],
          "name": "stderr"
        },
        {
          "output_type": "stream",
          "text": [
            "Epoch 1/10\n",
            "50/50 [==============================] - 1s 23ms/step - loss: 1.3944 - accuracy: 0.5167 - val_loss: 1.0720 - val_accuracy: 0.6306\n",
            "Epoch 2/10\n",
            "50/50 [==============================] - 1s 21ms/step - loss: 1.0151 - accuracy: 0.6517 - val_loss: 0.9442 - val_accuracy: 0.6972\n",
            "Epoch 3/10\n",
            "50/50 [==============================] - 1s 20ms/step - loss: 0.8802 - accuracy: 0.7013 - val_loss: 0.8955 - val_accuracy: 0.7078\n",
            "Epoch 4/10\n",
            "50/50 [==============================] - 1s 20ms/step - loss: 0.7966 - accuracy: 0.7226 - val_loss: 0.8850 - val_accuracy: 0.7238\n",
            "Epoch 5/10\n",
            "50/50 [==============================] - 1s 20ms/step - loss: 0.7175 - accuracy: 0.7540 - val_loss: 0.8861 - val_accuracy: 0.7336\n",
            "Epoch 6/10\n",
            "50/50 [==============================] - 1s 21ms/step - loss: 0.6352 - accuracy: 0.7852 - val_loss: 0.8780 - val_accuracy: 0.7522\n",
            "Epoch 7/10\n",
            "50/50 [==============================] - 1s 21ms/step - loss: 0.5496 - accuracy: 0.8244 - val_loss: 0.9103 - val_accuracy: 0.7558\n",
            "Epoch 8/10\n",
            "50/50 [==============================] - 1s 20ms/step - loss: 0.4776 - accuracy: 0.8443 - val_loss: 0.9564 - val_accuracy: 0.7593\n",
            "Epoch 9/10\n",
            "50/50 [==============================] - 1s 21ms/step - loss: 0.4178 - accuracy: 0.8744 - val_loss: 0.9723 - val_accuracy: 0.7753\n",
            "Epoch 10/10\n",
            "50/50 [==============================] - 1s 20ms/step - loss: 0.3567 - accuracy: 0.8894 - val_loss: 1.0014 - val_accuracy: 0.7789\n",
            "58/58 [==============================] - 0s 3ms/step - loss: 1.0085 - accuracy: 0.7662\n"
          ],
          "name": "stdout"
        },
        {
          "output_type": "stream",
          "text": [
            "\r 93%|█████████▎| 179/192 [1:16:40<06:44, 31.15s/it]"
          ],
          "name": "stderr"
        },
        {
          "output_type": "stream",
          "text": [
            "Epoch 1/10\n",
            "60/60 [==============================] - 1s 23ms/step - loss: 2.3104 - accuracy: 0.3860 - val_loss: 1.8520 - val_accuracy: 0.5007\n",
            "Epoch 2/10\n",
            "60/60 [==============================] - 1s 21ms/step - loss: 1.7687 - accuracy: 0.5320 - val_loss: 1.6432 - val_accuracy: 0.5734\n",
            "Epoch 3/10\n",
            "60/60 [==============================] - 1s 21ms/step - loss: 1.5606 - accuracy: 0.5921 - val_loss: 1.5322 - val_accuracy: 0.6172\n",
            "Epoch 4/10\n",
            "60/60 [==============================] - 1s 21ms/step - loss: 1.3932 - accuracy: 0.6334 - val_loss: 1.4985 - val_accuracy: 0.6246\n",
            "Epoch 5/10\n",
            "60/60 [==============================] - 1s 21ms/step - loss: 1.2446 - accuracy: 0.6767 - val_loss: 1.4378 - val_accuracy: 0.6484\n",
            "Epoch 6/10\n",
            "60/60 [==============================] - 1s 21ms/step - loss: 1.1409 - accuracy: 0.6948 - val_loss: 1.4161 - val_accuracy: 0.6617\n",
            "Epoch 7/10\n",
            "60/60 [==============================] - 1s 21ms/step - loss: 1.0326 - accuracy: 0.7254 - val_loss: 1.4593 - val_accuracy: 0.6610\n",
            "Epoch 8/10\n",
            "60/60 [==============================] - 1s 21ms/step - loss: 0.9522 - accuracy: 0.7474 - val_loss: 1.4743 - val_accuracy: 0.6573\n",
            "Epoch 9/10\n",
            "60/60 [==============================] - 1s 21ms/step - loss: 0.8752 - accuracy: 0.7629 - val_loss: 1.4658 - val_accuracy: 0.6669\n",
            "Epoch 10/10\n",
            "60/60 [==============================] - 1s 21ms/step - loss: 0.8106 - accuracy: 0.7795 - val_loss: 1.5118 - val_accuracy: 0.6728\n",
            "71/71 [==============================] - 0s 3ms/step - loss: 1.5488 - accuracy: 0.6607\n"
          ],
          "name": "stdout"
        },
        {
          "output_type": "stream",
          "text": [
            "\r 94%|█████████▍| 180/192 [1:16:55<05:15, 26.27s/it]"
          ],
          "name": "stderr"
        },
        {
          "output_type": "stream",
          "text": [
            "Epoch 1/10\n",
            "50/50 [==============================] - 1s 18ms/step - loss: 1.6966 - accuracy: 0.4264 - val_loss: 1.3654 - val_accuracy: 0.4565\n",
            "Epoch 2/10\n",
            "50/50 [==============================] - 1s 16ms/step - loss: 1.3973 - accuracy: 0.5252 - val_loss: 1.3208 - val_accuracy: 0.5169\n",
            "Epoch 3/10\n",
            "50/50 [==============================] - 1s 16ms/step - loss: 1.3131 - accuracy: 0.5467 - val_loss: 1.3715 - val_accuracy: 0.5249\n",
            "Epoch 4/10\n",
            "50/50 [==============================] - 1s 16ms/step - loss: 1.2478 - accuracy: 0.5680 - val_loss: 1.2637 - val_accuracy: 0.5924\n",
            "Epoch 5/10\n",
            "50/50 [==============================] - 1s 16ms/step - loss: 1.1994 - accuracy: 0.5772 - val_loss: 1.1938 - val_accuracy: 0.6172\n",
            "Epoch 6/10\n",
            "50/50 [==============================] - 1s 16ms/step - loss: 1.1651 - accuracy: 0.5926 - val_loss: 1.1382 - val_accuracy: 0.6039\n",
            "Epoch 7/10\n",
            "50/50 [==============================] - 1s 16ms/step - loss: 1.1348 - accuracy: 0.6081 - val_loss: 1.1177 - val_accuracy: 0.6341\n",
            "Epoch 8/10\n",
            "50/50 [==============================] - 1s 17ms/step - loss: 1.0804 - accuracy: 0.6249 - val_loss: 1.1226 - val_accuracy: 0.6439\n",
            "Epoch 9/10\n",
            "50/50 [==============================] - 1s 17ms/step - loss: 1.0526 - accuracy: 0.6360 - val_loss: 1.1845 - val_accuracy: 0.6021\n",
            "Epoch 10/10\n",
            "50/50 [==============================] - 1s 17ms/step - loss: 1.0109 - accuracy: 0.6495 - val_loss: 1.0977 - val_accuracy: 0.6519\n",
            "58/58 [==============================] - 0s 3ms/step - loss: 1.0857 - accuracy: 0.6415\n"
          ],
          "name": "stdout"
        },
        {
          "output_type": "stream",
          "text": [
            "\r 94%|█████████▍| 181/192 [1:17:16<04:31, 24.69s/it]"
          ],
          "name": "stderr"
        },
        {
          "output_type": "stream",
          "text": [
            "Epoch 1/10\n",
            "60/60 [==============================] - 1s 18ms/step - loss: 2.6983 - accuracy: 0.3267 - val_loss: 2.1064 - val_accuracy: 0.4629\n",
            "Epoch 2/10\n",
            "60/60 [==============================] - 1s 16ms/step - loss: 2.1767 - accuracy: 0.4349 - val_loss: 2.0029 - val_accuracy: 0.4703\n",
            "Epoch 3/10\n",
            "60/60 [==============================] - 1s 16ms/step - loss: 2.0442 - accuracy: 0.4686 - val_loss: 1.9397 - val_accuracy: 0.4874\n",
            "Epoch 4/10\n",
            "60/60 [==============================] - 1s 16ms/step - loss: 1.9674 - accuracy: 0.4822 - val_loss: 2.0032 - val_accuracy: 0.4852\n",
            "Epoch 5/10\n",
            "60/60 [==============================] - 1s 16ms/step - loss: 1.8895 - accuracy: 0.4972 - val_loss: 1.9210 - val_accuracy: 0.4718\n",
            "Epoch 6/10\n",
            "60/60 [==============================] - 1s 16ms/step - loss: 1.8545 - accuracy: 0.5077 - val_loss: 1.8263 - val_accuracy: 0.5141\n",
            "Epoch 7/10\n",
            "60/60 [==============================] - 1s 16ms/step - loss: 1.7992 - accuracy: 0.5255 - val_loss: 1.8833 - val_accuracy: 0.5297\n",
            "Epoch 8/10\n",
            "60/60 [==============================] - 1s 16ms/step - loss: 1.7589 - accuracy: 0.5296 - val_loss: 1.8187 - val_accuracy: 0.5423\n",
            "Epoch 9/10\n",
            "60/60 [==============================] - 1s 16ms/step - loss: 1.7318 - accuracy: 0.5346 - val_loss: 1.8368 - val_accuracy: 0.5074\n",
            "Epoch 10/10\n",
            "60/60 [==============================] - 1s 16ms/step - loss: 1.6922 - accuracy: 0.5512 - val_loss: 1.7543 - val_accuracy: 0.5334\n",
            "71/71 [==============================] - 0s 2ms/step - loss: 1.7715 - accuracy: 0.5463\n"
          ],
          "name": "stdout"
        },
        {
          "output_type": "stream",
          "text": [
            "\r 95%|█████████▍| 182/192 [1:17:39<03:59, 23.98s/it]"
          ],
          "name": "stderr"
        },
        {
          "output_type": "stream",
          "text": [
            "Epoch 1/10\n",
            "50/50 [==============================] - 3s 57ms/step - loss: 1.3735 - accuracy: 0.5131 - val_loss: 1.0269 - val_accuracy: 0.6439\n",
            "Epoch 2/10\n",
            "50/50 [==============================] - 3s 54ms/step - loss: 0.9730 - accuracy: 0.6679 - val_loss: 0.9154 - val_accuracy: 0.7211\n",
            "Epoch 3/10\n",
            "50/50 [==============================] - 3s 54ms/step - loss: 0.8126 - accuracy: 0.7403 - val_loss: 0.8460 - val_accuracy: 0.7611\n",
            "Epoch 4/10\n",
            "50/50 [==============================] - 3s 54ms/step - loss: 0.6392 - accuracy: 0.7997 - val_loss: 0.7615 - val_accuracy: 0.7886\n",
            "Epoch 5/10\n",
            "50/50 [==============================] - 3s 54ms/step - loss: 0.4969 - accuracy: 0.8466 - val_loss: 0.7194 - val_accuracy: 0.8020\n",
            "Epoch 6/10\n",
            "50/50 [==============================] - 3s 54ms/step - loss: 0.3985 - accuracy: 0.8802 - val_loss: 0.7322 - val_accuracy: 0.8073\n",
            "Epoch 7/10\n",
            "50/50 [==============================] - 3s 54ms/step - loss: 0.3332 - accuracy: 0.9050 - val_loss: 0.7386 - val_accuracy: 0.8144\n",
            "Epoch 8/10\n",
            "50/50 [==============================] - 3s 54ms/step - loss: 0.2785 - accuracy: 0.9238 - val_loss: 0.7626 - val_accuracy: 0.8162\n",
            "Epoch 9/10\n",
            "50/50 [==============================] - 3s 54ms/step - loss: 0.2215 - accuracy: 0.9390 - val_loss: 0.8296 - val_accuracy: 0.8108\n",
            "Epoch 10/10\n",
            "50/50 [==============================] - 3s 54ms/step - loss: 0.1984 - accuracy: 0.9478 - val_loss: 0.8137 - val_accuracy: 0.8224\n",
            "58/58 [==============================] - 0s 4ms/step - loss: 0.8420 - accuracy: 0.8175\n"
          ],
          "name": "stdout"
        },
        {
          "output_type": "stream",
          "text": [
            "\r 95%|█████████▌| 183/192 [1:18:08<03:51, 25.68s/it]"
          ],
          "name": "stderr"
        },
        {
          "output_type": "stream",
          "text": [
            "Epoch 1/10\n",
            "60/60 [==============================] - 3s 57ms/step - loss: 2.2071 - accuracy: 0.4274 - val_loss: 1.7836 - val_accuracy: 0.5200\n",
            "Epoch 2/10\n",
            "60/60 [==============================] - 3s 54ms/step - loss: 1.6900 - accuracy: 0.5595 - val_loss: 1.6090 - val_accuracy: 0.5742\n",
            "Epoch 3/10\n",
            "60/60 [==============================] - 3s 55ms/step - loss: 1.4457 - accuracy: 0.6278 - val_loss: 1.4810 - val_accuracy: 0.6588\n",
            "Epoch 4/10\n",
            "60/60 [==============================] - 3s 55ms/step - loss: 1.2350 - accuracy: 0.6850 - val_loss: 1.3894 - val_accuracy: 0.6714\n",
            "Epoch 5/10\n",
            "60/60 [==============================] - 3s 54ms/step - loss: 1.0702 - accuracy: 0.7207 - val_loss: 1.3436 - val_accuracy: 0.6832\n",
            "Epoch 6/10\n",
            "60/60 [==============================] - 3s 54ms/step - loss: 0.9445 - accuracy: 0.7484 - val_loss: 1.3741 - val_accuracy: 0.6810\n",
            "Epoch 7/10\n",
            "60/60 [==============================] - 3s 55ms/step - loss: 0.8211 - accuracy: 0.7757 - val_loss: 1.3593 - val_accuracy: 0.6892\n",
            "Epoch 8/10\n",
            "60/60 [==============================] - 3s 54ms/step - loss: 0.7343 - accuracy: 0.8014 - val_loss: 1.3791 - val_accuracy: 0.6944\n",
            "Epoch 9/10\n",
            "60/60 [==============================] - 3s 55ms/step - loss: 0.6316 - accuracy: 0.8309 - val_loss: 1.4094 - val_accuracy: 0.7047\n",
            "Epoch 10/10\n",
            "60/60 [==============================] - 3s 55ms/step - loss: 0.5605 - accuracy: 0.8507 - val_loss: 1.4765 - val_accuracy: 0.7003\n",
            "71/71 [==============================] - 0s 4ms/step - loss: 1.5068 - accuracy: 0.6932\n"
          ],
          "name": "stdout"
        },
        {
          "output_type": "stream",
          "text": [
            "\r 96%|█████████▌| 184/192 [1:18:43<03:48, 28.55s/it]"
          ],
          "name": "stderr"
        },
        {
          "output_type": "stream",
          "text": [
            "Epoch 1/10\n",
            "50/50 [==============================] - 2s 34ms/step - loss: 1.6980 - accuracy: 0.4283 - val_loss: 1.3184 - val_accuracy: 0.5755\n",
            "Epoch 2/10\n",
            "50/50 [==============================] - 2s 32ms/step - loss: 1.3615 - accuracy: 0.5332 - val_loss: 1.2823 - val_accuracy: 0.5835\n",
            "Epoch 3/10\n",
            "50/50 [==============================] - 2s 32ms/step - loss: 1.2854 - accuracy: 0.5608 - val_loss: 1.2422 - val_accuracy: 0.5879\n",
            "Epoch 4/10\n",
            "50/50 [==============================] - 2s 32ms/step - loss: 1.2330 - accuracy: 0.5699 - val_loss: 1.1666 - val_accuracy: 0.6110\n",
            "Epoch 5/10\n",
            "50/50 [==============================] - 2s 32ms/step - loss: 1.1794 - accuracy: 0.5865 - val_loss: 1.1224 - val_accuracy: 0.6101\n",
            "Epoch 6/10\n",
            "50/50 [==============================] - 2s 32ms/step - loss: 1.1301 - accuracy: 0.6044 - val_loss: 1.1136 - val_accuracy: 0.6421\n",
            "Epoch 7/10\n",
            "50/50 [==============================] - 2s 32ms/step - loss: 1.0832 - accuracy: 0.6321 - val_loss: 1.2629 - val_accuracy: 0.5915\n",
            "Epoch 8/10\n",
            "50/50 [==============================] - 2s 32ms/step - loss: 1.0442 - accuracy: 0.6469 - val_loss: 1.2198 - val_accuracy: 0.6270\n",
            "Epoch 9/10\n",
            "50/50 [==============================] - 2s 32ms/step - loss: 1.0174 - accuracy: 0.6552 - val_loss: 1.0639 - val_accuracy: 0.6448\n",
            "Epoch 10/10\n",
            "50/50 [==============================] - 2s 32ms/step - loss: 0.9797 - accuracy: 0.6702 - val_loss: 1.0416 - val_accuracy: 0.6758\n",
            "58/58 [==============================] - 0s 3ms/step - loss: 1.0209 - accuracy: 0.6712\n"
          ],
          "name": "stdout"
        },
        {
          "output_type": "stream",
          "text": [
            "\r 96%|█████████▋| 185/192 [1:19:12<03:20, 28.64s/it]"
          ],
          "name": "stderr"
        },
        {
          "output_type": "stream",
          "text": [
            "Epoch 1/10\n",
            "60/60 [==============================] - 2s 34ms/step - loss: 2.5138 - accuracy: 0.3507 - val_loss: 2.1156 - val_accuracy: 0.4488\n",
            "Epoch 2/10\n",
            "60/60 [==============================] - 2s 32ms/step - loss: 2.1114 - accuracy: 0.4509 - val_loss: 2.0224 - val_accuracy: 0.4822\n",
            "Epoch 3/10\n",
            "60/60 [==============================] - 2s 32ms/step - loss: 2.0165 - accuracy: 0.4682 - val_loss: 1.9895 - val_accuracy: 0.4800\n",
            "Epoch 4/10\n",
            "60/60 [==============================] - 2s 32ms/step - loss: 1.9522 - accuracy: 0.4794 - val_loss: 1.9284 - val_accuracy: 0.4881\n",
            "Epoch 5/10\n",
            "60/60 [==============================] - 2s 32ms/step - loss: 1.8749 - accuracy: 0.4938 - val_loss: 1.9562 - val_accuracy: 0.4740\n",
            "Epoch 6/10\n",
            "60/60 [==============================] - 2s 32ms/step - loss: 1.8212 - accuracy: 0.5080 - val_loss: 1.8594 - val_accuracy: 0.4896\n",
            "Epoch 7/10\n",
            "60/60 [==============================] - 2s 32ms/step - loss: 1.7695 - accuracy: 0.5261 - val_loss: 1.7964 - val_accuracy: 0.5267\n",
            "Epoch 8/10\n",
            "60/60 [==============================] - 2s 32ms/step - loss: 1.7383 - accuracy: 0.5400 - val_loss: 1.7646 - val_accuracy: 0.5334\n",
            "Epoch 9/10\n",
            "60/60 [==============================] - 2s 32ms/step - loss: 1.6948 - accuracy: 0.5452 - val_loss: 1.8464 - val_accuracy: 0.5074\n",
            "Epoch 10/10\n",
            "60/60 [==============================] - 2s 32ms/step - loss: 1.6581 - accuracy: 0.5597 - val_loss: 1.7551 - val_accuracy: 0.5356\n",
            "71/71 [==============================] - 0s 4ms/step - loss: 1.7806 - accuracy: 0.5294\n"
          ],
          "name": "stdout"
        },
        {
          "output_type": "stream",
          "text": [
            "\r 97%|█████████▋| 186/192 [1:19:44<02:58, 29.67s/it]"
          ],
          "name": "stderr"
        },
        {
          "output_type": "stream",
          "text": [
            "Epoch 1/10\n",
            "50/50 [==============================] - 2s 46ms/step - loss: 1.4268 - accuracy: 0.5112 - val_loss: 1.1543 - val_accuracy: 0.6243\n",
            "Epoch 2/10\n",
            "50/50 [==============================] - 2s 44ms/step - loss: 1.0334 - accuracy: 0.6563 - val_loss: 0.9082 - val_accuracy: 0.7114\n",
            "Epoch 3/10\n",
            "50/50 [==============================] - 2s 44ms/step - loss: 0.8372 - accuracy: 0.7213 - val_loss: 0.8524 - val_accuracy: 0.7300\n",
            "Epoch 4/10\n",
            "50/50 [==============================] - 2s 44ms/step - loss: 0.7157 - accuracy: 0.7637 - val_loss: 0.7943 - val_accuracy: 0.7540\n",
            "Epoch 5/10\n",
            "50/50 [==============================] - 2s 44ms/step - loss: 0.6158 - accuracy: 0.7980 - val_loss: 0.7861 - val_accuracy: 0.7664\n",
            "Epoch 6/10\n",
            "50/50 [==============================] - 2s 44ms/step - loss: 0.5269 - accuracy: 0.8321 - val_loss: 0.7737 - val_accuracy: 0.7984\n",
            "Epoch 7/10\n",
            "50/50 [==============================] - 2s 44ms/step - loss: 0.4507 - accuracy: 0.8640 - val_loss: 0.7551 - val_accuracy: 0.8162\n",
            "Epoch 8/10\n",
            "50/50 [==============================] - 2s 44ms/step - loss: 0.3714 - accuracy: 0.8931 - val_loss: 0.8314 - val_accuracy: 0.8197\n",
            "Epoch 9/10\n",
            "50/50 [==============================] - 2s 44ms/step - loss: 0.3181 - accuracy: 0.9076 - val_loss: 0.8073 - val_accuracy: 0.8206\n",
            "Epoch 10/10\n",
            "50/50 [==============================] - 2s 44ms/step - loss: 0.2821 - accuracy: 0.9216 - val_loss: 0.8233 - val_accuracy: 0.8313\n",
            "58/58 [==============================] - 0s 4ms/step - loss: 0.8800 - accuracy: 0.8099\n"
          ],
          "name": "stdout"
        },
        {
          "output_type": "stream",
          "text": [
            "\r 97%|█████████▋| 187/192 [1:20:09<02:20, 28.06s/it]"
          ],
          "name": "stderr"
        },
        {
          "output_type": "stream",
          "text": [
            "Epoch 1/10\n",
            "60/60 [==============================] - 3s 47ms/step - loss: 2.2102 - accuracy: 0.4037 - val_loss: 1.8480 - val_accuracy: 0.5171\n",
            "Epoch 2/10\n",
            "60/60 [==============================] - 3s 45ms/step - loss: 1.7258 - accuracy: 0.5420 - val_loss: 1.6281 - val_accuracy: 0.5831\n",
            "Epoch 3/10\n",
            "60/60 [==============================] - 3s 45ms/step - loss: 1.5207 - accuracy: 0.6073 - val_loss: 1.5642 - val_accuracy: 0.6031\n",
            "Epoch 4/10\n",
            "60/60 [==============================] - 3s 45ms/step - loss: 1.3833 - accuracy: 0.6407 - val_loss: 1.5718 - val_accuracy: 0.5994\n",
            "Epoch 5/10\n",
            "60/60 [==============================] - 3s 45ms/step - loss: 1.2550 - accuracy: 0.6724 - val_loss: 1.4692 - val_accuracy: 0.6669\n",
            "Epoch 6/10\n",
            "60/60 [==============================] - 3s 45ms/step - loss: 1.1296 - accuracy: 0.7045 - val_loss: 1.4423 - val_accuracy: 0.6728\n",
            "Epoch 7/10\n",
            "60/60 [==============================] - 3s 45ms/step - loss: 1.0284 - accuracy: 0.7229 - val_loss: 1.4432 - val_accuracy: 0.6758\n",
            "Epoch 8/10\n",
            "60/60 [==============================] - 3s 45ms/step - loss: 0.9393 - accuracy: 0.7456 - val_loss: 1.4800 - val_accuracy: 0.6884\n",
            "Epoch 9/10\n",
            "60/60 [==============================] - 3s 45ms/step - loss: 0.8707 - accuracy: 0.7637 - val_loss: 1.5193 - val_accuracy: 0.6825\n",
            "Epoch 10/10\n",
            "60/60 [==============================] - 3s 45ms/step - loss: 0.8105 - accuracy: 0.7740 - val_loss: 1.5715 - val_accuracy: 0.6936\n",
            "71/71 [==============================] - 0s 4ms/step - loss: 1.5906 - accuracy: 0.6736\n"
          ],
          "name": "stdout"
        },
        {
          "output_type": "stream",
          "text": [
            "\r 98%|█████████▊| 188/192 [1:20:38<01:53, 28.49s/it]"
          ],
          "name": "stderr"
        },
        {
          "output_type": "stream",
          "text": [
            "Epoch 1/10\n",
            "50/50 [==============================] - 2s 34ms/step - loss: 1.6433 - accuracy: 0.4278 - val_loss: 1.3266 - val_accuracy: 0.5728\n",
            "Epoch 2/10\n",
            "50/50 [==============================] - 2s 32ms/step - loss: 1.3589 - accuracy: 0.5376 - val_loss: 1.3040 - val_accuracy: 0.5746\n",
            "Epoch 3/10\n",
            "50/50 [==============================] - 2s 32ms/step - loss: 1.2841 - accuracy: 0.5537 - val_loss: 1.2031 - val_accuracy: 0.5941\n",
            "Epoch 4/10\n",
            "50/50 [==============================] - 2s 32ms/step - loss: 1.2341 - accuracy: 0.5710 - val_loss: 1.1958 - val_accuracy: 0.5924\n",
            "Epoch 5/10\n",
            "50/50 [==============================] - 2s 32ms/step - loss: 1.1757 - accuracy: 0.5885 - val_loss: 1.1516 - val_accuracy: 0.5897\n",
            "Epoch 6/10\n",
            "50/50 [==============================] - 2s 32ms/step - loss: 1.1259 - accuracy: 0.6040 - val_loss: 1.1169 - val_accuracy: 0.6288\n",
            "Epoch 7/10\n",
            "50/50 [==============================] - 2s 32ms/step - loss: 1.0912 - accuracy: 0.6282 - val_loss: 1.2223 - val_accuracy: 0.6199\n",
            "Epoch 8/10\n",
            "50/50 [==============================] - 2s 32ms/step - loss: 1.0507 - accuracy: 0.6508 - val_loss: 1.0911 - val_accuracy: 0.6599\n",
            "Epoch 9/10\n",
            "50/50 [==============================] - 2s 32ms/step - loss: 1.0171 - accuracy: 0.6570 - val_loss: 1.1984 - val_accuracy: 0.6128\n",
            "Epoch 10/10\n",
            "50/50 [==============================] - 2s 32ms/step - loss: 0.9843 - accuracy: 0.6633 - val_loss: 1.1501 - val_accuracy: 0.6465\n",
            "58/58 [==============================] - 0s 4ms/step - loss: 1.1520 - accuracy: 0.6361\n"
          ],
          "name": "stdout"
        },
        {
          "output_type": "stream",
          "text": [
            "\r 98%|█████████▊| 189/192 [1:21:07<01:25, 28.59s/it]"
          ],
          "name": "stderr"
        },
        {
          "output_type": "stream",
          "text": [
            "Epoch 1/10\n",
            "60/60 [==============================] - 2s 34ms/step - loss: 2.5909 - accuracy: 0.3566 - val_loss: 2.0703 - val_accuracy: 0.4644\n",
            "Epoch 2/10\n",
            "60/60 [==============================] - 2s 32ms/step - loss: 2.0968 - accuracy: 0.4548 - val_loss: 2.1178 - val_accuracy: 0.4815\n",
            "Epoch 3/10\n",
            "60/60 [==============================] - 2s 32ms/step - loss: 2.0157 - accuracy: 0.4703 - val_loss: 1.9609 - val_accuracy: 0.4688\n",
            "Epoch 4/10\n",
            "60/60 [==============================] - 2s 32ms/step - loss: 1.9465 - accuracy: 0.4773 - val_loss: 1.9283 - val_accuracy: 0.4918\n",
            "Epoch 5/10\n",
            "60/60 [==============================] - 2s 32ms/step - loss: 1.8687 - accuracy: 0.4967 - val_loss: 1.8586 - val_accuracy: 0.4852\n",
            "Epoch 6/10\n",
            "60/60 [==============================] - 2s 32ms/step - loss: 1.8185 - accuracy: 0.5079 - val_loss: 1.8543 - val_accuracy: 0.4807\n",
            "Epoch 7/10\n",
            "60/60 [==============================] - 2s 32ms/step - loss: 1.7754 - accuracy: 0.5229 - val_loss: 1.7977 - val_accuracy: 0.5289\n",
            "Epoch 8/10\n",
            "60/60 [==============================] - 2s 31ms/step - loss: 1.7395 - accuracy: 0.5373 - val_loss: 1.8456 - val_accuracy: 0.5163\n",
            "Epoch 9/10\n",
            "60/60 [==============================] - 2s 32ms/step - loss: 1.6939 - accuracy: 0.5445 - val_loss: 1.8084 - val_accuracy: 0.5393\n",
            "Epoch 10/10\n",
            "60/60 [==============================] - 2s 32ms/step - loss: 1.6521 - accuracy: 0.5608 - val_loss: 1.8391 - val_accuracy: 0.4911\n",
            "71/71 [==============================] - 0s 3ms/step - loss: 1.8469 - accuracy: 0.5129\n"
          ],
          "name": "stdout"
        },
        {
          "output_type": "stream",
          "text": [
            "\r 99%|█████████▉| 190/192 [1:21:39<00:59, 29.51s/it]"
          ],
          "name": "stderr"
        },
        {
          "output_type": "stream",
          "text": [
            "Epoch 1/10\n",
            "50/50 [==============================] - 7s 146ms/step - loss: 1.3593 - accuracy: 0.5391 - val_loss: 1.1378 - val_accuracy: 0.5968\n",
            "Epoch 2/10\n",
            "50/50 [==============================] - 7s 143ms/step - loss: 0.9493 - accuracy: 0.6854 - val_loss: 0.8699 - val_accuracy: 0.7300\n",
            "Epoch 3/10\n",
            "50/50 [==============================] - 7s 143ms/step - loss: 0.7832 - accuracy: 0.7489 - val_loss: 0.7901 - val_accuracy: 0.7629\n",
            "Epoch 4/10\n",
            "50/50 [==============================] - 7s 142ms/step - loss: 0.6406 - accuracy: 0.7891 - val_loss: 0.7423 - val_accuracy: 0.7824\n",
            "Epoch 5/10\n",
            "50/50 [==============================] - 7s 143ms/step - loss: 0.5115 - accuracy: 0.8424 - val_loss: 0.7412 - val_accuracy: 0.8206\n",
            "Epoch 6/10\n",
            "50/50 [==============================] - 7s 145ms/step - loss: 0.3967 - accuracy: 0.8862 - val_loss: 0.7152 - val_accuracy: 0.8321\n",
            "Epoch 7/10\n",
            "50/50 [==============================] - 7s 146ms/step - loss: 0.3216 - accuracy: 0.9070 - val_loss: 0.7278 - val_accuracy: 0.8401\n",
            "Epoch 8/10\n",
            "50/50 [==============================] - 7s 145ms/step - loss: 0.2679 - accuracy: 0.9304 - val_loss: 0.7506 - val_accuracy: 0.8446\n",
            "Epoch 9/10\n",
            "50/50 [==============================] - 7s 144ms/step - loss: 0.2272 - accuracy: 0.9376 - val_loss: 0.7199 - val_accuracy: 0.8481\n",
            "Epoch 10/10\n",
            "50/50 [==============================] - 7s 143ms/step - loss: 0.1901 - accuracy: 0.9479 - val_loss: 0.8643 - val_accuracy: 0.8366\n",
            "58/58 [==============================] - 0s 8ms/step - loss: 0.9821 - accuracy: 0.8240\n"
          ],
          "name": "stdout"
        },
        {
          "output_type": "stream",
          "text": [
            "\r 99%|█████████▉| 191/192 [1:22:54<00:43, 43.35s/it]"
          ],
          "name": "stderr"
        },
        {
          "output_type": "stream",
          "text": [
            "Epoch 1/10\n",
            "60/60 [==============================] - 9s 145ms/step - loss: 2.1339 - accuracy: 0.4428 - val_loss: 1.7381 - val_accuracy: 0.5282\n",
            "Epoch 2/10\n",
            "60/60 [==============================] - 8s 141ms/step - loss: 1.6586 - accuracy: 0.5692 - val_loss: 1.6364 - val_accuracy: 0.5875\n",
            "Epoch 3/10\n",
            "60/60 [==============================] - 9s 143ms/step - loss: 1.4337 - accuracy: 0.6314 - val_loss: 1.5395 - val_accuracy: 0.6328\n",
            "Epoch 4/10\n",
            "60/60 [==============================] - 9s 142ms/step - loss: 1.2527 - accuracy: 0.6774 - val_loss: 1.4163 - val_accuracy: 0.6766\n",
            "Epoch 5/10\n",
            "60/60 [==============================] - 8s 142ms/step - loss: 1.0944 - accuracy: 0.7152 - val_loss: 1.3584 - val_accuracy: 0.6958\n",
            "Epoch 6/10\n",
            "60/60 [==============================] - 9s 142ms/step - loss: 0.9579 - accuracy: 0.7465 - val_loss: 1.3877 - val_accuracy: 0.7055\n",
            "Epoch 7/10\n",
            "60/60 [==============================] - 9s 142ms/step - loss: 0.8498 - accuracy: 0.7746 - val_loss: 1.3746 - val_accuracy: 0.7181\n",
            "Epoch 8/10\n",
            "60/60 [==============================] - 9s 142ms/step - loss: 0.7552 - accuracy: 0.8001 - val_loss: 1.4191 - val_accuracy: 0.7203\n",
            "Epoch 9/10\n",
            "60/60 [==============================] - 9s 142ms/step - loss: 0.6635 - accuracy: 0.8203 - val_loss: 1.4538 - val_accuracy: 0.7240\n",
            "Epoch 10/10\n",
            "60/60 [==============================] - 8s 141ms/step - loss: 0.6008 - accuracy: 0.8356 - val_loss: 1.5012 - val_accuracy: 0.7300\n",
            "71/71 [==============================] - 1s 8ms/step - loss: 1.5075 - accuracy: 0.7079\n"
          ],
          "name": "stdout"
        },
        {
          "output_type": "stream",
          "text": [
            "100%|██████████| 192/192 [1:24:23<00:00, 26.37s/it]\n"
          ],
          "name": "stderr"
        }
      ]
    },
    {
      "cell_type": "code",
      "metadata": {
        "id": "oa0War3p2fMs",
        "colab_type": "code",
        "colab": {}
      },
      "source": [
        "df_model_outputs = pd.DataFrame(model_outputs).round(3).sort_values('test_accuracy', ascending = False)\n",
        "df_model_outputs.to_csv(f'{base_dir}cnn_2_model_output.csv')"
      ],
      "execution_count": 0,
      "outputs": []
    },
    {
      "cell_type": "code",
      "metadata": {
        "id": "zRnwB1VGlt12",
        "colab_type": "code",
        "colab": {}
      },
      "source": [
        "\n",
        "df_model_outputs = pd.DataFrame()\n",
        "model_output_csvs = []\n",
        "for file in os.listdir(base_dir):\n",
        "    if 'embed_model' in file:\n",
        "        pass\n",
        "    elif 'output.csv' in file:\n",
        "        df_file = pd.read_csv(base_dir + file)\n",
        "        df_file['model_name'] = file.split('.csv')[0]\n",
        "        df_model_outputs = pd.concat([df_model_outputs, df_file])\n",
        "df_model_outputs.drop([df_model_outputs.columns[0]], axis=1, inplace=True)\n",
        "df_model_outputs.to_csv(base_dir + 'model_outputs.csv', index = False)"
      ],
      "execution_count": 0,
      "outputs": []
    },
    {
      "cell_type": "code",
      "metadata": {
        "id": "U8B_ZN43VJ0u",
        "colab_type": "code",
        "outputId": "66d52ebc-2acc-48e3-a41b-e4c9631a06ea",
        "colab": {
          "base_uri": "https://localhost:8080/",
          "height": 343
        }
      },
      "source": [
        "df_model_outputs.sort_values('test_accuracy', ascending = False)[:10]"
      ],
      "execution_count": 0,
      "outputs": [
        {
          "output_type": "execute_result",
          "data": {
            "text/html": [
              "<div>\n",
              "<style scoped>\n",
              "    .dataframe tbody tr th:only-of-type {\n",
              "        vertical-align: middle;\n",
              "    }\n",
              "\n",
              "    .dataframe tbody tr th {\n",
              "        vertical-align: top;\n",
              "    }\n",
              "\n",
              "    .dataframe thead th {\n",
              "        text-align: right;\n",
              "    }\n",
              "</style>\n",
              "<table border=\"1\" class=\"dataframe\">\n",
              "  <thead>\n",
              "    <tr style=\"text-align: right;\">\n",
              "      <th></th>\n",
              "      <th>model</th>\n",
              "      <th>structure</th>\n",
              "      <th>num_parameters</th>\n",
              "      <th>accuracy</th>\n",
              "      <th>val_accuracy</th>\n",
              "      <th>test_accuracy</th>\n",
              "      <th>loss</th>\n",
              "      <th>val_loss</th>\n",
              "      <th>test_loss</th>\n",
              "      <th>elapsed_time</th>\n",
              "      <th>model_name</th>\n",
              "    </tr>\n",
              "  </thead>\n",
              "  <tbody>\n",
              "    <tr>\n",
              "      <th>0</th>\n",
              "      <td>model_1</td>\n",
              "      <td>{'dropout': 0.5, 'l1_filters': 100, 'l2_filters': 32, 'max_len': 280, 'output_dim': 512, 'pretra...</td>\n",
              "      <td>5401005</td>\n",
              "      <td>0.965</td>\n",
              "      <td>0.849</td>\n",
              "      <td>0.837</td>\n",
              "      <td>0.131</td>\n",
              "      <td>0.781</td>\n",
              "      <td>0.871</td>\n",
              "      <td>73.452</td>\n",
              "      <td>cnn_2_model_output</td>\n",
              "    </tr>\n",
              "    <tr>\n",
              "      <th>0</th>\n",
              "      <td>model_1</td>\n",
              "      <td>{'dropout': 0.75, 'l1_filters': 256, 'max_len': 280, 'output_dim': 512, 'pretrained_embed': Fals...</td>\n",
              "      <td>6153993</td>\n",
              "      <td>0.964</td>\n",
              "      <td>0.852</td>\n",
              "      <td>0.835</td>\n",
              "      <td>0.120</td>\n",
              "      <td>0.789</td>\n",
              "      <td>0.932</td>\n",
              "      <td>94.808</td>\n",
              "      <td>cnn_1_model_output</td>\n",
              "    </tr>\n",
              "    <tr>\n",
              "      <th>1</th>\n",
              "      <td>model_1</td>\n",
              "      <td>{'dropout': 0.5, 'l1_filters': 256, 'max_len': 280, 'output_dim': 512, 'pretrained_embed': False...</td>\n",
              "      <td>6153993</td>\n",
              "      <td>0.966</td>\n",
              "      <td>0.846</td>\n",
              "      <td>0.829</td>\n",
              "      <td>0.107</td>\n",
              "      <td>0.787</td>\n",
              "      <td>0.907</td>\n",
              "      <td>91.521</td>\n",
              "      <td>cnn_1_model_output</td>\n",
              "    </tr>\n",
              "    <tr>\n",
              "      <th>2</th>\n",
              "      <td>model_1</td>\n",
              "      <td>{'dropout': 0.5, 'l1_filters': 256, 'max_len': 280, 'output_dim': 128, 'pretrained_embed': False...</td>\n",
              "      <td>2019081</td>\n",
              "      <td>0.967</td>\n",
              "      <td>0.837</td>\n",
              "      <td>0.829</td>\n",
              "      <td>0.110</td>\n",
              "      <td>0.830</td>\n",
              "      <td>0.911</td>\n",
              "      <td>31.490</td>\n",
              "      <td>cnn_1_model_output</td>\n",
              "    </tr>\n",
              "    <tr>\n",
              "      <th>447</th>\n",
              "      <td>model_2</td>\n",
              "      <td>{'dropout': 0.2, 'l1_units': 128, 'l2_units': 64, 'l3_units': 64, 'max_len': 280, 'output_dim': ...</td>\n",
              "      <td>23483209</td>\n",
              "      <td>0.968</td>\n",
              "      <td>0.829</td>\n",
              "      <td>0.828</td>\n",
              "      <td>0.106</td>\n",
              "      <td>1.066</td>\n",
              "      <td>1.126</td>\n",
              "      <td>34.699</td>\n",
              "      <td>dnn_model_output</td>\n",
              "    </tr>\n",
              "    <tr>\n",
              "      <th>1</th>\n",
              "      <td>model_1</td>\n",
              "      <td>{'dropout': 0.75, 'l1_filters': 100, 'l2_filters': 16, 'max_len': 280, 'output_dim': 512, 'pretr...</td>\n",
              "      <td>5388557</td>\n",
              "      <td>0.917</td>\n",
              "      <td>0.843</td>\n",
              "      <td>0.827</td>\n",
              "      <td>0.278</td>\n",
              "      <td>0.708</td>\n",
              "      <td>0.747</td>\n",
              "      <td>74.960</td>\n",
              "      <td>cnn_2_model_output</td>\n",
              "    </tr>\n",
              "    <tr>\n",
              "      <th>3</th>\n",
              "      <td>model_1</td>\n",
              "      <td>{'dropout': 0.75, 'l1_filters': 32, 'max_len': 280, 'output_dim': 512, 'pretrained_embed': False...</td>\n",
              "      <td>5249257</td>\n",
              "      <td>0.957</td>\n",
              "      <td>0.850</td>\n",
              "      <td>0.827</td>\n",
              "      <td>0.158</td>\n",
              "      <td>0.741</td>\n",
              "      <td>0.835</td>\n",
              "      <td>35.160</td>\n",
              "      <td>cnn_1_model_output</td>\n",
              "    </tr>\n",
              "    <tr>\n",
              "      <th>5</th>\n",
              "      <td>model_1</td>\n",
              "      <td>{'dropout': 0.5, 'l1_filters': 100, 'max_len': 280, 'output_dim': 512, 'pretrained_embed': False...</td>\n",
              "      <td>5523909</td>\n",
              "      <td>0.966</td>\n",
              "      <td>0.853</td>\n",
              "      <td>0.826</td>\n",
              "      <td>0.109</td>\n",
              "      <td>0.781</td>\n",
              "      <td>0.926</td>\n",
              "      <td>45.672</td>\n",
              "      <td>cnn_1_model_output</td>\n",
              "    </tr>\n",
              "    <tr>\n",
              "      <th>4</th>\n",
              "      <td>model_1</td>\n",
              "      <td>{'dropout': 0.75, 'l1_filters': 16, 'max_len': 280, 'output_dim': 128, 'pretrained_embed': False...</td>\n",
              "      <td>1326201</td>\n",
              "      <td>0.909</td>\n",
              "      <td>0.834</td>\n",
              "      <td>0.826</td>\n",
              "      <td>0.319</td>\n",
              "      <td>0.679</td>\n",
              "      <td>0.719</td>\n",
              "      <td>10.790</td>\n",
              "      <td>cnn_1_model_output</td>\n",
              "    </tr>\n",
              "    <tr>\n",
              "      <th>2</th>\n",
              "      <td>model_1</td>\n",
              "      <td>{'dropout': 0.5, 'l1_filters': 32, 'l2_filters': 32, 'max_len': 280, 'output_dim': 512, 'pretrai...</td>\n",
              "      <td>5220329</td>\n",
              "      <td>0.960</td>\n",
              "      <td>0.848</td>\n",
              "      <td>0.826</td>\n",
              "      <td>0.142</td>\n",
              "      <td>0.755</td>\n",
              "      <td>0.826</td>\n",
              "      <td>43.590</td>\n",
              "      <td>cnn_2_model_output</td>\n",
              "    </tr>\n",
              "  </tbody>\n",
              "</table>\n",
              "</div>"
            ],
            "text/plain": [
              "       model  ...          model_name\n",
              "0    model_1  ...  cnn_2_model_output\n",
              "0    model_1  ...  cnn_1_model_output\n",
              "1    model_1  ...  cnn_1_model_output\n",
              "2    model_1  ...  cnn_1_model_output\n",
              "447  model_2  ...    dnn_model_output\n",
              "1    model_1  ...  cnn_2_model_output\n",
              "3    model_1  ...  cnn_1_model_output\n",
              "5    model_1  ...  cnn_1_model_output\n",
              "4    model_1  ...  cnn_1_model_output\n",
              "2    model_1  ...  cnn_2_model_output\n",
              "\n",
              "[10 rows x 11 columns]"
            ]
          },
          "metadata": {
            "tags": []
          },
          "execution_count": 4
        }
      ]
    },
    {
      "cell_type": "code",
      "metadata": {
        "id": "YGmXvKloqi-r",
        "colab_type": "code",
        "colab": {}
      },
      "source": [
        "embed_results = pd.read_csv(base_dir + 'embed_model_output.csv')"
      ],
      "execution_count": 0,
      "outputs": []
    },
    {
      "cell_type": "code",
      "metadata": {
        "id": "VfFkJtkl1_6G",
        "colab_type": "code",
        "outputId": "7fd08767-2a89-4085-9829-c873fa562ebe",
        "colab": {
          "base_uri": "https://localhost:8080/",
          "height": 343
        }
      },
      "source": [
        "embed_results.sort_values('test_accuracy', ascending = False)[:10]"
      ],
      "execution_count": 0,
      "outputs": [
        {
          "output_type": "execute_result",
          "data": {
            "text/html": [
              "<div>\n",
              "<style scoped>\n",
              "    .dataframe tbody tr th:only-of-type {\n",
              "        vertical-align: middle;\n",
              "    }\n",
              "\n",
              "    .dataframe tbody tr th {\n",
              "        vertical-align: top;\n",
              "    }\n",
              "\n",
              "    .dataframe thead th {\n",
              "        text-align: right;\n",
              "    }\n",
              "</style>\n",
              "<table border=\"1\" class=\"dataframe\">\n",
              "  <thead>\n",
              "    <tr style=\"text-align: right;\">\n",
              "      <th></th>\n",
              "      <th>Unnamed: 0</th>\n",
              "      <th>model</th>\n",
              "      <th>structure</th>\n",
              "      <th>num_parameters</th>\n",
              "      <th>accuracy</th>\n",
              "      <th>val_accuracy</th>\n",
              "      <th>test_accuracy</th>\n",
              "      <th>loss</th>\n",
              "      <th>val_loss</th>\n",
              "      <th>test_loss</th>\n",
              "      <th>elapsed_time</th>\n",
              "    </tr>\n",
              "  </thead>\n",
              "  <tbody>\n",
              "    <tr>\n",
              "      <th>119</th>\n",
              "      <td>98</td>\n",
              "      <td>model_1</td>\n",
              "      <td>{'max_len': 2376, 'output_dim': 64, 'top': True, 'voc_size': 50000}</td>\n",
              "      <td>4568585</td>\n",
              "      <td>0.967</td>\n",
              "      <td>0.845</td>\n",
              "      <td>0.836</td>\n",
              "      <td>0.085</td>\n",
              "      <td>0.695</td>\n",
              "      <td>0.745</td>\n",
              "      <td>115.597</td>\n",
              "    </tr>\n",
              "    <tr>\n",
              "      <th>118</th>\n",
              "      <td>97</td>\n",
              "      <td>model_1</td>\n",
              "      <td>{'max_len': 2376, 'output_dim': 64, 'top': True, 'voc_size': 10000}</td>\n",
              "      <td>2008585</td>\n",
              "      <td>0.965</td>\n",
              "      <td>0.853</td>\n",
              "      <td>0.832</td>\n",
              "      <td>0.092</td>\n",
              "      <td>0.679</td>\n",
              "      <td>0.745</td>\n",
              "      <td>105.797</td>\n",
              "    </tr>\n",
              "    <tr>\n",
              "      <th>117</th>\n",
              "      <td>74</td>\n",
              "      <td>model_1</td>\n",
              "      <td>{'max_len': 280, 'output_dim': 128, 'top': True, 'voc_size': 50000}</td>\n",
              "      <td>6722569</td>\n",
              "      <td>0.965</td>\n",
              "      <td>0.837</td>\n",
              "      <td>0.832</td>\n",
              "      <td>0.086</td>\n",
              "      <td>0.721</td>\n",
              "      <td>0.779</td>\n",
              "      <td>54.971</td>\n",
              "    </tr>\n",
              "    <tr>\n",
              "      <th>116</th>\n",
              "      <td>104</td>\n",
              "      <td>model_1</td>\n",
              "      <td>{'max_len': 2376, 'output_dim': 128, 'top': True, 'voc_size': 50000}</td>\n",
              "      <td>9137161</td>\n",
              "      <td>0.967</td>\n",
              "      <td>0.836</td>\n",
              "      <td>0.832</td>\n",
              "      <td>0.102</td>\n",
              "      <td>0.748</td>\n",
              "      <td>0.800</td>\n",
              "      <td>216.493</td>\n",
              "    </tr>\n",
              "    <tr>\n",
              "      <th>115</th>\n",
              "      <td>68</td>\n",
              "      <td>model_1</td>\n",
              "      <td>{'max_len': 280, 'output_dim': 64, 'top': True, 'voc_size': 50000}</td>\n",
              "      <td>3361289</td>\n",
              "      <td>0.965</td>\n",
              "      <td>0.845</td>\n",
              "      <td>0.829</td>\n",
              "      <td>0.077</td>\n",
              "      <td>0.684</td>\n",
              "      <td>0.760</td>\n",
              "      <td>28.161</td>\n",
              "    </tr>\n",
              "    <tr>\n",
              "      <th>114</th>\n",
              "      <td>67</td>\n",
              "      <td>model_1</td>\n",
              "      <td>{'max_len': 280, 'output_dim': 64, 'top': True, 'voc_size': 10000}</td>\n",
              "      <td>801289</td>\n",
              "      <td>0.966</td>\n",
              "      <td>0.844</td>\n",
              "      <td>0.829</td>\n",
              "      <td>0.079</td>\n",
              "      <td>0.669</td>\n",
              "      <td>0.754</td>\n",
              "      <td>21.007</td>\n",
              "    </tr>\n",
              "    <tr>\n",
              "      <th>113</th>\n",
              "      <td>108</td>\n",
              "      <td>model_1</td>\n",
              "      <td>{'max_len': 2376, 'output_dim': 256, 'top': True, 'voc_size': 1000}</td>\n",
              "      <td>5730313</td>\n",
              "      <td>0.966</td>\n",
              "      <td>0.845</td>\n",
              "      <td>0.829</td>\n",
              "      <td>0.137</td>\n",
              "      <td>0.741</td>\n",
              "      <td>0.821</td>\n",
              "      <td>397.635</td>\n",
              "    </tr>\n",
              "    <tr>\n",
              "      <th>112</th>\n",
              "      <td>73</td>\n",
              "      <td>model_1</td>\n",
              "      <td>{'max_len': 280, 'output_dim': 128, 'top': True, 'voc_size': 10000}</td>\n",
              "      <td>1602569</td>\n",
              "      <td>0.966</td>\n",
              "      <td>0.840</td>\n",
              "      <td>0.827</td>\n",
              "      <td>0.086</td>\n",
              "      <td>0.718</td>\n",
              "      <td>0.792</td>\n",
              "      <td>37.422</td>\n",
              "    </tr>\n",
              "    <tr>\n",
              "      <th>111</th>\n",
              "      <td>103</td>\n",
              "      <td>model_1</td>\n",
              "      <td>{'max_len': 2376, 'output_dim': 128, 'top': True, 'voc_size': 10000}</td>\n",
              "      <td>4017161</td>\n",
              "      <td>0.966</td>\n",
              "      <td>0.838</td>\n",
              "      <td>0.827</td>\n",
              "      <td>0.102</td>\n",
              "      <td>0.727</td>\n",
              "      <td>0.799</td>\n",
              "      <td>197.925</td>\n",
              "    </tr>\n",
              "    <tr>\n",
              "      <th>110</th>\n",
              "      <td>114</td>\n",
              "      <td>model_1</td>\n",
              "      <td>{'max_len': 2376, 'output_dim': 512, 'top': True, 'voc_size': 1000}</td>\n",
              "      <td>11460617</td>\n",
              "      <td>0.963</td>\n",
              "      <td>0.836</td>\n",
              "      <td>0.825</td>\n",
              "      <td>0.170</td>\n",
              "      <td>0.794</td>\n",
              "      <td>0.881</td>\n",
              "      <td>766.970</td>\n",
              "    </tr>\n",
              "  </tbody>\n",
              "</table>\n",
              "</div>"
            ],
            "text/plain": [
              "     Unnamed: 0    model  ... test_loss  elapsed_time\n",
              "119          98  model_1  ...     0.745       115.597\n",
              "118          97  model_1  ...     0.745       105.797\n",
              "117          74  model_1  ...     0.779        54.971\n",
              "116         104  model_1  ...     0.800       216.493\n",
              "115          68  model_1  ...     0.760        28.161\n",
              "114          67  model_1  ...     0.754        21.007\n",
              "113         108  model_1  ...     0.821       397.635\n",
              "112          73  model_1  ...     0.792        37.422\n",
              "111         103  model_1  ...     0.799       197.925\n",
              "110         114  model_1  ...     0.881       766.970\n",
              "\n",
              "[10 rows x 11 columns]"
            ]
          },
          "metadata": {
            "tags": []
          },
          "execution_count": 12
        }
      ]
    },
    {
      "cell_type": "code",
      "metadata": {
        "id": "wt3Nfh5u3Zk_",
        "colab_type": "code",
        "colab": {}
      },
      "source": [
        ""
      ],
      "execution_count": 0,
      "outputs": []
    }
  ]
}